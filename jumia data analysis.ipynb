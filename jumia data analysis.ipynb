{
 "cells": [
  {
   "cell_type": "code",
   "execution_count": 22,
   "id": "14c60cb7-4390-4d87-b92e-c8df1c36a63a",
   "metadata": {
    "tags": []
   },
   "outputs": [],
   "source": [
    "import requests\n",
    "from bs4 import BeautifulSoup"
   ]
  },
  {
   "cell_type": "code",
   "execution_count": 2,
   "id": "a8792a9b-f310-40ed-aea7-881a1f2dd76e",
   "metadata": {
    "tags": []
   },
   "outputs": [],
   "source": [
    "myurl = 'https://www.jumia.co.ke/televisions/samsung/'"
   ]
  },
  {
   "cell_type": "code",
   "execution_count": 3,
   "id": "6d73a5e6-5493-476e-a03a-e9704b7e0969",
   "metadata": {
    "tags": []
   },
   "outputs": [
    {
     "data": {
      "text/plain": [
       "'https://www.jumia.co.ke/televisions/samsung/'"
      ]
     },
     "execution_count": 3,
     "metadata": {},
     "output_type": "execute_result"
    }
   ],
   "source": [
    "#url link \n",
    "myurl "
   ]
  },
  {
   "cell_type": "code",
   "execution_count": 5,
   "id": "bcd9ab55-1a16-4b22-a849-cb897a392a63",
   "metadata": {
    "tags": []
   },
   "outputs": [
    {
     "ename": "ConnectionError",
     "evalue": "HTTPSConnectionPool(host='www.jumia.co.ke', port=443): Max retries exceeded with url: /televisions/samsung/ (Caused by NewConnectionError('<urllib3.connection.HTTPSConnection object at 0x0000021748DD91D0>: Failed to establish a new connection: [Errno 11001] getaddrinfo failed'))",
     "output_type": "error",
     "traceback": [
      "\u001b[1;31m---------------------------------------------------------------------------\u001b[0m",
      "\u001b[1;31mgaierror\u001b[0m                                  Traceback (most recent call last)",
      "File \u001b[1;32m~\\anaconda3\\Lib\\site-packages\\urllib3\\connection.py:174\u001b[0m, in \u001b[0;36mHTTPConnection._new_conn\u001b[1;34m(self)\u001b[0m\n\u001b[0;32m    173\u001b[0m \u001b[38;5;28;01mtry\u001b[39;00m:\n\u001b[1;32m--> 174\u001b[0m     conn \u001b[38;5;241m=\u001b[39m connection\u001b[38;5;241m.\u001b[39mcreate_connection(\n\u001b[0;32m    175\u001b[0m         (\u001b[38;5;28mself\u001b[39m\u001b[38;5;241m.\u001b[39m_dns_host, \u001b[38;5;28mself\u001b[39m\u001b[38;5;241m.\u001b[39mport), \u001b[38;5;28mself\u001b[39m\u001b[38;5;241m.\u001b[39mtimeout, \u001b[38;5;241m*\u001b[39m\u001b[38;5;241m*\u001b[39mextra_kw\n\u001b[0;32m    176\u001b[0m     )\n\u001b[0;32m    178\u001b[0m \u001b[38;5;28;01mexcept\u001b[39;00m SocketTimeout:\n",
      "File \u001b[1;32m~\\anaconda3\\Lib\\site-packages\\urllib3\\util\\connection.py:72\u001b[0m, in \u001b[0;36mcreate_connection\u001b[1;34m(address, timeout, source_address, socket_options)\u001b[0m\n\u001b[0;32m     68\u001b[0m     \u001b[38;5;28;01mreturn\u001b[39;00m six\u001b[38;5;241m.\u001b[39mraise_from(\n\u001b[0;32m     69\u001b[0m         LocationParseError(\u001b[38;5;124mu\u001b[39m\u001b[38;5;124m\"\u001b[39m\u001b[38;5;124m'\u001b[39m\u001b[38;5;132;01m%s\u001b[39;00m\u001b[38;5;124m'\u001b[39m\u001b[38;5;124m, label empty or too long\u001b[39m\u001b[38;5;124m\"\u001b[39m \u001b[38;5;241m%\u001b[39m host), \u001b[38;5;28;01mNone\u001b[39;00m\n\u001b[0;32m     70\u001b[0m     )\n\u001b[1;32m---> 72\u001b[0m \u001b[38;5;28;01mfor\u001b[39;00m res \u001b[38;5;129;01min\u001b[39;00m socket\u001b[38;5;241m.\u001b[39mgetaddrinfo(host, port, family, socket\u001b[38;5;241m.\u001b[39mSOCK_STREAM):\n\u001b[0;32m     73\u001b[0m     af, socktype, proto, canonname, sa \u001b[38;5;241m=\u001b[39m res\n",
      "File \u001b[1;32m~\\anaconda3\\Lib\\socket.py:962\u001b[0m, in \u001b[0;36mgetaddrinfo\u001b[1;34m(host, port, family, type, proto, flags)\u001b[0m\n\u001b[0;32m    961\u001b[0m addrlist \u001b[38;5;241m=\u001b[39m []\n\u001b[1;32m--> 962\u001b[0m \u001b[38;5;28;01mfor\u001b[39;00m res \u001b[38;5;129;01min\u001b[39;00m _socket\u001b[38;5;241m.\u001b[39mgetaddrinfo(host, port, family, \u001b[38;5;28mtype\u001b[39m, proto, flags):\n\u001b[0;32m    963\u001b[0m     af, socktype, proto, canonname, sa \u001b[38;5;241m=\u001b[39m res\n",
      "\u001b[1;31mgaierror\u001b[0m: [Errno 11001] getaddrinfo failed",
      "\nDuring handling of the above exception, another exception occurred:\n",
      "\u001b[1;31mNewConnectionError\u001b[0m                        Traceback (most recent call last)",
      "File \u001b[1;32m~\\anaconda3\\Lib\\site-packages\\urllib3\\connectionpool.py:714\u001b[0m, in \u001b[0;36mHTTPConnectionPool.urlopen\u001b[1;34m(self, method, url, body, headers, retries, redirect, assert_same_host, timeout, pool_timeout, release_conn, chunked, body_pos, **response_kw)\u001b[0m\n\u001b[0;32m    713\u001b[0m \u001b[38;5;66;03m# Make the request on the httplib connection object.\u001b[39;00m\n\u001b[1;32m--> 714\u001b[0m httplib_response \u001b[38;5;241m=\u001b[39m \u001b[38;5;28mself\u001b[39m\u001b[38;5;241m.\u001b[39m_make_request(\n\u001b[0;32m    715\u001b[0m     conn,\n\u001b[0;32m    716\u001b[0m     method,\n\u001b[0;32m    717\u001b[0m     url,\n\u001b[0;32m    718\u001b[0m     timeout\u001b[38;5;241m=\u001b[39mtimeout_obj,\n\u001b[0;32m    719\u001b[0m     body\u001b[38;5;241m=\u001b[39mbody,\n\u001b[0;32m    720\u001b[0m     headers\u001b[38;5;241m=\u001b[39mheaders,\n\u001b[0;32m    721\u001b[0m     chunked\u001b[38;5;241m=\u001b[39mchunked,\n\u001b[0;32m    722\u001b[0m )\n\u001b[0;32m    724\u001b[0m \u001b[38;5;66;03m# If we're going to release the connection in ``finally:``, then\u001b[39;00m\n\u001b[0;32m    725\u001b[0m \u001b[38;5;66;03m# the response doesn't need to know about the connection. Otherwise\u001b[39;00m\n\u001b[0;32m    726\u001b[0m \u001b[38;5;66;03m# it will also try to release it and we'll have a double-release\u001b[39;00m\n\u001b[0;32m    727\u001b[0m \u001b[38;5;66;03m# mess.\u001b[39;00m\n",
      "File \u001b[1;32m~\\anaconda3\\Lib\\site-packages\\urllib3\\connectionpool.py:403\u001b[0m, in \u001b[0;36mHTTPConnectionPool._make_request\u001b[1;34m(self, conn, method, url, timeout, chunked, **httplib_request_kw)\u001b[0m\n\u001b[0;32m    402\u001b[0m \u001b[38;5;28;01mtry\u001b[39;00m:\n\u001b[1;32m--> 403\u001b[0m     \u001b[38;5;28mself\u001b[39m\u001b[38;5;241m.\u001b[39m_validate_conn(conn)\n\u001b[0;32m    404\u001b[0m \u001b[38;5;28;01mexcept\u001b[39;00m (SocketTimeout, BaseSSLError) \u001b[38;5;28;01mas\u001b[39;00m e:\n\u001b[0;32m    405\u001b[0m     \u001b[38;5;66;03m# Py2 raises this as a BaseSSLError, Py3 raises it as socket timeout.\u001b[39;00m\n",
      "File \u001b[1;32m~\\anaconda3\\Lib\\site-packages\\urllib3\\connectionpool.py:1053\u001b[0m, in \u001b[0;36mHTTPSConnectionPool._validate_conn\u001b[1;34m(self, conn)\u001b[0m\n\u001b[0;32m   1052\u001b[0m \u001b[38;5;28;01mif\u001b[39;00m \u001b[38;5;129;01mnot\u001b[39;00m \u001b[38;5;28mgetattr\u001b[39m(conn, \u001b[38;5;124m\"\u001b[39m\u001b[38;5;124msock\u001b[39m\u001b[38;5;124m\"\u001b[39m, \u001b[38;5;28;01mNone\u001b[39;00m):  \u001b[38;5;66;03m# AppEngine might not have  `.sock`\u001b[39;00m\n\u001b[1;32m-> 1053\u001b[0m     conn\u001b[38;5;241m.\u001b[39mconnect()\n\u001b[0;32m   1055\u001b[0m \u001b[38;5;28;01mif\u001b[39;00m \u001b[38;5;129;01mnot\u001b[39;00m conn\u001b[38;5;241m.\u001b[39mis_verified:\n",
      "File \u001b[1;32m~\\anaconda3\\Lib\\site-packages\\urllib3\\connection.py:363\u001b[0m, in \u001b[0;36mHTTPSConnection.connect\u001b[1;34m(self)\u001b[0m\n\u001b[0;32m    361\u001b[0m \u001b[38;5;28;01mdef\u001b[39;00m \u001b[38;5;21mconnect\u001b[39m(\u001b[38;5;28mself\u001b[39m):\n\u001b[0;32m    362\u001b[0m     \u001b[38;5;66;03m# Add certificate verification\u001b[39;00m\n\u001b[1;32m--> 363\u001b[0m     \u001b[38;5;28mself\u001b[39m\u001b[38;5;241m.\u001b[39msock \u001b[38;5;241m=\u001b[39m conn \u001b[38;5;241m=\u001b[39m \u001b[38;5;28mself\u001b[39m\u001b[38;5;241m.\u001b[39m_new_conn()\n\u001b[0;32m    364\u001b[0m     hostname \u001b[38;5;241m=\u001b[39m \u001b[38;5;28mself\u001b[39m\u001b[38;5;241m.\u001b[39mhost\n",
      "File \u001b[1;32m~\\anaconda3\\Lib\\site-packages\\urllib3\\connection.py:186\u001b[0m, in \u001b[0;36mHTTPConnection._new_conn\u001b[1;34m(self)\u001b[0m\n\u001b[0;32m    185\u001b[0m \u001b[38;5;28;01mexcept\u001b[39;00m SocketError \u001b[38;5;28;01mas\u001b[39;00m e:\n\u001b[1;32m--> 186\u001b[0m     \u001b[38;5;28;01mraise\u001b[39;00m NewConnectionError(\n\u001b[0;32m    187\u001b[0m         \u001b[38;5;28mself\u001b[39m, \u001b[38;5;124m\"\u001b[39m\u001b[38;5;124mFailed to establish a new connection: \u001b[39m\u001b[38;5;132;01m%s\u001b[39;00m\u001b[38;5;124m\"\u001b[39m \u001b[38;5;241m%\u001b[39m e\n\u001b[0;32m    188\u001b[0m     )\n\u001b[0;32m    190\u001b[0m \u001b[38;5;28;01mreturn\u001b[39;00m conn\n",
      "\u001b[1;31mNewConnectionError\u001b[0m: <urllib3.connection.HTTPSConnection object at 0x0000021748DD91D0>: Failed to establish a new connection: [Errno 11001] getaddrinfo failed",
      "\nDuring handling of the above exception, another exception occurred:\n",
      "\u001b[1;31mMaxRetryError\u001b[0m                             Traceback (most recent call last)",
      "File \u001b[1;32m~\\anaconda3\\Lib\\site-packages\\requests\\adapters.py:486\u001b[0m, in \u001b[0;36mHTTPAdapter.send\u001b[1;34m(self, request, stream, timeout, verify, cert, proxies)\u001b[0m\n\u001b[0;32m    485\u001b[0m \u001b[38;5;28;01mtry\u001b[39;00m:\n\u001b[1;32m--> 486\u001b[0m     resp \u001b[38;5;241m=\u001b[39m conn\u001b[38;5;241m.\u001b[39murlopen(\n\u001b[0;32m    487\u001b[0m         method\u001b[38;5;241m=\u001b[39mrequest\u001b[38;5;241m.\u001b[39mmethod,\n\u001b[0;32m    488\u001b[0m         url\u001b[38;5;241m=\u001b[39murl,\n\u001b[0;32m    489\u001b[0m         body\u001b[38;5;241m=\u001b[39mrequest\u001b[38;5;241m.\u001b[39mbody,\n\u001b[0;32m    490\u001b[0m         headers\u001b[38;5;241m=\u001b[39mrequest\u001b[38;5;241m.\u001b[39mheaders,\n\u001b[0;32m    491\u001b[0m         redirect\u001b[38;5;241m=\u001b[39m\u001b[38;5;28;01mFalse\u001b[39;00m,\n\u001b[0;32m    492\u001b[0m         assert_same_host\u001b[38;5;241m=\u001b[39m\u001b[38;5;28;01mFalse\u001b[39;00m,\n\u001b[0;32m    493\u001b[0m         preload_content\u001b[38;5;241m=\u001b[39m\u001b[38;5;28;01mFalse\u001b[39;00m,\n\u001b[0;32m    494\u001b[0m         decode_content\u001b[38;5;241m=\u001b[39m\u001b[38;5;28;01mFalse\u001b[39;00m,\n\u001b[0;32m    495\u001b[0m         retries\u001b[38;5;241m=\u001b[39m\u001b[38;5;28mself\u001b[39m\u001b[38;5;241m.\u001b[39mmax_retries,\n\u001b[0;32m    496\u001b[0m         timeout\u001b[38;5;241m=\u001b[39mtimeout,\n\u001b[0;32m    497\u001b[0m         chunked\u001b[38;5;241m=\u001b[39mchunked,\n\u001b[0;32m    498\u001b[0m     )\n\u001b[0;32m    500\u001b[0m \u001b[38;5;28;01mexcept\u001b[39;00m (ProtocolError, \u001b[38;5;167;01mOSError\u001b[39;00m) \u001b[38;5;28;01mas\u001b[39;00m err:\n",
      "File \u001b[1;32m~\\anaconda3\\Lib\\site-packages\\urllib3\\connectionpool.py:798\u001b[0m, in \u001b[0;36mHTTPConnectionPool.urlopen\u001b[1;34m(self, method, url, body, headers, retries, redirect, assert_same_host, timeout, pool_timeout, release_conn, chunked, body_pos, **response_kw)\u001b[0m\n\u001b[0;32m    796\u001b[0m     e \u001b[38;5;241m=\u001b[39m ProtocolError(\u001b[38;5;124m\"\u001b[39m\u001b[38;5;124mConnection aborted.\u001b[39m\u001b[38;5;124m\"\u001b[39m, e)\n\u001b[1;32m--> 798\u001b[0m retries \u001b[38;5;241m=\u001b[39m retries\u001b[38;5;241m.\u001b[39mincrement(\n\u001b[0;32m    799\u001b[0m     method, url, error\u001b[38;5;241m=\u001b[39me, _pool\u001b[38;5;241m=\u001b[39m\u001b[38;5;28mself\u001b[39m, _stacktrace\u001b[38;5;241m=\u001b[39msys\u001b[38;5;241m.\u001b[39mexc_info()[\u001b[38;5;241m2\u001b[39m]\n\u001b[0;32m    800\u001b[0m )\n\u001b[0;32m    801\u001b[0m retries\u001b[38;5;241m.\u001b[39msleep()\n",
      "File \u001b[1;32m~\\anaconda3\\Lib\\site-packages\\urllib3\\util\\retry.py:592\u001b[0m, in \u001b[0;36mRetry.increment\u001b[1;34m(self, method, url, response, error, _pool, _stacktrace)\u001b[0m\n\u001b[0;32m    591\u001b[0m \u001b[38;5;28;01mif\u001b[39;00m new_retry\u001b[38;5;241m.\u001b[39mis_exhausted():\n\u001b[1;32m--> 592\u001b[0m     \u001b[38;5;28;01mraise\u001b[39;00m MaxRetryError(_pool, url, error \u001b[38;5;129;01mor\u001b[39;00m ResponseError(cause))\n\u001b[0;32m    594\u001b[0m log\u001b[38;5;241m.\u001b[39mdebug(\u001b[38;5;124m\"\u001b[39m\u001b[38;5;124mIncremented Retry for (url=\u001b[39m\u001b[38;5;124m'\u001b[39m\u001b[38;5;132;01m%s\u001b[39;00m\u001b[38;5;124m'\u001b[39m\u001b[38;5;124m): \u001b[39m\u001b[38;5;132;01m%r\u001b[39;00m\u001b[38;5;124m\"\u001b[39m, url, new_retry)\n",
      "\u001b[1;31mMaxRetryError\u001b[0m: HTTPSConnectionPool(host='www.jumia.co.ke', port=443): Max retries exceeded with url: /televisions/samsung/ (Caused by NewConnectionError('<urllib3.connection.HTTPSConnection object at 0x0000021748DD91D0>: Failed to establish a new connection: [Errno 11001] getaddrinfo failed'))",
      "\nDuring handling of the above exception, another exception occurred:\n",
      "\u001b[1;31mConnectionError\u001b[0m                           Traceback (most recent call last)",
      "Cell \u001b[1;32mIn[5], line 1\u001b[0m\n\u001b[1;32m----> 1\u001b[0m response \u001b[38;5;241m=\u001b[39m requests\u001b[38;5;241m.\u001b[39mget(myurl)\n\u001b[0;32m      2\u001b[0m myresult \u001b[38;5;241m=\u001b[39m BeautifulSoup(response\u001b[38;5;241m.\u001b[39mcontent, \u001b[38;5;124m\"\u001b[39m\u001b[38;5;124mhtml.parser\u001b[39m\u001b[38;5;124m\"\u001b[39m)\n",
      "File \u001b[1;32m~\\anaconda3\\Lib\\site-packages\\requests\\api.py:73\u001b[0m, in \u001b[0;36mget\u001b[1;34m(url, params, **kwargs)\u001b[0m\n\u001b[0;32m     62\u001b[0m \u001b[38;5;28;01mdef\u001b[39;00m \u001b[38;5;21mget\u001b[39m(url, params\u001b[38;5;241m=\u001b[39m\u001b[38;5;28;01mNone\u001b[39;00m, \u001b[38;5;241m*\u001b[39m\u001b[38;5;241m*\u001b[39mkwargs):\n\u001b[0;32m     63\u001b[0m \u001b[38;5;250m    \u001b[39m\u001b[38;5;124mr\u001b[39m\u001b[38;5;124;03m\"\"\"Sends a GET request.\u001b[39;00m\n\u001b[0;32m     64\u001b[0m \n\u001b[0;32m     65\u001b[0m \u001b[38;5;124;03m    :param url: URL for the new :class:`Request` object.\u001b[39;00m\n\u001b[1;32m   (...)\u001b[0m\n\u001b[0;32m     70\u001b[0m \u001b[38;5;124;03m    :rtype: requests.Response\u001b[39;00m\n\u001b[0;32m     71\u001b[0m \u001b[38;5;124;03m    \"\"\"\u001b[39;00m\n\u001b[1;32m---> 73\u001b[0m     \u001b[38;5;28;01mreturn\u001b[39;00m request(\u001b[38;5;124m\"\u001b[39m\u001b[38;5;124mget\u001b[39m\u001b[38;5;124m\"\u001b[39m, url, params\u001b[38;5;241m=\u001b[39mparams, \u001b[38;5;241m*\u001b[39m\u001b[38;5;241m*\u001b[39mkwargs)\n",
      "File \u001b[1;32m~\\anaconda3\\Lib\\site-packages\\requests\\api.py:59\u001b[0m, in \u001b[0;36mrequest\u001b[1;34m(method, url, **kwargs)\u001b[0m\n\u001b[0;32m     55\u001b[0m \u001b[38;5;66;03m# By using the 'with' statement we are sure the session is closed, thus we\u001b[39;00m\n\u001b[0;32m     56\u001b[0m \u001b[38;5;66;03m# avoid leaving sockets open which can trigger a ResourceWarning in some\u001b[39;00m\n\u001b[0;32m     57\u001b[0m \u001b[38;5;66;03m# cases, and look like a memory leak in others.\u001b[39;00m\n\u001b[0;32m     58\u001b[0m \u001b[38;5;28;01mwith\u001b[39;00m sessions\u001b[38;5;241m.\u001b[39mSession() \u001b[38;5;28;01mas\u001b[39;00m session:\n\u001b[1;32m---> 59\u001b[0m     \u001b[38;5;28;01mreturn\u001b[39;00m session\u001b[38;5;241m.\u001b[39mrequest(method\u001b[38;5;241m=\u001b[39mmethod, url\u001b[38;5;241m=\u001b[39murl, \u001b[38;5;241m*\u001b[39m\u001b[38;5;241m*\u001b[39mkwargs)\n",
      "File \u001b[1;32m~\\anaconda3\\Lib\\site-packages\\requests\\sessions.py:589\u001b[0m, in \u001b[0;36mSession.request\u001b[1;34m(self, method, url, params, data, headers, cookies, files, auth, timeout, allow_redirects, proxies, hooks, stream, verify, cert, json)\u001b[0m\n\u001b[0;32m    584\u001b[0m send_kwargs \u001b[38;5;241m=\u001b[39m {\n\u001b[0;32m    585\u001b[0m     \u001b[38;5;124m\"\u001b[39m\u001b[38;5;124mtimeout\u001b[39m\u001b[38;5;124m\"\u001b[39m: timeout,\n\u001b[0;32m    586\u001b[0m     \u001b[38;5;124m\"\u001b[39m\u001b[38;5;124mallow_redirects\u001b[39m\u001b[38;5;124m\"\u001b[39m: allow_redirects,\n\u001b[0;32m    587\u001b[0m }\n\u001b[0;32m    588\u001b[0m send_kwargs\u001b[38;5;241m.\u001b[39mupdate(settings)\n\u001b[1;32m--> 589\u001b[0m resp \u001b[38;5;241m=\u001b[39m \u001b[38;5;28mself\u001b[39m\u001b[38;5;241m.\u001b[39msend(prep, \u001b[38;5;241m*\u001b[39m\u001b[38;5;241m*\u001b[39msend_kwargs)\n\u001b[0;32m    591\u001b[0m \u001b[38;5;28;01mreturn\u001b[39;00m resp\n",
      "File \u001b[1;32m~\\anaconda3\\Lib\\site-packages\\requests\\sessions.py:703\u001b[0m, in \u001b[0;36mSession.send\u001b[1;34m(self, request, **kwargs)\u001b[0m\n\u001b[0;32m    700\u001b[0m start \u001b[38;5;241m=\u001b[39m preferred_clock()\n\u001b[0;32m    702\u001b[0m \u001b[38;5;66;03m# Send the request\u001b[39;00m\n\u001b[1;32m--> 703\u001b[0m r \u001b[38;5;241m=\u001b[39m adapter\u001b[38;5;241m.\u001b[39msend(request, \u001b[38;5;241m*\u001b[39m\u001b[38;5;241m*\u001b[39mkwargs)\n\u001b[0;32m    705\u001b[0m \u001b[38;5;66;03m# Total elapsed time of the request (approximately)\u001b[39;00m\n\u001b[0;32m    706\u001b[0m elapsed \u001b[38;5;241m=\u001b[39m preferred_clock() \u001b[38;5;241m-\u001b[39m start\n",
      "File \u001b[1;32m~\\anaconda3\\Lib\\site-packages\\requests\\adapters.py:519\u001b[0m, in \u001b[0;36mHTTPAdapter.send\u001b[1;34m(self, request, stream, timeout, verify, cert, proxies)\u001b[0m\n\u001b[0;32m    515\u001b[0m     \u001b[38;5;28;01mif\u001b[39;00m \u001b[38;5;28misinstance\u001b[39m(e\u001b[38;5;241m.\u001b[39mreason, _SSLError):\n\u001b[0;32m    516\u001b[0m         \u001b[38;5;66;03m# This branch is for urllib3 v1.22 and later.\u001b[39;00m\n\u001b[0;32m    517\u001b[0m         \u001b[38;5;28;01mraise\u001b[39;00m SSLError(e, request\u001b[38;5;241m=\u001b[39mrequest)\n\u001b[1;32m--> 519\u001b[0m     \u001b[38;5;28;01mraise\u001b[39;00m \u001b[38;5;167;01mConnectionError\u001b[39;00m(e, request\u001b[38;5;241m=\u001b[39mrequest)\n\u001b[0;32m    521\u001b[0m \u001b[38;5;28;01mexcept\u001b[39;00m ClosedPoolError \u001b[38;5;28;01mas\u001b[39;00m e:\n\u001b[0;32m    522\u001b[0m     \u001b[38;5;28;01mraise\u001b[39;00m \u001b[38;5;167;01mConnectionError\u001b[39;00m(e, request\u001b[38;5;241m=\u001b[39mrequest)\n",
      "\u001b[1;31mConnectionError\u001b[0m: HTTPSConnectionPool(host='www.jumia.co.ke', port=443): Max retries exceeded with url: /televisions/samsung/ (Caused by NewConnectionError('<urllib3.connection.HTTPSConnection object at 0x0000021748DD91D0>: Failed to establish a new connection: [Errno 11001] getaddrinfo failed'))"
     ]
    }
   ],
   "source": [
    "response = requests.get(myurl)\n",
    "myresult = BeautifulSoup(response.content, \"html.parser\")"
   ]
  },
  {
   "cell_type": "code",
   "execution_count": 6,
   "id": "186f4d45-27ba-4560-bddd-1fb468836495",
   "metadata": {
    "tags": []
   },
   "outputs": [
    {
     "ename": "NameError",
     "evalue": "name 'myresult' is not defined",
     "output_type": "error",
     "traceback": [
      "\u001b[1;31m---------------------------------------------------------------------------\u001b[0m",
      "\u001b[1;31mNameError\u001b[0m                                 Traceback (most recent call last)",
      "Cell \u001b[1;32mIn[6], line 1\u001b[0m\n\u001b[1;32m----> 1\u001b[0m myresult\n",
      "\u001b[1;31mNameError\u001b[0m: name 'myresult' is not defined"
     ]
    }
   ],
   "source": [
    "myresult"
   ]
  },
  {
   "cell_type": "code",
   "execution_count": null,
   "id": "a1fb5f31-8839-4d43-8855-ae244e374830",
   "metadata": {
    "tags": []
   },
   "outputs": [],
   "source": [
    "product = myresult.find_all(class_=\"name\")"
   ]
  },
  {
   "cell_type": "code",
   "execution_count": null,
   "id": "331f25a5-b83f-45e8-8fd1-ba33e8ed4274",
   "metadata": {
    "tags": []
   },
   "outputs": [],
   "source": [
    "product"
   ]
  },
  {
   "cell_type": "code",
   "execution_count": null,
   "id": "bd384691-83e9-41cd-bd1d-be4e28355407",
   "metadata": {
    "tags": []
   },
   "outputs": [],
   "source": [
    "newnamelist = []\n",
    "\n",
    "for item in product:\n",
    "    newnamelist.append(item.text)\n"
   ]
  },
  {
   "cell_type": "code",
   "execution_count": null,
   "id": "64b11155-0ed1-4a2a-8fad-8ce42ef88171",
   "metadata": {
    "tags": []
   },
   "outputs": [],
   "source": [
    "newnamelist"
   ]
  },
  {
   "cell_type": "code",
   "execution_count": null,
   "id": "180047ef-4cd8-4909-b0c9-021dc7e6f50a",
   "metadata": {
    "tags": []
   },
   "outputs": [],
   "source": [
    "productprice = myresult.find_all(class_=\"prc\")"
   ]
  },
  {
   "cell_type": "code",
   "execution_count": null,
   "id": "92cd2dd8-9835-41be-bb75-18dae52e5639",
   "metadata": {
    "tags": []
   },
   "outputs": [],
   "source": [
    "productprice"
   ]
  },
  {
   "cell_type": "code",
   "execution_count": null,
   "id": "ff3c293e-627c-415e-bc3f-bb52be338f5f",
   "metadata": {
    "tags": []
   },
   "outputs": [],
   "source": [
    "newpricelist = []\n",
    "\n",
    "for item in productprice:\n",
    "    newpricelist.append(item.text)\n"
   ]
  },
  {
   "cell_type": "code",
   "execution_count": null,
   "id": "91f73a10-2590-40c9-b68e-a273f99f53cc",
   "metadata": {
    "tags": []
   },
   "outputs": [],
   "source": [
    "newpricelist"
   ]
  },
  {
   "cell_type": "code",
   "execution_count": null,
   "id": "624ade6f-7a83-48d8-8523-5900d36b6612",
   "metadata": {
    "tags": []
   },
   "outputs": [],
   "source": [
    "import pandas as pd"
   ]
  },
  {
   "cell_type": "code",
   "execution_count": null,
   "id": "4a715388-17d9-4246-b9a1-604b79d45f3e",
   "metadata": {
    "tags": []
   },
   "outputs": [],
   "source": [
    "mydataframe = pd.DataFrame({\"Product Name\" : newnamelist, \"Price\" :newpricelist })"
   ]
  },
  {
   "cell_type": "code",
   "execution_count": null,
   "id": "340a8680-be57-4469-83cf-fcfb6218cc55",
   "metadata": {
    "tags": []
   },
   "outputs": [],
   "source": [
    "mydataframe"
   ]
  },
  {
   "cell_type": "code",
   "execution_count": null,
   "id": "c4d221ac-5dba-413c-97f9-b651dada8d5d",
   "metadata": {
    "tags": []
   },
   "outputs": [],
   "source": []
  },
  {
   "cell_type": "code",
   "execution_count": null,
   "id": "0cf18e5a-f5cb-4c42-aa86-7956d8e996c4",
   "metadata": {
    "tags": []
   },
   "outputs": [],
   "source": [
    "myjijiurl = 'https://jiji.co.ke/vehicles?price_min=3500000'"
   ]
  },
  {
   "cell_type": "code",
   "execution_count": null,
   "id": "1a9b0ed6-17b2-451f-a785-10a78a4e8a22",
   "metadata": {
    "tags": []
   },
   "outputs": [],
   "source": [
    "myjijiurl"
   ]
  },
  {
   "cell_type": "code",
   "execution_count": null,
   "id": "5070fd14-3372-4242-a7ae-fed5545ee895",
   "metadata": {
    "tags": []
   },
   "outputs": [],
   "source": [
    "response = requests.get(myjijiurl)\n",
    "myjijiresult = BeautifulSoup(response.content, \"html.parser\")"
   ]
  },
  {
   "cell_type": "code",
   "execution_count": null,
   "id": "8e20b98f-26c1-402a-82e5-760f73f2865e",
   "metadata": {
    "tags": []
   },
   "outputs": [],
   "source": [
    "myjijiresult"
   ]
  },
  {
   "cell_type": "code",
   "execution_count": null,
   "id": "3aac2156-f7ef-4538-b06d-375d4eabc5d4",
   "metadata": {
    "tags": []
   },
   "outputs": [],
   "source": [
    "productnames = myjijiresult.find_all(class_=\"b-advert-title-inner qa-advert-title b-advert-title-inner--div\")"
   ]
  },
  {
   "cell_type": "code",
   "execution_count": null,
   "id": "5bafeb6e-0713-425f-b5d7-ea61fbec6b5f",
   "metadata": {
    "tags": []
   },
   "outputs": [],
   "source": [
    "productnames"
   ]
  },
  {
   "cell_type": "code",
   "execution_count": null,
   "id": "3e4b0ab3-c3a3-4f07-bba0-95b42af232eb",
   "metadata": {
    "tags": []
   },
   "outputs": [],
   "source": [
    "newnamelists = []\n",
    "\n",
    "for item in productnames:\n",
    "    modified_text_names = item.text.replace(\"\\n\", \"\")\n",
    "    newnamelists.append(modified_text_names)\n"
   ]
  },
  {
   "cell_type": "code",
   "execution_count": null,
   "id": "e7e1273b-0cee-4b39-b599-34cafe4b22c9",
   "metadata": {
    "tags": []
   },
   "outputs": [],
   "source": [
    "newnamelists"
   ]
  },
  {
   "cell_type": "code",
   "execution_count": null,
   "id": "28e8c942-476a-47cf-8d86-2c0e803dc609",
   "metadata": {
    "tags": []
   },
   "outputs": [],
   "source": [
    "mydataframe = pd.DataFrame({\"Product Name\" : newnamelists })"
   ]
  },
  {
   "cell_type": "code",
   "execution_count": null,
   "id": "8457519b-346d-4ba4-885d-08671a7239c4",
   "metadata": {
    "tags": []
   },
   "outputs": [],
   "source": [
    "mydataframe"
   ]
  },
  {
   "cell_type": "code",
   "execution_count": null,
   "id": "bb48c433-7cf9-4307-a0a1-a9e4b9528bc1",
   "metadata": {
    "tags": []
   },
   "outputs": [],
   "source": [
    "productprices = myjijiresult.find_all(class_=\"qa-advert-price\")"
   ]
  },
  {
   "cell_type": "code",
   "execution_count": null,
   "id": "b7d12b53-930e-4c4b-b03d-42f215756db2",
   "metadata": {
    "tags": []
   },
   "outputs": [],
   "source": [
    "productprices"
   ]
  },
  {
   "cell_type": "code",
   "execution_count": null,
   "id": "f5cc5901-ea99-44f1-9e6d-e7f60d1fef31",
   "metadata": {
    "tags": []
   },
   "outputs": [],
   "source": [
    "newpricelists = []\n",
    "\n",
    "for item in productprices:\n",
    "    modified_text = item.text.replace(\"\\n\", \"\")\n",
    "    newpricelists.append(modified_text)\n"
   ]
  },
  {
   "cell_type": "code",
   "execution_count": null,
   "id": "f118fb74-688e-4f0f-a2a9-fd74c809357c",
   "metadata": {
    "tags": []
   },
   "outputs": [],
   "source": [
    "newpricelists"
   ]
  },
  {
   "cell_type": "code",
   "execution_count": null,
   "id": "cc8b848a-c2df-4960-81f2-a5ab169f4337",
   "metadata": {},
   "outputs": [],
   "source": []
  },
  {
   "cell_type": "code",
   "execution_count": null,
   "id": "76dadcfc-c4a3-4fc8-a794-30dec84311b5",
   "metadata": {},
   "outputs": [],
   "source": []
  },
  {
   "cell_type": "code",
   "execution_count": null,
   "id": "31927f7c-3f77-4784-86bf-9f6a0f2c8f4e",
   "metadata": {
    "tags": []
   },
   "outputs": [],
   "source": [
    "mydataframe2 = pd.DataFrame({\"Product Name\" : newnamelists , \"Prices\" :newpricelists })"
   ]
  },
  {
   "cell_type": "code",
   "execution_count": null,
   "id": "9824ecff-b31c-4472-9351-91dedaf85f0e",
   "metadata": {
    "tags": []
   },
   "outputs": [],
   "source": [
    "mydataframe2"
   ]
  },
  {
   "cell_type": "code",
   "execution_count": 8,
   "id": "8dd15c08-8797-4c36-8247-fe1bcd23ddf8",
   "metadata": {},
   "outputs": [],
   "source": [
    "myurl = 'https://www.jumia.co.ke/catalog/?q=43+inch+smart+tvs'"
   ]
  },
  {
   "cell_type": "code",
   "execution_count": 9,
   "id": "7f79a5b6-a816-443a-93ed-35074018cff5",
   "metadata": {
    "tags": []
   },
   "outputs": [
    {
     "data": {
      "text/plain": [
       "'https://www.jumia.co.ke/catalog/?q=43+inch+smart+tvs'"
      ]
     },
     "execution_count": 9,
     "metadata": {},
     "output_type": "execute_result"
    }
   ],
   "source": [
    "myurl"
   ]
  },
  {
   "cell_type": "code",
   "execution_count": 11,
   "id": "19d091e6-d0fe-452b-b4db-4f49587b7c6d",
   "metadata": {
    "tags": []
   },
   "outputs": [],
   "source": [
    "response = requests.get(myurl)\n",
    "myresult1 = BeautifulSoup(response.content, \"html.parser\")"
   ]
  },
  {
   "cell_type": "code",
   "execution_count": 12,
   "id": "df280d06-d8ab-4895-a3d1-fa652834a58a",
   "metadata": {
    "tags": []
   },
   "outputs": [
    {
     "data": {
      "text/plain": [
       "<!DOCTYPE html>\n",
       "<html dir=\"ltr\" lang=\"en\"><head><meta charset=\"utf-8\"/><title> Shop &amp; Buy Online | Jumia Kenya</title><meta content=\"product\" property=\"og:type\"/><meta content=\"Jumia Kenya\" property=\"og:site_name\"/><meta content=\" Shop &amp; Buy Online | Jumia Kenya\" property=\"og:title\"/><meta content=\"/catalog/\" property=\"og:url\"/><meta content=\"https://ke.jumia.is/cms/icons/jumialogo-x-4.png\" property=\"og:image\"/><meta content=\"en_KE\" property=\"og:locale\"/><meta content=\" Shop &amp; Buy Online | Jumia Kenya\" name=\"title\"/><meta content=\"noindex,follow\" name=\"robots\"/><link href=\"android-app://com.jumia.android/JUMIA/KE/s/43 inch smart tvs?utm_source=google&amp;utm_medium=organic&amp;adjust_tracker=j1hd8h&amp;adjust_campaign=GOOGLE_SEARCH&amp;adjust_adgroup=https%3A%2F%2Fwww.jumia.co.ke%2Fcatalog%2F%3Fq%3D43%2Binch%2Bsmart%2Btvs\" rel=\"alternate\"/><link href=\"https://www.jumia.co.ke/catalog/\" rel=\"canonical\"/><link href=\"https://www.jumia.co.ke/catalog/?q=43+inch+smart+tvs&amp;page=2\" rel=\"next\"/><meta content=\"2099414773624117\" property=\"fb:app_id\"/><meta content=\"395103207248808\" property=\"fb:pages\"/><meta content=\"n_VPq2qj81eefHQXQuWUQcpCjf22dILtzJ-5fqwv3cY\" name=\"google-site-verification\"/><meta content=\"oPpguRNQpgJeq2_7FfJhfy4zTSNTJBX_LLPgB_SUq9g\" name=\"google-site-verification\"/><meta content=\"18D4C7784A54CEB370A0B89D0634A096\" name=\"msvalidate.01\"/><meta content=\"width=device-width, initial-scale=1.0\" name=\"viewport\"/><link href=\"https://www.jumia.co.ke/assets_he/css/main.4db97dce.css\" rel=\"stylesheet\"/><link href=\"https://www.jumia.co.ke/assets_he/favicon.87f00114.ico\" rel=\"icon\" sizes=\"any\" type=\"image/ico\"/><link href=\"https://www.jumia.co.ke/assets_he/favicon.adbd556a.svg\" rel=\"icon\" type=\"image/svg+xml\"/><link href=\"//bam.nr-data.net\" rel=\"preconnect dns-prefetch\"/><link href=\"//js-agent.newrelic.com\" rel=\"preconnect dns-prefetch\"/><link href=\"//www.google-analytics.com\" rel=\"preconnect dns-prefetch\"/><link href=\"//www.googletagmanager.com\" rel=\"preconnect dns-prefetch\"/><link href=\"//www.facebook.com\" rel=\"preconnect dns-prefetch\"/><link href=\"//connect.facebook.net\" rel=\"preconnect dns-prefetch\"/><link href=\"//static.criteo.net\" rel=\"preconnect dns-prefetch\"/><link href=\"//sslwidget.criteo.com\" rel=\"preconnect dns-prefetch\"/><link href=\"//dis.eu.criteo.com\" rel=\"preconnect dns-prefetch\"/><link href=\"//creativecdn.com\" rel=\"preconnect dns-prefetch\"/><link href=\"https://ke.jumia.is\" rel=\"dns-prefetch\"/></head><body><script type=\"text/javascript\">window.NREUM||(NREUM={});NREUM.info = {\"agent\":\"\",\"beacon\":\"bam.nr-data.net\",\"errorBeacon\":\"bam.nr-data.net\",\"licenseKey\":\"b76de0635f\",\"applicationID\":\"200156797\",\"agentToken\":null,\"applicationTime\":18.571293,\"transactionName\":\"NVxXYhMHChFYVUELDQwWdkMSEgsPFnVUFgMOVlIWHUY0LWpi\",\"queueTime\":0,\"ttGuid\":\"5a0eb38ca8e9857a\"}; (window.NREUM||(NREUM={})).init={ajax:{deny_list:[\"bam.nr-data.net\"]}};(window.NREUM||(NREUM={})).loader_config={licenseKey:\"b76de0635f\",applicationID:\"200156797\"};;/*! For license information please see nr-loader-rum-1.248.0.min.js.LICENSE.txt */\n",
       "(()=>{var e,t,n={234:(e,t,n)=>{\"use strict\";n.d(t,{P_:()=>h,Mt:()=>m,C5:()=>s,DL:()=>w,OP:()=>j,lF:()=>R,Yu:()=>_,Dg:()=>v,CX:()=>c,GE:()=>A,sU:()=>T});var r=n(8632),i=n(9567);const a={beacon:r.ce.beacon,errorBeacon:r.ce.errorBeacon,licenseKey:void 0,applicationID:void 0,sa:void 0,queueTime:void 0,applicationTime:void 0,ttGuid:void 0,user:void 0,account:void 0,product:void 0,extra:void 0,jsAttributes:{},userAttributes:void 0,atts:void 0,transactionName:void 0,tNamePlain:void 0},o={};function s(e){if(!e)throw new Error(\"All info objects require an agent identifier!\");if(!o[e])throw new Error(\"Info for \".concat(e,\" was never set\"));return o[e]}function c(e,t){if(!e)throw new Error(\"All info objects require an agent identifier!\");o[e]=(0,i.D)(t,a);const n=(0,r.ek)(e);n&&(n.info=o[e])}const u=e=>{if(!e||\"string\"!=typeof e)return!1;try{document.createDocumentFragment().querySelector(e)}catch{return!1}return!0};var d=n(7056),l=n(50);const f=()=>{const e={mask_selector:\"*\",block_selector:\"[data-nr-block]\",mask_input_options:{color:!1,date:!1,\"datetime-local\":!1,email:!1,month:!1,number:!1,range:!1,search:!1,tel:!1,text:!1,time:!1,url:!1,week:!1,textarea:!1,select:!1,password:!0}};return{feature_flags:[],proxy:{assets:void 0,beacon:void 0},privacy:{cookies_enabled:!0},ajax:{deny_list:void 0,block_internal:!0,enabled:!0,harvestTimeSeconds:10,autoStart:!0},distributed_tracing:{enabled:void 0,exclude_newrelic_header:void 0,cors_use_newrelic_header:void 0,cors_use_tracecontext_headers:void 0,allowed_origins:void 0},session:{domain:void 0,expiresMs:d.oD,inactiveMs:d.Hb},ssl:void 0,obfuscate:void 0,jserrors:{enabled:!0,harvestTimeSeconds:10,autoStart:!0},metrics:{enabled:!0,autoStart:!0},page_action:{enabled:!0,harvestTimeSeconds:30,autoStart:!0},page_view_event:{enabled:!0,autoStart:!0},page_view_timing:{enabled:!0,harvestTimeSeconds:30,long_task:!1,autoStart:!0},session_trace:{enabled:!0,harvestTimeSeconds:10,autoStart:!0},harvest:{tooManyRequestsDelay:60},session_replay:{autoStart:!0,enabled:!1,harvestTimeSeconds:60,sampling_rate:50,error_sampling_rate:50,collect_fonts:!1,inline_images:!1,inline_stylesheet:!0,mask_all_inputs:!0,get mask_text_selector(){return e.mask_selector},set mask_text_selector(t){u(t)?e.mask_selector=t+\",[data-nr-mask]\":null===t?e.mask_selector=t:(0,l.Z)(\"An invalid session_replay.mask_selector was provided and will not be used\",t)},get block_class(){return\"nr-block\"},get ignore_class(){return\"nr-ignore\"},get mask_text_class(){return\"nr-mask\"},get block_selector(){return e.block_selector},set block_selector(t){u(t)?e.block_selector+=\",\".concat(t):\"\"!==t&&(0,l.Z)(\"An invalid session_replay.block_selector was provided and will not be used\",t)},get mask_input_options(){return e.mask_input_options},set mask_input_options(t){t&&\"object\"==typeof t?e.mask_input_options={...t,password:!0}:(0,l.Z)(\"An invalid session_replay.mask_input_option was provided and will not be used\",t)}},spa:{enabled:!0,harvestTimeSeconds:10,autoStart:!0}}},g={},p=\"All configuration objects require an agent identifier!\";function h(e){if(!e)throw new Error(p);if(!g[e])throw new Error(\"Configuration for \".concat(e,\" was never set\"));return g[e]}function v(e,t){if(!e)throw new Error(p);g[e]=(0,i.D)(t,f());const n=(0,r.ek)(e);n&&(n.init=g[e])}function m(e,t){if(!e)throw new Error(p);var n=h(e);if(n){for(var r=t.split(\".\"),i=0;i<r.length-1;i++)if(\"object\"!=typeof(n=n[r[i]]))return;n=n[r[r.length-1]]}return n}const b={accountID:void 0,trustKey:void 0,agentID:void 0,licenseKey:void 0,applicationID:void 0,xpid:void 0},y={};function w(e){if(!e)throw new Error(\"All loader-config objects require an agent identifier!\");if(!y[e])throw new Error(\"LoaderConfig for \".concat(e,\" was never set\"));return y[e]}function A(e,t){if(!e)throw new Error(\"All loader-config objects require an agent identifier!\");y[e]=(0,i.D)(t,b);const n=(0,r.ek)(e);n&&(n.loader_config=y[e])}const _=(0,r.mF)().o;var x=n(385),D=n(6818);const k={buildEnv:D.Re,customTransaction:void 0,disabled:!1,distMethod:D.gF,isolatedBacklog:!1,loaderType:void 0,maxBytes:3e4,offset:Math.floor(x._A?.performance?.timeOrigin||x._A?.performance?.timing?.navigationStart||Date.now()),onerror:void 0,origin:\"\"+x._A.location,ptid:void 0,releaseIds:{},session:void 0,xhrWrappable:\"function\"==typeof x._A.XMLHttpRequest?.prototype?.addEventListener,version:D.q4,denyList:void 0},E={};function j(e){if(!e)throw new Error(\"All runtime objects require an agent identifier!\");if(!E[e])throw new Error(\"Runtime for \".concat(e,\" was never set\"));return E[e]}function T(e,t){if(!e)throw new Error(\"All runtime objects require an agent identifier!\");E[e]=(0,i.D)(t,k);const n=(0,r.ek)(e);n&&(n.runtime=E[e])}function R(e){return function(e){try{const t=s(e);return!!t.licenseKey&&!!t.errorBeacon&&!!t.applicationID}catch(e){return!1}}(e)}},9567:(e,t,n)=>{\"use strict\";n.d(t,{D:()=>i});var r=n(50);function i(e,t){try{if(!e||\"object\"!=typeof e)return(0,r.Z)(\"Setting a Configurable requires an object as input\");if(!t||\"object\"!=typeof t)return(0,r.Z)(\"Setting a Configurable requires a model to set its initial properties\");const n=Object.create(Object.getPrototypeOf(t),Object.getOwnPropertyDescriptors(t)),a=0===Object.keys(n).length?e:n;for(let o in a)if(void 0!==e[o])try{Array.isArray(e[o])&&Array.isArray(t[o])?n[o]=Array.from(new Set([...e[o],...t[o]])):\"object\"==typeof e[o]&&\"object\"==typeof t[o]?n[o]=i(e[o],t[o]):n[o]=e[o]}catch(e){(0,r.Z)(\"An error occurred while setting a property of a Configurable\",e)}return n}catch(e){(0,r.Z)(\"An error occured while setting a Configurable\",e)}}},6818:(e,t,n)=>{\"use strict\";n.d(t,{Re:()=>i,gF:()=>a,q4:()=>r});const r=\"1.248.0\",i=\"PROD\",a=\"CDN\"},385:(e,t,n)=>{\"use strict\";n.d(t,{Nk:()=>d,Tt:()=>s,_A:()=>a,cv:()=>l,iS:()=>o,il:()=>r,ux:()=>c,v6:()=>i,w1:()=>u});const r=\"undefined\"!=typeof window&&!!window.document,i=\"undefined\"!=typeof WorkerGlobalScope&&(\"undefined\"!=typeof self&&self instanceof WorkerGlobalScope&&self.navigator instanceof WorkerNavigator||\"undefined\"!=typeof globalThis&&globalThis instanceof WorkerGlobalScope&&globalThis.navigator instanceof WorkerNavigator),a=r?window:\"undefined\"!=typeof WorkerGlobalScope&&(\"undefined\"!=typeof self&&self instanceof WorkerGlobalScope&&self||\"undefined\"!=typeof globalThis&&globalThis instanceof WorkerGlobalScope&&globalThis),o=(a?.document?.readyState,Boolean(\"hidden\"===a?.document?.visibilityState)),s=(a?.location,/iPad|iPhone|iPod/.test(a.navigator?.userAgent)),c=s&&\"undefined\"==typeof SharedWorker,u=((()=>{const e=a.navigator?.userAgent?.match(/Firefox[/\\s](\\d+\\.\\d+)/);Array.isArray(e)&&e.length>=2&&e[1]})(),Boolean(r&&window.document.documentMode)),d=!!a.navigator?.sendBeacon,l=Math.floor(a?.performance?.timeOrigin||a?.performance?.timing?.navigationStart||Date.now())},1117:(e,t,n)=>{\"use strict\";n.d(t,{w:()=>a});var r=n(50);const i={agentIdentifier:\"\",ee:void 0};class a{constructor(e){try{if(\"object\"!=typeof e)return(0,r.Z)(\"shared context requires an object as input\");this.sharedContext={},Object.assign(this.sharedContext,i),Object.entries(e).forEach((e=>{let[t,n]=e;Object.keys(i).includes(t)&&(this.sharedContext[t]=n)}))}catch(e){(0,r.Z)(\"An error occured while setting SharedContext\",e)}}}},8e3:(e,t,n)=>{\"use strict\";n.d(t,{L:()=>d,R:()=>c});var r=n(8325),i=n(1284),a=n(4322),o=n(3325);const s={};function c(e,t){const n={staged:!1,priority:o.p[t]||0};u(e),s[e].get(t)||s[e].set(t,n)}function u(e){e&&(s[e]||(s[e]=new Map))}function d(){let e=arguments.length>0&&void 0!==arguments[0]?arguments[0]:\"\",t=arguments.length>1&&void 0!==arguments[1]?arguments[1]:\"feature\";if(u(e),!e||!s[e].get(t))return o(t);s[e].get(t).staged=!0;const n=[...s[e]];function o(t){const n=e?r.ee.get(e):r.ee,o=a.X.handlers;if(n.backlog&&o){var s=n.backlog[t],c=o[t];if(c){for(var u=0;s&&u<s.length;++u)l(s[u],c);(0,i.D)(c,(function(e,t){(0,i.D)(t,(function(t,n){n[0].on(e,n[1])}))}))}delete o[t],n.backlog[t]=null,n.emit(\"drain-\"+t,[])}}n.every((e=>{let[t,n]=e;return n.staged}))&&(n.sort(((e,t)=>e[1].priority-t[1].priority)),n.forEach((t=>{let[n]=t;s[e].delete(n),o(n)})))}function l(e,t){var n=e[1];(0,i.D)(t[n],(function(t,n){var r=e[0];if(n[0]===r){var i=n[1],a=e[3],o=e[2];i.apply(a,o)}}))}},8325:(e,t,n)=>{\"use strict\";n.d(t,{A:()=>c,ee:()=>u});var r=n(8632),i=n(2210),a=n(234);class o{constructor(e){this.contextId=e}}var s=n(3117);const c=\"nr@context:\".concat(s.a),u=function e(t,n){var r={},s={},d={},f=!1;try{f=16===n.length&&(0,a.OP)(n).isolatedBacklog}catch(e){}var g={on:h,addEventListener:h,removeEventListener:function(e,t){var n=r[e];if(!n)return;for(var i=0;i<n.length;i++)n[i]===t&&n.splice(i,1)},emit:function(e,n,r,i,a){!1!==a&&(a=!0);if(u.aborted&&!i)return;t&&a&&t.emit(e,n,r);for(var o=p(r),c=v(e),d=c.length,l=0;l<d;l++)c[l].apply(o,n);var f=b()[s[e]];f&&f.push([g,e,n,o]);return o},get:m,listeners:v,context:p,buffer:function(e,t){const n=b();if(t=t||\"feature\",g.aborted)return;Object.entries(e||{}).forEach((e=>{let[r,i]=e;s[i]=t,t in n||(n[t]=[])}))},abort:l,aborted:!1,isBuffering:function(e){return!!b()[s[e]]},debugId:n,backlog:f?{}:t&&\"object\"==typeof t.backlog?t.backlog:{}};return g;function p(e){return e&&e instanceof o?e:e?(0,i.X)(e,c,(()=>new o(c))):new o(c)}function h(e,t){r[e]=v(e).concat(t)}function v(e){return r[e]||[]}function m(t){return d[t]=d[t]||e(g,t)}function b(){return g.backlog}}(void 0,\"globalEE\"),d=(0,r.fP)();function l(){u.aborted=!0,u.backlog={}}d.ee||(d.ee=u)},5546:(e,t,n)=>{\"use strict\";n.d(t,{E:()=>r,p:()=>i});var r=n(8325).ee.get(\"handle\");function i(e,t,n,i,a){a?(a.buffer([e],i),a.emit(e,t,n)):(r.buffer([e],i),r.emit(e,t,n))}},4322:(e,t,n)=>{\"use strict\";n.d(t,{X:()=>a});var r=n(5546);a.on=o;var i=a.handlers={};function a(e,t,n,a){o(a||r.E,i,e,t,n)}function o(e,t,n,i,a){a||(a=\"feature\"),e||(e=r.E);var o=t[a]=t[a]||{};(o[n]=o[n]||[]).push([e,i])}},3239:(e,t,n)=>{\"use strict\";n.d(t,{bP:()=>s,iz:()=>c,m$:()=>o});var r=n(385);let i=!1,a=!1;try{const e={get passive(){return i=!0,!1},get signal(){return a=!0,!1}};r._A.addEventListener(\"test\",null,e),r._A.removeEventListener(\"test\",null,e)}catch(e){}function o(e,t){return i||a?{capture:!!e,passive:i,signal:t}:!!e}function s(e,t){let n=arguments.length>2&&void 0!==arguments[2]&&arguments[2],r=arguments.length>3?arguments[3]:void 0;window.addEventListener(e,t,o(n,r))}function c(e,t){let n=arguments.length>2&&void 0!==arguments[2]&&arguments[2],r=arguments.length>3?arguments[3]:void 0;document.addEventListener(e,t,o(n,r))}},3117:(e,t,n)=>{\"use strict\";n.d(t,{a:()=>r});const r=(0,n(4402).Rl)()},4402:(e,t,n)=>{\"use strict\";n.d(t,{Rl:()=>o,ky:()=>s});var r=n(385);const i=\"xxxxxxxx-xxxx-4xxx-yxxx-xxxxxxxxxxxx\";function a(e,t){return e?15&e[t]:16*Math.random()|0}function o(){const e=r._A?.crypto||r._A?.msCrypto;let t,n=0;return e&&e.getRandomValues&&(t=e.getRandomValues(new Uint8Array(31))),i.split(\"\").map((e=>\"x\"===e?a(t,++n).toString(16):\"y\"===e?(3&a()|8).toString(16):e)).join(\"\")}function s(e){const t=r._A?.crypto||r._A?.msCrypto;let n,i=0;t&&t.getRandomValues&&(n=t.getRandomValues(new Uint8Array(31)));const o=[];for(var s=0;s<e;s++)o.push(a(n,++i).toString(16));return o.join(\"\")}},7056:(e,t,n)=>{\"use strict\";n.d(t,{Bq:()=>r,Hb:()=>a,oD:()=>i});const r=\"NRBA\",i=144e5,a=18e5},7894:(e,t,n)=>{\"use strict\";function r(){return Math.round(performance.now())}n.d(t,{z:()=>r})},50:(e,t,n)=>{\"use strict\";function r(e,t){\"function\"==typeof console.warn&&(console.warn(\"New Relic: \".concat(e)),t&&console.warn(t))}n.d(t,{Z:()=>r})},2825:(e,t,n)=>{\"use strict\";n.d(t,{N:()=>d,T:()=>l});var r=n(8325),i=n(5546),a=n(3325),o=n(385);const s=\"newrelic\";const c={stn:[a.D.sessionTrace],err:[a.D.jserrors,a.D.metrics],ins:[a.D.pageAction],spa:[a.D.spa],sr:[a.D.sessionReplay,a.D.sessionTrace]},u=new Set;function d(e,t){const n=r.ee.get(t);e&&\"object\"==typeof e&&(u.has(t)||(Object.entries(e).forEach((e=>{let[t,r]=e;c[t]?c[t].forEach((e=>{r?(0,i.p)(\"feat-\"+t,[],void 0,e,n):(0,i.p)(\"block-\"+t,[],void 0,e,n),(0,i.p)(\"rumresp-\"+t,[Boolean(r)],void 0,e,n)})):r&&(0,i.p)(\"feat-\"+t,[],void 0,void 0,n),l[t]=Boolean(r)})),Object.keys(c).forEach((e=>{void 0===l[e]&&(c[e]?.forEach((t=>(0,i.p)(\"rumresp-\"+e,[!1],void 0,t,n))),l[e]=!1)})),u.add(t),function(){let e=arguments.length>0&&void 0!==arguments[0]?arguments[0]:{};try{o._A.dispatchEvent(new CustomEvent(s,{detail:e}))}catch(e){}}({loaded:!0})))}const l={}},2210:(e,t,n)=>{\"use strict\";n.d(t,{X:()=>i});var r=Object.prototype.hasOwnProperty;function i(e,t,n){if(r.call(e,t))return e[t];var i=n();if(Object.defineProperty&&Object.keys)try{return Object.defineProperty(e,t,{value:i,writable:!0,enumerable:!1}),i}catch(e){}return e[t]=i,i}},1284:(e,t,n)=>{\"use strict\";n.d(t,{D:()=>r});const r=(e,t)=>Object.entries(e||{}).map((e=>{let[n,r]=e;return t(n,r)}))},4351:(e,t,n)=>{\"use strict\";n.d(t,{P:()=>a});var r=n(8325);const i=()=>{const e=new WeakSet;return(t,n)=>{if(\"object\"==typeof n&&null!==n){if(e.has(n))return;e.add(n)}return n}};function a(e){try{return JSON.stringify(e,i())}catch(e){try{r.ee.emit(\"internal-error\",[e])}catch(e){}}}},3960:(e,t,n)=>{\"use strict\";n.d(t,{KB:()=>o,b2:()=>a});var r=n(3239);function i(){return\"undefined\"==typeof document||\"complete\"===document.readyState}function a(e,t){if(i())return e();(0,r.bP)(\"load\",e,t)}function o(e){if(i())return e();(0,r.iz)(\"DOMContentLoaded\",e)}},8632:(e,t,n)=>{\"use strict\";n.d(t,{EZ:()=>d,ce:()=>a,ek:()=>u,fP:()=>o,gG:()=>l,h5:()=>c,mF:()=>s});var r=n(7894),i=n(385);const a={beacon:\"bam.nr-data.net\",errorBeacon:\"bam.nr-data.net\"};function o(){return i._A.NREUM||(i._A.NREUM={}),void 0===i._A.newrelic&&(i._A.newrelic=i._A.NREUM),i._A.NREUM}function s(){let e=o();return e.o||(e.o={ST:i._A.setTimeout,SI:i._A.setImmediate,CT:i._A.clearTimeout,XHR:i._A.XMLHttpRequest,REQ:i._A.Request,EV:i._A.Event,PR:i._A.Promise,MO:i._A.MutationObserver,FETCH:i._A.fetch}),e}function c(e,t){let n=o();n.initializedAgents??={},t.initializedAt={ms:(0,r.z)(),date:new Date},n.initializedAgents[e]=t}function u(e){let t=o();return t.initializedAgents?.[e]}function d(e,t){o()[e]=t}function l(){return function(){let e=o();const t=e.info||{};e.info={beacon:a.beacon,errorBeacon:a.errorBeacon,...t}}(),function(){let e=o();const t=e.init||{};e.init={...t}}(),s(),function(){let e=o();const t=e.loader_config||{};e.loader_config={...t}}(),o()}},7956:(e,t,n)=>{\"use strict\";n.d(t,{N:()=>i});var r=n(3239);function i(e){let t=arguments.length>1&&void 0!==arguments[1]&&arguments[1],n=arguments.length>2?arguments[2]:void 0,i=arguments.length>3?arguments[3]:void 0;(0,r.iz)(\"visibilitychange\",(function(){if(t)return void(\"hidden\"===document.visibilityState&&e());e(document.visibilityState)}),n,i)}},3081:(e,t,n)=>{\"use strict\";n.d(t,{gF:()=>a,mY:()=>i,t9:()=>r,vz:()=>s,xS:()=>o});const r=n(3325).D.metrics,i=\"sm\",a=\"cm\",o=\"storeSupportabilityMetrics\",s=\"storeEventMetrics\"},7633:(e,t,n)=>{\"use strict\";n.d(t,{t:()=>r});const r=n(3325).D.pageViewEvent},9251:(e,t,n)=>{\"use strict\";n.d(t,{t:()=>r});const r=n(3325).D.pageViewTiming},5938:(e,t,n)=>{\"use strict\";n.d(t,{W:()=>i});var r=n(8325);class i{constructor(e,t,n){this.agentIdentifier=e,this.aggregator=t,this.ee=r.ee.get(e),this.featureName=n,this.blocked=!1}}},7530:(e,t,n)=>{\"use strict\";n.d(t,{j:()=>b});var r=n(3325),i=n(234),a=n(5546),o=n(8325),s=n(7894),c=n(8e3),u=n(3960),d=n(385),l=n(50),f=n(3081),g=n(8632);function p(){const e=(0,g.gG)();[\"setErrorHandler\",\"finished\",\"addToTrace\",\"addRelease\",\"addPageAction\",\"setCurrentRouteName\",\"setPageViewName\",\"setCustomAttribute\",\"interaction\",\"noticeError\",\"setUserId\",\"setApplicationVersion\",\"start\",\"recordReplay\",\"pauseReplay\"].forEach((t=>{e[t]=function(){for(var n=arguments.length,r=new Array(n),i=0;i<n;i++)r[i]=arguments[i];return function(t){for(var n=arguments.length,r=new Array(n>1?n-1:0),i=1;i<n;i++)r[i-1]=arguments[i];let a=[];return Object.values(e.initializedAgents).forEach((e=>{e.exposed&&e.api[t]&&a.push(e.api[t](...r))})),a.length>1?a:a[0]}(t,...r)}}))}var h=n(2825);const v=e=>{const t=e.startsWith(\"http\");e+=\"/\",n.p=t?e:\"https://\"+e};let m=!1;function b(e){let t=arguments.length>1&&void 0!==arguments[1]?arguments[1]:{},b=arguments.length>2?arguments[2]:void 0,y=arguments.length>3?arguments[3]:void 0,{init:w,info:A,loader_config:_,runtime:x={loaderType:b},exposed:D=!0}=t;const k=(0,g.gG)();A||(w=k.init,A=k.info,_=k.loader_config),(0,i.Dg)(e.agentIdentifier,w||{}),(0,i.GE)(e.agentIdentifier,_||{}),A.jsAttributes??={},d.v6&&(A.jsAttributes.isWorker=!0),(0,i.CX)(e.agentIdentifier,A);const E=(0,i.P_)(e.agentIdentifier),j=[A.beacon,A.errorBeacon];m||(E.proxy.assets&&(v(E.proxy.assets),j.push(E.proxy.assets)),E.proxy.beacon&&j.push(E.proxy.beacon),p(),(0,g.EZ)(\"activatedFeatures\",h.T)),x.denyList=[...E.ajax.deny_list||[],...E.ajax.block_internal?j:[]],(0,i.sU)(e.agentIdentifier,x),void 0===e.api&&(e.api=function(e,t){t||(0,c.R)(e,\"api\");const g={};var p=o.ee.get(e),h=p.get(\"tracer\"),v=\"api-\",m=v+\"ixn-\";function b(t,n,r,a){const o=(0,i.C5)(e);return null===n?delete o.jsAttributes[t]:(0,i.CX)(e,{...o,jsAttributes:{...o.jsAttributes,[t]:n}}),A(v,r,!0,a||null===n?\"session\":void 0)(t,n)}function y(){}[\"setErrorHandler\",\"finished\",\"addToTrace\",\"addRelease\"].forEach((e=>{g[e]=A(v,e,!0,\"api\")})),g.addPageAction=A(v,\"addPageAction\",!0,r.D.pageAction),g.setCurrentRouteName=A(v,\"routeName\",!0,r.D.spa),g.setPageViewName=function(t,n){if(\"string\"==typeof t)return\"/\"!==t.charAt(0)&&(t=\"/\"+t),(0,i.OP)(e).customTransaction=(n||\"http://custom.transaction\")+t,A(v,\"setPageViewName\",!0)()},g.setCustomAttribute=function(e,t){let n=arguments.length>2&&void 0!==arguments[2]&&arguments[2];if(\"string\"==typeof e){if([\"string\",\"number\",\"boolean\"].includes(typeof t)||null===t)return b(e,t,\"setCustomAttribute\",n);(0,l.Z)(\"Failed to execute setCustomAttribute.\\nNon-null value must be a string, number or boolean type, but a type of <\".concat(typeof t,\"> was provided.\"))}else(0,l.Z)(\"Failed to execute setCustomAttribute.\\nName must be a string type, but a type of <\".concat(typeof e,\"> was provided.\"))},g.setUserId=function(e){if(\"string\"==typeof e||null===e)return b(\"enduser.id\",e,\"setUserId\",!0);(0,l.Z)(\"Failed to execute setUserId.\\nNon-null value must be a string type, but a type of <\".concat(typeof e,\"> was provided.\"))},g.setApplicationVersion=function(e){if(\"string\"==typeof e||null===e)return b(\"application.version\",e,\"setApplicationVersion\",!1);(0,l.Z)(\"Failed to execute setApplicationVersion. Expected <String | null>, but got <\".concat(typeof e,\">.\"))},g.start=e=>{try{const t=e?\"defined\":\"undefined\";(0,a.p)(f.xS,[\"API/start/\".concat(t,\"/called\")],void 0,r.D.metrics,p);const n=Object.values(r.D);if(void 0===e)e=n;else{if((e=Array.isArray(e)&&e.length?e:[e]).some((e=>!n.includes(e))))return(0,l.Z)(\"Invalid feature name supplied. Acceptable feature names are: \".concat(n));e.includes(r.D.pageViewEvent)||e.push(r.D.pageViewEvent)}e.forEach((e=>{p.emit(\"\".concat(e,\"-opt-in\"))}))}catch(e){(0,l.Z)(\"An unexpected issue occurred\",e)}},g.recordReplay=function(){(0,a.p)(f.xS,[\"API/recordReplay/called\"],void 0,r.D.metrics,p),(0,a.p)(\"recordReplay\",[],void 0,r.D.sessionReplay,p)},g.pauseReplay=function(){(0,a.p)(f.xS,[\"API/pauseReplay/called\"],void 0,r.D.metrics,p),(0,a.p)(\"pauseReplay\",[],void 0,r.D.sessionReplay,p)},g.interaction=function(){return(new y).get()};var w=y.prototype={createTracer:function(e,t){var n={},i=this,o=\"function\"==typeof t;return(0,a.p)(f.xS,[\"API/createTracer/called\"],void 0,r.D.metrics,p),(0,a.p)(m+\"tracer\",[(0,s.z)(),e,n],i,r.D.spa,p),function(){if(h.emit((o?\"\":\"no-\")+\"fn-start\",[(0,s.z)(),i,o],n),o)try{return t.apply(this,arguments)}catch(e){throw h.emit(\"fn-err\",[arguments,this,e],n),e}finally{h.emit(\"fn-end\",[(0,s.z)()],n)}}}};function A(e,t,n,i){return function(){return(0,a.p)(f.xS,[\"API/\"+t+\"/called\"],void 0,r.D.metrics,p),i&&(0,a.p)(e+t,[(0,s.z)(),...arguments],n?null:this,i,p),n?void 0:this}}function _(){n.e(75).then(n.bind(n,7438)).then((t=>{let{setAPI:n}=t;n(e),(0,c.L)(e,\"api\")})).catch((()=>(0,l.Z)(\"Downloading runtime APIs failed...\")))}return[\"actionText\",\"setName\",\"setAttribute\",\"save\",\"ignore\",\"onEnd\",\"getContext\",\"end\",\"get\"].forEach((e=>{w[e]=A(m,e,void 0,r.D.spa)})),g.noticeError=function(e,t){\"string\"==typeof e&&(e=new Error(e)),(0,a.p)(f.xS,[\"API/noticeError/called\"],void 0,r.D.metrics,p),(0,a.p)(\"err\",[e,(0,s.z)(),!1,t],void 0,r.D.jserrors,p)},d.il?(0,u.b2)((()=>_()),!0):_(),g}(e.agentIdentifier,y)),void 0===e.exposed&&(e.exposed=D),m=!0}},1926:(e,t,n)=>{n.nc=(()=>{try{return document?.currentScript?.nonce}catch(e){}return\"\"})()},3325:(e,t,n)=>{\"use strict\";n.d(t,{D:()=>r,p:()=>i});const r={ajax:\"ajax\",jserrors:\"jserrors\",metrics:\"metrics\",pageAction:\"page_action\",pageViewEvent:\"page_view_event\",pageViewTiming:\"page_view_timing\",sessionReplay:\"session_replay\",sessionTrace:\"session_trace\",spa:\"spa\"},i={[r.pageViewEvent]:1,[r.pageViewTiming]:2,[r.metrics]:3,[r.jserrors]:4,[r.ajax]:5,[r.sessionTrace]:6,[r.pageAction]:7,[r.spa]:8,[r.sessionReplay]:9}}},r={};function i(e){var t=r[e];if(void 0!==t)return t.exports;var a=r[e]={exports:{}};return n[e](a,a.exports,i),a.exports}i.m=n,i.d=(e,t)=>{for(var n in t)i.o(t,n)&&!i.o(e,n)&&Object.defineProperty(e,n,{enumerable:!0,get:t[n]})},i.f={},i.e=e=>Promise.all(Object.keys(i.f).reduce(((t,n)=>(i.f[n](e,t),t)),[])),i.u=e=>\"nr-rum-1.248.0.min.js\",i.o=(e,t)=>Object.prototype.hasOwnProperty.call(e,t),e={},t=\"NRBA-1.248.0.PROD:\",i.l=(n,r,a,o)=>{if(e[n])e[n].push(r);else{var s,c;if(void 0!==a)for(var u=document.getElementsByTagName(\"script\"),d=0;d<u.length;d++){var l=u[d];if(l.getAttribute(\"src\")==n||l.getAttribute(\"data-webpack\")==t+a){s=l;break}}s||(c=!0,(s=document.createElement(\"script\")).charset=\"utf-8\",s.timeout=120,i.nc&&s.setAttribute(\"nonce\",i.nc),s.setAttribute(\"data-webpack\",t+a),s.src=n,0!==s.src.indexOf(window.location.origin+\"/\")&&(s.crossOrigin=\"anonymous\"),s.integrity=i.sriHashes[o],s.crossOrigin=\"anonymous\"),e[n]=[r];var f=(t,r)=>{s.onerror=s.onload=null,clearTimeout(g);var i=e[n];if(delete e[n],s.parentNode&&s.parentNode.removeChild(s),i&&i.forEach((e=>e(r))),t)return t(r)},g=setTimeout(f.bind(null,void 0,{type:\"timeout\",target:s}),12e4);s.onerror=f.bind(null,s.onerror),s.onload=f.bind(null,s.onload),c&&document.head.appendChild(s)}},i.r=e=>{\"undefined\"!=typeof Symbol&&Symbol.toStringTag&&Object.defineProperty(e,Symbol.toStringTag,{value:\"Module\"}),Object.defineProperty(e,\"__esModule\",{value:!0})},i.p=\"https://js-agent.newrelic.com/\",i.sriHashes={75:\"sha512-5mWtMwj7hrXT5aUkfvBtjH6FJXsR+zdeMBfc721nzrOx36xa23yTrCB1VVOAQa+zIioAbWPW4m7UsPp7hW1WPw==\"},(()=>{var e={50:0,832:0};i.f.j=(t,n)=>{var r=i.o(e,t)?e[t]:void 0;if(0!==r)if(r)n.push(r[2]);else{var a=new Promise(((n,i)=>r=e[t]=[n,i]));n.push(r[2]=a);var o=i.p+i.u(t),s=new Error;i.l(o,(n=>{if(i.o(e,t)&&(0!==(r=e[t])&&(e[t]=void 0),r)){var a=n&&(\"load\"===n.type?\"missing\":n.type),o=n&&n.target&&n.target.src;s.message=\"Loading chunk \"+t+\" failed.\\n(\"+a+\": \"+o+\")\",s.name=\"ChunkLoadError\",s.type=a,s.request=o,r[1](s)}}),\"chunk-\"+t,t)}};var t=(t,n)=>{var r,a,[o,s,c]=n,u=0;if(o.some((t=>0!==e[t]))){for(r in s)i.o(s,r)&&(i.m[r]=s[r]);if(c)c(i)}for(t&&t(n);u<o.length;u++)a=o[u],i.o(e,a)&&e[a]&&e[a][0](),e[a]=0},n=self[\"webpackChunk:NRBA-1.248.0.PROD\"]=self[\"webpackChunk:NRBA-1.248.0.PROD\"]||[];n.forEach(t.bind(null,0)),n.push=t.bind(null,n.push.bind(n))})(),(()=>{\"use strict\";i(1926);var e=i(50);class t{addPageAction(t,n){(0,e.Z)(\"Call to agent api addPageAction failed. The page action feature is not currently initialized.\")}setPageViewName(t,n){(0,e.Z)(\"Call to agent api setPageViewName failed. The page view feature is not currently initialized.\")}setCustomAttribute(t,n,r){(0,e.Z)(\"Call to agent api setCustomAttribute failed. The js errors feature is not currently initialized.\")}noticeError(t,n){(0,e.Z)(\"Call to agent api noticeError failed. The js errors feature is not currently initialized.\")}setUserId(t){(0,e.Z)(\"Call to agent api setUserId failed. The js errors feature is not currently initialized.\")}setApplicationVersion(t){(0,e.Z)(\"Call to agent api setApplicationVersion failed. The agent is not currently initialized.\")}setErrorHandler(t){(0,e.Z)(\"Call to agent api setErrorHandler failed. The js errors feature is not currently initialized.\")}finished(t){(0,e.Z)(\"Call to agent api finished failed. The page action feature is not currently initialized.\")}addRelease(t,n){(0,e.Z)(\"Call to agent api addRelease failed. The js errors feature is not currently initialized.\")}start(t){(0,e.Z)(\"Call to agent api addRelease failed. The agent is not currently initialized.\")}recordReplay(){(0,e.Z)(\"Call to agent api recordReplay failed. The agent is not currently initialized.\")}pauseReplay(){(0,e.Z)(\"Call to agent api pauseReplay failed. The agent is not currently initialized.\")}}var n=i(3325),r=i(234);const a=Object.values(n.D);function o(e){const t={};return a.forEach((n=>{t[n]=function(e,t){return!1!==(0,r.Mt)(t,\"\".concat(e,\".enabled\"))}(n,e)})),t}var s=i(7530);var c=i(8e3),u=i(5938),d=i(3960),l=i(385);class f extends u.W{constructor(e,t,n){let i=!(arguments.length>3&&void 0!==arguments[3])||arguments[3];super(e,t,n),this.auto=i,this.abortHandler=void 0,this.featAggregate=void 0,this.onAggregateImported=void 0,!1===(0,r.Mt)(this.agentIdentifier,\"\".concat(this.featureName,\".autoStart\"))&&(this.auto=!1),this.auto&&(0,c.R)(e,n)}importAggregator(){let t=arguments.length>0&&void 0!==arguments[0]?arguments[0]:{};if(this.featAggregate)return;if(!this.auto)return void this.ee.on(\"\".concat(this.featureName,\"-opt-in\"),(()=>{(0,c.R)(this.agentIdentifier,this.featureName),this.auto=!0,this.importAggregator()}));const n=l.il&&!0===(0,r.Mt)(this.agentIdentifier,\"privacy.cookies_enabled\");let a;this.onAggregateImported=new Promise((e=>{a=e}));const o=async()=>{let r;try{if(n){const{setupAgentSession:e}=await i.e(75).then(i.bind(i,3228));r=e(this.agentIdentifier)}}catch(t){(0,e.Z)(\"A problem occurred when starting up session manager. This page will not start or extend any session.\",t)}try{if(!this.shouldImportAgg(this.featureName,r))return(0,c.L)(this.agentIdentifier,this.featureName),void a(!1);const{lazyFeatureLoader:e}=await i.e(75).then(i.bind(i,8582)),{Aggregate:n}=await e(this.featureName,\"aggregate\");this.featAggregate=new n(this.agentIdentifier,this.aggregator,t),a(!0)}catch(t){(0,e.Z)(\"Downloading and initializing \".concat(this.featureName,\" failed...\"),t),this.abortHandler?.(),(0,c.L)(this.agentIdentifier,this.featureName),a(!1)}};l.il?(0,d.b2)((()=>o()),!0):o()}shouldImportAgg(e,t){return e!==n.D.sessionReplay||!!r.Yu.MO&&(!1!==(0,r.Mt)(this.agentIdentifier,\"session_trace.enabled\")&&(!!t?.isNew||!!t?.state.sessionReplayMode))}}var g=i(7633);class p extends f{static featureName=g.t;constructor(e,t){let n=!(arguments.length>2&&void 0!==arguments[2])||arguments[2];super(e,t,g.t,n),this.importAggregator()}}var h=i(1117),v=i(1284);class m extends h.w{constructor(e){super(e),this.aggregatedData={}}store(e,t,n,r,i){var a=this.getBucket(e,t,n,i);return a.metrics=function(e,t){t||(t={count:0});return t.count+=1,(0,v.D)(e,(function(e,n){t[e]=b(n,t[e])})),t}(r,a.metrics),a}merge(e,t,n,r,i){var a=this.getBucket(e,t,r,i);if(a.metrics){var o=a.metrics;o.count+=n.count,(0,v.D)(n,(function(e,t){if(\"count\"!==e){var r=o[e],i=n[e];i&&!i.c?o[e]=b(i.t,r):o[e]=function(e,t){if(!t)return e;t.c||(t=y(t.t));return t.min=Math.min(e.min,t.min),t.max=Math.max(e.max,t.max),t.t+=e.t,t.sos+=e.sos,t.c+=e.c,t}(i,o[e])}}))}else a.metrics=n}storeMetric(e,t,n,r){var i=this.getBucket(e,t,n);return i.stats=b(r,i.stats),i}getBucket(e,t,n,r){this.aggregatedData[e]||(this.aggregatedData[e]={});var i=this.aggregatedData[e][t];return i||(i=this.aggregatedData[e][t]={params:n||{}},r&&(i.custom=r)),i}get(e,t){return t?this.aggregatedData[e]&&this.aggregatedData[e][t]:this.aggregatedData[e]}take(e){for(var t={},n=\"\",r=!1,i=0;i<e.length;i++)t[n=e[i]]=w(this.aggregatedData[n]),t[n].length&&(r=!0),delete this.aggregatedData[n];return r?t:null}}function b(e,t){return null==e?function(e){e?e.c++:e={c:1};return e}(t):t?(t.c||(t=y(t.t)),t.c+=1,t.t+=e,t.sos+=e*e,e>t.max&&(t.max=e),e<t.min&&(t.min=e),t):{t:e}}function y(e){return{t:e,min:e,max:e,sos:e*e,c:1}}function w(e){return\"object\"!=typeof e?[]:(0,v.D)(e,A)}function A(e,t){return t}var _=i(8632),x=i(4402),D=i(4351);var k=i(5546),E=i(7956),j=i(3239),T=i(7894),R=i(9251);class S extends f{static featureName=R.t;constructor(e,t){let n=!(arguments.length>2&&void 0!==arguments[2])||arguments[2];super(e,t,R.t,n),l.il&&((0,E.N)((()=>(0,k.p)(\"docHidden\",[(0,T.z)()],void 0,R.t,this.ee)),!0),(0,j.bP)(\"pagehide\",(()=>(0,k.p)(\"winPagehide\",[(0,T.z)()],void 0,R.t,this.ee))),this.importAggregator())}}var I=i(3081);class C extends f{static featureName=I.t9;constructor(e,t){let n=!(arguments.length>2&&void 0!==arguments[2])||arguments[2];super(e,t,I.t9,n),this.importAggregator()}}new class extends t{constructor(t){let n=arguments.length>1&&void 0!==arguments[1]?arguments[1]:(0,x.ky)(16);super(),l._A?(this.agentIdentifier=n,this.sharedAggregator=new m({agentIdentifier:this.agentIdentifier}),this.features={},(0,_.h5)(n,this),this.desiredFeatures=new Set(t.features||[]),this.desiredFeatures.add(p),(0,s.j)(this,t,t.loaderType||\"agent\"),this.run()):(0,e.Z)(\"Failed to initial the agent. Could not determine the runtime environment.\")}get config(){return{info:(0,r.C5)(this.agentIdentifier),init:(0,r.P_)(this.agentIdentifier),loader_config:(0,r.DL)(this.agentIdentifier),runtime:(0,r.OP)(this.agentIdentifier)}}run(){try{const t=o(this.agentIdentifier),r=[...this.desiredFeatures];r.sort(((e,t)=>n.p[e.featureName]-n.p[t.featureName])),r.forEach((r=>{if(t[r.featureName]||r.featureName===n.D.pageViewEvent){const i=function(e){switch(e){case n.D.ajax:return[n.D.jserrors];case n.D.sessionTrace:return[n.D.ajax,n.D.pageViewEvent];case n.D.sessionReplay:return[n.D.sessionTrace];case n.D.pageViewTiming:return[n.D.pageViewEvent];default:return[]}}(r.featureName);i.every((e=>t[e]))||(0,e.Z)(\"\".concat(r.featureName,\" is enabled but one or more dependent features has been disabled (\").concat((0,D.P)(i),\"). This may cause unintended consequences or missing data...\")),this.features[r.featureName]=new r(this.agentIdentifier,this.sharedAggregator)}}))}catch(t){(0,e.Z)(\"Failed to initialize all enabled instrument classes (agent aborted) -\",t);for(const e in this.features)this.features[e].abortHandler?.();const n=(0,_.fP)();return delete n.initializedAgents[this.agentIdentifier]?.api,delete n.initializedAgents[this.agentIdentifier]?.features,delete this.sharedAggregator,n.ee?.abort(),delete n.ee?.get(this.agentIdentifier),!1}}addToTrace(t){(0,e.Z)(\"Call to agent api addToTrace failed. The session trace feature is not currently initialized.\")}setCurrentRouteName(t){(0,e.Z)(\"Call to agent api setCurrentRouteName failed. The spa feature is not currently initialized.\")}interaction(){(0,e.Z)(\"Call to agent api interaction failed. The spa feature is not currently initialized.\")}}({features:[p,S,C],loaderType:\"lite\"})})()})();</script><div id=\"jm\"><div class=\"banner\" data-bnrid=\"101\" data-end=\"2025-11-30T11:42:00+03:00\" style=\"background:#000000;\"><div class=\"row _no-go -phs\"><a class=\"col16 ar _1168-56\" data-creative=\"https://ke.jumia.is/cms/2023/BlackFriday/Live/STB/KE_BF23_Teasing_1023_STBS.gif\" data-id=\"catalog_searchResults_STB_TBF_GEN\" data-name=\"STB_TBF_GEN\" data-position=\"banner_top\" data-track-onclick=\"eecPromo\" data-track-onview=\"eecPromo\" href=\"/mlp-black-friday/?source=STB_TBF_GEN\"><img alt=\"STB_TBF_GEN\" class=\"_ni\" data-lazy=\"true\" data-src=\"https://ke.jumia.is/cms/2023/BlackFriday/Live/STB/KE_BF23_Teasing_1023_STBS.gif\" src=\"data:image/gif;base64,R0lGODlhAQABAIAAAAAAAP///yH5BAEAAAAALAAAAAABAAEAAAIBRAA7\"/></a></div></div><div class=\"vb row -i-ctr -j-ctr _head -bg-gy05\"><div class=\"col3 -df -j-start\"><a class=\"_link -df -i-ctr -or5 -m -fs12\" href=\"https://www.jumia.co.ke/sp-sell/\" rel=\"noopener\" target=\"_blank\"><svg class=\"ic -f-or5 -maxs\" height=\"16\" viewbox=\"0 0 24 24\" width=\"16\"><use xlink:href=\"https://www.jumia.co.ke/assets_he/images/i-icons.a66628fd.svg#cat-services\"></use></svg>Sell on Jumia</a></div><div class=\"col10 -df -j-ctr -fs0\"><a class=\"vent-link\" href=\"https://food.jumia.co.ke/\" rel=\"nofollow noopener\" target=\"_blank\" title=\"Jumia Food\"><svg class=\"ic\" height=\"24\" viewbox=\"0 0 66 24\" width=\"66\"><use xlink:href=\"https://www.jumia.co.ke/assets_he/images/i-global.95441341.svg#venture-food\"></use></svg></a><a class=\"vent-link\" href=\"https://food.jumia.co.ke/drinks/k4lu/jumia-party-dks\" rel=\"nofollow noopener\" target=\"_blank\" title=\"Jumia Party\"><svg class=\"ic\" height=\"24\" viewbox=\"0 0 80 24\" width=\"80\"><use xlink:href=\"https://www.jumia.co.ke/assets_he/images/i-global.95441341.svg#venture-jumia-party\"></use></svg></a><a class=\"vent-link\" href=\"https://pay.jumia.co.ke/?utm_source=jumia&amp;utm_medium=mall&amp;utm_campaign=Venturebar\" rel=\"nofollow noopener\" target=\"_blank\" title=\"Jumia Pay\"><svg class=\"ic\" height=\"24\" viewbox=\"0 0 60 24\" width=\"60\"><use xlink:href=\"https://www.jumia.co.ke/assets_he/images/i-global.95441341.svg#venture-pay\"></use></svg></a></div><div class=\"col3 -df -j-end -wt -mla -gy5\"></div></div><header class=\"header\"><section class=\"row -i-ctr -fw-nw -pvm\"><div class=\"col3 -df -i-ctr\"><div class=\"dpdw _tail _auto-w _hov _pleft -df -i-ctr -prs -mra\"><input aria-controls=\"dpdw-flyout-box\" aria-haspopup=\"true\" aria-label=\"Navigate Categories\" class=\"tgl\" id=\"dpdw-flyout\" role=\"button\" type=\"checkbox\"/><label class=\"trig -df -pan\" for=\"dpdw-flyout\"><span class=\"-fsh0\"><svg class=\"ic\" height=\"24\" viewbox=\"0 0 24 24\" width=\"24\"><use xlink:href=\"https://www.jumia.co.ke/assets_he/images/i-icons.a66628fd.svg#menu\"></use></svg></span></label><div aria-labelledby=\"dpdw-flyout\" class=\"box\" id=\"dpdw-flyout-box\" role=\"menu\"><div class=\"inbox\"><div class=\"flyout\" role=\"menu\"><a class=\"itm\" href=\"https://www.jumia.co.ke/mlp-jumia-official-stores/\" role=\"menuitem\"><svg class=\"ic -mrxs -fsh0\" height=\"20\" viewbox=\"0 0 24 24\" width=\"20\"><use xlink:href=\"https://www.jumia.co.ke/assets_he/images/i-icons.a66628fd.svg#cat-mall\"></use></svg><span class=\"text\">Official Stores</span></a><a class=\"itm\" href=\"/phones-tablets/\" role=\"menuitem\"><svg class=\"ic -mrxs -fsh0\" height=\"20\" viewbox=\"0 0 24 24\" width=\"20\"><use xlink:href=\"https://www.jumia.co.ke/assets_he/images/i-icons.a66628fd.svg#cat-mobile\"></use></svg><span class=\"text\">Phones &amp; Tablets</span></a><a class=\"itm\" href=\"https://www.jumia.co.ke/electronics/\" role=\"menuitem\"><svg class=\"ic -mrxs -fsh0\" height=\"20\" viewbox=\"0 0 24 24\" width=\"20\"><use xlink:href=\"https://www.jumia.co.ke/assets_he/images/i-icons.a66628fd.svg#cat-tv\"></use></svg><span class=\"text\">TVs &amp; Audio</span></a><a class=\"itm\" href=\"https://www.jumia.co.ke/home-office-appliances/\" role=\"menuitem\"><svg class=\"ic -mrxs -fsh0\" height=\"20\" viewbox=\"0 0 24 24\" width=\"20\"><use xlink:href=\"https://www.jumia.co.ke/assets_he/images/i-icons.a66628fd.svg#cat-appliance\"></use></svg><span class=\"text\">Appliances</span></a><a class=\"itm\" href=\"/health-beauty/\" role=\"menuitem\"><svg class=\"ic -mrxs -fsh0\" height=\"20\" viewbox=\"0 0 24 24\" width=\"20\"><use xlink:href=\"https://www.jumia.co.ke/assets_he/images/i-icons.a66628fd.svg#cat-beauty\"></use></svg><span class=\"text\">Health &amp; Beauty</span></a><a class=\"itm\" href=\"/home-office/\" role=\"menuitem\"><svg class=\"ic -mrxs -fsh0\" height=\"20\" viewbox=\"0 0 24 24\" width=\"20\"><use xlink:href=\"https://www.jumia.co.ke/assets_he/images/i-icons.a66628fd.svg#cat-appliance\"></use></svg><span class=\"text\">Home &amp; Office</span></a><a class=\"itm\" href=\"/category-fashion-by-jumia/\" role=\"menuitem\"><svg class=\"ic -mrxs -fsh0\" height=\"20\" viewbox=\"0 0 24 24\" width=\"20\"><use xlink:href=\"https://www.jumia.co.ke/assets_he/images/i-icons.a66628fd.svg#cat-fashion\"></use></svg><span class=\"text\">Fashion</span></a><a class=\"itm\" href=\"/computing/\" role=\"menuitem\"><svg class=\"ic -mrxs -fsh0\" height=\"20\" viewbox=\"0 0 24 24\" width=\"20\"><use xlink:href=\"https://www.jumia.co.ke/assets_he/images/i-icons.a66628fd.svg#cat-computing\"></use></svg><span class=\"text\">Computing</span></a><a class=\"itm\" href=\"https://www.jumia.co.ke/groceries/\" role=\"menuitem\"><svg class=\"ic -mrxs -fsh0\" height=\"20\" viewbox=\"0 0 24 24\" width=\"20\"><use xlink:href=\"https://www.jumia.co.ke/assets_he/images/i-icons.a66628fd.svg#cat-groceries\"></use></svg><span class=\"text\">Supermarket</span></a><a class=\"itm\" href=\"/sporting-goods/\" role=\"menuitem\"><svg class=\"ic -mrxs -fsh0\" height=\"20\" viewbox=\"0 0 24 24\" width=\"20\"><use xlink:href=\"https://www.jumia.co.ke/assets_he/images/i-icons.a66628fd.svg#cat-fitness\"></use></svg><span class=\"text\">Sporting Goods</span></a><a class=\"itm\" href=\"/automobile/\" role=\"menuitem\"><svg class=\"ic -mrxs -fsh0\" height=\"20\" viewbox=\"0 0 24 24\" width=\"20\"><use xlink:href=\"https://www.jumia.co.ke/assets_he/images/i-icons.a66628fd.svg#cat-car\"></use></svg><span class=\"text\">Automobile</span></a><a class=\"itm\" role=\"menuitem\" tabindex=\"0\"><svg class=\"ic -mrxs -fsh0\" height=\"20\" viewbox=\"0 0 24 24\" width=\"20\"><use xlink:href=\"https://www.jumia.co.ke/assets_he/images/i-icons.a66628fd.svg#cat-othercategories\"></use></svg><span class=\"text\">Other categories</span></a></div></div></div></div><a class=\"-df -i-ctr -mra\" href=\"/\"><svg aria-label=\"Jumia Kenya - Online Shopping for TVs, Electronics, Phones, Fashion &amp; more\" class=\"ic\" height=\"30\" role=\"img\" viewbox=\"0 0 172 30\" width=\"134\"><use xlink:href=\"https://www.jumia.co.ke/assets_he/images/i-shop-jumia.9f5451c7.svg#logo\"></use></svg></a></div><form action=\"/catalog/\" class=\"cola -df\" data-track-onsubmit=\"search\" id=\"search\" method=\"get\"><div class=\"find\"><svg class=\"ic\" height=\"24\" viewbox=\"0 0 24 24\" width=\"24\"><use xlink:href=\"https://www.jumia.co.ke/assets_he/images/i-icons.a66628fd.svg#search\"></use></svg><input aria-label=\"Search\" autocomplete=\"off\" id=\"fi-q\" name=\"q\" placeholder=\"Search products, brands and categories\" required=\"\" type=\"text\" value=\"43 inch smart tvs\"/><button aria-label=\"Reset\" class=\"rst\" type=\"button\"><svg class=\"ic\" height=\"24\" viewbox=\"0 0 24 24\" width=\"24\"><use xlink:href=\"https://www.jumia.co.ke/assets_he/images/i-icons.a66628fd.svg#close\"></use></svg></button><div class=\"sug\"></div></div><button class=\"btn _prim _md -mls -fsh0\">Search</button></form><div class=\"col -df -j-bet -m -phn -i-ctr\"><div class=\"dpdw _pcent\"><input aria-controls=\"dpdw-login-box\" aria-haspopup=\"true\" aria-label=\"Account\" class=\"tgl\" id=\"dpdw-login\" role=\"button\" type=\"checkbox\"/><label class=\"trig -df -i-ctr -fs16\" for=\"dpdw-login\"><span class=\"-fsh0 -mrs\"><svg class=\"ic\" height=\"24\" viewbox=\"0 0 24 24\" width=\"24\"><use xlink:href=\"https://www.jumia.co.ke/assets_he/images/i-icons.a66628fd.svg#person\"></use></svg></span>Account<svg class=\"ic -mls -fsh0\" height=\"18\" viewbox=\"0 0 24 24\" width=\"18\"><use xlink:href=\"https://www.jumia.co.ke/assets_he/images/i-icons.a66628fd.svg#arrow-down\"></use></svg></label><div aria-labelledby=\"dpdw-login\" class=\"box -r\" id=\"dpdw-login-box\" role=\"menu\"><div class=\"inbox\"><div class=\"-pam -hr-bb\"><a class=\"btn _prim -fw _md\" href=\"/customer/account/login/?return=%2Fcatalog%2F%3Fq%3D43%2Binch%2Bsmart%2Btvs\" rel=\"nofollow\">Sign In</a></div><a class=\"-df -i-ctr -pas -hov-bg-gy05 -hov-m\" href=\"/customer/account/index/\" rel=\"nofollow\"><svg class=\"ic -mrm -fsh0\" height=\"24\" viewbox=\"0 0 24 24\" width=\"24\"><use xlink:href=\"https://www.jumia.co.ke/assets_he/images/i-icons.a66628fd.svg#person\"></use></svg>My Account</a><a class=\"-df -i-ctr -pas -hov-bg-gy05 -hov-m\" href=\"/customer/order/index/\" rel=\"nofollow\"><svg class=\"ic -mrm -fsh0\" height=\"24\" viewbox=\"0 0 24 24\" width=\"24\"><use xlink:href=\"https://www.jumia.co.ke/assets_he/images/i-icons.a66628fd.svg#orders\"></use></svg>Orders</a><a class=\"-df -i-ctr -pas -hov-bg-gy05 -hov-m\" href=\"/customer/wishlist/index/\" rel=\"nofollow\"><svg class=\"ic -mrm -fsh0\" height=\"24\" viewbox=\"0 0 24 24\" width=\"24\"><use xlink:href=\"https://www.jumia.co.ke/assets_he/images/i-icons.a66628fd.svg#favorite-border\"></use></svg>Saved Items</a></div></div></div><div class=\"dpdw _pcent\"><input aria-controls=\"dpdw-help-box\" aria-haspopup=\"true\" aria-label=\"Help\" class=\"tgl\" id=\"dpdw-help\" role=\"button\" type=\"checkbox\"/><label class=\"trig -df -i-ctr -fs16\" for=\"dpdw-help\"><span class=\"-fsh0 -mrs\"><svg class=\"ic\" height=\"24\" viewbox=\"0 0 24 24\" width=\"24\"><use xlink:href=\"https://www.jumia.co.ke/assets_he/images/i-icons.a66628fd.svg#help-outline\"></use></svg></span>Help<svg class=\"ic -mls -fsh0\" height=\"18\" viewbox=\"0 0 24 24\" width=\"18\"><use xlink:href=\"https://www.jumia.co.ke/assets_he/images/i-icons.a66628fd.svg#arrow-down\"></use></svg></label><div aria-labelledby=\"dpdw-help\" class=\"box -r\" id=\"dpdw-help-box\" role=\"menu\"><div class=\"inbox\"><a class=\"-df -i-ctr -phm -pv12 -hov-bg-gy05 -hov-m\" href=\"https://www.jumia.co.ke/sp-help/\">Help Center</a><a class=\"-df -i-ctr -phm -pv12 -hov-bg-gy05 -hov-m\" href=\"https://www.jumia.co.ke/sp-help/?page=place+an+order\">Place an Order</a><a class=\"-df -i-ctr -phm -pv12 -hov-bg-gy05 -hov-m\" href=\"https://www.jumia.co.ke/sp-help/?page=track+your+order\">Track Your Order</a><a class=\"-df -i-ctr -phm -pv12 -hov-bg-gy05 -hov-m\" href=\"https://www.jumia.co.ke/sp-help/?page=cancel+an+order\">Order Cancellation</a><a class=\"-df -i-ctr -phm -pv12 -hov-bg-gy05 -hov-m\" href=\"https://www.jumia.co.ke/sp-help/?page=create+a+return\">Returns &amp; Refunds</a><a class=\"-df -i-ctr -phm -pv12 -hov-bg-gy05 -hov-m\" href=\"https://www.jumia.co.ke/sp-help/?page=pay+for+your+order\">Payment &amp; Jumia Account</a><div class=\"-tac -hr _hx2 -fs0 -pam\"><button class=\"btn _prim _md _i -fw\" data-btn-lc=\"true\" data-eventaction=\"open\" data-eventcategory=\"LiveChat\" data-track-onclick=\"true\"><svg class=\"ic\" height=\"24\" viewbox=\"0 0 24 24\" width=\"24\"><use xlink:href=\"https://www.jumia.co.ke/assets_he/images/i-icons.a66628fd.svg#chat\"></use></svg><span>Live Chat</span></button></div></div></div></div><a class=\"-df -i-ctr -gy9 -hov-or5 -phs -fs16\" href=\"/cart/\"><span class=\"-mrs -fs0\" id=\"ci\"><svg class=\"ic\" height=\"24\" viewbox=\"0 0 24 24\" width=\"24\"><use xlink:href=\"https://www.jumia.co.ke/assets_he/images/i-icons.a66628fd.svg#shopping-cart\"></use></svg></span>Cart</a></div></section></header><article class=\"banner _pp\" data-ppb-rev=\"v1.0\"><div class=\"ctt-w\"><p class=\"ctt\">This website uses cookies. For further information on how we use cookies you can read our  <a class=\"_more -fs12\" href=\"/sp-privacy/\" rel=\"noopener\" target=\"_blank\">Privacy and Cookie notice</a></p><button aria-label=\"Close\" class=\"cls\"><span class=\"ic-bg -bg-wt\"><svg class=\"ic -maxs\" height=\"16\" viewbox=\"0 0 24 24\" width=\"16\"><use xlink:href=\"https://www.jumia.co.ke/assets_he/images/i-icons.a66628fd.svg#close\"></use></svg></span></button></div></article><main class=\"has-b2top -pts\"><style>.c-prd{order:16;}.c-prd._spn:nth-last-of-type(1){order: 0;}.c-prd._spn:nth-last-of-type(2){order: 1;}.c-prd._spn:nth-last-of-type(3){order: 2;}.c-prd._spn:nth-last-of-type(4){order: 3;}.c-prd:nth-child(n+0):nth-child(-n+4):not(._spn),.c-prd._spn:nth-last-of-type(5){order: 4;}.c-prd:nth-child(n+5):nth-child(-n+8):not(._spn),.c-prd._spn:nth-last-of-type(6){order: 5;}.c-prd:nth-child(n+9):nth-child(-n+12):not(._spn),.c-prd._spn:nth-last-of-type(7){order: 6;}.c-prd:nth-child(n+13):nth-child(-n+16):not(._spn),.c-prd._spn:nth-last-of-type(8){order: 7;}.c-prd:nth-child(n+17):nth-child(-n+20):not(._spn),.c-prd._spn:nth-last-of-type(9){order: 8;}.c-prd:nth-child(n+21):nth-child(-n+24):not(._spn),.c-prd._spn:nth-last-of-type(10){order: 9;}.c-prd:nth-child(n+25):nth-child(-n+28):not(._spn),.c-prd._spn:nth-last-of-type(11){order: 10;}.c-prd:nth-child(n+29):nth-child(-n+32):not(._spn),.c-prd._spn:nth-last-of-type(12){order: 11;}.c-prd:nth-child(n+33):nth-child(-n+36):not(._spn),.c-prd._spn:nth-last-of-type(13){order: 12;}.c-prd:nth-child(n+37):nth-child(-n+40):not(._spn),.c-prd._spn:nth-last-of-type(14){order: 13;}.c-prd:nth-child(n+41):nth-child(-n+44):not(._spn),.c-prd._spn:nth-last-of-type(15){order: 14;}.c-prd:nth-child(n+45):nth-child(-n+48):not(._spn),.c-prd._spn:nth-last-of-type(16){order: 15;}</style><div class=\"row\"><div class=\"brcbs col16 -pvs\"><a class=\"cbs\" href=\"/\">Home</a><a class=\"cbs\" href=\"/all-products/\">All Products</a><a class=\"cbs\">43 inch smart tvs</a></div><div class=\"col16\"><div class=\"-rad4 -oh -mvs -mxh-250px\" data-ad=\"true\" id=\"catalog_top\"></div></div></div><div class=\"aim row -pbm\"><div class=\"hook\" id=\"catalog-listing\"></div><div class=\"col4 -me-start -pvs\"><div class=\"card -fh\"><article><h2 class=\"-m -upp -fs14 -pvs -phm\">Category</h2><a class=\"-db -pvs -phxl -hov-bg-gy05\" data-eventaction=\"category\" data-eventcategory=\"Filters Apply\" data-eventlabel=\"1492-electronics\" data-track-onclick=\"true\" href=\"/electronics/?q=43+inch+smart+tvs\">Electronics</a><a class=\"-db -pvs -phxl -hov-bg-gy05\" data-eventaction=\"category\" data-eventcategory=\"Filters Apply\" data-eventlabel=\"8070-phones-tablets\" data-track-onclick=\"true\" href=\"/phones-tablets/?q=43+inch+smart+tvs\">Phones &amp; Tablets</a><a class=\"-db -pvs -phxl -hov-bg-gy05\" data-eventaction=\"category\" data-eventcategory=\"Filters Apply\" data-eventlabel=\"8286-toys-games\" data-track-onclick=\"true\" href=\"/toys-games/?q=43+inch+smart+tvs\">Toys &amp; Games</a></article><article class=\"-phs -bt\"><header class=\"-phs -ptxs\"><h2 class=\"-m -upp -fs14 -pvxs\">Express Delivery</h2></header><div class=\"-phs -pvxs -df -d-co\"><div class=\"-df\"><a class=\"fk-cb -me-start -fsh0\" data-eventaction=\"shop_premium_services\" data-eventcategory=\"Filters Apply\" data-eventlabel=\"shop_express\" data-track-onclick=\"true\" href=\"/catalog/?q=43+inch+smart+tvs&amp;shop_premium_services=shop_express#catalog-listing\"><svg alt=\"Jumia Express\" class=\"ic -h-24\" height=\"12\" viewbox=\"0 0 114 12\" width=\"114\"><use xlink:href=\"https://www.jumia.co.ke/assets_he/images/i-shop-jumia.9f5451c7.svg#express\"></use></svg></a><button aria-label=\"Details\" class=\"-cp -hov-or5 -mla -fs0 -out0\" data-pop-dyn-id=\"2\" data-pop-open=\"filters\" data-pop-trig=\"def\"><svg class=\"ic -f-gy5\" height=\"18\" viewbox=\"0 0 24 24\" width=\"18\"><use xlink:href=\"https://www.jumia.co.ke/assets_he/images/i-icons.a66628fd.svg#info\"></use></svg></button></div></div></article><article class=\"-phs -bt\"><header class=\"-phs -ptxs\"><h2 class=\"-m -upp -fs14 -pvxs\">Shipped From</h2></header><div class=\"-phs -pvxs -df -d-co\"><a class=\"fk-cb -me-start -fsh0\" data-eventaction=\"shipped_from\" data-eventcategory=\"Filters Apply\" data-eventlabel=\"jumia_global\" data-track-onclick=\"true\" href=\"/catalog/?q=43+inch+smart+tvs&amp;shipped_from=jumia_global#catalog-listing\"><span class=\"bdg _glb _sm\">Shipped from abroad</span></a><a class=\"fk-cb -me-start -fsh0\" data-eventaction=\"shipped_from\" data-eventcategory=\"Filters Apply\" data-eventlabel=\"country_local\" data-track-onclick=\"true\" href=\"/catalog/?q=43+inch+smart+tvs&amp;shipped_from=country_local#catalog-listing\">Shipped from Kenya</a></div></article><section class=\"-phm -pbs -bt\" data-filter-price=\"true\" data-hash=\"catalog-listing\" data-id=\"price\" data-separator=\"-\" data-url=\"/catalog/?q=43+inch+smart+tvs\"><header class=\"-df -i-ctr -j-bet\"><h2 class=\"-m -upp -fs14 -pvs\">Price (KSh)</h2><button class=\"btn _def -fsh0\" data-apply=\"true\" data-eventaction=\"price\" data-eventcategory=\"Filters Apply\" data-track-onclick=\"true\">Apply</button></header><div class=\"pfs-w -mbm\"><div class=\"paint\" style=\"left:0%;width:100%\"></div><input class=\"ps\" max=\"75000\" min=\"550\" name=\"x\" type=\"range\" value=\"550\"/><input class=\"ps\" max=\"75000\" min=\"550\" name=\"y\" type=\"range\" value=\"75000\"/></div><div class=\"pfi-w\"><div class=\"pi-w\"><input class=\"pi\" max=\"75000\" min=\"550\" name=\"min\" placeholder=\"Min\" type=\"number\" value=\"550\"/></div><span class=\"-phs -fs16\">-</span><div class=\"pi-w\"><input class=\"pi\" max=\"75000\" min=\"550\" name=\"max\" placeholder=\"Max\" type=\"number\" value=\"75000\"/></div></div></section><article class=\"-phm -bt\"><header class=\"-df -i-ctr -j-bet\"><h2 class=\"-m -upp -fs14 -pvs\">Discount Percentage</h2></header><div class=\"-pbxs -df -d-co\"><a class=\"fk-rad -me-start\" data-eventaction=\"price_discount\" data-eventcategory=\"Filters Apply\" data-eventlabel=\"50-100\" data-track-onclick=\"true\" href=\"/catalog/?q=43+inch+smart+tvs&amp;price_discount=50-100#catalog-listing\">50% or more</a><a class=\"fk-rad -me-start\" data-eventaction=\"price_discount\" data-eventcategory=\"Filters Apply\" data-eventlabel=\"40-100\" data-track-onclick=\"true\" href=\"/catalog/?q=43+inch+smart+tvs&amp;price_discount=40-100#catalog-listing\">40% or more</a><a class=\"fk-rad -me-start\" data-eventaction=\"price_discount\" data-eventcategory=\"Filters Apply\" data-eventlabel=\"30-100\" data-track-onclick=\"true\" href=\"/catalog/?q=43+inch+smart+tvs&amp;price_discount=30-100#catalog-listing\">30% or more</a><a class=\"fk-rad -me-start\" data-eventaction=\"price_discount\" data-eventcategory=\"Filters Apply\" data-eventlabel=\"20-100\" data-track-onclick=\"true\" href=\"/catalog/?q=43+inch+smart+tvs&amp;price_discount=20-100#catalog-listing\">20% or more</a><a class=\"fk-rad -me-start\" data-eventaction=\"price_discount\" data-eventcategory=\"Filters Apply\" data-eventlabel=\"10-100\" data-track-onclick=\"true\" href=\"/catalog/?q=43+inch+smart+tvs&amp;price_discount=10-100#catalog-listing\">10% or more</a></div></article><article class=\"-phs -bt\" data-filterable=\"5\"><header class=\"-phs -ptxs\"><h2 class=\"-m -upp -fs14 -pvxs\">Brand</h2><div class=\"-df -i-ctr -rad99 -phs -ba-gy3 -h-32 -mvxs -oh\"><svg class=\"ic -fsh0 -mrs\" height=\"24\" viewbox=\"0 0 24 24\" width=\"24\"><use xlink:href=\"https://www.jumia.co.ke/assets_he/images/i-icons.a66628fd.svg#search\"></use></svg><input class=\"-oh -ban -out0 -fs14 -fh -fw -elli\" placeholder=\"Search\" type=\"search\"/></div></header><div class=\"-phs -pvxs -df -d-co -h-168 -oya -sc\"><a class=\"fk-cb -me-start -fsh0\" data-eventaction=\"brand\" data-eventcategory=\"Filters Apply\" data-eventlabel=\"152617-amtec\" data-track-onclick=\"true\" data-value=\"amtec\" href=\"/amtec/?q=43+inch+smart+tvs#catalog-listing\">Amtec</a><a class=\"fk-cb -me-start -fsh0\" data-eventaction=\"brand\" data-eventcategory=\"Filters Apply\" data-eventlabel=\"153303-ctc\" data-track-onclick=\"true\" data-value=\"ctc\" href=\"/ctc/?q=43+inch+smart+tvs#catalog-listing\">CTC</a><a class=\"fk-cb -me-start -fsh0\" data-eventaction=\"brand\" data-eventcategory=\"Filters Apply\" data-eventlabel=\"20840-generic\" data-track-onclick=\"true\" data-value=\"generic\" href=\"/generic/?q=43+inch+smart+tvs#catalog-listing\">Generic</a><a class=\"fk-cb -me-start -fsh0\" data-eventaction=\"brand\" data-eventcategory=\"Filters Apply\" data-eventlabel=\"79679-glaze\" data-track-onclick=\"true\" data-value=\"glaze\" href=\"/glaze/?q=43+inch+smart+tvs#catalog-listing\">Glaze</a><a class=\"fk-cb -me-start -fsh0\" data-eventaction=\"brand\" data-eventcategory=\"Filters Apply\" data-eventlabel=\"18585-gld\" data-track-onclick=\"true\" data-value=\"gld\" href=\"/gld/?q=43+inch+smart+tvs#catalog-listing\">Gld</a><a class=\"fk-cb -me-start -fsh0\" data-eventaction=\"brand\" data-eventcategory=\"Filters Apply\" data-eventlabel=\"85279-hifinit\" data-track-onclick=\"true\" data-value=\"hifinit\" href=\"/hifinit/?q=43+inch+smart+tvs#catalog-listing\">Hifinit</a><a class=\"fk-cb -me-start -fsh0\" data-eventaction=\"brand\" data-eventcategory=\"Filters Apply\" data-eventlabel=\"159137-hikers\" data-track-onclick=\"true\" data-value=\"hikers\" href=\"/hikers/?q=43+inch+smart+tvs#catalog-listing\">Hikers</a><a class=\"fk-cb -me-start -fsh0\" data-eventaction=\"brand\" data-eventcategory=\"Filters Apply\" data-eventlabel=\"17200-hisense\" data-track-onclick=\"true\" data-value=\"hisense\" href=\"/hisense/?q=43+inch+smart+tvs#catalog-listing\">Hisense</a><a class=\"fk-cb -me-start -fsh0\" data-eventaction=\"brand\" data-eventcategory=\"Filters Apply\" data-eventlabel=\"17408-konka\" data-track-onclick=\"true\" data-value=\"konka\" href=\"/konka/?q=43+inch+smart+tvs#catalog-listing\">Konka</a><a class=\"fk-cb -me-start -fsh0\" data-eventaction=\"brand\" data-eventcategory=\"Filters Apply\" data-eventlabel=\"835-lg\" data-track-onclick=\"true\" data-value=\"lg\" href=\"/lg/?q=43+inch+smart+tvs#catalog-listing\">LG</a><a class=\"fk-cb -me-start -fsh0\" data-eventaction=\"brand\" data-eventcategory=\"Filters Apply\" data-eventlabel=\"152418-brand-mk\" data-track-onclick=\"true\" data-value=\"mk\" href=\"/brand-mk/?q=43+inch+smart+tvs#catalog-listing\">MK</a><a class=\"fk-cb -me-start -fsh0\" data-eventaction=\"brand\" data-eventcategory=\"Filters Apply\" data-eventlabel=\"32964-power-king\" data-track-onclick=\"true\" data-value=\"power king\" href=\"/power-king/?q=43+inch+smart+tvs#catalog-listing\">Power King</a><a class=\"fk-cb -me-start -fsh0\" data-eventaction=\"brand\" data-eventcategory=\"Filters Apply\" data-eventlabel=\"18367-premier\" data-track-onclick=\"true\" data-value=\"premier\" href=\"/premier/?q=43+inch+smart+tvs#catalog-listing\">Premier</a><a class=\"fk-cb -me-start -fsh0\" data-eventaction=\"brand\" data-eventcategory=\"Filters Apply\" data-eventlabel=\"24689-royal\" data-track-onclick=\"true\" data-value=\"royal\" href=\"/royal/?q=43+inch+smart+tvs#catalog-listing\">Royal</a><a class=\"fk-cb -me-start -fsh0\" data-eventaction=\"brand\" data-eventcategory=\"Filters Apply\" data-eventlabel=\"948-samsung\" data-track-onclick=\"true\" data-value=\"samsung\" href=\"/samsung/?q=43+inch+smart+tvs#catalog-listing\">Samsung</a><a class=\"fk-cb -me-start -fsh0\" data-eventaction=\"brand\" data-eventcategory=\"Filters Apply\" data-eventlabel=\"19414-skilltech\" data-track-onclick=\"true\" data-value=\"skilltech\" href=\"/skilltech/?q=43+inch+smart+tvs#catalog-listing\">Skilltech</a><a class=\"fk-cb -me-start -fsh0\" data-eventaction=\"brand\" data-eventcategory=\"Filters Apply\" data-eventlabel=\"17493-skyworth\" data-track-onclick=\"true\" data-value=\"skyworth\" href=\"/skyworth/?q=43+inch+smart+tvs#catalog-listing\">Skyworth</a><a class=\"fk-cb -me-start -fsh0\" data-eventaction=\"brand\" data-eventcategory=\"Filters Apply\" data-eventlabel=\"521-sony\" data-track-onclick=\"true\" data-value=\"sony\" href=\"/sony/?q=43+inch+smart+tvs#catalog-listing\">Sony</a><a class=\"fk-cb -me-start -fsh0\" data-eventaction=\"brand\" data-eventcategory=\"Filters Apply\" data-eventlabel=\"17187-tcl\" data-track-onclick=\"true\" data-value=\"tcl\" href=\"/tcl/?q=43+inch+smart+tvs#catalog-listing\">TCL</a><a class=\"fk-cb -me-start -fsh0\" data-eventaction=\"brand\" data-eventcategory=\"Filters Apply\" data-eventlabel=\"29782--vision\" data-track-onclick=\"true\" data-value=\"vision\" href=\"/-vision/?q=43+inch+smart+tvs#catalog-listing\">Vision</a><a class=\"fk-cb -me-start -fsh0\" data-eventaction=\"brand\" data-eventcategory=\"Filters Apply\" data-eventlabel=\"21799-vision-plus\" data-track-onclick=\"true\" data-value=\"vision plus\" href=\"/vision-plus/?q=43+inch+smart+tvs#catalog-listing\">Vision Plus</a><a class=\"fk-cb -me-start -fsh0\" data-eventaction=\"brand\" data-eventcategory=\"Filters Apply\" data-eventlabel=\"18505-vitron\" data-track-onclick=\"true\" data-value=\"vitron\" href=\"/vitron/?q=43+inch+smart+tvs#catalog-listing\">Vitron</a><a class=\"fk-cb -me-start -fsh0\" data-eventaction=\"brand\" data-eventcategory=\"Filters Apply\" data-eventlabel=\"157292-wyinix\" data-track-onclick=\"true\" data-value=\"wyinix\" href=\"/wyinix/?q=43+inch+smart+tvs#catalog-listing\">Wyinix</a></div></article><article class=\"-phs -bt\"><header class=\"-phs -ptxs\"><h2 class=\"-m -upp -fs14 -pvxs\">Campaigns</h2></header><div class=\"-phs -pvxs -df -d-co\"><a class=\"fk-cb -me-start -fsh0\" data-eventaction=\"campaign\" data-eventcategory=\"Filters Apply\" data-eventlabel=\"BLF\" data-track-onclick=\"true\" href=\"/catalog/?q=43+inch+smart+tvs&amp;campaign=BLF#catalog-listing\"> Black Friday deal</a></div></article><article class=\"-phs -bt\"><header class=\"-phs -ptxs\"><h2 class=\"-m -upp -fs14 -pvxs\">Official Stores</h2></header><div class=\"-phs -pvxs -df -d-co\"><a class=\"fk-cb -me-start -fsh0\" data-eventaction=\"official_store\" data-eventcategory=\"Filters Apply\" data-eventlabel=\"1\" data-track-onclick=\"true\" href=\"/catalog/?q=43+inch+smart+tvs&amp;official_store=1#catalog-listing\">Only Official Store</a></div></article></div></div><div class=\"-pvs col12\"><section class=\"card -fh\"><header><div class=\"-mh-48px -df -i-ctr -phs -bb\"><div class=\"-mla\"><div class=\"dpdw _pcent\"><input aria-controls=\"dpdw-sort-box\" aria-haspopup=\"true\" aria-label=\"Popularity\" class=\"tgl\" id=\"dpdw-sort\" role=\"button\" type=\"checkbox\"/><label class=\"trig -df -i-ctr -fs16\" for=\"dpdw-sort\"><span class=\"pfx\">Sort by:</span>Popularity<svg class=\"ic -mls -fsh0\" height=\"18\" viewbox=\"0 0 24 24\" width=\"18\"><use xlink:href=\"https://www.jumia.co.ke/assets_he/images/i-icons.a66628fd.svg#arrow-down\"></use></svg></label><div aria-labelledby=\"dpdw-sort\" class=\"box -zi5 -r\" id=\"dpdw-sort-box\" role=\"menu\"><div class=\"inbox\"><a class=\"-mh-40px -fs14 -df -i-ctr -fw -phm -hov-bg-gy05 -hov-m -m\" href=\"/catalog/?q=43+inch+smart+tvs#catalog-listing\">Popularity</a><a class=\"-mh-40px -fs14 -df -i-ctr -fw -phm -hov-bg-gy05 -hov-m\" href=\"/catalog/?q=43+inch+smart+tvs&amp;sort=newest#catalog-listing\">Newest Arrivals</a><a class=\"-mh-40px -fs14 -df -i-ctr -fw -phm -hov-bg-gy05 -hov-m\" href=\"/catalog/?q=43+inch+smart+tvs&amp;sort=lowest-price#catalog-listing\">Price: Low to High</a><a class=\"-mh-40px -fs14 -df -i-ctr -fw -phm -hov-bg-gy05 -hov-m\" href=\"/catalog/?q=43+inch+smart+tvs&amp;sort=highest-price#catalog-listing\">Price: High to Low</a><a class=\"-mh-40px -fs14 -df -i-ctr -fw -phm -hov-bg-gy05 -hov-m\" href=\"/catalog/?q=43+inch+smart+tvs&amp;sort=rating#catalog-listing\">Product Rating</a></div></div></div></div></div><div class=\"-phs -mh-48px -df -j-bet -i-ctr -bb\"><p class=\"-gy5 -phs\">245 products found</p><div class=\"-fs0\"><a class=\"-pas -hov-or5\" href=\"/catalog/?q=43+inch+smart+tvs&amp;viewType=list#catalog-listing\"><svg aria-label=\"List View\" class=\"ic -f-gy5\" height=\"24\" viewbox=\"0 0 24 24\" width=\"24\"><use xlink:href=\"https://www.jumia.co.ke/assets_he/images/i-icons.a66628fd.svg#list-view\"></use></svg></a><a class=\"-pas -hov-or5\" href=\"/catalog/?q=43+inch+smart+tvs&amp;viewType=grid#catalog-listing\"><svg aria-label=\"Grid View\" class=\"ic -f-or5\" height=\"24\" viewbox=\"0 0 24 24\" width=\"24\"><use xlink:href=\"https://www.jumia.co.ke/assets_he/images/i-icons.a66628fd.svg#grid-view\"></use></svg></a></div></div></header><div class=\"-paxs row _no-g _4cl-3cm-shs\" data-catalog=\"true\"><article class=\"prd _fb col c-prd\"><a class=\"core\" data-brand=\"Hikers\" data-category=\"Electronics/Television &amp; Video/Televisions/Smart TVs\" data-dimension23=\"133550\" data-dimension26=\"34\" data-dimension27=\"4.4\" data-dimension28=\"1\" data-dimension37=\"0\" data-dimension43=\"BDEAL|BLF|BLF_04|Boost|CP_1|CP_MT31|CP_UN273|JBF|JMALL|TBOOST|TDBOOSTING\" data-dimension44=\"0\" data-id=\"GE840EA2IZAKNNAFAMZ\" data-list=\"\" data-name=\"43'' Inch Frameless Android Smart FHD LED TV - Black\" data-position=\"1\" data-price=\"120.71\" data-track-onclick=\"eecProduct\" data-track-onview=\"eecProduct\" href=\"/hikers-43-inch-frameless-android-smart-fhd-led-tv-black-130121825.html\"><div class=\"img-c\"><img alt=\"\" class=\"img\" data-lazy=\"true\" data-src=\"https://ke.jumia.is/unsafe/fit-in/300x300/filters:fill(white)/product/52/8121031/1.jpg?4934\" height=\"208\" src=\"data:image/gif;base64,R0lGODlhAQABAIAAAAAAAP///yH5BAEAAAAALAAAAAABAAEAAAIBRAA7\" width=\"208\"/><span class=\"bdg _xs camp\" style=\"color:#FFFFFF;background:#000000;\">Black Friday deal</span></div><div class=\"info\"><div class=\"bdg _mall _xs\">Official Store</div><h3 class=\"name\">Hikers 43'' Inch Frameless Android Smart FHD LED TV - Black</h3><div class=\"prc\">KSh 19,999</div><div class=\"s-prc-w\"><div class=\"old\">KSh 29,999</div><div class=\"bdg _dsct _sm\">33%</div></div><div class=\"rev\"><div class=\"stars _s\">4.4 out of 5<div class=\"in\" style=\"width:88.00000000000001%\"></div></div>(34)</div><svg aria-label=\"Express Shipping\" class=\"ic xprss\" height=\"10\" viewbox=\"0 0 114 12\" width=\"94\"><use xlink:href=\"https://www.jumia.co.ke/assets_he/images/i-shop-jumia.9f5451c7.svg#express\"></use></svg></div></a><footer class=\"ft\"><form action=\"/cart/products/GE840EA2IZAKNNAFAMZ-174178827/quantity/\" class=\"-df -i-ctr -pr -j-bet\" data-add-cart=\"\" data-brand=\"Hikers\" data-category=\"Electronics/Television &amp; Video/Televisions/Smart TVs\" data-dimension23=\"133550\" data-dimension26=\"34\" data-dimension27=\"4.4\" data-dimension28=\"1\" data-dimension37=\"0\" data-dimension43=\"BDEAL|BLF|BLF_04|Boost|CP_1|CP_MT31|CP_UN273|JBF|JMALL|TBOOST|TDBOOSTING\" data-dimension44=\"0\" data-id=\"GE840EA2IZAKNNAFAMZ\" data-name=\"43'' Inch Frameless Android Smart FHD LED TV - Black\" data-price=\"120.71\" data-simplesku=\"GE840EA2IZAKNNAFAMZ-174178827\" data-sku=\"GE840EA2IZAKNNAFAMZ\" data-svar=\"GE840EA2IZAKNNAFAMZ-174178827\" data-track-onsubmit=\"addToCart\" data-variant=\"\" data-xhr=\"true\" method=\"post\"><button class=\"add btn _prim -pea _md\" data-submit=\"\" name=\"action\" type=\"button\" value=\"in\">Add To Cart</button><input name=\"capiId\" type=\"hidden\" value=\"_1700476646_{eventType}\"/><input name=\"csrfToken\" type=\"hidden\" value=\"34efbbb4eb40f54218055fd2c7359c50\"/></form></footer></article><article class=\"prd _fb col c-prd\"><a class=\"core\" data-brand=\"Vitron\" data-category=\"Electronics/Television &amp; Video/Televisions/Smart TVs\" data-dimension23=\"17058\" data-dimension26=\"100\" data-dimension27=\"4.4\" data-dimension28=\"1\" data-dimension37=\"0\" data-dimension43=\"BDEAL|BLF|BLF_04|Boost|COL_178|COL_216|COL_223|COL_226|CP_MT104|CP_MT31|CP_UN100|CP_UN102|CP_UN2|CP_UN245|CP_UN246|CP_UN247|CP_UN255|CP_UN256|CP_UN258|CP_UN262|CP_UN263|CP_UN264|CP_UN265|CP_UN9|DOW_11|JA23_01|JBF|MLP2|TBOOST|TDBOOSTING|TW23_05|XMAS22|XMAS22_02\" data-dimension44=\"0\" data-id=\"VI505EA01T4Z0NAFAMZ\" data-list=\"\" data-name='4388-FS 43\"inch FHD Frameless Smart/Android TV InbuiltDecoder/+TVGuard+Bracket' data-position=\"2\" data-price=\"143.64\" data-track-onclick=\"eecProduct\" data-track-onview=\"eecProduct\" href=\"/vitron-4388-fs-43inch-fhd-frameless-smartandroid-tv-inbuiltdecodertvguardbracket-48093030.html\"><div class=\"img-c\"><img alt=\"\" class=\"img\" data-lazy=\"true\" data-src=\"https://ke.jumia.is/unsafe/fit-in/300x300/filters:fill(white)/product/03/039084/1.jpg?0234\" height=\"208\" src=\"data:image/gif;base64,R0lGODlhAQABAIAAAAAAAP///yH5BAEAAAAALAAAAAABAAEAAAIBRAA7\" width=\"208\"/><span class=\"bdg _xs camp\" style=\"color:#FFFFFF;background:#000000;\">Black Friday deal</span></div><div class=\"info\"><h3 class=\"name\">Vitron 4388-FS 43\"inch FHD Frameless Smart/Android TV InbuiltDecoder/+TVGuard+Bracket</h3><div class=\"prc\">KSh 23,799</div><div class=\"s-prc-w\"><div class=\"old\">KSh 30,000</div><div class=\"bdg _dsct _sm\">21%</div></div><div class=\"rev\"><div class=\"stars _s\">4.4 out of 5<div class=\"in\" style=\"width:88.00000000000001%\"></div></div>(100)</div><svg aria-label=\"Express Shipping\" class=\"ic xprss\" height=\"10\" viewbox=\"0 0 114 12\" width=\"94\"><use xlink:href=\"https://www.jumia.co.ke/assets_he/images/i-shop-jumia.9f5451c7.svg#express\"></use></svg></div></a><footer class=\"ft\"><form action=\"/cart/products/VI505EA01T4Z0NAFAMZ-61487664/quantity/\" class=\"-df -i-ctr -pr -j-bet\" data-add-cart=\"\" data-brand=\"Vitron\" data-category=\"Electronics/Television &amp; Video/Televisions/Smart TVs\" data-dimension23=\"17058\" data-dimension26=\"100\" data-dimension27=\"4.4\" data-dimension28=\"1\" data-dimension37=\"0\" data-dimension43=\"BDEAL|BLF|BLF_04|Boost|COL_178|COL_216|COL_223|COL_226|CP_MT104|CP_MT31|CP_UN100|CP_UN102|CP_UN2|CP_UN245|CP_UN246|CP_UN247|CP_UN255|CP_UN256|CP_UN258|CP_UN262|CP_UN263|CP_UN264|CP_UN265|CP_UN9|DOW_11|JA23_01|JBF|MLP2|TBOOST|TDBOOSTING|TW23_05|XMAS22|XMAS22_02\" data-dimension44=\"0\" data-id=\"VI505EA01T4Z0NAFAMZ\" data-name='4388-FS 43\"inch FHD Frameless Smart/Android TV InbuiltDecoder/+TVGuard+Bracket' data-price=\"143.64\" data-simplesku=\"VI505EA01T4Z0NAFAMZ-61487664\" data-sku=\"VI505EA01T4Z0NAFAMZ\" data-svar=\"VI505EA01T4Z0NAFAMZ-61487664\" data-track-onsubmit=\"addToCart\" data-variant=\"\" data-xhr=\"true\" method=\"post\"><button class=\"add btn _prim -pea _md\" data-submit=\"\" name=\"action\" type=\"button\" value=\"in\">Add To Cart</button><input name=\"capiId\" type=\"hidden\" value=\"_1700476646_{eventType}\"/><input name=\"csrfToken\" type=\"hidden\" value=\"34efbbb4eb40f54218055fd2c7359c50\"/></form></footer></article><article class=\"prd _fb col c-prd\"><a class=\"core\" data-brand=\"Vitron\" data-category=\"Electronics/Television &amp; Video/Televisions/Smart TVs\" data-dimension23=\"16708\" data-dimension26=\"385\" data-dimension27=\"4.3\" data-dimension28=\"1\" data-dimension37=\"0\" data-dimension43=\"APWK|BDEAL|BLF|BLF_04|Boost|COL_216|COL_223|COL_226|COL_307|CP_2|CP_MT104|CP_MT15|CP_MT18|CP_MT19|CP_MT29|CP_MT31|CP_MT67|CP_UN100|CP_UN2|CP_UN235|CP_UN245|CP_UN246|CP_UN247|CP_UN255|CP_UN256|CP_UN258|CP_UN261|CP_UN262|CP_UN263|CP_UN264|CP_UN265|CP_UN3|CP_UN5|CP_UN9|DOW_10|DOW_66|JBF|MLP2|TBOOST|TOP|TW23_05|UND_50|XMAS22|XMAS22_02|XMAS22_06|XMAS22_07\" data-dimension44=\"0\" data-id=\"VI505EA0IZJALNAFAMZ\" data-list=\"\" data-name='4388FS,43\" Inch FRAMELESS Smart Android TV Netflix INBUILT DECODER+FREE BRACKET' data-position=\"3\" data-price=\"138.79\" data-track-onclick=\"eecProduct\" data-track-onview=\"eecProduct\" href=\"/vitron-4388fs43-inch-frameless-smart-android-tv-netflix-inbuilt-decoderfree-bracket-35019813.html\"><div class=\"img-c\"><img alt=\"\" class=\"img\" data-lazy=\"true\" data-src=\"https://ke.jumia.is/unsafe/fit-in/300x300/filters:fill(white)/product/31/891053/1.jpg?6100\" height=\"208\" src=\"data:image/gif;base64,R0lGODlhAQABAIAAAAAAAP///yH5BAEAAAAALAAAAAABAAEAAAIBRAA7\" width=\"208\"/><span class=\"bdg _xs camp\" style=\"color:#FFFFFF;background:#000000;\">Black Friday deal</span></div><div class=\"info\"><h3 class=\"name\">Vitron 4388FS,43\" Inch FRAMELESS Smart Android TV Netflix INBUILT DECODER+FREE BRACKET</h3><div class=\"prc\">KSh 22,995</div><div class=\"s-prc-w\"><div class=\"old\">KSh 30,000</div><div class=\"bdg _dsct _sm\">23%</div></div><div class=\"rev\"><div class=\"stars _s\">4.3 out of 5<div class=\"in\" style=\"width:86%\"></div></div>(385)</div><svg aria-label=\"Express Shipping\" class=\"ic xprss\" height=\"10\" viewbox=\"0 0 114 12\" width=\"94\"><use xlink:href=\"https://www.jumia.co.ke/assets_he/images/i-shop-jumia.9f5451c7.svg#express\"></use></svg></div></a><footer class=\"ft\"><form action=\"/cart/products/VI505EA0IZJALNAFAMZ-46901246/quantity/\" class=\"-df -i-ctr -pr -j-bet\" data-add-cart=\"\" data-brand=\"Vitron\" data-category=\"Electronics/Television &amp; Video/Televisions/Smart TVs\" data-dimension23=\"16708\" data-dimension26=\"385\" data-dimension27=\"4.3\" data-dimension28=\"1\" data-dimension37=\"0\" data-dimension43=\"APWK|BDEAL|BLF|BLF_04|Boost|COL_216|COL_223|COL_226|COL_307|CP_2|CP_MT104|CP_MT15|CP_MT18|CP_MT19|CP_MT29|CP_MT31|CP_MT67|CP_UN100|CP_UN2|CP_UN235|CP_UN245|CP_UN246|CP_UN247|CP_UN255|CP_UN256|CP_UN258|CP_UN261|CP_UN262|CP_UN263|CP_UN264|CP_UN265|CP_UN3|CP_UN5|CP_UN9|DOW_10|DOW_66|JBF|MLP2|TBOOST|TOP|TW23_05|UND_50|XMAS22|XMAS22_02|XMAS22_06|XMAS22_07\" data-dimension44=\"0\" data-id=\"VI505EA0IZJALNAFAMZ\" data-name='4388FS,43\" Inch FRAMELESS Smart Android TV Netflix INBUILT DECODER+FREE BRACKET' data-price=\"138.79\" data-simplesku=\"VI505EA0IZJALNAFAMZ-46901246\" data-sku=\"VI505EA0IZJALNAFAMZ\" data-svar=\"VI505EA0IZJALNAFAMZ-46901246\" data-track-onsubmit=\"addToCart\" data-variant=\"\" data-xhr=\"true\" method=\"post\"><button class=\"add btn _prim -pea _md\" data-submit=\"\" name=\"action\" type=\"button\" value=\"in\">Add To Cart</button><input name=\"capiId\" type=\"hidden\" value=\"_1700476646_{eventType}\"/><input name=\"csrfToken\" type=\"hidden\" value=\"34efbbb4eb40f54218055fd2c7359c50\"/></form></footer></article><article class=\"prd _fb col c-prd\"><a class=\"core\" data-brand=\"Vitron\" data-category=\"Electronics/Television &amp; Video/Televisions/Smart TVs\" data-dimension23=\"17058\" data-dimension26=\"261\" data-dimension27=\"4.2\" data-dimension28=\"1\" data-dimension37=\"0\" data-dimension43=\"BDEAL|BLF|BLF_04|Boost|CP_MT31|CP_UN100|CP_UN102|CP_UN265|JBF|TBOOST\" data-dimension44=\"0\" data-id=\"VI505EA0QJMIZNAFAMZ\" data-list=\"\" data-name='43\" Inch FHD Frameless Smart Android TV 8GBROM+FreeTVGuard+Extension' data-position=\"4\" data-price=\"142.43\" data-track-onclick=\"eecProduct\" data-track-onview=\"eecProduct\" href=\"/vitron-43-inch-fhd-frameless-smart-android-tv-8gbromfreetvguardextension-57658544.html\"><div class=\"img-c\"><img alt=\"\" class=\"img\" data-lazy=\"true\" data-src=\"https://ke.jumia.is/unsafe/fit-in/300x300/filters:fill(white)/product/44/585675/1.jpg?6101\" height=\"208\" src=\"data:image/gif;base64,R0lGODlhAQABAIAAAAAAAP///yH5BAEAAAAALAAAAAABAAEAAAIBRAA7\" width=\"208\"/><span class=\"bdg _xs camp\" style=\"color:#FFFFFF;background:#000000;\">Black Friday deal</span></div><div class=\"info\"><h3 class=\"name\">Vitron 43\" Inch FHD Frameless Smart Android TV 8GBROM+FreeTVGuard+Extension</h3><div class=\"prc\">KSh 23,598</div><div class=\"s-prc-w\"><div class=\"old\">KSh 30,000</div><div class=\"bdg _dsct _sm\">21%</div></div><div class=\"rev\"><div class=\"stars _s\">4.2 out of 5<div class=\"in\" style=\"width:84%\"></div></div>(261)</div><svg aria-label=\"Express Shipping\" class=\"ic xprss\" height=\"10\" viewbox=\"0 0 114 12\" width=\"94\"><use xlink:href=\"https://www.jumia.co.ke/assets_he/images/i-shop-jumia.9f5451c7.svg#express\"></use></svg></div></a><footer class=\"ft\"><form action=\"/cart/products/VI505EA0QJMIZNAFAMZ-72931570/quantity/\" class=\"-df -i-ctr -pr -j-bet\" data-add-cart=\"\" data-brand=\"Vitron\" data-category=\"Electronics/Television &amp; Video/Televisions/Smart TVs\" data-dimension23=\"17058\" data-dimension26=\"261\" data-dimension27=\"4.2\" data-dimension28=\"1\" data-dimension37=\"0\" data-dimension43=\"BDEAL|BLF|BLF_04|Boost|CP_MT31|CP_UN100|CP_UN102|CP_UN265|JBF|TBOOST\" data-dimension44=\"0\" data-id=\"VI505EA0QJMIZNAFAMZ\" data-name='43\" Inch FHD Frameless Smart Android TV 8GBROM+FreeTVGuard+Extension' data-price=\"142.43\" data-simplesku=\"VI505EA0QJMIZNAFAMZ-72931570\" data-sku=\"VI505EA0QJMIZNAFAMZ\" data-svar=\"VI505EA0QJMIZNAFAMZ-72931570\" data-track-onsubmit=\"addToCart\" data-variant=\"\" data-xhr=\"true\" method=\"post\"><button class=\"add btn _prim -pea _md\" data-submit=\"\" name=\"action\" type=\"button\" value=\"in\">Add To Cart</button><input name=\"capiId\" type=\"hidden\" value=\"_1700476646_{eventType}\"/><input name=\"csrfToken\" type=\"hidden\" value=\"34efbbb4eb40f54218055fd2c7359c50\"/></form></footer></article><article class=\"prd _fb col c-prd\"><a class=\"core\" data-brand=\"Vitron\" data-category=\"Electronics/Television &amp; Video/Televisions/Smart TVs\" data-dimension23=\"17058\" data-dimension26=\"103\" data-dimension27=\"4\" data-dimension28=\"0\" data-dimension37=\"0\" data-dimension43=\"APWK|BDEAL|BLF|BLF_04|Boost|CP_MT31|CP_UN100|CP_UN102|CP_UN262|CP_UN263|CP_UN264|CP_UN265|DOW_10|JBF|TBOOST\" data-dimension44=\"0\" data-id=\"VI505EA0SM39ENAFAMZ\" data-list=\"\" data-name='43\" Inch FHD Frameless Smart Android TV INBUILT DECODER+FREE Bracket+Extension' data-position=\"5\" data-price=\"141.83\" data-track-onclick=\"eecProduct\" data-track-onview=\"eecProduct\" href=\"/43-inch-fhd-smart-android-tv-a-free-tvguard-wallbracket-vitron-mpg310296.html\"><div class=\"img-c\"><img alt=\"\" class=\"img\" data-lazy=\"true\" data-src=\"https://ke.jumia.is/unsafe/fit-in/300x300/filters:fill(white)/product/48/059906/1.jpg?2207\" height=\"208\" src=\"data:image/gif;base64,R0lGODlhAQABAIAAAAAAAP///yH5BAEAAAAALAAAAAABAAEAAAIBRAA7\" width=\"208\"/><span class=\"bdg _xs camp\" style=\"color:#FFFFFF;background:#000000;\">Black Friday deal</span></div><div class=\"info\"><h3 class=\"name\">Vitron 43\" Inch FHD Frameless Smart Android TV INBUILT DECODER+FREE Bracket+Extension</h3><div class=\"prc\">KSh 23,499</div><div class=\"s-prc-w\"><div class=\"old\">KSh 30,000</div><div class=\"bdg _dsct _sm\">22%</div></div><div class=\"rev\"><div class=\"stars _s\">4 out of 5<div class=\"in\" style=\"width:80%\"></div></div>(103)</div></div></a><footer class=\"ft\"><form action=\"/cart/products/VI505EA0SM39ENAFAMZ-76781111/quantity/\" class=\"-df -i-ctr -pr -j-bet\" data-add-cart=\"\" data-brand=\"Vitron\" data-category=\"Electronics/Television &amp; Video/Televisions/Smart TVs\" data-dimension23=\"17058\" data-dimension26=\"103\" data-dimension27=\"4\" data-dimension28=\"0\" data-dimension37=\"0\" data-dimension43=\"APWK|BDEAL|BLF|BLF_04|Boost|CP_MT31|CP_UN100|CP_UN102|CP_UN262|CP_UN263|CP_UN264|CP_UN265|DOW_10|JBF|TBOOST\" data-dimension44=\"0\" data-id=\"VI505EA0SM39ENAFAMZ\" data-name='43\" Inch FHD Frameless Smart Android TV INBUILT DECODER+FREE Bracket+Extension' data-price=\"141.83\" data-simplesku=\"VI505EA0SM39ENAFAMZ-76781111\" data-sku=\"VI505EA0SM39ENAFAMZ\" data-svar=\"VI505EA0SM39ENAFAMZ-76781111\" data-track-onsubmit=\"addToCart\" data-variant=\"\" data-xhr=\"true\" method=\"post\"><button class=\"add btn _prim -pea _md\" data-submit=\"\" name=\"action\" type=\"button\" value=\"in\">Add To Cart</button><input name=\"capiId\" type=\"hidden\" value=\"_1700476646_{eventType}\"/><input name=\"csrfToken\" type=\"hidden\" value=\"34efbbb4eb40f54218055fd2c7359c50\"/></form></footer></article><article class=\"prd _fb col c-prd\"><a class=\"core\" data-brand=\"Vitron\" data-category=\"Electronics/Television &amp; Video/Televisions/Smart TVs\" data-dimension23=\"28297\" data-dimension26=\"3\" data-dimension27=\"5\" data-dimension28=\"0\" data-dimension37=\"0\" data-dimension43=\"BLF|BLF_04|BLF_11|Boost|CP_MT31|CP_UN100|TBOOST\" data-dimension44=\"0\" data-id=\"VI505EA02IT3GNAFAMZ\" data-list=\"\" data-name='43\" Inch-FHD ANDROID TV,NETFLIX,DECODER+INBUILT WIFI+Power Guard+BRACKET' data-position=\"6\" data-price=\"142.98\" data-track-onclick=\"eecProduct\" data-track-onview=\"eecProduct\" href=\"/vitron-43-inch-fhd-android-tvnetflixdecoderinbuilt-wifipower-guardbracket-84763240.html\"><div class=\"img-c\"><img alt=\"\" class=\"img\" data-lazy=\"true\" data-src=\"https://ke.jumia.is/unsafe/fit-in/300x300/filters:fill(white)/product/04/236748/1.jpg?5692\" height=\"208\" src=\"data:image/gif;base64,R0lGODlhAQABAIAAAAAAAP///yH5BAEAAAAALAAAAAABAAEAAAIBRAA7\" width=\"208\"/><span class=\"bdg _xs camp\" style=\"color:#FFFFFF;background:#000000;\">Black Friday deal</span></div><div class=\"info\"><h3 class=\"name\">Vitron 43\" Inch-FHD ANDROID TV,NETFLIX,DECODER+INBUILT WIFI+Power Guard+BRACKET</h3><div class=\"prc\">KSh 23,690</div><div class=\"s-prc-w\"><div class=\"old\">KSh 46,000</div><div class=\"bdg _dsct _sm\">49%</div></div><div class=\"rev\"><div class=\"stars _s\">5 out of 5<div class=\"in\" style=\"width:100%\"></div></div>(3)</div></div></a><footer class=\"ft\"><form action=\"/cart/products/VI505EA02IT3GNAFAMZ-106262080/quantity/\" class=\"-df -i-ctr -pr -j-bet\" data-add-cart=\"\" data-brand=\"Vitron\" data-category=\"Electronics/Television &amp; Video/Televisions/Smart TVs\" data-dimension23=\"28297\" data-dimension26=\"3\" data-dimension27=\"5\" data-dimension28=\"0\" data-dimension37=\"0\" data-dimension43=\"BLF|BLF_04|BLF_11|Boost|CP_MT31|CP_UN100|TBOOST\" data-dimension44=\"0\" data-id=\"VI505EA02IT3GNAFAMZ\" data-name='43\" Inch-FHD ANDROID TV,NETFLIX,DECODER+INBUILT WIFI+Power Guard+BRACKET' data-price=\"142.98\" data-simplesku=\"VI505EA02IT3GNAFAMZ-106262080\" data-sku=\"VI505EA02IT3GNAFAMZ\" data-svar=\"VI505EA02IT3GNAFAMZ-106262080\" data-track-onsubmit=\"addToCart\" data-variant=\"\" data-xhr=\"true\" method=\"post\"><button class=\"add btn _prim -pea _md\" data-submit=\"\" name=\"action\" type=\"button\" value=\"in\">Add To Cart</button><input name=\"capiId\" type=\"hidden\" value=\"_1700476646_{eventType}\"/><input name=\"csrfToken\" type=\"hidden\" value=\"34efbbb4eb40f54218055fd2c7359c50\"/></form></footer></article><article class=\"prd _fb col c-prd\"><a class=\"core\" data-brand=\"Vitron\" data-category=\"Electronics/Television &amp; Video/Televisions/Smart TVs\" data-dimension23=\"17058\" data-dimension26=\"184\" data-dimension27=\"4.3\" data-dimension28=\"1\" data-dimension37=\"0\" data-dimension43=\"BDEAL|BLF|BLF_04|Boost|COL_130|COL_155|COL_216|COL_223|COL_307|CP_10|CP_2|CP_MT104|CP_MT107|CP_MT16|CP_MT19|CP_MT24|CP_MT25|CP_MT31|CP_MT50|CP_MT56|CP_MT94|CP_UN100|CP_UN102|CP_UN2|CP_UN245|CP_UN246|CP_UN247|CP_UN255|CP_UN256|CP_UN258|CP_UN261|CP_UN262|CP_UN263|CP_UN264|CP_UN265|CP_UN5|CP_UN9|DOW_10|DOW_11|DOW_2|DOW_66|JA23_01|JBF|MLP2|TBOOST|TOP|TW23_05|UND_8|XMAS22|XMAS22_02\" data-dimension44=\"0\" data-id=\"VI505EA0NO97FNAFAMZ\" data-list=\"\" data-name='4388FS/43\"Inch Frameless Smart Android TVYoutubeNetflix/1GBAM/8GB ROM' data-position=\"7\" data-price=\"136.99\" data-track-onclick=\"eecProduct\" data-track-onview=\"eecProduct\" href=\"/vitron-4388fs43inch-frameless-smart-android-tvyoutubenetflix1gbam8gb-rom-34826793.html\"><div class=\"img-c\"><img alt=\"\" class=\"img\" data-lazy=\"true\" data-src=\"https://ke.jumia.is/unsafe/fit-in/300x300/filters:fill(white)/product/39/762843/1.jpg?6101\" height=\"208\" src=\"data:image/gif;base64,R0lGODlhAQABAIAAAAAAAP///yH5BAEAAAAALAAAAAABAAEAAAIBRAA7\" width=\"208\"/><span class=\"bdg _xs camp\" style=\"color:#FFFFFF;background:#000000;\">Black Friday deal</span></div><div class=\"info\"><h3 class=\"name\">Vitron 4388FS/43\"Inch Frameless Smart Android TVYoutubeNetflix/1GBAM/8GB ROM</h3><div class=\"prc\">KSh 22,697</div><div class=\"s-prc-w\"><div class=\"old\">KSh 22,999</div><div class=\"bdg _dsct _sm\">1%</div></div><div class=\"rev\"><div class=\"stars _s\">4.3 out of 5<div class=\"in\" style=\"width:86%\"></div></div>(184)</div><svg aria-label=\"Express Shipping\" class=\"ic xprss\" height=\"10\" viewbox=\"0 0 114 12\" width=\"94\"><use xlink:href=\"https://www.jumia.co.ke/assets_he/images/i-shop-jumia.9f5451c7.svg#express\"></use></svg></div></a><footer class=\"ft\"><form action=\"/cart/products/VI505EA0NO97FNAFAMZ-46678588/quantity/\" class=\"-df -i-ctr -pr -j-bet\" data-add-cart=\"\" data-brand=\"Vitron\" data-category=\"Electronics/Television &amp; Video/Televisions/Smart TVs\" data-dimension23=\"17058\" data-dimension26=\"184\" data-dimension27=\"4.3\" data-dimension28=\"1\" data-dimension37=\"0\" data-dimension43=\"BDEAL|BLF|BLF_04|Boost|COL_130|COL_155|COL_216|COL_223|COL_307|CP_10|CP_2|CP_MT104|CP_MT107|CP_MT16|CP_MT19|CP_MT24|CP_MT25|CP_MT31|CP_MT50|CP_MT56|CP_MT94|CP_UN100|CP_UN102|CP_UN2|CP_UN245|CP_UN246|CP_UN247|CP_UN255|CP_UN256|CP_UN258|CP_UN261|CP_UN262|CP_UN263|CP_UN264|CP_UN265|CP_UN5|CP_UN9|DOW_10|DOW_11|DOW_2|DOW_66|JA23_01|JBF|MLP2|TBOOST|TOP|TW23_05|UND_8|XMAS22|XMAS22_02\" data-dimension44=\"0\" data-id=\"VI505EA0NO97FNAFAMZ\" data-name='4388FS/43\"Inch Frameless Smart Android TVYoutubeNetflix/1GBAM/8GB ROM' data-price=\"136.99\" data-simplesku=\"VI505EA0NO97FNAFAMZ-46678588\" data-sku=\"VI505EA0NO97FNAFAMZ\" data-svar=\"VI505EA0NO97FNAFAMZ-46678588\" data-track-onsubmit=\"addToCart\" data-variant=\"\" data-xhr=\"true\" method=\"post\"><button class=\"add btn _prim -pea _md\" data-submit=\"\" name=\"action\" type=\"button\" value=\"in\">Add To Cart</button><input name=\"capiId\" type=\"hidden\" value=\"_1700476646_{eventType}\"/><input name=\"csrfToken\" type=\"hidden\" value=\"34efbbb4eb40f54218055fd2c7359c50\"/></form></footer></article><article class=\"prd _fb col c-prd\"><a class=\"core\" data-brand=\"Vitron\" data-category=\"Electronics/Television &amp; Video/Televisions/Smart TVs\" data-dimension23=\"17058\" data-dimension26=\"185\" data-dimension27=\"4.3\" data-dimension28=\"1\" data-dimension37=\"0\" data-dimension43=\"APWK|BDEAL|BLF|BLF_04|Boost|COL_178|COL_216|COL_223|COL_307|CP_10|CP_MT104|CP_MT107|CP_MT31|CP_UN100|CP_UN2|CP_UN235|CP_UN245|CP_UN246|CP_UN247|CP_UN255|CP_UN256|CP_UN258|CP_UN262|CP_UN263|CP_UN264|CP_UN265|CP_UN5|CP_UN9|DOW_10|JA23_01|JBF|JBM|MLP2|TBOOST|TW23_05|TW_03|UND_50|XMAS22|XMAS22_02\" data-dimension44=\"0\" data-id=\"VI505EA0KLAH7NAFAMZ\" data-list=\"\" data-name='43\" Inch Frameless FHD Smart Android TV Inbuilt Decoder+FREE Bracket+Flash Disk' data-position=\"8\" data-price=\"141.83\" data-track-onclick=\"eecProduct\" data-track-onview=\"eecProduct\" href=\"/vitron-43-inch-frameless-fhd-smart-android-tv-inbuilt-decoderfree-bracketflash-disk-57658543.html\"><div class=\"img-c\"><img alt=\"\" class=\"img\" data-lazy=\"true\" data-src=\"https://ke.jumia.is/unsafe/fit-in/300x300/filters:fill(white)/product/34/585675/1.jpg?2038\" height=\"208\" src=\"data:image/gif;base64,R0lGODlhAQABAIAAAAAAAP///yH5BAEAAAAALAAAAAABAAEAAAIBRAA7\" width=\"208\"/><span class=\"bdg _xs camp\" style=\"color:#FFFFFF;background:#000000;\">Black Friday deal</span></div><div class=\"info\"><h3 class=\"name\">Vitron 43\" Inch Frameless FHD Smart Android TV Inbuilt Decoder+FREE Bracket+Flash Disk</h3><div class=\"prc\">KSh 23,499</div><div class=\"s-prc-w\"><div class=\"old\">KSh 29,000</div><div class=\"bdg _dsct _sm\">19%</div></div><div class=\"rev\"><div class=\"stars _s\">4.3 out of 5<div class=\"in\" style=\"width:86%\"></div></div>(185)</div><svg aria-label=\"Express Shipping\" class=\"ic xprss\" height=\"10\" viewbox=\"0 0 114 12\" width=\"94\"><use xlink:href=\"https://www.jumia.co.ke/assets_he/images/i-shop-jumia.9f5451c7.svg#express\"></use></svg></div></a><footer class=\"ft\"><form action=\"/cart/products/VI505EA0KLAH7NAFAMZ-72931569/quantity/\" class=\"-df -i-ctr -pr -j-bet\" data-add-cart=\"\" data-brand=\"Vitron\" data-category=\"Electronics/Television &amp; Video/Televisions/Smart TVs\" data-dimension23=\"17058\" data-dimension26=\"185\" data-dimension27=\"4.3\" data-dimension28=\"1\" data-dimension37=\"0\" data-dimension43=\"APWK|BDEAL|BLF|BLF_04|Boost|COL_178|COL_216|COL_223|COL_307|CP_10|CP_MT104|CP_MT107|CP_MT31|CP_UN100|CP_UN2|CP_UN235|CP_UN245|CP_UN246|CP_UN247|CP_UN255|CP_UN256|CP_UN258|CP_UN262|CP_UN263|CP_UN264|CP_UN265|CP_UN5|CP_UN9|DOW_10|JA23_01|JBF|JBM|MLP2|TBOOST|TW23_05|TW_03|UND_50|XMAS22|XMAS22_02\" data-dimension44=\"0\" data-id=\"VI505EA0KLAH7NAFAMZ\" data-name='43\" Inch Frameless FHD Smart Android TV Inbuilt Decoder+FREE Bracket+Flash Disk' data-price=\"141.83\" data-simplesku=\"VI505EA0KLAH7NAFAMZ-72931569\" data-sku=\"VI505EA0KLAH7NAFAMZ\" data-svar=\"VI505EA0KLAH7NAFAMZ-72931569\" data-track-onsubmit=\"addToCart\" data-variant=\"\" data-xhr=\"true\" method=\"post\"><button class=\"add btn _prim -pea _md\" data-submit=\"\" name=\"action\" type=\"button\" value=\"in\">Add To Cart</button><input name=\"capiId\" type=\"hidden\" value=\"_1700476646_{eventType}\"/><input name=\"csrfToken\" type=\"hidden\" value=\"34efbbb4eb40f54218055fd2c7359c50\"/></form></footer></article><article class=\"prd _fb col c-prd\"><a class=\"core\" data-brand=\"TCL\" data-category=\"Electronics/Television &amp; Video/Televisions/Smart TVs\" data-dimension23=\"5258\" data-dimension26=\"3\" data-dimension27=\"5\" data-dimension28=\"0\" data-dimension37=\"0\" data-dimension43=\"BLF|BLF_04|CP_MT31|TBOOST\" data-dimension44=\"0\" data-id=\"TC187EA22NSLTNAFAMZ\" data-list=\"\" data-name='43S5400A,43\" Inch Smart  ANDROID TV BT Icast  Appstore+FREE TV Guard+Bracket' data-position=\"9\" data-price=\"204.55\" data-track-onclick=\"eecProduct\" data-track-onview=\"eecProduct\" href=\"/43s5400a43-inch-smart-android-tv-bt-icast-appstorefree-tv-guardbracket-tcl-mpg1440693.html\"><div class=\"img-c\"><img alt=\"\" class=\"img\" data-lazy=\"true\" data-src=\"https://ke.jumia.is/unsafe/fit-in/300x300/filters:fill(white)/product/25/4017451/1.jpg?5412\" height=\"208\" src=\"data:image/gif;base64,R0lGODlhAQABAIAAAAAAAP///yH5BAEAAAAALAAAAAABAAEAAAIBRAA7\" width=\"208\"/><span class=\"bdg _xs camp\" style=\"color:#FFFFFF;background:#000000;\">Black Friday deal</span></div><div class=\"info\"><h3 class=\"name\">TCL 43S5400A,43\" Inch Smart  ANDROID TV BT Icast  Appstore+FREE TV Guard+Bracket</h3><div class=\"prc\">KSh 33,890</div><div class=\"s-prc-w\"><div class=\"old\">KSh 42,999</div><div class=\"bdg _dsct _sm\">21%</div></div><p class=\"mpg\" data-prc=\"KSh 33,890\" data-tot=\"4\">offers from</p><div class=\"rev\"><div class=\"stars _s\">5 out of 5<div class=\"in\" style=\"width:100%\"></div></div>(3)</div></div></a><footer class=\"ft\"><form action=\"/cart/products/TC187EA22NSLTNAFAMZ-203624825/quantity/\" class=\"-df -i-ctr -pr -j-bet\" data-add-cart=\"\" data-brand=\"TCL\" data-category=\"Electronics/Television &amp; Video/Televisions/Smart TVs\" data-dimension23=\"5258\" data-dimension26=\"3\" data-dimension27=\"5\" data-dimension28=\"0\" data-dimension37=\"0\" data-dimension43=\"BLF|BLF_04|CP_MT31|TBOOST\" data-dimension44=\"0\" data-id=\"TC187EA22NSLTNAFAMZ\" data-name='43S5400A,43\" Inch Smart  ANDROID TV BT Icast  Appstore+FREE TV Guard+Bracket' data-price=\"204.55\" data-simplesku=\"TC187EA22NSLTNAFAMZ-203624825\" data-sku=\"TC187EA22NSLTNAFAMZ\" data-svar=\"TC187EA22NSLTNAFAMZ-203624825\" data-track-onsubmit=\"addToCart\" data-variant=\"\" data-xhr=\"true\" method=\"post\"><button class=\"add btn _prim -pea _md\" data-submit=\"\" name=\"action\" type=\"button\" value=\"in\">Add To Cart</button><input name=\"capiId\" type=\"hidden\" value=\"_1700476646_{eventType}\"/><input name=\"csrfToken\" type=\"hidden\" value=\"34efbbb4eb40f54218055fd2c7359c50\"/></form></footer></article><article class=\"prd _fb col c-prd\"><a class=\"core\" data-brand=\"Amtec\" data-category=\"Electronics/Television &amp; Video/Televisions/Smart TVs\" data-dimension23=\"17058\" data-dimension26=\"1\" data-dimension27=\"5\" data-dimension28=\"0\" data-dimension37=\"0\" data-dimension43=\"BLF_04|Boost|COL_216|TBOOST\" data-dimension44=\"0\" data-id=\"AM617EA0ZSNGENAFAMZ\" data-list=\"\" data-name='43L12 43\" Inch TV Smart Android TV Bluetooth Enabled +FREE Bracket+Extension' data-position=\"10\" data-price=\"144.25\" data-track-onclick=\"eecProduct\" data-track-onview=\"eecProduct\" href=\"/amtec-43l12-43-inch-tv-smart-android-tv-bluetooth-enabled-free-bracketextension-62332106.html\"><div class=\"img-c\"><img alt=\"\" class=\"img\" data-lazy=\"true\" data-src=\"https://ke.jumia.is/unsafe/fit-in/300x300/filters:fill(white)/product/60/123326/1.jpg?9776\" height=\"208\" src=\"data:image/gif;base64,R0lGODlhAQABAIAAAAAAAP///yH5BAEAAAAALAAAAAABAAEAAAIBRAA7\" width=\"208\"/></div><div class=\"info\"><h3 class=\"name\">Amtec 43L12 43\" Inch TV Smart Android TV Bluetooth Enabled +FREE Bracket+Extension</h3><div class=\"prc\">KSh 23,899</div><div class=\"s-prc-w\"><div class=\"old\">KSh 30,000</div><div class=\"bdg _dsct _sm\">20%</div></div><div class=\"rev\"><div class=\"stars _s\">5 out of 5<div class=\"in\" style=\"width:100%\"></div></div>(1)</div></div></a><footer class=\"ft\"><form action=\"/cart/products/AM617EA0ZSNGENAFAMZ-78291345/quantity/\" class=\"-df -i-ctr -pr -j-bet\" data-add-cart=\"\" data-brand=\"Amtec\" data-category=\"Electronics/Television &amp; Video/Televisions/Smart TVs\" data-dimension23=\"17058\" data-dimension26=\"1\" data-dimension27=\"5\" data-dimension28=\"0\" data-dimension37=\"0\" data-dimension43=\"BLF_04|Boost|COL_216|TBOOST\" data-dimension44=\"0\" data-id=\"AM617EA0ZSNGENAFAMZ\" data-name='43L12 43\" Inch TV Smart Android TV Bluetooth Enabled +FREE Bracket+Extension' data-price=\"144.25\" data-simplesku=\"AM617EA0ZSNGENAFAMZ-78291345\" data-sku=\"AM617EA0ZSNGENAFAMZ\" data-svar=\"AM617EA0ZSNGENAFAMZ-78291345\" data-track-onsubmit=\"addToCart\" data-variant=\"\" data-xhr=\"true\" method=\"post\"><button class=\"add btn _prim -pea _md\" data-submit=\"\" name=\"action\" type=\"button\" value=\"in\">Add To Cart</button><input name=\"capiId\" type=\"hidden\" value=\"_1700476646_{eventType}\"/><input name=\"csrfToken\" type=\"hidden\" value=\"34efbbb4eb40f54218055fd2c7359c50\"/></form></footer></article><article class=\"prd _fb col c-prd\"><a class=\"core\" data-brand=\"Wyinix\" data-category=\"Electronics/Television &amp; Video/Televisions/Smart TVs\" data-dimension23=\"91095\" data-dimension26=\"2\" data-dimension27=\"4.5\" data-dimension28=\"0\" data-dimension37=\"0\" data-dimension43=\"BLF|BLF_04|Boost|CP_UN100|JBF|TBOOST\" data-dimension44=\"0\" data-id=\"WY292EA2RADPCNAFAMZ\" data-list=\"\" data-name='43\" Inch FHD 8GBROM Smart Android 9.0 TV WIFI Netflix,Youtube,Playstore' data-position=\"11\" data-price=\"133.96\" data-track-onclick=\"eecProduct\" data-track-onview=\"eecProduct\" href=\"/wyinix-43-inch-fhd-8gbrom-smart-android-9.0-tv-wifi-netflixyoutubeplaystore-140366766.html\"><div class=\"img-c\"><img alt=\"\" class=\"img\" data-lazy=\"true\" data-src=\"https://ke.jumia.is/unsafe/fit-in/300x300/filters:fill(white)/product/66/7663041/1.jpg?1707\" height=\"208\" src=\"data:image/gif;base64,R0lGODlhAQABAIAAAAAAAP///yH5BAEAAAAALAAAAAABAAEAAAIBRAA7\" width=\"208\"/><span class=\"bdg _xs camp\" style=\"color:#FFFFFF;background:#000000;\">Black Friday deal</span></div><div class=\"info\"><h3 class=\"name\">Wyinix 43\" Inch FHD 8GBROM Smart Android 9.0 TV WIFI Netflix,Youtube,Playstore</h3><div class=\"prc\">KSh 22,195</div><div class=\"s-prc-w\"><div class=\"old\">KSh 34,000</div><div class=\"bdg _dsct _sm\">35%</div></div><div class=\"rev\"><div class=\"stars _s\">4.5 out of 5<div class=\"in\" style=\"width:90%\"></div></div>(2)</div></div></a><footer class=\"ft\"><form action=\"/cart/products/WY292EA2RADPCNAFAMZ-185845546/quantity/\" class=\"-df -i-ctr -pr -j-bet\" data-add-cart=\"\" data-brand=\"Wyinix\" data-category=\"Electronics/Television &amp; Video/Televisions/Smart TVs\" data-dimension23=\"91095\" data-dimension26=\"2\" data-dimension27=\"4.5\" data-dimension28=\"0\" data-dimension37=\"0\" data-dimension43=\"BLF|BLF_04|Boost|CP_UN100|JBF|TBOOST\" data-dimension44=\"0\" data-id=\"WY292EA2RADPCNAFAMZ\" data-name='43\" Inch FHD 8GBROM Smart Android 9.0 TV WIFI Netflix,Youtube,Playstore' data-price=\"133.96\" data-simplesku=\"WY292EA2RADPCNAFAMZ-185845546\" data-sku=\"WY292EA2RADPCNAFAMZ\" data-svar=\"WY292EA2RADPCNAFAMZ-185845546\" data-track-onsubmit=\"addToCart\" data-variant=\"\" data-xhr=\"true\" method=\"post\"><button class=\"add btn _prim -pea _md\" data-submit=\"\" name=\"action\" type=\"button\" value=\"in\">Add To Cart</button><input name=\"capiId\" type=\"hidden\" value=\"_1700476646_{eventType}\"/><input name=\"csrfToken\" type=\"hidden\" value=\"34efbbb4eb40f54218055fd2c7359c50\"/></form></footer></article><article class=\"prd _fb col c-prd\"><a class=\"core\" data-brand=\"Vitron\" data-category=\"Electronics/Television &amp; Video/Televisions/Smart TVs\" data-dimension23=\"82218\" data-dimension26=\"5\" data-dimension27=\"3.6\" data-dimension28=\"0\" data-dimension37=\"0\" data-dimension43=\"BLF|BLF_04|Boost|CP_MT31|CP_UN100|TBOOST\" data-dimension44=\"0\" data-id=\"VI505EA0CSBZXNAFAMZ\" data-list=\"\" data-name='43\" Inch Frameless  Smart Android TV Netflix Youtube Bluetooth Enable AppStore 3HDMI USB FREE GIFTS' data-position=\"12\" data-price=\"147.87\" data-track-onclick=\"eecProduct\" data-track-onview=\"eecProduct\" href=\"/43-inch-frameless-smart-android-tv-netflix-youtube-bluetooth-enable-appstore-3hdmi-usb-free-gifts-vitron-mpg1522012.html\"><div class=\"img-c\"><img alt=\"\" class=\"img\" data-lazy=\"true\" data-src=\"https://ke.jumia.is/unsafe/fit-in/300x300/filters:fill(white)/product/21/477309/1.jpg?4985\" height=\"208\" src=\"data:image/gif;base64,R0lGODlhAQABAIAAAAAAAP///yH5BAEAAAAALAAAAAABAAEAAAIBRAA7\" width=\"208\"/><span class=\"bdg _xs camp\" style=\"color:#FFFFFF;background:#000000;\">Black Friday deal</span></div><div class=\"info\"><h3 class=\"name\">Vitron 43\" Inch Frameless  Smart Android TV Netflix Youtube Bluetooth Enable AppStore 3HDMI USB FREE GIFTS</h3><div class=\"prc\">KSh 24,499</div><div class=\"s-prc-w\"><div class=\"old\">KSh 28,999</div><div class=\"bdg _dsct _sm\">16%</div></div><div class=\"rev\"><div class=\"stars _s\">3.6 out of 5<div class=\"in\" style=\"width:72%\"></div></div>(5)</div></div></a><footer class=\"ft\"><form action=\"/cart/products/VI505EA0CSBZXNAFAMZ-114379349/quantity/\" class=\"-df -i-ctr -pr -j-bet\" data-add-cart=\"\" data-brand=\"Vitron\" data-category=\"Electronics/Television &amp; Video/Televisions/Smart TVs\" data-dimension23=\"82218\" data-dimension26=\"5\" data-dimension27=\"3.6\" data-dimension28=\"0\" data-dimension37=\"0\" data-dimension43=\"BLF|BLF_04|Boost|CP_MT31|CP_UN100|TBOOST\" data-dimension44=\"0\" data-id=\"VI505EA0CSBZXNAFAMZ\" data-name='43\" Inch Frameless  Smart Android TV Netflix Youtube Bluetooth Enable AppStore 3HDMI USB FREE GIFTS' data-price=\"147.87\" data-simplesku=\"VI505EA0CSBZXNAFAMZ-114379349\" data-sku=\"VI505EA0CSBZXNAFAMZ\" data-svar=\"VI505EA0CSBZXNAFAMZ-114379349\" data-track-onsubmit=\"addToCart\" data-variant=\"\" data-xhr=\"true\" method=\"post\"><button class=\"add btn _prim -pea _md\" data-submit=\"\" name=\"action\" type=\"button\" value=\"in\">Add To Cart</button><input name=\"capiId\" type=\"hidden\" value=\"_1700476646_{eventType}\"/><input name=\"csrfToken\" type=\"hidden\" value=\"34efbbb4eb40f54218055fd2c7359c50\"/></form></footer></article><article class=\"prd _fb col c-prd\"><a class=\"core\" data-brand=\"Skyworth\" data-category=\"Electronics/Television &amp; Video/Televisions/Smart TVs\" data-dimension23=\"82218\" data-dimension26=\"5\" data-dimension27=\"4.2\" data-dimension28=\"0\" data-dimension37=\"0\" data-dimension43=\"BLF|BLF_04|Boost|COL_178|COL_216|CP_MT31|CP_UN245|CP_UN246|CP_UN247|CP_UN255|CP_UN262|CP_UN263|CP_UN264|CP_UN265|CP_UN34|TBOOST\" data-dimension44=\"0\" data-id=\"SK493EA192RAWNAFAMZ\" data-list=\"\" data-name=\"43” Inch Smart Android FHD FRAMELESS TV WI-FI Netflix YouTube BLUETOOTH ENABLE GOOGLE TV LED\" data-position=\"13\" data-price=\"181.06\" data-track-onclick=\"eecProduct\" data-track-onview=\"eecProduct\" href=\"/43-inch-smart-android-fhd-frameless-tv-wi-fi-netflix-youtube-bluetooth-enable-google-tv-led-skyworth-mpg1440674.html\"><div class=\"img-c\"><img alt=\"\" class=\"img\" data-lazy=\"true\" data-src=\"https://ke.jumia.is/unsafe/fit-in/300x300/filters:fill(white)/product/75/711416/1.jpg?6609\" height=\"208\" src=\"data:image/gif;base64,R0lGODlhAQABAIAAAAAAAP///yH5BAEAAAAALAAAAAABAAEAAAIBRAA7\" width=\"208\"/><span class=\"bdg _xs camp\" style=\"color:#FFFFFF;background:#000000;\">Black Friday deal</span></div><div class=\"info\"><h3 class=\"name\">Skyworth 43” Inch Smart Android FHD FRAMELESS TV WI-FI Netflix YouTube BLUETOOTH ENABLE GOOGLE TV LED</h3><div class=\"prc\">KSh 29,999</div><div class=\"s-prc-w\"><div class=\"old\">KSh 39,000</div><div class=\"bdg _dsct _sm\">23%</div></div><div class=\"rev\"><div class=\"stars _s\">4.2 out of 5<div class=\"in\" style=\"width:84%\"></div></div>(5)</div></div></a><footer class=\"ft\"><form action=\"/cart/products/SK493EA192RAWNAFAMZ-77248714/quantity/\" class=\"-df -i-ctr -pr -j-bet\" data-add-cart=\"\" data-brand=\"Skyworth\" data-category=\"Electronics/Television &amp; Video/Televisions/Smart TVs\" data-dimension23=\"82218\" data-dimension26=\"5\" data-dimension27=\"4.2\" data-dimension28=\"0\" data-dimension37=\"0\" data-dimension43=\"BLF|BLF_04|Boost|COL_178|COL_216|CP_MT31|CP_UN245|CP_UN246|CP_UN247|CP_UN255|CP_UN262|CP_UN263|CP_UN264|CP_UN265|CP_UN34|TBOOST\" data-dimension44=\"0\" data-id=\"SK493EA192RAWNAFAMZ\" data-name=\"43” Inch Smart Android FHD FRAMELESS TV WI-FI Netflix YouTube BLUETOOTH ENABLE GOOGLE TV LED\" data-price=\"181.06\" data-simplesku=\"SK493EA192RAWNAFAMZ-77248714\" data-sku=\"SK493EA192RAWNAFAMZ\" data-svar=\"SK493EA192RAWNAFAMZ-77248714\" data-track-onsubmit=\"addToCart\" data-variant=\"\" data-xhr=\"true\" method=\"post\"><button class=\"add btn _prim -pea _md\" data-submit=\"\" name=\"action\" type=\"button\" value=\"in\">Add To Cart</button><input name=\"capiId\" type=\"hidden\" value=\"_1700476646_{eventType}\"/><input name=\"csrfToken\" type=\"hidden\" value=\"34efbbb4eb40f54218055fd2c7359c50\"/></form></footer></article><article class=\"prd _fb col c-prd\"><a class=\"core\" data-brand=\"Hifinit\" data-category=\"Electronics/Television &amp; Video/Televisions/Smart TVs\" data-dimension23=\"32533\" data-dimension26=\"6\" data-dimension27=\"5\" data-dimension28=\"1\" data-dimension37=\"0\" data-dimension43=\"BDEAL|BLF|BLF_04|COL_226|COL_230|CP_1|CP_MT104|CP_MT31|CP_UN2|CP_UN245|CP_UN246|CP_UN247|CP_UN255|CP_UN256|CP_UN258|CP_UN262|CP_UN263|CP_UN264|CP_UN265|CP_UN269|CP_UN3|DOW_12|DOW_120|JA23_100|JBF|MLP2|TBOOST|TW23_05|XMAS22|XMAS22_02|XMAS22_06|XMAS22_07\" data-dimension44=\"0\" data-id=\"HI279EA0UU27NNAFAMZ\" data-list=\"\" data-name=\"43E3S 43 Inch Android Smart Full HD LED TV - Black\" data-position=\"14\" data-price=\"135.19\" data-track-onclick=\"eecProduct\" data-track-onview=\"eecProduct\" href=\"/hifinit-43e3s-43-inch-android-smart-full-hd-led-tv-black-72019715.html\"><div class=\"img-c\"><img alt=\"\" class=\"img\" data-lazy=\"true\" data-src=\"https://ke.jumia.is/unsafe/fit-in/300x300/filters:fill(white)/product/51/791027/1.jpg?7606\" height=\"208\" src=\"data:image/gif;base64,R0lGODlhAQABAIAAAAAAAP///yH5BAEAAAAALAAAAAABAAEAAAIBRAA7\" width=\"208\"/><span class=\"bdg _xs camp\" style=\"color:#FFFFFF;background:#000000;\">Black Friday deal</span></div><div class=\"info\"><h3 class=\"name\">Hifinit 43E3S 43 Inch Android Smart Full HD LED TV - Black</h3><div class=\"prc\">KSh 22,399</div><div class=\"s-prc-w\"><div class=\"old\">KSh 40,400</div><div class=\"bdg _dsct _sm\">45%</div></div><div class=\"rev\"><div class=\"stars _s\">5 out of 5<div class=\"in\" style=\"width:100%\"></div></div>(6)</div><svg aria-label=\"Express Shipping\" class=\"ic xprss\" height=\"10\" viewbox=\"0 0 114 12\" width=\"94\"><use xlink:href=\"https://www.jumia.co.ke/assets_he/images/i-shop-jumia.9f5451c7.svg#express\"></use></svg></div></a><footer class=\"ft\"><form action=\"/cart/products/HI279EA0UU27NNAFAMZ-89891398/quantity/\" class=\"-df -i-ctr -pr -j-bet\" data-add-cart=\"\" data-brand=\"Hifinit\" data-category=\"Electronics/Television &amp; Video/Televisions/Smart TVs\" data-dimension23=\"32533\" data-dimension26=\"6\" data-dimension27=\"5\" data-dimension28=\"1\" data-dimension37=\"0\" data-dimension43=\"BDEAL|BLF|BLF_04|COL_226|COL_230|CP_1|CP_MT104|CP_MT31|CP_UN2|CP_UN245|CP_UN246|CP_UN247|CP_UN255|CP_UN256|CP_UN258|CP_UN262|CP_UN263|CP_UN264|CP_UN265|CP_UN269|CP_UN3|DOW_12|DOW_120|JA23_100|JBF|MLP2|TBOOST|TW23_05|XMAS22|XMAS22_02|XMAS22_06|XMAS22_07\" data-dimension44=\"0\" data-id=\"HI279EA0UU27NNAFAMZ\" data-name=\"43E3S 43 Inch Android Smart Full HD LED TV - Black\" data-price=\"135.19\" data-simplesku=\"HI279EA0UU27NNAFAMZ-89891398\" data-sku=\"HI279EA0UU27NNAFAMZ\" data-svar=\"HI279EA0UU27NNAFAMZ-89891398\" data-track-onsubmit=\"addToCart\" data-variant=\"\" data-xhr=\"true\" method=\"post\"><button class=\"add btn _prim -pea _md\" data-submit=\"\" name=\"action\" type=\"button\" value=\"in\">Add To Cart</button><input name=\"capiId\" type=\"hidden\" value=\"_1700476646_{eventType}\"/><input name=\"csrfToken\" type=\"hidden\" value=\"34efbbb4eb40f54218055fd2c7359c50\"/></form></footer></article><article class=\"prd _fb col c-prd\"><a class=\"core\" data-brand=\"Vision Plus\" data-category=\"Electronics/Television &amp; Video/Televisions/Smart TVs\" data-dimension23=\"17058\" data-dimension26=\"126\" data-dimension27=\"4.3\" data-dimension28=\"0\" data-dimension37=\"0\" data-dimension43=\"BLF|Boost|COL_223|CP_MT11|CP_MT15|CP_MT16|CP_MT18|CP_MT19|CP_MT24|CP_MT29|CP_MT31|CP_MT35|CP_UN100|CP_UN2|CP_UN245|CP_UN246|CP_UN247|CP_UN255|CP_UN256|CP_UN258|CP_UN262|CP_UN263|CP_UN264|CP_UN265|DOW_11|JA23_01|JBF|MLP2|TBOOST|TW23_05|XMAS22|XMAS22_02\" data-dimension44=\"0\" data-id=\"VI799EA09NCP9NAFAMZ\" data-list=\"\" data-name='43\" Inch Frameless FHD Smart Android Bluetooth TV AppStore+FREEBRACKET+EXTENSON' data-position=\"15\" data-price=\"175.03\" data-track-onclick=\"eecProduct\" data-track-onview=\"eecProduct\" href=\"/43-inch-frameless-fhd-smart-android-bluetooth-tv-appstorefreebracketextenson-vision-plus-mpg1521972.html\"><div class=\"img-c\"><img alt=\"\" class=\"img\" data-lazy=\"true\" data-src=\"https://ke.jumia.is/unsafe/fit-in/300x300/filters:fill(white)/product/16/206093/1.jpg?2207\" height=\"208\" src=\"data:image/gif;base64,R0lGODlhAQABAIAAAAAAAP///yH5BAEAAAAALAAAAAABAAEAAAIBRAA7\" width=\"208\"/><span class=\"bdg _xs camp\" style=\"color:#FFFFFF;background:#000000;\">Black Friday deal</span></div><div class=\"info\"><h3 class=\"name\">Vision Plus 43\" Inch Frameless FHD Smart Android Bluetooth TV AppStore+FREEBRACKET+EXTENSON</h3><div class=\"prc\">KSh 28,999</div><div class=\"s-prc-w\"><div class=\"old\">KSh 35,000</div><div class=\"bdg _dsct _sm\">17%</div></div><div class=\"rev\"><div class=\"stars _s\">4.3 out of 5<div class=\"in\" style=\"width:86%\"></div></div>(126)</div></div></a><footer class=\"ft\"><form action=\"/cart/products/VI799EA09NCP9NAFAMZ-51471756/quantity/\" class=\"-df -i-ctr -pr -j-bet\" data-add-cart=\"\" data-brand=\"Vision Plus\" data-category=\"Electronics/Television &amp; Video/Televisions/Smart TVs\" data-dimension23=\"17058\" data-dimension26=\"126\" data-dimension27=\"4.3\" data-dimension28=\"0\" data-dimension37=\"0\" data-dimension43=\"BLF|Boost|COL_223|CP_MT11|CP_MT15|CP_MT16|CP_MT18|CP_MT19|CP_MT24|CP_MT29|CP_MT31|CP_MT35|CP_UN100|CP_UN2|CP_UN245|CP_UN246|CP_UN247|CP_UN255|CP_UN256|CP_UN258|CP_UN262|CP_UN263|CP_UN264|CP_UN265|DOW_11|JA23_01|JBF|MLP2|TBOOST|TW23_05|XMAS22|XMAS22_02\" data-dimension44=\"0\" data-id=\"VI799EA09NCP9NAFAMZ\" data-name='43\" Inch Frameless FHD Smart Android Bluetooth TV AppStore+FREEBRACKET+EXTENSON' data-price=\"175.03\" data-simplesku=\"VI799EA09NCP9NAFAMZ-51471756\" data-sku=\"VI799EA09NCP9NAFAMZ\" data-svar=\"VI799EA09NCP9NAFAMZ-51471756\" data-track-onsubmit=\"addToCart\" data-variant=\"\" data-xhr=\"true\" method=\"post\"><button class=\"add btn _prim -pea _md\" data-submit=\"\" name=\"action\" type=\"button\" value=\"in\">Add To Cart</button><input name=\"capiId\" type=\"hidden\" value=\"_1700476646_{eventType}\"/><input name=\"csrfToken\" type=\"hidden\" value=\"34efbbb4eb40f54218055fd2c7359c50\"/></form></footer></article><article class=\"prd _fb col c-prd\"><a class=\"core\" data-brand=\"Vitron\" data-category=\"Electronics/Television &amp; Video/Televisions/Smart TVs\" data-dimension23=\"14222\" data-dimension26=\"1\" data-dimension27=\"5\" data-dimension28=\"0\" data-dimension37=\"0\" data-dimension43=\"BDEAL|BLF|BLF_04|Boost|JBF|TBOOST\" data-dimension44=\"0\" data-id=\"VI505EA1ZMZ25NAFAMZ\" data-list=\"\" data-name='43\" Inch,SMART Android FHD TV,DECODER,NETFLIX,YOUTUBE-4388FS+ GIFTS' data-position=\"16\" data-price=\"142.41\" data-track-onclick=\"eecProduct\" data-track-onview=\"eecProduct\" href=\"/vitron-43-inchsmart-android-fhd-tvdecodernetflixyoutube-4388fs-gifts-150642302.html\"><div class=\"img-c\"><img alt=\"\" class=\"img\" data-lazy=\"true\" data-src=\"https://ke.jumia.is/unsafe/fit-in/300x300/filters:fill(white)/product/20/3246051/1.jpg?5427\" height=\"208\" src=\"data:image/gif;base64,R0lGODlhAQABAIAAAAAAAP///yH5BAEAAAAALAAAAAABAAEAAAIBRAA7\" width=\"208\"/><span class=\"bdg _xs camp\" style=\"color:#FFFFFF;background:#000000;\">Black Friday deal</span></div><div class=\"info\"><h3 class=\"name\">Vitron 43\" Inch,SMART Android FHD TV,DECODER,NETFLIX,YOUTUBE-4388FS+ GIFTS</h3><div class=\"prc\">KSh 23,595</div><div class=\"s-prc-w\"><div class=\"old\">KSh 46,000</div><div class=\"bdg _dsct _sm\">49%</div></div><div class=\"rev\"><div class=\"stars _s\">5 out of 5<div class=\"in\" style=\"width:100%\"></div></div>(1)</div></div></a><footer class=\"ft\"><form action=\"/cart/products/VI505EA1ZMZ25NAFAMZ-197035367/quantity/\" class=\"-df -i-ctr -pr -j-bet\" data-add-cart=\"\" data-brand=\"Vitron\" data-category=\"Electronics/Television &amp; Video/Televisions/Smart TVs\" data-dimension23=\"14222\" data-dimension26=\"1\" data-dimension27=\"5\" data-dimension28=\"0\" data-dimension37=\"0\" data-dimension43=\"BDEAL|BLF|BLF_04|Boost|JBF|TBOOST\" data-dimension44=\"0\" data-id=\"VI505EA1ZMZ25NAFAMZ\" data-name='43\" Inch,SMART Android FHD TV,DECODER,NETFLIX,YOUTUBE-4388FS+ GIFTS' data-price=\"142.41\" data-simplesku=\"VI505EA1ZMZ25NAFAMZ-197035367\" data-sku=\"VI505EA1ZMZ25NAFAMZ\" data-svar=\"VI505EA1ZMZ25NAFAMZ-197035367\" data-track-onsubmit=\"addToCart\" data-variant=\"\" data-xhr=\"true\" method=\"post\"><button class=\"add btn _prim -pea _md\" data-submit=\"\" name=\"action\" type=\"button\" value=\"in\">Add To Cart</button><input name=\"capiId\" type=\"hidden\" value=\"_1700476646_{eventType}\"/><input name=\"csrfToken\" type=\"hidden\" value=\"34efbbb4eb40f54218055fd2c7359c50\"/></form></footer></article><article class=\"prd _fb col c-prd\"><a class=\"core\" data-brand=\"Vitron\" data-category=\"Electronics/Television &amp; Video/Televisions/Smart TVs\" data-dimension23=\"42996\" data-dimension26=\"\" data-dimension27=\"\" data-dimension28=\"0\" data-dimension37=\"0\" data-dimension43=\"BLF|BLF_04|TBOOST\" data-dimension44=\"0\" data-id=\"VI505EA2F5Z49NAFAMZ\" data-list=\"\" data-name='43\" Inch Smart  CLEAR  ANDROID TV  NETFLIX,YOUTUBE INBUILT DECORDER' data-position=\"17\" data-price=\"150.89\" data-track-onclick=\"eecProduct\" data-track-onview=\"eecProduct\" href=\"/43-inch-smart-clear-android-tv-netflixyoutube-inbuilt-decorder-vitron-mpg1522003.html\"><div class=\"img-c\"><img alt=\"\" class=\"img\" data-lazy=\"true\" data-src=\"https://ke.jumia.is/unsafe/fit-in/300x300/filters:fill(white)/product/46/4053851/1.jpg?4841\" height=\"208\" src=\"data:image/gif;base64,R0lGODlhAQABAIAAAAAAAP///yH5BAEAAAAALAAAAAABAAEAAAIBRAA7\" width=\"208\"/><span class=\"bdg _xs camp\" style=\"color:#FFFFFF;background:#000000;\">Black Friday deal</span></div><div class=\"info\"><h3 class=\"name\">Vitron 43\" Inch Smart  CLEAR  ANDROID TV  NETFLIX,YOUTUBE INBUILT DECORDER</h3><div class=\"prc\">KSh 24,999</div><div class=\"s-prc-w\"><div class=\"old\">KSh 37,999</div><div class=\"bdg _dsct _sm\">34%</div></div></div></a><footer class=\"ft\"><form action=\"/cart/products/VI505EA2F5Z49NAFAMZ-207875956/quantity/\" class=\"-df -i-ctr -pr -j-bet\" data-add-cart=\"\" data-brand=\"Vitron\" data-category=\"Electronics/Television &amp; Video/Televisions/Smart TVs\" data-dimension23=\"42996\" data-dimension26=\"\" data-dimension27=\"\" data-dimension28=\"0\" data-dimension37=\"0\" data-dimension43=\"BLF|BLF_04|TBOOST\" data-dimension44=\"0\" data-id=\"VI505EA2F5Z49NAFAMZ\" data-name='43\" Inch Smart  CLEAR  ANDROID TV  NETFLIX,YOUTUBE INBUILT DECORDER' data-price=\"150.89\" data-simplesku=\"VI505EA2F5Z49NAFAMZ-207875956\" data-sku=\"VI505EA2F5Z49NAFAMZ\" data-svar=\"VI505EA2F5Z49NAFAMZ-207875956\" data-track-onsubmit=\"addToCart\" data-variant=\"\" data-xhr=\"true\" method=\"post\"><button class=\"add btn _prim -pea _md\" data-submit=\"\" name=\"action\" type=\"button\" value=\"in\">Add To Cart</button><input name=\"capiId\" type=\"hidden\" value=\"_1700476646_{eventType}\"/><input name=\"csrfToken\" type=\"hidden\" value=\"34efbbb4eb40f54218055fd2c7359c50\"/></form></footer></article><article class=\"prd _fb col c-prd\"><a class=\"core\" data-brand=\"Hisense\" data-category=\"Electronics/Television &amp; Video/Televisions/Smart TVs\" data-dimension23=\"14222\" data-dimension26=\"\" data-dimension27=\"\" data-dimension28=\"0\" data-dimension37=\"0\" data-dimension43=\"BLF|BLF_04|Boost|COL_249|TBOOST\" data-dimension44=\"0\" data-id=\"HI200EA0WO95HNAFAMZ\" data-list=\"\" data-name=\"43'' Inch FRAMELESS 4K ULTRA HD SMART TV, BLUETOOTH+TV GUARD+EXTENSION\" data-position=\"18\" data-price=\"241.40\" data-track-onclick=\"eecProduct\" data-track-onview=\"eecProduct\" href=\"/43-inch-frameless-4k-ultra-hd-smart-tv-bluetoothtv-guardextension-hisense-mpg1521595.html\"><div class=\"img-c\"><img alt=\"\" class=\"img\" data-lazy=\"true\" data-src=\"https://ke.jumia.is/unsafe/fit-in/300x300/filters:fill(white)/product/54/879317/1.jpg?7140\" height=\"208\" src=\"data:image/gif;base64,R0lGODlhAQABAIAAAAAAAP///yH5BAEAAAAALAAAAAABAAEAAAIBRAA7\" width=\"208\"/><span class=\"bdg _xs camp\" style=\"color:#FFFFFF;background:#000000;\">Black Friday deal</span></div><div class=\"info\"><h3 class=\"name\">Hisense 43'' Inch FRAMELESS 4K ULTRA HD SMART TV, BLUETOOTH+TV GUARD+EXTENSION</h3><div class=\"prc\">KSh 39,995</div><div class=\"s-prc-w\"><div class=\"old\">KSh 60,000</div><div class=\"bdg _dsct _sm\">33%</div></div><p class=\"mpg\" data-prc=\"KSh 39,995\" data-tot=\"2\">offers from</p></div></a><footer class=\"ft\"><form action=\"/cart/products/HI200EA0WO95HNAFAMZ-89150031/quantity/\" class=\"-df -i-ctr -pr -j-bet\" data-add-cart=\"\" data-brand=\"Hisense\" data-category=\"Electronics/Television &amp; Video/Televisions/Smart TVs\" data-dimension23=\"14222\" data-dimension26=\"\" data-dimension27=\"\" data-dimension28=\"0\" data-dimension37=\"0\" data-dimension43=\"BLF|BLF_04|Boost|COL_249|TBOOST\" data-dimension44=\"0\" data-id=\"HI200EA0WO95HNAFAMZ\" data-name=\"43'' Inch FRAMELESS 4K ULTRA HD SMART TV, BLUETOOTH+TV GUARD+EXTENSION\" data-price=\"241.40\" data-simplesku=\"HI200EA0WO95HNAFAMZ-89150031\" data-sku=\"HI200EA0WO95HNAFAMZ\" data-svar=\"HI200EA0WO95HNAFAMZ-89150031\" data-track-onsubmit=\"addToCart\" data-variant=\"\" data-xhr=\"true\" method=\"post\"><button class=\"add btn _prim -pea _md\" data-submit=\"\" name=\"action\" type=\"button\" value=\"in\">Add To Cart</button><input name=\"capiId\" type=\"hidden\" value=\"_1700476646_{eventType}\"/><input name=\"csrfToken\" type=\"hidden\" value=\"34efbbb4eb40f54218055fd2c7359c50\"/></form></footer></article><article class=\"prd _fb col c-prd\"><a class=\"core\" data-brand=\"Vitron\" data-category=\"Electronics/Television &amp; Video/Televisions/Smart TVs\" data-dimension23=\"28297\" data-dimension26=\"\" data-dimension27=\"\" data-dimension28=\"0\" data-dimension37=\"0\" data-dimension43=\"BDEAL|BLF|BLF_04|TBOOST\" data-dimension44=\"0\" data-id=\"VI505EA1E5HHONAFAMZ\" data-list=\"\" data-name='43\" Inch-FHD Smart Android TV With GooglePlay+Wall Bracket+TVGuard' data-position=\"19\" data-price=\"144.25\" data-track-onclick=\"eecProduct\" data-track-onview=\"eecProduct\" href=\"/43-inch-fhd-smart-android-tv-with-googleplaywall-brackettvguard-vitron-mpg604428.html\"><div class=\"img-c\"><img alt=\"\" class=\"img\" data-lazy=\"true\" data-src=\"https://ke.jumia.is/unsafe/fit-in/300x300/filters:fill(white)/product/84/236748/1.jpg?8053\" height=\"208\" src=\"data:image/gif;base64,R0lGODlhAQABAIAAAAAAAP///yH5BAEAAAAALAAAAAABAAEAAAIBRAA7\" width=\"208\"/><span class=\"bdg _xs camp\" style=\"color:#FFFFFF;background:#000000;\">Black Friday deal</span></div><div class=\"info\"><h3 class=\"name\">Vitron 43\" Inch-FHD Smart Android TV With GooglePlay+Wall Bracket+TVGuard</h3><div class=\"prc\">KSh 23,899</div><div class=\"s-prc-w\"><div class=\"old\">KSh 40,000</div><div class=\"bdg _dsct _sm\">40%</div></div><p class=\"mpg\" data-prc=\"KSh 23,899\" data-tot=\"2\">offers from</p></div></a><footer class=\"ft\"><form action=\"/cart/products/VI505EA1E5HHONAFAMZ-106262088/quantity/\" class=\"-df -i-ctr -pr -j-bet\" data-add-cart=\"\" data-brand=\"Vitron\" data-category=\"Electronics/Television &amp; Video/Televisions/Smart TVs\" data-dimension23=\"28297\" data-dimension26=\"\" data-dimension27=\"\" data-dimension28=\"0\" data-dimension37=\"0\" data-dimension43=\"BDEAL|BLF|BLF_04|TBOOST\" data-dimension44=\"0\" data-id=\"VI505EA1E5HHONAFAMZ\" data-name='43\" Inch-FHD Smart Android TV With GooglePlay+Wall Bracket+TVGuard' data-price=\"144.25\" data-simplesku=\"VI505EA1E5HHONAFAMZ-106262088\" data-sku=\"VI505EA1E5HHONAFAMZ\" data-svar=\"VI505EA1E5HHONAFAMZ-106262088\" data-track-onsubmit=\"addToCart\" data-variant=\"\" data-xhr=\"true\" method=\"post\"><button class=\"add btn _prim -pea _md\" data-submit=\"\" name=\"action\" type=\"button\" value=\"in\">Add To Cart</button><input name=\"capiId\" type=\"hidden\" value=\"_1700476646_{eventType}\"/><input name=\"csrfToken\" type=\"hidden\" value=\"34efbbb4eb40f54218055fd2c7359c50\"/></form></footer></article><article class=\"prd _fb col c-prd\"><a class=\"core\" data-brand=\"Hifinit\" data-category=\"Electronics/Television &amp; Video/Televisions/Smart TVs\" data-dimension23=\"131953\" data-dimension26=\"\" data-dimension27=\"\" data-dimension28=\"1\" data-dimension37=\"0\" data-dimension43=\"BDEAL|BLF|BLF_04|Boost|CP_1|CP_UN269|JA23_100|TBOOST\" data-dimension44=\"0\" data-id=\"HI279EA2IWEB0NAFAMZ\" data-list=\"\" data-name=\"43'' Inch Android Smart FHD NETFLIX YOUTUBE LED TV-Black\" data-position=\"20\" data-price=\"133.99\" data-track-onclick=\"eecProduct\" data-track-onview=\"eecProduct\" href=\"/hifinit-43-inch-android-smart-fhd-netflix-youtube-led-tv-black-127967625.html\"><div class=\"img-c\"><img alt=\"\" class=\"img\" data-lazy=\"true\" data-src=\"https://ke.jumia.is/unsafe/fit-in/300x300/filters:fill(white)/product/52/6769721/1.jpg?0519\" height=\"208\" src=\"data:image/gif;base64,R0lGODlhAQABAIAAAAAAAP///yH5BAEAAAAALAAAAAABAAEAAAIBRAA7\" width=\"208\"/><span class=\"bdg _xs camp\" style=\"color:#FFFFFF;background:#000000;\">Black Friday deal</span></div><div class=\"info\"><h3 class=\"name\">Hifinit 43'' Inch Android Smart FHD NETFLIX YOUTUBE LED TV-Black</h3><div class=\"prc\">KSh 22,199</div><div class=\"s-prc-w\"><div class=\"old\">KSh 39,999</div><div class=\"bdg _dsct _sm\">45%</div></div><svg aria-label=\"Express Shipping\" class=\"ic xprss\" height=\"10\" viewbox=\"0 0 114 12\" width=\"94\"><use xlink:href=\"https://www.jumia.co.ke/assets_he/images/i-shop-jumia.9f5451c7.svg#express\"></use></svg></div></a><footer class=\"ft\"><form action=\"/cart/products/HI279EA2IWEB0NAFAMZ-171811477/quantity/\" class=\"-df -i-ctr -pr -j-bet\" data-add-cart=\"\" data-brand=\"Hifinit\" data-category=\"Electronics/Television &amp; Video/Televisions/Smart TVs\" data-dimension23=\"131953\" data-dimension26=\"\" data-dimension27=\"\" data-dimension28=\"1\" data-dimension37=\"0\" data-dimension43=\"BDEAL|BLF|BLF_04|Boost|CP_1|CP_UN269|JA23_100|TBOOST\" data-dimension44=\"0\" data-id=\"HI279EA2IWEB0NAFAMZ\" data-name=\"43'' Inch Android Smart FHD NETFLIX YOUTUBE LED TV-Black\" data-price=\"133.99\" data-simplesku=\"HI279EA2IWEB0NAFAMZ-171811477\" data-sku=\"HI279EA2IWEB0NAFAMZ\" data-svar=\"HI279EA2IWEB0NAFAMZ-171811477\" data-track-onsubmit=\"addToCart\" data-variant=\"\" data-xhr=\"true\" method=\"post\"><button class=\"add btn _prim -pea _md\" data-submit=\"\" name=\"action\" type=\"button\" value=\"in\">Add To Cart</button><input name=\"capiId\" type=\"hidden\" value=\"_1700476646_{eventType}\"/><input name=\"csrfToken\" type=\"hidden\" value=\"34efbbb4eb40f54218055fd2c7359c50\"/></form></footer></article><article class=\"prd _fb col c-prd\"><a class=\"core\" data-brand=\"Royal\" data-category=\"Electronics/Television &amp; Video/Televisions/Smart TVs\" data-dimension23=\"91095\" data-dimension26=\"8\" data-dimension27=\"4.5\" data-dimension28=\"0\" data-dimension37=\"0\" data-dimension43=\"BDEAL|BLF|BLF_04|Boost|COL_178|TBOOST\" data-dimension44=\"0\" data-id=\"RO689EA0TOEAXNAFAMZ\" data-list=\"\" data-name='Frameless 43\" Inch TV SMART Android TV FHD-Netfix,Youtube' data-position=\"21\" data-price=\"156.92\" data-track-onclick=\"eecProduct\" data-track-onview=\"eecProduct\" href=\"/frameless-43-inch-tv-smart-android-tv-fhd-netfixyoutube-royal-mpg1521693.html\"><div class=\"img-c\"><img alt=\"\" class=\"img\" data-lazy=\"true\" data-src=\"https://ke.jumia.is/unsafe/fit-in/300x300/filters:fill(white)/product/49/847145/1.jpg?0472\" height=\"208\" src=\"data:image/gif;base64,R0lGODlhAQABAIAAAAAAAP///yH5BAEAAAAALAAAAAABAAEAAAIBRAA7\" width=\"208\"/><span class=\"bdg _xs camp\" style=\"color:#FFFFFF;background:#000000;\">Black Friday deal</span></div><div class=\"info\"><h3 class=\"name\">Royal Frameless 43\" Inch TV SMART Android TV FHD-Netfix,Youtube</h3><div class=\"prc\">KSh 25,999</div><div class=\"s-prc-w\"><div class=\"old\">KSh 45,000</div><div class=\"bdg _dsct _sm\">42%</div></div><p class=\"mpg\" data-prc=\"KSh 25,999\" data-tot=\"2\">offers from</p><div class=\"rev\"><div class=\"stars _s\">4.5 out of 5<div class=\"in\" style=\"width:90%\"></div></div>(8)</div></div></a><footer class=\"ft\"><form action=\"/cart/products/RO689EA0TOEAXNAFAMZ-68597536/quantity/\" class=\"-df -i-ctr -pr -j-bet\" data-add-cart=\"\" data-brand=\"Royal\" data-category=\"Electronics/Television &amp; Video/Televisions/Smart TVs\" data-dimension23=\"91095\" data-dimension26=\"8\" data-dimension27=\"4.5\" data-dimension28=\"0\" data-dimension37=\"0\" data-dimension43=\"BDEAL|BLF|BLF_04|Boost|COL_178|TBOOST\" data-dimension44=\"0\" data-id=\"RO689EA0TOEAXNAFAMZ\" data-name='Frameless 43\" Inch TV SMART Android TV FHD-Netfix,Youtube' data-price=\"156.92\" data-simplesku=\"RO689EA0TOEAXNAFAMZ-68597536\" data-sku=\"RO689EA0TOEAXNAFAMZ\" data-svar=\"RO689EA0TOEAXNAFAMZ-68597536\" data-track-onsubmit=\"addToCart\" data-variant=\"\" data-xhr=\"true\" method=\"post\"><button class=\"add btn _prim -pea _md\" data-submit=\"\" name=\"action\" type=\"button\" value=\"in\">Add To Cart</button><input name=\"capiId\" type=\"hidden\" value=\"_1700476646_{eventType}\"/><input name=\"csrfToken\" type=\"hidden\" value=\"34efbbb4eb40f54218055fd2c7359c50\"/></form></footer></article><article class=\"prd _fb col c-prd\"><a class=\"core\" data-brand=\"Glaze\" data-category=\"Electronics/Television &amp; Video/Televisions/Smart TVs\" data-dimension23=\"91095\" data-dimension26=\"3\" data-dimension27=\"3.7\" data-dimension28=\"0\" data-dimension37=\"0\" data-dimension43=\"BLF|BLF_04|Boost|CP_UN262|CP_UN263|CP_UN264|CP_UN265|TBOOST\" data-dimension44=\"0\" data-id=\"GL679EA37SCNMNAFAMZ\" data-list=\"\" data-name='43\" Inch Full HD Smart Android TV WIFI Netflix, Youtube' data-position=\"22\" data-price=\"136.40\" data-track-onclick=\"eecProduct\" data-track-onview=\"eecProduct\" href=\"/43-inch-full-hd-smart-android-tv-wifi-netflix-youtube-tv-glaze-mpg724185.html\"><div class=\"img-c\"><img alt=\"\" class=\"img\" data-lazy=\"true\" data-src=\"https://ke.jumia.is/unsafe/fit-in/300x300/filters:fill(white)/product/94/4786101/1.jpg?5376\" height=\"208\" src=\"data:image/gif;base64,R0lGODlhAQABAIAAAAAAAP///yH5BAEAAAAALAAAAAABAAEAAAIBRAA7\" width=\"208\"/><span class=\"bdg _xs camp\" style=\"color:#FFFFFF;background:#000000;\">Black Friday deal</span></div><div class=\"info\"><h3 class=\"name\">Glaze 43\" Inch Full HD Smart Android TV WIFI Netflix, Youtube</h3><div class=\"prc\">KSh 22,599</div><div class=\"s-prc-w\"><div class=\"old\">KSh 22,999</div><div class=\"bdg _dsct _sm\">2%</div></div><p class=\"mpg\" data-prc=\"KSh 22,599\" data-tot=\"3\">offers from</p><div class=\"rev\"><div class=\"stars _s\">3.7 out of 5<div class=\"in\" style=\"width:74%\"></div></div>(3)</div></div></a><footer class=\"ft\"><form action=\"/cart/products/GL679EA37SCNMNAFAMZ-131957198/quantity/\" class=\"-df -i-ctr -pr -j-bet\" data-add-cart=\"\" data-brand=\"Glaze\" data-category=\"Electronics/Television &amp; Video/Televisions/Smart TVs\" data-dimension23=\"91095\" data-dimension26=\"3\" data-dimension27=\"3.7\" data-dimension28=\"0\" data-dimension37=\"0\" data-dimension43=\"BLF|BLF_04|Boost|CP_UN262|CP_UN263|CP_UN264|CP_UN265|TBOOST\" data-dimension44=\"0\" data-id=\"GL679EA37SCNMNAFAMZ\" data-name='43\" Inch Full HD Smart Android TV WIFI Netflix, Youtube' data-price=\"136.40\" data-simplesku=\"GL679EA37SCNMNAFAMZ-131957198\" data-sku=\"GL679EA37SCNMNAFAMZ\" data-svar=\"GL679EA37SCNMNAFAMZ-131957198\" data-track-onsubmit=\"addToCart\" data-variant=\"\" data-xhr=\"true\" method=\"post\"><button class=\"add btn _prim -pea _md\" data-submit=\"\" name=\"action\" type=\"button\" value=\"in\">Add To Cart</button><input name=\"capiId\" type=\"hidden\" value=\"_1700476646_{eventType}\"/><input name=\"csrfToken\" type=\"hidden\" value=\"34efbbb4eb40f54218055fd2c7359c50\"/></form></footer></article><article class=\"prd _fb col c-prd\"><a class=\"core\" data-brand=\"Hisense\" data-category=\"Electronics/Television &amp; Video/Televisions/Smart TVs\" data-dimension23=\"122527\" data-dimension26=\"2\" data-dimension27=\"2.5\" data-dimension28=\"0\" data-dimension37=\"0\" data-dimension43=\"BDEAL|Boost|COL_249|CP_MT31\" data-dimension44=\"0\" data-id=\"HI200EA2EPQ8DNAFAMZ\" data-list=\"\" data-name=\"43A6HKEN 43''A6 Series Inches Smart UHD 4K HDR Frameless LED TV (2023)\" data-position=\"23\" data-price=\"223.32\" data-track-onclick=\"eecProduct\" data-track-onview=\"eecProduct\" href=\"/43-inch-4k-uhd-hdr-frameless-smart-tv-2023-hisense-mpg1521498.html\"><div class=\"img-c\"><img alt=\"\" class=\"img\" data-lazy=\"true\" data-src=\"https://ke.jumia.is/unsafe/fit-in/300x300/filters:fill(white)/product/45/6473731/1.jpg?3314\" height=\"208\" src=\"data:image/gif;base64,R0lGODlhAQABAIAAAAAAAP///yH5BAEAAAAALAAAAAABAAEAAAIBRAA7\" width=\"208\"/></div><div class=\"info\"><h3 class=\"name\">Hisense 43A6HKEN 43''A6 Series Inches Smart UHD 4K HDR Frameless LED TV (2023)</h3><div class=\"prc\">KSh 37,000</div><div class=\"s-prc-w\"><div class=\"old\">KSh 69,000</div><div class=\"bdg _dsct _sm\">46%</div></div><p class=\"mpg\" data-prc=\"KSh 37,000\" data-tot=\"4\">offers from</p><div class=\"rev\"><div class=\"stars _s\">2.5 out of 5<div class=\"in\" style=\"width:50%\"></div></div>(2)</div></div></a><footer class=\"ft\"><form action=\"/cart/products/HI200EA2EPQ8DNAFAMZ-182381857/quantity/\" class=\"-df -i-ctr -pr -j-bet\" data-add-cart=\"\" data-brand=\"Hisense\" data-category=\"Electronics/Television &amp; Video/Televisions/Smart TVs\" data-dimension23=\"122527\" data-dimension26=\"2\" data-dimension27=\"2.5\" data-dimension28=\"0\" data-dimension37=\"0\" data-dimension43=\"BDEAL|Boost|COL_249|CP_MT31\" data-dimension44=\"0\" data-id=\"HI200EA2EPQ8DNAFAMZ\" data-name=\"43A6HKEN 43''A6 Series Inches Smart UHD 4K HDR Frameless LED TV (2023)\" data-price=\"223.32\" data-simplesku=\"HI200EA2EPQ8DNAFAMZ-182381857\" data-sku=\"HI200EA2EPQ8DNAFAMZ\" data-svar=\"HI200EA2EPQ8DNAFAMZ-182381857\" data-track-onsubmit=\"addToCart\" data-variant=\"\" data-xhr=\"true\" method=\"post\"><button class=\"add btn _prim -pea _md\" data-submit=\"\" name=\"action\" type=\"button\" value=\"in\">Add To Cart</button><input name=\"capiId\" type=\"hidden\" value=\"_1700476646_{eventType}\"/><input name=\"csrfToken\" type=\"hidden\" value=\"34efbbb4eb40f54218055fd2c7359c50\"/></form></footer></article><article class=\"prd _fb col c-prd\"><a class=\"core\" data-brand=\"CTC\" data-category=\"Electronics/Television &amp; Video/Televisions/Smart TVs\" data-dimension23=\"130674\" data-dimension26=\"\" data-dimension27=\"\" data-dimension28=\"0\" data-dimension37=\"0\" data-dimension43=\"APWK|BLF|BLF_04|Boost|TBOOST\" data-dimension44=\"0\" data-id=\"CT303EA29EKTLNAFAMZ\" data-list=\"\" data-name='43\" Inch Smart -Android 11,Frameless,Decoder,Netflix,Youtube+2 Free Gifts' data-position=\"24\" data-price=\"141.23\" data-track-onclick=\"eecProduct\" data-track-onview=\"eecProduct\" href=\"/ctc-43-inch-smart-android-11framelessdecodernetflixyoutube2-free-gifts-156092763.html\"><div class=\"img-c\"><img alt=\"\" class=\"img\" data-lazy=\"true\" data-src=\"https://ke.jumia.is/unsafe/fit-in/300x300/filters:fill(white)/product/36/7290651/1.jpg?5698\" height=\"208\" src=\"data:image/gif;base64,R0lGODlhAQABAIAAAAAAAP///yH5BAEAAAAALAAAAAABAAEAAAIBRAA7\" width=\"208\"/><span class=\"bdg _xs camp\" style=\"color:#FFFFFF;background:#000000;\">Black Friday deal</span></div><div class=\"info\"><h3 class=\"name\">CTC 43\" Inch Smart -Android 11,Frameless,Decoder,Netflix,Youtube+2 Free Gifts</h3><div class=\"prc\">KSh 23,399</div><div class=\"s-prc-w\"><div class=\"old\">KSh 46,000</div><div class=\"bdg _dsct _sm\">49%</div></div></div></a><footer class=\"ft\"><form action=\"/cart/products/CT303EA29EKTLNAFAMZ-205135765/quantity/\" class=\"-df -i-ctr -pr -j-bet\" data-add-cart=\"\" data-brand=\"CTC\" data-category=\"Electronics/Television &amp; Video/Televisions/Smart TVs\" data-dimension23=\"130674\" data-dimension26=\"\" data-dimension27=\"\" data-dimension28=\"0\" data-dimension37=\"0\" data-dimension43=\"APWK|BLF|BLF_04|Boost|TBOOST\" data-dimension44=\"0\" data-id=\"CT303EA29EKTLNAFAMZ\" data-name='43\" Inch Smart -Android 11,Frameless,Decoder,Netflix,Youtube+2 Free Gifts' data-price=\"141.23\" data-simplesku=\"CT303EA29EKTLNAFAMZ-205135765\" data-sku=\"CT303EA29EKTLNAFAMZ\" data-svar=\"CT303EA29EKTLNAFAMZ-205135765\" data-track-onsubmit=\"addToCart\" data-variant=\"\" data-xhr=\"true\" method=\"post\"><button class=\"add btn _prim -pea _md\" data-submit=\"\" name=\"action\" type=\"button\" value=\"in\">Add To Cart</button><input name=\"capiId\" type=\"hidden\" value=\"_1700476646_{eventType}\"/><input name=\"csrfToken\" type=\"hidden\" value=\"34efbbb4eb40f54218055fd2c7359c50\"/></form></footer></article><article class=\"prd _fb col c-prd\"><a class=\"core\" data-brand=\"CTC\" data-category=\"Electronics/Television &amp; Video/Televisions/Smart TVs\" data-dimension23=\"82218\" data-dimension26=\"2\" data-dimension27=\"5\" data-dimension28=\"0\" data-dimension37=\"0\" data-dimension43=\"APWK|BDEAL|BLF|BLF_04|TBOOST\" data-dimension44=\"0\" data-id=\"CT303EA2VXLR9NAFAMZ\" data-list=\"\" data-name='43\" Inches HD Smart Android TV,YOUTUBE,WIFI+FREE WALL BRACKET' data-position=\"25\" data-price=\"141.13\" data-track-onclick=\"eecProduct\" data-track-onview=\"eecProduct\" href=\"/ctc-43-inches-hd-smart-android-tvyoutubewififree-wall-bracket-139286547.html\"><div class=\"img-c\"><img alt=\"\" class=\"img\" data-lazy=\"true\" data-src=\"https://ke.jumia.is/unsafe/fit-in/300x300/filters:fill(white)/product/74/5682931/1.jpg?4044\" height=\"208\" src=\"data:image/gif;base64,R0lGODlhAQABAIAAAAAAAP///yH5BAEAAAAALAAAAAABAAEAAAIBRAA7\" width=\"208\"/><span class=\"bdg _xs camp\" style=\"color:#FFFFFF;background:#000000;\">Black Friday deal</span></div><div class=\"info\"><h3 class=\"name\">CTC 43\" Inches HD Smart Android TV,YOUTUBE,WIFI+FREE WALL BRACKET</h3><div class=\"prc\">KSh 23,383</div><div class=\"s-prc-w\"><div class=\"old\">KSh 27,888</div><div class=\"bdg _dsct _sm\">16%</div></div><div class=\"rev\"><div class=\"stars _s\">5 out of 5<div class=\"in\" style=\"width:100%\"></div></div>(2)</div></div></a><footer class=\"ft\"><form action=\"/cart/products/CT303EA2VXLR9NAFAMZ-184714399/quantity/\" class=\"-df -i-ctr -pr -j-bet\" data-add-cart=\"\" data-brand=\"CTC\" data-category=\"Electronics/Television &amp; Video/Televisions/Smart TVs\" data-dimension23=\"82218\" data-dimension26=\"2\" data-dimension27=\"5\" data-dimension28=\"0\" data-dimension37=\"0\" data-dimension43=\"APWK|BDEAL|BLF|BLF_04|TBOOST\" data-dimension44=\"0\" data-id=\"CT303EA2VXLR9NAFAMZ\" data-name='43\" Inches HD Smart Android TV,YOUTUBE,WIFI+FREE WALL BRACKET' data-price=\"141.13\" data-simplesku=\"CT303EA2VXLR9NAFAMZ-184714399\" data-sku=\"CT303EA2VXLR9NAFAMZ\" data-svar=\"CT303EA2VXLR9NAFAMZ-184714399\" data-track-onsubmit=\"addToCart\" data-variant=\"\" data-xhr=\"true\" method=\"post\"><button class=\"add btn _prim -pea _md\" data-submit=\"\" name=\"action\" type=\"button\" value=\"in\">Add To Cart</button><input name=\"capiId\" type=\"hidden\" value=\"_1700476646_{eventType}\"/><input name=\"csrfToken\" type=\"hidden\" value=\"34efbbb4eb40f54218055fd2c7359c50\"/></form></footer></article><article class=\"prd _fb col c-prd\"><a class=\"core\" data-brand=\"Vitron\" data-category=\"Electronics/Television &amp; Video/Televisions/Smart TVs\" data-dimension23=\"92775\" data-dimension26=\"36\" data-dimension27=\"4.3\" data-dimension28=\"0\" data-dimension37=\"0\" data-dimension43=\"BLF|COL_216|COL_223|CP_MT104|CP_MT31|CP_UN2|CP_UN245|CP_UN246|CP_UN247|CP_UN255|CP_UN256|CP_UN258|CP_UN262|CP_UN263|CP_UN264|CP_UN265|CP_UN3|CP_UN34|CP_UN9|MLP2|TBOOST|TW23_05|XMAS22|XMAS22_02|XMAS22_06|XMAS22_07\" data-dimension44=\"0\" data-id=\"VI505EA0IWG9HNAFAMZ\" data-list=\"\" data-name='Frameless,FULL HD Smart Android,43\" Inch TV+Netflix+Wall Mount' data-position=\"26\" data-price=\"142.44\" data-track-onclick=\"eecProduct\" data-track-onview=\"eecProduct\" href=\"/vitron-framelessfull-hd-smart-android43-inch-tvnetflixwall-mount-75174713.html\"><div class=\"img-c\"><img alt=\"\" class=\"img\" data-lazy=\"true\" data-src=\"https://ke.jumia.is/unsafe/fit-in/300x300/filters:fill(white)/product/31/747157/1.jpg?5700\" height=\"208\" src=\"data:image/gif;base64,R0lGODlhAQABAIAAAAAAAP///yH5BAEAAAAALAAAAAABAAEAAAIBRAA7\" width=\"208\"/><span class=\"bdg _xs camp\" style=\"color:#FFFFFF;background:#000000;\">Black Friday deal</span></div><div class=\"info\"><h3 class=\"name\">Vitron Frameless,FULL HD Smart Android,43\" Inch TV+Netflix+Wall Mount</h3><div class=\"prc\">KSh 23,599</div><div class=\"s-prc-w\"><div class=\"old\">KSh 40,000</div><div class=\"bdg _dsct _sm\">41%</div></div><div class=\"rev\"><div class=\"stars _s\">4.3 out of 5<div class=\"in\" style=\"width:86%\"></div></div>(36)</div></div></a><footer class=\"ft\"><form action=\"/cart/products/VI505EA0IWG9HNAFAMZ-93670032/quantity/\" class=\"-df -i-ctr -pr -j-bet\" data-add-cart=\"\" data-brand=\"Vitron\" data-category=\"Electronics/Television &amp; Video/Televisions/Smart TVs\" data-dimension23=\"92775\" data-dimension26=\"36\" data-dimension27=\"4.3\" data-dimension28=\"0\" data-dimension37=\"0\" data-dimension43=\"BLF|COL_216|COL_223|CP_MT104|CP_MT31|CP_UN2|CP_UN245|CP_UN246|CP_UN247|CP_UN255|CP_UN256|CP_UN258|CP_UN262|CP_UN263|CP_UN264|CP_UN265|CP_UN3|CP_UN34|CP_UN9|MLP2|TBOOST|TW23_05|XMAS22|XMAS22_02|XMAS22_06|XMAS22_07\" data-dimension44=\"0\" data-id=\"VI505EA0IWG9HNAFAMZ\" data-name='Frameless,FULL HD Smart Android,43\" Inch TV+Netflix+Wall Mount' data-price=\"142.44\" data-simplesku=\"VI505EA0IWG9HNAFAMZ-93670032\" data-sku=\"VI505EA0IWG9HNAFAMZ\" data-svar=\"VI505EA0IWG9HNAFAMZ-93670032\" data-track-onsubmit=\"addToCart\" data-variant=\"\" data-xhr=\"true\" method=\"post\"><button class=\"add btn _prim -pea _md\" data-submit=\"\" name=\"action\" type=\"button\" value=\"in\">Add To Cart</button><input name=\"capiId\" type=\"hidden\" value=\"_1700476646_{eventType}\"/><input name=\"csrfToken\" type=\"hidden\" value=\"34efbbb4eb40f54218055fd2c7359c50\"/></form></footer></article><article class=\"prd _fb col c-prd\"><a class=\"core\" data-brand=\"Amtec\" data-category=\"Electronics/Television &amp; Video/Televisions/Smart TVs\" data-dimension23=\"82218\" data-dimension26=\"\" data-dimension27=\"\" data-dimension28=\"0\" data-dimension37=\"0\" data-dimension43=\"BLF|BLF_04|TBOOST\" data-dimension44=\"0\" data-id=\"AM617EA0JLUT4NAFAMZ\" data-list=\"\" data-name=',43\" Inch FHD Smart Android FRAMELESS TV Netflix Youtube WIFI BLUETOOTH ENABLE' data-position=\"27\" data-price=\"147.23\" data-track-onclick=\"eecProduct\" data-track-onview=\"eecProduct\" href=\"/amtec-43-inch-fhd-smart-android-frameless-tv-netflix-youtube-wifi-bluetooth-enable-80423923.html\"><div class=\"img-c\"><img alt=\"\" class=\"img\" data-lazy=\"true\" data-src=\"https://ke.jumia.is/unsafe/fit-in/300x300/filters:fill(white)/product/32/932408/1.jpg?2454\" height=\"208\" src=\"data:image/gif;base64,R0lGODlhAQABAIAAAAAAAP///yH5BAEAAAAALAAAAAABAAEAAAIBRAA7\" width=\"208\"/><span class=\"bdg _xs camp\" style=\"color:#FFFFFF;background:#000000;\">Black Friday deal</span></div><div class=\"info\"><h3 class=\"name\">Amtec ,43\" Inch FHD Smart Android FRAMELESS TV Netflix Youtube WIFI BLUETOOTH ENABLE</h3><div class=\"prc\">KSh 24,393</div><div class=\"s-prc-w\"><div class=\"old\">KSh 32,999</div><div class=\"bdg _dsct _sm\">26%</div></div></div></a><footer class=\"ft\"><form action=\"/cart/products/AM617EA0JLUT4NAFAMZ-99931701/quantity/\" class=\"-df -i-ctr -pr -j-bet\" data-add-cart=\"\" data-brand=\"Amtec\" data-category=\"Electronics/Television &amp; Video/Televisions/Smart TVs\" data-dimension23=\"82218\" data-dimension26=\"\" data-dimension27=\"\" data-dimension28=\"0\" data-dimension37=\"0\" data-dimension43=\"BLF|BLF_04|TBOOST\" data-dimension44=\"0\" data-id=\"AM617EA0JLUT4NAFAMZ\" data-name=',43\" Inch FHD Smart Android FRAMELESS TV Netflix Youtube WIFI BLUETOOTH ENABLE' data-price=\"147.23\" data-simplesku=\"AM617EA0JLUT4NAFAMZ-99931701\" data-sku=\"AM617EA0JLUT4NAFAMZ\" data-svar=\"AM617EA0JLUT4NAFAMZ-99931701\" data-track-onsubmit=\"addToCart\" data-variant=\"\" data-xhr=\"true\" method=\"post\"><button class=\"add btn _prim -pea _md\" data-submit=\"\" name=\"action\" type=\"button\" value=\"in\">Add To Cart</button><input name=\"capiId\" type=\"hidden\" value=\"_1700476646_{eventType}\"/><input name=\"csrfToken\" type=\"hidden\" value=\"34efbbb4eb40f54218055fd2c7359c50\"/></form></footer></article><article class=\"prd _fb col c-prd\"><a class=\"core\" data-brand=\"CTC\" data-category=\"Electronics/Television &amp; Video/Televisions/Smart TVs\" data-dimension23=\"82218\" data-dimension26=\"\" data-dimension27=\"\" data-dimension28=\"0\" data-dimension37=\"0\" data-dimension43=\"BDEAL|BLF|BLF_04|TBOOST\" data-dimension44=\"0\" data-id=\"CT303EA2SD04LNAFAMZ\" data-list=\"\" data-name='43\" Inch Smart Android Frameless TV Netflix,Youtube Inbuilt Indecoder Wifi Ena' data-position=\"28\" data-price=\"141.83\" data-track-onclick=\"eecProduct\" data-track-onview=\"eecProduct\" href=\"/ctc-43-inch-smart-android-frameless-tv-netflixyoutube-inbuilt-indecoder-wifi-ena-139286586.html\"><div class=\"img-c\"><img alt=\"\" class=\"img\" data-lazy=\"true\" data-src=\"https://ke.jumia.is/unsafe/fit-in/300x300/filters:fill(white)/product/68/5682931/1.jpg?5061\" height=\"208\" src=\"data:image/gif;base64,R0lGODlhAQABAIAAAAAAAP///yH5BAEAAAAALAAAAAABAAEAAAIBRAA7\" width=\"208\"/><span class=\"bdg _xs camp\" style=\"color:#FFFFFF;background:#000000;\">Black Friday deal</span></div><div class=\"info\"><h3 class=\"name\">CTC 43\" Inch Smart Android Frameless TV Netflix,Youtube Inbuilt Indecoder Wifi Ena</h3><div class=\"prc\">KSh 23,499</div><div class=\"s-prc-w\"><div class=\"old\">KSh 28,777</div><div class=\"bdg _dsct _sm\">18%</div></div></div></a><footer class=\"ft\"><form action=\"/cart/products/CT303EA2SD04LNAFAMZ-184714438/quantity/\" class=\"-df -i-ctr -pr -j-bet\" data-add-cart=\"\" data-brand=\"CTC\" data-category=\"Electronics/Television &amp; Video/Televisions/Smart TVs\" data-dimension23=\"82218\" data-dimension26=\"\" data-dimension27=\"\" data-dimension28=\"0\" data-dimension37=\"0\" data-dimension43=\"BDEAL|BLF|BLF_04|TBOOST\" data-dimension44=\"0\" data-id=\"CT303EA2SD04LNAFAMZ\" data-name='43\" Inch Smart Android Frameless TV Netflix,Youtube Inbuilt Indecoder Wifi Ena' data-price=\"141.83\" data-simplesku=\"CT303EA2SD04LNAFAMZ-184714438\" data-sku=\"CT303EA2SD04LNAFAMZ\" data-svar=\"CT303EA2SD04LNAFAMZ-184714438\" data-track-onsubmit=\"addToCart\" data-variant=\"\" data-xhr=\"true\" method=\"post\"><button class=\"add btn _prim -pea _md\" data-submit=\"\" name=\"action\" type=\"button\" value=\"in\">Add To Cart</button><input name=\"capiId\" type=\"hidden\" value=\"_1700476646_{eventType}\"/><input name=\"csrfToken\" type=\"hidden\" value=\"34efbbb4eb40f54218055fd2c7359c50\"/></form></footer></article><article class=\"prd _fb col c-prd\"><a class=\"core\" data-brand=\"CTC\" data-category=\"Electronics/Television &amp; Video/Televisions/Smart TVs\" data-dimension23=\"82218\" data-dimension26=\"\" data-dimension27=\"\" data-dimension28=\"0\" data-dimension37=\"0\" data-dimension43=\"BLF|BLF_04|TBOOST\" data-dimension44=\"0\" data-id=\"CT303EA1NXO5HNAFAMZ\" data-list=\"\" data-name='43\" Inch SMART ANDROID NETFLIX YOUTUBE USB FRAMELESS HDMI USB HD READY' data-position=\"29\" data-price=\"141.83\" data-track-onclick=\"eecProduct\" data-track-onview=\"eecProduct\" href=\"/ctc-43-inch-smart-android-netflix-youtube-usb-frameless-hdmi-usb-hd-ready-139286600.html\"><div class=\"img-c\"><img alt=\"\" class=\"img\" data-lazy=\"true\" data-src=\"https://ke.jumia.is/unsafe/fit-in/300x300/filters:fill(white)/product/00/6682931/1.jpg?5060\" height=\"208\" src=\"data:image/gif;base64,R0lGODlhAQABAIAAAAAAAP///yH5BAEAAAAALAAAAAABAAEAAAIBRAA7\" width=\"208\"/><span class=\"bdg _xs camp\" style=\"color:#FFFFFF;background:#000000;\">Black Friday deal</span></div><div class=\"info\"><h3 class=\"name\">CTC 43\" Inch SMART ANDROID NETFLIX YOUTUBE USB FRAMELESS HDMI USB HD READY</h3><div class=\"prc\">KSh 23,499</div><div class=\"s-prc-w\"><div class=\"old\">KSh 28,777</div><div class=\"bdg _dsct _sm\">18%</div></div></div></a><footer class=\"ft\"><form action=\"/cart/products/CT303EA1NXO5HNAFAMZ-184714452/quantity/\" class=\"-df -i-ctr -pr -j-bet\" data-add-cart=\"\" data-brand=\"CTC\" data-category=\"Electronics/Television &amp; Video/Televisions/Smart TVs\" data-dimension23=\"82218\" data-dimension26=\"\" data-dimension27=\"\" data-dimension28=\"0\" data-dimension37=\"0\" data-dimension43=\"BLF|BLF_04|TBOOST\" data-dimension44=\"0\" data-id=\"CT303EA1NXO5HNAFAMZ\" data-name='43\" Inch SMART ANDROID NETFLIX YOUTUBE USB FRAMELESS HDMI USB HD READY' data-price=\"141.83\" data-simplesku=\"CT303EA1NXO5HNAFAMZ-184714452\" data-sku=\"CT303EA1NXO5HNAFAMZ\" data-svar=\"CT303EA1NXO5HNAFAMZ-184714452\" data-track-onsubmit=\"addToCart\" data-variant=\"\" data-xhr=\"true\" method=\"post\"><button class=\"add btn _prim -pea _md\" data-submit=\"\" name=\"action\" type=\"button\" value=\"in\">Add To Cart</button><input name=\"capiId\" type=\"hidden\" value=\"_1700476646_{eventType}\"/><input name=\"csrfToken\" type=\"hidden\" value=\"34efbbb4eb40f54218055fd2c7359c50\"/></form></footer></article><article class=\"prd _fb col c-prd\"><a class=\"core\" data-brand=\"Samsung\" data-category=\"Electronics/Television &amp; Video/Televisions/Smart TVs\" data-dimension23=\"139791\" data-dimension26=\"\" data-dimension27=\"\" data-dimension28=\"0\" data-dimension37=\"0\" data-dimension43=\"BLF|BLF_04|TBOOST\" data-dimension44=\"0\" data-id=\"SA948EA1R9CPVNAFAMZ\" data-list=\"\" data-name=\"43 inch 4K Smart TV\" data-position=\"30\" data-price=\"326.50\" data-track-onclick=\"eecProduct\" data-track-onview=\"eecProduct\" href=\"/43-inch-4k-smart-tv-samsung-mpg1521762.html\"><div class=\"img-c\"><img alt=\"\" class=\"img\" data-lazy=\"true\" data-src=\"https://ke.jumia.is/unsafe/fit-in/300x300/filters:fill(white)/product/06/2521951/1.jpg?2708\" height=\"208\" src=\"data:image/gif;base64,R0lGODlhAQABAIAAAAAAAP///yH5BAEAAAAALAAAAAABAAEAAAIBRAA7\" width=\"208\"/><span class=\"bdg _xs camp\" style=\"color:#FFFFFF;background:#000000;\">Black Friday deal</span></div><div class=\"info\"><h3 class=\"name\">Samsung 43 inch 4K Smart TV</h3><div class=\"prc\">KSh 54,095</div><p class=\"mpg\" data-prc=\"KSh 54,095\" data-tot=\"5\">offers from</p></div></a><footer class=\"ft\"><div class=\"-df -i-ctr -pr -j-bet\" data-add-cart=\"\" data-sku=\"SA948EA1R9CPVNAFAMZ\" data-svar=\"SA948EA1R9CPVNAFAMZ-208827741\" data-xhr=\"true\"><button class=\"add btn _prim -pea _md\" data-trigpopup=\"\" type=\"button\">Add To Cart</button></div></footer></article><article class=\"prd _fb col c-prd\"><a class=\"core\" data-brand=\"Hisense\" data-category=\"Electronics/Television &amp; Video/Televisions/Smart TVs\" data-dimension23=\"49081\" data-dimension26=\"2\" data-dimension27=\"4.5\" data-dimension28=\"0\" data-dimension37=\"0\" data-dimension43=\"BDEAL|BF2018|BLF|BLF_04|COL_249|CP_MT31|TBOOST\" data-dimension44=\"0\" data-id=\"HI200EA2NR4I1NAFAMZ\" data-list=\"\" data-name=\"43A6HKEN 43''A6 Series Inches Smart UHD 4K HDR Frameless LED TV (2023)\" data-position=\"31\" data-price=\"223.31\" data-track-onclick=\"eecProduct\" data-track-onview=\"eecProduct\" href=\"/hisense-43a6hken-43a6-series-inches-smart-uhd-4k-hdr-frameless-led-tv-2023-156092806.html\"><div class=\"img-c\"><img alt=\"\" class=\"img\" data-lazy=\"true\" data-src=\"https://ke.jumia.is/unsafe/fit-in/300x300/filters:fill(white)/product/60/8290651/1.jpg?5696\" height=\"208\" src=\"data:image/gif;base64,R0lGODlhAQABAIAAAAAAAP///yH5BAEAAAAALAAAAAABAAEAAAIBRAA7\" width=\"208\"/><span class=\"bdg _xs camp\" style=\"color:#FFFFFF;background:#000000;\">Black Friday deal</span></div><div class=\"info\"><h3 class=\"name\">Hisense 43A6HKEN 43''A6 Series Inches Smart UHD 4K HDR Frameless LED TV (2023)</h3><div class=\"prc\">KSh 36,999</div><div class=\"s-prc-w\"><div class=\"old\">KSh 44,000</div><div class=\"bdg _dsct _sm\">16%</div></div><div class=\"rev\"><div class=\"stars _s\">4.5 out of 5<div class=\"in\" style=\"width:90%\"></div></div>(2)</div></div></a><footer class=\"ft\"><form action=\"/cart/products/HI200EA2NR4I1NAFAMZ-205135860/quantity/\" class=\"-df -i-ctr -pr -j-bet\" data-add-cart=\"\" data-brand=\"Hisense\" data-category=\"Electronics/Television &amp; Video/Televisions/Smart TVs\" data-dimension23=\"49081\" data-dimension26=\"2\" data-dimension27=\"4.5\" data-dimension28=\"0\" data-dimension37=\"0\" data-dimension43=\"BDEAL|BF2018|BLF|BLF_04|COL_249|CP_MT31|TBOOST\" data-dimension44=\"0\" data-id=\"HI200EA2NR4I1NAFAMZ\" data-name=\"43A6HKEN 43''A6 Series Inches Smart UHD 4K HDR Frameless LED TV (2023)\" data-price=\"223.31\" data-simplesku=\"HI200EA2NR4I1NAFAMZ-205135860\" data-sku=\"HI200EA2NR4I1NAFAMZ\" data-svar=\"HI200EA2NR4I1NAFAMZ-205135860\" data-track-onsubmit=\"addToCart\" data-variant=\"\" data-xhr=\"true\" method=\"post\"><button class=\"add btn _prim -pea _md\" data-submit=\"\" name=\"action\" type=\"button\" value=\"in\">Add To Cart</button><input name=\"capiId\" type=\"hidden\" value=\"_1700476646_{eventType}\"/><input name=\"csrfToken\" type=\"hidden\" value=\"34efbbb4eb40f54218055fd2c7359c50\"/></form></footer></article><article class=\"prd _fb col c-prd\"><a class=\"core\" data-brand=\"Vitron\" data-category=\"Electronics/Television &amp; Video/Televisions/Smart TVs\" data-dimension23=\"\" data-dimension26=\"2\" data-dimension27=\"5\" data-dimension28=\"0\" data-dimension37=\"0\" data-dimension43=\"BLF|BLF_04|Boost|TBOOST\" data-dimension44=\"0\" data-id=\"VI505EA1OW67KNAFAMZ\" data-list=\"\" data-name='43\" INCHES FULL HD SMART ANDROID FRAMELESS TV-NETFLIX/YOUTUBE-USB/HDMI/VGA+GIFTS' data-position=\"32\" data-price=\"153.90\" data-track-onclick=\"eecProduct\" data-track-onview=\"eecProduct\" href=\"/43-inches-full-hd-smart-android-frameless-tv-netflixyoutube-usbhdmivgagifts-vitron-mpg1521991.html\"><div class=\"img-c\"><img alt=\"\" class=\"img\" data-lazy=\"true\" data-src=\"https://ke.jumia.is/unsafe/fit-in/300x300/filters:fill(white)/product/02/2780001/1.jpg?6140\" height=\"208\" src=\"data:image/gif;base64,R0lGODlhAQABAIAAAAAAAP///yH5BAEAAAAALAAAAAABAAEAAAIBRAA7\" width=\"208\"/><span class=\"bdg _xs camp\" style=\"color:#FFFFFF;background:#000000;\">Black Friday deal</span><div class=\"bdg _oos _xs\"><svg class=\"ic\" height=\"16\" viewbox=\"0 0 24 24\" width=\"16\"><use xlink:href=\"https://www.jumia.co.ke/assets_he/images/i-icons.a66628fd.svg#block\"></use></svg>Out of Stock</div></div><div class=\"info\"><h3 class=\"name\">Vitron 43\" INCHES FULL HD SMART ANDROID FRAMELESS TV-NETFLIX/YOUTUBE-USB/HDMI/VGA+GIFTS</h3><div class=\"prc\">KSh 25,499</div><div class=\"s-prc-w\"><div class=\"old\">KSh 40,000</div><div class=\"bdg _dsct _sm\">36%</div></div><div class=\"rev\"><div class=\"stars _s\">5 out of 5<div class=\"in\" style=\"width:100%\"></div></div>(2)</div></div></a><footer class=\"ft\"><button class=\"add btn _md\" disabled=\"\">Sold out</button></footer></article><article class=\"prd _fb col c-prd\"><a class=\"core\" data-brand=\"Hisense\" data-category=\"Electronics/Television &amp; Video/Televisions/Smart TVs\" data-dimension23=\"133010\" data-dimension26=\"\" data-dimension27=\"\" data-dimension28=\"0\" data-dimension37=\"0\" data-dimension43=\"BLF|BLF_04|TBOOST\" data-dimension44=\"0\" data-id=\"HI200EA2EH50HNAFAMZ\" data-list=\"\" data-name='43\" Inch FULL HD Frameless Smart TV, Netflix, YouTube+FREE GIFTS' data-position=\"33\" data-price=\"211.19\" data-track-onclick=\"eecProduct\" data-track-onview=\"eecProduct\" href=\"/hisense-43-inch-full-hd-frameless-smart-tv-netflix-youtubefree-gifts-152664254.html\"><div class=\"img-c\"><img alt=\"\" class=\"img\" data-lazy=\"true\" data-src=\"https://ke.jumia.is/unsafe/fit-in/300x300/filters:fill(white)/product/45/2466251/1.jpg?9850\" height=\"208\" src=\"data:image/gif;base64,R0lGODlhAQABAIAAAAAAAP///yH5BAEAAAAALAAAAAABAAEAAAIBRAA7\" width=\"208\"/><span class=\"bdg _xs camp\" style=\"color:#FFFFFF;background:#000000;\">Black Friday deal</span></div><div class=\"info\"><h3 class=\"name\">Hisense 43\" Inch FULL HD Frameless Smart TV, Netflix, YouTube+FREE GIFTS</h3><div class=\"prc\">KSh 34,990</div><div class=\"s-prc-w\"><div class=\"old\">KSh 56,000</div><div class=\"bdg _dsct _sm\">38%</div></div></div></a><footer class=\"ft\"><form action=\"/cart/products/HI200EA2EH50HNAFAMZ-200930250/quantity/\" class=\"-df -i-ctr -pr -j-bet\" data-add-cart=\"\" data-brand=\"Hisense\" data-category=\"Electronics/Television &amp; Video/Televisions/Smart TVs\" data-dimension23=\"133010\" data-dimension26=\"\" data-dimension27=\"\" data-dimension28=\"0\" data-dimension37=\"0\" data-dimension43=\"BLF|BLF_04|TBOOST\" data-dimension44=\"0\" data-id=\"HI200EA2EH50HNAFAMZ\" data-name='43\" Inch FULL HD Frameless Smart TV, Netflix, YouTube+FREE GIFTS' data-price=\"211.19\" data-simplesku=\"HI200EA2EH50HNAFAMZ-200930250\" data-sku=\"HI200EA2EH50HNAFAMZ\" data-svar=\"HI200EA2EH50HNAFAMZ-200930250\" data-track-onsubmit=\"addToCart\" data-variant=\"\" data-xhr=\"true\" method=\"post\"><button class=\"add btn _prim -pea _md\" data-submit=\"\" name=\"action\" type=\"button\" value=\"in\">Add To Cart</button><input name=\"capiId\" type=\"hidden\" value=\"_1700476646_{eventType}\"/><input name=\"csrfToken\" type=\"hidden\" value=\"34efbbb4eb40f54218055fd2c7359c50\"/></form></footer></article><article class=\"prd _fb col c-prd\"><a class=\"core\" data-brand=\"Wyinix\" data-category=\"Electronics/Television &amp; Video/Televisions/Smart TVs\" data-dimension23=\"\" data-dimension26=\"\" data-dimension27=\"\" data-dimension28=\"0\" data-dimension37=\"0\" data-dimension43=\"BLF|BLF_04|TBOOST\" data-dimension44=\"0\" data-id=\"WY292EA1JGR8TNAFAMZ\" data-list=\"\" data-name='43\" INCHES Smart Android TV Netflix, Youtube,-FREE TO AIR CHANNELS' data-position=\"34\" data-price=\"143.65\" data-track-onclick=\"eecProduct\" data-track-onview=\"eecProduct\" href=\"/wyinix-43-inches-smart-android-tv-netflix-youtube-free-to-air-channels-58606139.html\"><div class=\"img-c\"><img alt=\"\" class=\"img\" data-lazy=\"true\" data-src=\"https://ke.jumia.is/unsafe/fit-in/300x300/filters:fill(white)/product/93/160685/1.jpg?8791\" height=\"208\" src=\"data:image/gif;base64,R0lGODlhAQABAIAAAAAAAP///yH5BAEAAAAALAAAAAABAAEAAAIBRAA7\" width=\"208\"/><span class=\"bdg _xs camp\" style=\"color:#FFFFFF;background:#000000;\">Black Friday deal</span><div class=\"bdg _oos _xs\"><svg class=\"ic\" height=\"16\" viewbox=\"0 0 24 24\" width=\"16\"><use xlink:href=\"https://www.jumia.co.ke/assets_he/images/i-icons.a66628fd.svg#block\"></use></svg>Out of Stock</div></div><div class=\"info\"><h3 class=\"name\">Wyinix 43\" INCHES Smart Android TV Netflix, Youtube,-FREE TO AIR CHANNELS</h3><div class=\"prc\">KSh 23,800</div><div class=\"s-prc-w\"><div class=\"old\">KSh 35,000</div><div class=\"bdg _dsct _sm\">32%</div></div></div></a><footer class=\"ft\"><button class=\"add btn _md\" disabled=\"\">Sold out</button></footer></article><article class=\"prd _fb col c-prd\"><a class=\"core\" data-brand=\"Gld\" data-category=\"Electronics/Television &amp; Video/Televisions/Smart TVs\" data-dimension23=\"\" data-dimension26=\"1\" data-dimension27=\"5\" data-dimension28=\"0\" data-dimension37=\"0\" data-dimension43=\"APWK|BLF|BLF_04|CP_MT31|TBOOST\" data-dimension44=\"0\" data-id=\"GL585EA09X7IFNAFAMZ\" data-list=\"\" data-name='43\"  INCHES SMART FRAMELESS TV-HDMI/USB-INBUILD WIFI+FREE WALL MOUNT &amp;TV GUARD' data-position=\"35\" data-price=\"156.32\" data-track-onclick=\"eecProduct\" data-track-onview=\"eecProduct\" href=\"/gld-43-inches-smart-frameless-tv-hdmiusb-inbuild-wififree-wall-mount-tv-guard-72956661.html\"><div class=\"img-c\"><img alt=\"\" class=\"img\" data-lazy=\"true\" data-src=\"https://ke.jumia.is/unsafe/fit-in/300x300/filters:fill(white)/product/16/665927/1.jpg?3334\" height=\"208\" src=\"data:image/gif;base64,R0lGODlhAQABAIAAAAAAAP///yH5BAEAAAAALAAAAAABAAEAAAIBRAA7\" width=\"208\"/><span class=\"bdg _xs camp\" style=\"color:#FFFFFF;background:#000000;\">Black Friday deal</span><div class=\"bdg _oos _xs\"><svg class=\"ic\" height=\"16\" viewbox=\"0 0 24 24\" width=\"16\"><use xlink:href=\"https://www.jumia.co.ke/assets_he/images/i-icons.a66628fd.svg#block\"></use></svg>Out of Stock</div></div><div class=\"info\"><h3 class=\"name\">Gld 43\"  INCHES SMART FRAMELESS TV-HDMI/USB-INBUILD WIFI+FREE WALL MOUNT &amp;TV GUARD</h3><div class=\"prc\">KSh 25,900</div><div class=\"s-prc-w\"><div class=\"old\">KSh 39,999</div><div class=\"bdg _dsct _sm\">35%</div></div><div class=\"rev\"><div class=\"stars _s\">5 out of 5<div class=\"in\" style=\"width:100%\"></div></div>(1)</div></div></a><footer class=\"ft\"><button class=\"add btn _md\" disabled=\"\">Sold out</button></footer></article><article class=\"prd _fb col c-prd\"><a class=\"core\" data-brand=\"TCL\" data-category=\"Electronics/Television &amp; Video/Televisions/Smart TVs\" data-dimension23=\"28297\" data-dimension26=\"\" data-dimension27=\"\" data-dimension28=\"0\" data-dimension37=\"0\" data-dimension43=\"\" data-dimension44=\"0\" data-id=\"TC187EA3A7DOENAFAMZ\" data-list=\"\" data-name='43\" Inch Smart GOOGLE TELEVSION BLUETOOTH-43S5400A' data-position=\"36\" data-price=\"203.40\" data-track-onclick=\"eecProduct\" data-track-onview=\"eecProduct\" href=\"/43-inch-smart-google-televsion-bluetooth-43s5400a-tcl-mpg1521922.html\"><div class=\"img-c\"><img alt=\"\" class=\"img\" data-lazy=\"true\" data-src=\"https://ke.jumia.is/unsafe/fit-in/300x300/filters:fill(white)/product/98/5390061/1.jpg?9931\" height=\"208\" src=\"data:image/gif;base64,R0lGODlhAQABAIAAAAAAAP///yH5BAEAAAAALAAAAAABAAEAAAIBRAA7\" width=\"208\"/></div><div class=\"info\"><h3 class=\"name\">TCL 43\" Inch Smart GOOGLE TELEVSION BLUETOOTH-43S5400A</h3><div class=\"prc\">KSh 33,699</div><div class=\"s-prc-w\"><div class=\"old\">KSh 60,000</div><div class=\"bdg _dsct _sm\">44%</div></div><p class=\"mpg\" data-prc=\"KSh 33,699\" data-tot=\"11\">offers from</p></div></a><footer class=\"ft\"><div class=\"-df -i-ctr -pr -j-bet\" data-add-cart=\"\" data-sku=\"TC187EA3A7DOENAFAMZ\" data-svar=\"TC187EA3A7DOENAFAMZ-210027117\" data-xhr=\"true\"><button class=\"add btn _prim -pea _md\" data-trigpopup=\"\" type=\"button\">Add To Cart</button></div></footer></article><article class=\"prd _fb col c-prd\"><a class=\"core\" data-brand=\"Vision Plus\" data-category=\"Electronics/Television &amp; Video/Televisions/Smart TVs\" data-dimension23=\"17058\" data-dimension26=\"31\" data-dimension27=\"4.2\" data-dimension28=\"0\" data-dimension37=\"0\" data-dimension43=\"Boost|COL_223|CP_MT11|CP_MT19|CP_MT24|CP_MT29|CP_MT31|CP_MT35|CP_MT94|DOW_11\" data-dimension44=\"0\" data-id=\"VI799EA12TLCDNAFAMZ\" data-list=\"\" data-name='VP8843SF 43\" Inch Television Frameless FHD Smart Android TV+Free Wall Bracket' data-position=\"37\" data-price=\"168.99\" data-track-onclick=\"eecProduct\" data-track-onview=\"eecProduct\" href=\"/vp8843sf-43-inch-television-frameless-fhd-smart-android-tvfree-wall-bracket-vision-plus-mpg1521970.html\"><div class=\"img-c\"><img alt=\"\" class=\"img\" data-lazy=\"true\" data-src=\"https://ke.jumia.is/unsafe/fit-in/300x300/filters:fill(white)/product/65/206093/1.jpg?2207\" height=\"208\" src=\"data:image/gif;base64,R0lGODlhAQABAIAAAAAAAP///yH5BAEAAAAALAAAAAABAAEAAAIBRAA7\" width=\"208\"/></div><div class=\"info\"><h3 class=\"name\">Vision Plus VP8843SF 43\" Inch Television Frameless FHD Smart Android TV+Free Wall Bracket</h3><div class=\"prc\">KSh 27,999</div><div class=\"s-prc-w\"><div class=\"old\">KSh 35,000</div><div class=\"bdg _dsct _sm\">20%</div></div><p class=\"mpg\" data-prc=\"KSh 27,999\" data-tot=\"2\">offers from</p><div class=\"rev\"><div class=\"stars _s\">4.2 out of 5<div class=\"in\" style=\"width:84%\"></div></div>(31)</div></div></a><footer class=\"ft\"><form action=\"/cart/products/VI799EA12TLCDNAFAMZ-51471751/quantity/\" class=\"-df -i-ctr -pr -j-bet\" data-add-cart=\"\" data-brand=\"Vision Plus\" data-category=\"Electronics/Television &amp; Video/Televisions/Smart TVs\" data-dimension23=\"17058\" data-dimension26=\"31\" data-dimension27=\"4.2\" data-dimension28=\"0\" data-dimension37=\"0\" data-dimension43=\"Boost|COL_223|CP_MT11|CP_MT19|CP_MT24|CP_MT29|CP_MT31|CP_MT35|CP_MT94|DOW_11\" data-dimension44=\"0\" data-id=\"VI799EA12TLCDNAFAMZ\" data-name='VP8843SF 43\" Inch Television Frameless FHD Smart Android TV+Free Wall Bracket' data-price=\"168.99\" data-simplesku=\"VI799EA12TLCDNAFAMZ-51471751\" data-sku=\"VI799EA12TLCDNAFAMZ\" data-svar=\"VI799EA12TLCDNAFAMZ-51471751\" data-track-onsubmit=\"addToCart\" data-variant=\"\" data-xhr=\"true\" method=\"post\"><button class=\"add btn _prim -pea _md\" data-submit=\"\" name=\"action\" type=\"button\" value=\"in\">Add To Cart</button><input name=\"capiId\" type=\"hidden\" value=\"_1700476646_{eventType}\"/><input name=\"csrfToken\" type=\"hidden\" value=\"34efbbb4eb40f54218055fd2c7359c50\"/></form></footer></article><article class=\"prd _fb col c-prd\"><a class=\"core\" data-brand=\"Skyworth\" data-category=\"Electronics/Television &amp; Video/Televisions/Smart TVs\" data-dimension23=\"17058\" data-dimension26=\"1\" data-dimension27=\"5\" data-dimension28=\"0\" data-dimension37=\"0\" data-dimension43=\"COL_216|COL_223\" data-dimension44=\"0\" data-id=\"SK493EA15FJ7DNAFAMZ\" data-list=\"\" data-name='43\" Inch Frameless Smart Android TV, Google Play Decoder+FREE BRACKET' data-position=\"38\" data-price=\"175.03\" data-track-onclick=\"eecProduct\" data-track-onview=\"eecProduct\" href=\"/43-inch-frameless-smart-android-tv-google-play-decoderfree-bracket-skyworth-mpg1440672.html\"><div class=\"img-c\"><img alt=\"\" class=\"img\" data-lazy=\"true\" data-src=\"https://ke.jumia.is/unsafe/fit-in/300x300/filters:fill(white)/product/69/588985/1.jpg?4228\" height=\"208\" src=\"data:image/gif;base64,R0lGODlhAQABAIAAAAAAAP///yH5BAEAAAAALAAAAAABAAEAAAIBRAA7\" width=\"208\"/></div><div class=\"info\"><h3 class=\"name\">Skyworth 43\" Inch Frameless Smart Android TV, Google Play Decoder+FREE BRACKET</h3><div class=\"prc\">KSh 28,999</div><div class=\"s-prc-w\"><div class=\"old\">KSh 35,000</div><div class=\"bdg _dsct _sm\">17%</div></div><p class=\"mpg\" data-prc=\"KSh 28,999\" data-tot=\"2\">offers from</p><div class=\"rev\"><div class=\"stars _s\">5 out of 5<div class=\"in\" style=\"width:100%\"></div></div>(1)</div></div></a><footer class=\"ft\"><form action=\"/cart/products/SK493EA15FJ7DNAFAMZ-74550241/quantity/\" class=\"-df -i-ctr -pr -j-bet\" data-add-cart=\"\" data-brand=\"Skyworth\" data-category=\"Electronics/Television &amp; Video/Televisions/Smart TVs\" data-dimension23=\"17058\" data-dimension26=\"1\" data-dimension27=\"5\" data-dimension28=\"0\" data-dimension37=\"0\" data-dimension43=\"COL_216|COL_223\" data-dimension44=\"0\" data-id=\"SK493EA15FJ7DNAFAMZ\" data-name='43\" Inch Frameless Smart Android TV, Google Play Decoder+FREE BRACKET' data-price=\"175.03\" data-simplesku=\"SK493EA15FJ7DNAFAMZ-74550241\" data-sku=\"SK493EA15FJ7DNAFAMZ\" data-svar=\"SK493EA15FJ7DNAFAMZ-74550241\" data-track-onsubmit=\"addToCart\" data-variant=\"\" data-xhr=\"true\" method=\"post\"><button class=\"add btn _prim -pea _md\" data-submit=\"\" name=\"action\" type=\"button\" value=\"in\">Add To Cart</button><input name=\"capiId\" type=\"hidden\" value=\"_1700476646_{eventType}\"/><input name=\"csrfToken\" type=\"hidden\" value=\"34efbbb4eb40f54218055fd2c7359c50\"/></form></footer></article><article class=\"prd _fb col c-prd\"><a class=\"core\" data-brand=\"Skyworth\" data-category=\"Electronics/Television &amp; Video/Televisions/Smart TVs\" data-dimension23=\"130674\" data-dimension26=\"\" data-dimension27=\"\" data-dimension28=\"0\" data-dimension37=\"0\" data-dimension43=\"\" data-dimension44=\"0\" data-id=\"SK493EA3AVX0ONAFAMZ\" data-list=\"\" data-name='43\" INCH  FHD ,BLUETOOTH ENABLED- Smart&amp;Digital  Android TELEVISION' data-position=\"39\" data-price=\"181.06\" data-track-onclick=\"eecProduct\" data-track-onview=\"eecProduct\" href=\"/skyworth-43-inch-fhd-bluetooth-enabled-smartdigital-android-television-161838699.html\"><div class=\"img-c\"><img alt=\"\" class=\"img\" data-lazy=\"true\" data-src=\"https://ke.jumia.is/unsafe/fit-in/300x300/filters:fill(white)/product/99/6838161/1.jpg?1685\" height=\"208\" src=\"data:image/gif;base64,R0lGODlhAQABAIAAAAAAAP///yH5BAEAAAAALAAAAAABAAEAAAIBRAA7\" width=\"208\"/></div><div class=\"info\"><h3 class=\"name\">Skyworth 43\" INCH  FHD ,BLUETOOTH ENABLED- Smart&amp;Digital  Android TELEVISION</h3><div class=\"prc\">KSh 29,999</div><div class=\"s-prc-w\"><div class=\"old\">KSh 58,000</div><div class=\"bdg _dsct _sm\">48%</div></div></div></a><footer class=\"ft\"><div class=\"-df -i-ctr -pr -j-bet\" data-add-cart=\"\" data-sku=\"SK493EA3AVX0ONAFAMZ\" data-svar=\"SK493EA3AVX0ONAFAMZ-212329041\" data-xhr=\"true\"><button class=\"add btn _prim -pea _md\" data-trigpopup=\"\" type=\"button\">Add To Cart</button></div></footer></article><article class=\"prd _fb col c-prd\"><a class=\"core\" data-brand=\"Vitron\" data-category=\"Electronics/Television &amp; Video/Televisions/Smart TVs\" data-dimension23=\"14222\" data-dimension26=\"1\" data-dimension27=\"1\" data-dimension28=\"0\" data-dimension37=\"0\" data-dimension43=\"CP_UN262|CP_UN263|CP_UN264|CP_UN265\" data-dimension44=\"0\" data-id=\"VI505EA0E2PULNAFAMZ\" data-list=\"\" data-name='43\" Inch,SMART Android 11 TV ,NETFLIX,YOUTUBE+FREE  BRACKET+GUARD' data-position=\"40\" data-price=\"142.44\" data-track-onclick=\"eecProduct\" data-track-onview=\"eecProduct\" href=\"/vitron-43-inchsmart-android-11-tv-netflixyoutubefree-bracketguard-73414632.html\"><div class=\"img-c\"><img alt=\"\" class=\"img\" data-lazy=\"true\" data-src=\"https://ke.jumia.is/unsafe/fit-in/300x300/filters:fill(white)/product/23/641437/1.jpg?5462\" height=\"208\" src=\"data:image/gif;base64,R0lGODlhAQABAIAAAAAAAP///yH5BAEAAAAALAAAAAABAAEAAAIBRAA7\" width=\"208\"/></div><div class=\"info\"><h3 class=\"name\">Vitron 43\" Inch,SMART Android 11 TV ,NETFLIX,YOUTUBE+FREE  BRACKET+GUARD</h3><div class=\"prc\">KSh 23,599</div><div class=\"s-prc-w\"><div class=\"old\">KSh 40,000</div><div class=\"bdg _dsct _sm\">41%</div></div><div class=\"rev\"><div class=\"stars _s\">1 out of 5<div class=\"in\" style=\"width:20%\"></div></div>(1)</div></div></a><footer class=\"ft\"><form action=\"/cart/products/VI505EA0E2PULNAFAMZ-91546329/quantity/\" class=\"-df -i-ctr -pr -j-bet\" data-add-cart=\"\" data-brand=\"Vitron\" data-category=\"Electronics/Television &amp; Video/Televisions/Smart TVs\" data-dimension23=\"14222\" data-dimension26=\"1\" data-dimension27=\"1\" data-dimension28=\"0\" data-dimension37=\"0\" data-dimension43=\"CP_UN262|CP_UN263|CP_UN264|CP_UN265\" data-dimension44=\"0\" data-id=\"VI505EA0E2PULNAFAMZ\" data-name='43\" Inch,SMART Android 11 TV ,NETFLIX,YOUTUBE+FREE  BRACKET+GUARD' data-price=\"142.44\" data-simplesku=\"VI505EA0E2PULNAFAMZ-91546329\" data-sku=\"VI505EA0E2PULNAFAMZ\" data-svar=\"VI505EA0E2PULNAFAMZ-91546329\" data-track-onsubmit=\"addToCart\" data-variant=\"\" data-xhr=\"true\" method=\"post\"><button class=\"add btn _prim -pea _md\" data-submit=\"\" name=\"action\" type=\"button\" value=\"in\">Add To Cart</button><input name=\"capiId\" type=\"hidden\" value=\"_1700476646_{eventType}\"/><input name=\"csrfToken\" type=\"hidden\" value=\"34efbbb4eb40f54218055fd2c7359c50\"/></form></footer></article></div><div class=\"pg-w -ptm -pbxl\"><a class=\"pg\"><svg class=\"ic\" height=\"24\" viewbox=\"0 0 24 24\" width=\"24\"><use xlink:href=\"https://www.jumia.co.ke/assets_he/images/i-icons.a66628fd.svg#first-page\"></use></svg></a><a class=\"pg\"><svg class=\"ic\" height=\"24\" viewbox=\"0 0 24 24\" width=\"24\"><use xlink:href=\"https://www.jumia.co.ke/assets_he/images/i-icons.a66628fd.svg#arrow-left\"></use></svg></a><a aria-label=\"Page 1\" class=\"pg _act\">1</a><a aria-label=\"Page 2\" class=\"pg\" href=\"/catalog/?q=43+inch+smart+tvs&amp;page=2#catalog-listing\">2</a><a aria-label=\"Page 3\" class=\"pg\" href=\"/catalog/?q=43+inch+smart+tvs&amp;page=3#catalog-listing\">3</a><a aria-label=\"Next Page\" class=\"pg\" href=\"/catalog/?q=43+inch+smart+tvs&amp;page=2#catalog-listing\"><svg class=\"ic\" height=\"24\" viewbox=\"0 0 24 24\" width=\"24\"><use xlink:href=\"https://www.jumia.co.ke/assets_he/images/i-icons.a66628fd.svg#arrow-right\"></use></svg></a><a aria-label=\"Last Page\" class=\"pg\" href=\"/catalog/?q=43+inch+smart+tvs&amp;page=7#catalog-listing\"><svg class=\"ic\" height=\"24\" viewbox=\"0 0 24 24\" width=\"24\"><use xlink:href=\"https://www.jumia.co.ke/assets_he/images/i-icons.a66628fd.svg#last-page\"></use></svg></a></div></section></div><div class=\"reco _hid col16 -pvs\" data-list=\"lastViewed\" data-reco-onview=\"lastViewed\" pagetype=\"catalog\"><div class=\"reco-w card\"><header class=\"-df -fw -pas -i-ctr -mh-48px\"><h2 class=\"-phs -fs20 -m -f1 -elli\">Recently Viewed<span class=\"-r\" data-plc-subtitle=\"true\"></span></h2><a class=\"-df -i-ctr -fsh0 -upp -m -lh-1 -pvxs -mla -or5\" data-plc-href=\"true\">See All<svg class=\"ic -f-or5\" height=\"24\" viewbox=\"0 0 24 24\" width=\"24\"><use xlink:href=\"https://www.jumia.co.ke/assets_he/images/i-icons.a66628fd.svg#arrow-right\"></use></svg></a></header><div data-plc=\"true\"></div></div></div></div><div class=\"b2top\"><a aria-hidden=\"true\" class=\"cta btn _fab _sec\" href=\"#top\"><svg class=\"ic -f-bk\" height=\"24\" viewbox=\"0 0 24 24\" width=\"24\"><use xlink:href=\"https://www.jumia.co.ke/assets_he/images/i-icons.a66628fd.svg#arrow-down\"></use></svg></a></div><script type=\"application/ld+json\">{\"@context\":\"https://schema.org\",\"@type\":\"CollectionPage\",\"breadcrumb\":{\"@type\":\"BreadcrumbList\",\"itemListElement\":[{\"@type\":\"ListItem\",\"position\":1,\"item\":{\"@id\":\"https://www.jumia.co.ke/\",\"name\":\"Home\"}},{\"@type\":\"ListItem\",\"position\":2,\"item\":{\"@id\":\"https://www.jumia.co.ke/all-products/\",\"name\":\"All Products\"}}]}}</script></main><footer class=\"-pbm -fs12 -bg-gy7 -gy05\"><div class=\"-bg-gy9 -mbm\"><div class=\"row -ptl\"><div class=\"col4\"><svg class=\"ic\" height=\"32\" viewbox=\"0 0 172 30\" width=\"140\"><use xlink:href=\"https://www.jumia.co.ke/assets_he/images/i-shop-jumia.9f5451c7.svg#logo-inv\"></use></svg></div><div class=\"col7 -df -d-co -j-bet\"><div><div class=\"f-t -pbs\">New to Jumia?</div>Subscribe to our newsletter to get updates on our latest offers!</div><form action=\"/newsletter/subscription/default/\" class=\"-pts\" id=\"nl-ft-f\" method=\"post\"><div class=\"-df -i-start\"><div class=\"fi-w _ic\"><input aria-label=\"E-mail\" class=\"fi\" id=\"fi-nl-ft-email\" name=\"email\" placeholder=\"Enter E-mail Address\" required=\"\" type=\"email\" value=\"\"/><svg class=\"ic\" height=\"24\" viewbox=\"0 0 24 24\" width=\"24\"><use xlink:href=\"https://www.jumia.co.ke/assets_he/images/i-icons.a66628fd.svg#email\"></use></svg></div><div class=\"-df -pvs -plxs\"><button class=\"-mhxs brd-btn _sqr -phl\" name=\"gender\" value=\"male\">Male</button><button class=\"-mhxs brd-btn _sqr -phl\" name=\"gender\" value=\"female\">Female</button></div></div><input name=\"csrfToken\" type=\"hidden\" value=\"34efbbb4eb40f54218055fd2c7359c50\"/></form></div><div class=\"col4 -mla\"><div class=\"-df\"><svg class=\"ic -fsh0\" height=\"40\" viewbox=\"0 0 40 40\" width=\"40\"><use xlink:href=\"https://www.jumia.co.ke/assets_he/images/i-shop-jumia.9f5451c7.svg#app\"></use></svg><div class=\"-plm\"><div class=\"f-t -pbs\">DOWNLOAD JUMIA FREE APP</div>Get access to exclusive offers!</div></div><div class=\"-df -ptm\"><a class=\"brd-btn _sqr ic-link -paxs -dif -mrs\" href=\"https://itunes.apple.com/us/app/jumia-online-shopping/id925015459?mt=8\" rel=\"nofollow noopener\" target=\"_blank\" title=\"Get it on the App Store\"><svg class=\"ic\" height=\"22\" viewbox=\"0 0 88 24\" width=\"88\"><use xlink:href=\"https://www.jumia.co.ke/assets_he/images/i-global.95441341.svg#appstore\"></use></svg></a><a class=\"brd-btn _sqr ic-link -paxs -dif\" href=\"https://play.google.com/store/apps/details?id=com.jumia.android&amp;referrer=adjust_reftag%3Dc05WiGKiLDtaY\" rel=\"nofollow noopener\" target=\"_blank\" title=\"Get it on Google Play\"><svg class=\"ic\" height=\"22\" viewbox=\"0 0 93 23\" width=\"93\"><use xlink:href=\"https://www.jumia.co.ke/assets_he/images/i-global.95441341.svg#googleplay\"></use></svg></a></div></div></div></div><div class=\"row -pbl\"><div class=\"col4 -df -d-co -pvs\"><span class=\"f-t -pbm\">NEED HELP?</span><button class=\"-gy05 -pbxs -cp -ahf -tal\" data-btn-lc=\"true\" data-eventaction=\"open\" data-eventcategory=\"LiveChat\" data-eventlabel=\"footer\" data-track-onclick=\"true\">Chat with us</button><ul class=\"-lsn\"><li><a class=\"_link -pbxs\" href=\"https://www.jumia.co.ke/help/\">Help Center </a></li><li><a class=\"_link -pbxs\" href=\"https://www.jumia.co.ke/sp-contact/\">Contact Us</a></li></ul><span class=\"f-t -pvm\">USEFUL LINKS</span><ul class=\"-lsn\"><li><a class=\"_link -pbxs\" href=\"https://www.jumia.co.ke/sp-place-track-order/\">Track Your Order</a></li><li><a class=\"_link -pbxs\" href=\"https://www.jumia.co.ke/delivery-timelines/\">Shipping and delivery</a></li><li><a class=\"_link -pbxs\" href=\"https://www.jumia.co.ke/return-policy/\">Return Policy</a></li><li><a class=\"_link -pbxs\" href=\"https://www.jumia.co.ke/sp-how-to/\">How to Order?</a></li><li><a class=\"_link -pbxs\" href=\"https://www.jumia.co.ke/sp-dispute-resolution-policy/\">Dispute Resolution Policy</a></li><li><a class=\"_link -pbxs\" href=\"https://www.jumia.co.ke/jumia-corporate/\">Corporate and Bulk Purchase</a></li><li><a class=\"_link -pbxs\" href=\"https://www.jumia.co.ke/sp-jumia-advertising/\">Advertise with Jumia</a></li><li><a class=\"_link -pbxs\" href=\"https://forms-prod2.sprinklr.com/guided-workflows/64351818df46305b9c8ba24e?gwId=65264ff2645a674786de59da&amp;viewType=FULL_PAGE\">Report a Product</a></li><li><a class=\"_link -pbxs\" href=\"https://www.jumia.co.ke/sp-Payment-Information-Guidelines/\">Jumia Payment Information Guidelines</a></li></ul></div><div class=\"col4 -df -d-co -pvs\"><span class=\"f-t -pbm\">ABOUT JUMIA</span><ul class=\"-lsn\"><li><a class=\"_link -pbxs\" href=\"https://www.jumia.co.ke/about_new/\">About us</a></li><li><a class=\"_link -pbxs\" href=\"https://www.jumia.co.ke/sp-returns-and-refunds-policy/\">Returns and Refunds Policy</a></li><li><a class=\"_link -pbxs\" href=\"https://www.jumia.co.ke/careers/\">Jumia Careers</a></li><li><a class=\"_link -pbxs\" href=\"https://www.jumia.co.ke/sp-jumia-express/\">Jumia Express</a></li><li><a class=\"_link -pbxs\" href=\"https://www.jumia.co.ke/terms-and-conditions/\">Terms and Conditions</a></li><li><a class=\"_link -pbxs\" href=\"https://www.jumia.co.ke/sp-store-credit-TCs/\">Store Credit Terms and Conditions</a></li><li><a class=\"_link -pbxs\" href=\"https://www.jumia.co.ke/privacy/\">Privacy Notice</a></li><li><a class=\"_link -pbxs\" href=\"https://www.jumia.co.ke/sp-cookie-notice/\">Cookies Notice</a></li><li><a class=\"_link -pbxs\" href=\"https://www.jumia.co.ke/flash-sales/\">Flash Sales</a></li><li><a class=\"_link -pbxs\" href=\"https://www.jumia.co.ke/mlp-black-friday/\">Black Friday 2023</a></li></ul></div><div class=\"col4 -df -d-co -pvs\"><span class=\"f-t -pbm\">MAKE MONEY WITH JUMIA</span><ul class=\"-lsn\"><li><a class=\"_link -pbxs\" href=\"https://www.jumia.co.ke/sp-sell/\">Sell on Jumia</a></li><li><a class=\"_link -pbxs\" href=\"https://vendorhub.jumia.co.ke/\">Vendor Hub</a></li><li><a class=\"_link -pbxs\" href=\"https://www.jumia.co.ke/mlp-jforce/\">Become a Sales Consultant</a></li><li><a class=\"_link -pbxs\" href=\"https://jumia_form.formstack.com/forms/3pl_interest_registration_en\">Become a Logistics Service Partner</a></li><li><a class=\"_link -pbxs\" href=\"https://forms.gle/WmYEPeQJbqgQD3Da8\">Jumia City Partner Program</a></li></ul></div><div class=\"col4 row -c-start -pvs\"><span class=\"f-t col16 -pbm\">JUMIA INTERNATIONAL</span><ul class=\"col5 -df -d-co -lsn\"><li><a class=\"_link -pbxs\" href=\"https://www.jumia.com.dz/\">Algeria</a></li><li><a class=\"_link -pbxs\" href=\"https://www.jumia.ci/\">Ivory Coast</a></li><li><a class=\"_link -pbxs\" href=\"https://www.jumia.com.eg/\">Egypt</a></li><li><a class=\"_link -pbxs\" href=\"https://www.jumia.com.gh/\">Ghana</a></li><li><a class=\"_link -pbxs\" href=\"https://www.jumia.ma/\">Morocco</a></li></ul><ul class=\"col5 -df -d-co -lsn\"><li><a class=\"_link -pbxs\" href=\"https://www.jumia.com.ng/\">Nigeria</a></li><li><a class=\"_link -pbxs\" href=\"https://www.jumia.sn/\">Senegal</a></li><li><a class=\"_link -pbxs\" href=\"https://www.jumia.com.tn/\">Tunisia</a></li><li><a class=\"_link -pbxs\" href=\"https://www.jumia.ug/\">Uganda</a></li><li><a class=\"_link -pbxs\" href=\"https://www.zando.co.za/\">Zando</a></li></ul></div></div><div class=\"row -pbl\"><div class=\"col4 row\"><div class=\"f-t col16 -pbm\">JOIN US ON</div><div class=\"col16 -phn -fs0\"><a class=\"ic-link -pas\" href=\"https://www.facebook.com/JumiaKenya\" rel=\"noopener\" target=\"_blank\" title=\"Facebook Jumia Kenya\"><svg class=\"ic\" height=\"26\" viewbox=\"0 0 24 24\" width=\"26\"><use xlink:href=\"https://www.jumia.co.ke/assets_he/images/i-icons.a66628fd.svg#soc-facebook\"></use></svg></a><a class=\"ic-link -pas\" href=\"https://www.instagram.com/jumiakenya/\" rel=\"noopener\" target=\"_blank\" title=\"Instagram Jumia Kenya\"><svg class=\"ic\" height=\"26\" viewbox=\"0 0 24 24\" width=\"26\"><use xlink:href=\"https://www.jumia.co.ke/assets_he/images/i-icons.a66628fd.svg#soc-instagram\"></use></svg></a><a class=\"ic-link -pas\" href=\"https://twitter.com/JumiaKenya\" rel=\"noopener\" target=\"_blank\" title=\"Twitter Jumia Kenya\"></a><a class=\"ic-link -pas\" href=\"https://www.youtube.com/user/KenyaJumia\" rel=\"noopener\" target=\"_blank\" title=\"YouTube Jumia Kenya\"><svg class=\"ic\" height=\"26\" viewbox=\"0 0 24 24\" width=\"26\"><use xlink:href=\"https://www.jumia.co.ke/assets_he/images/i-icons.a66628fd.svg#soc-youtube\"></use></svg></a></div></div><div class=\"col12 row\"><div class=\"f-t col16 -pbm\">PAYMENT METHODS</div><div class=\"col16 -phn -df -fw-w -fs0\"><a class=\"ic-link -pas\" href=\"https://www.jumia.co.ke/payment/\" title=\"Payment on delivery\"><svg class=\"ic\" height=\"24\" viewbox=\"0 0 24 24\" width=\"24\"><use xlink:href=\"https://www.jumia.co.ke/assets_he/images/i-global.95441341.svg#pay-cashondelivery\"></use></svg></a><a class=\"ic-link -pas\" href=\"https://www.jumia.co.ke/payment/\" title=\"Visa\"><svg class=\"ic\" height=\"24\" viewbox=\"0 0 31 24\" width=\"31\"><use xlink:href=\"https://www.jumia.co.ke/assets_he/images/i-global.95441341.svg#pay-visa\"></use></svg></a><a class=\"ic-link -pas\" href=\"https://www.jumia.co.ke/payment/\" title=\"Mastercard\"><svg class=\"ic\" height=\"24\" viewbox=\"0 0 36 24\" width=\"36\"><use xlink:href=\"https://www.jumia.co.ke/assets_he/images/i-global.95441341.svg#pay-mastercard\"></use></svg></a><a class=\"ic-link -pas\" href=\"https://www.jumia.co.ke/jumiapay/\" title=\"Jumia Pay\"><svg class=\"ic\" height=\"24\" viewbox=\"0 0 85 24\" width=\"85\"><use xlink:href=\"https://www.jumia.co.ke/assets_he/images/i-global.95441341.svg#pay-jumiapay\"></use></svg></a></div></div></div><div class=\"row -pbl\"><ul class=\"col2 -df -d-co -lsn\"><li><a class=\"_link -pbxs\" href=\"/adidas/\">Adidas</a></li><li><a class=\"_link -pbxs\" href=\"/ailyons/\">AILYONS</a></li><li><a class=\"_link -pbxs\" href=\"/apple/\">Apple</a></li><li><a class=\"_link -pbxs\" href=\"/brand-asus/\">Asus</a></li><li><a class=\"_link -pbxs\" href=\"/bruhm/\">Bruhm</a></li><li><a class=\"_link -pbxs\" href=\"/canon/\">Canon</a></li></ul><ul class=\"col2 -df -d-co -lsn\"><li><a class=\"_link -pbxs\" href=\"/cantu/\">Cantu</a></li><li><a class=\"_link -pbxs\" href=\"/coke/\">Coke</a></li><li><a class=\"_link -pbxs\" href=\"/dell/\">DELL</a></li><li><a class=\"_link -pbxs\" href=\"/dove1/\">Dove</a></li><li><a class=\"_link -pbxs\" href=\"/dr-rashel/\">Dr. Rashel</a></li></ul><ul class=\"col2 -df -d-co -lsn\"><li><a class=\"_link -pbxs\" href=\"/epson/\">Epson</a></li><li><a class=\"_link -pbxs\" href=\"/garnier/\">Garnier</a></li><li><a class=\"_link -pbxs\" href=\"/hisense/\">Hisense</a></li><li><a class=\"_link -pbxs\" href=\"/hp/\">HP</a></li><li><a class=\"_link -pbxs\" href=\"/infinix/\">Infinix</a></li></ul><ul class=\"col2 -df -d-co -lsn\"><li><a class=\"_link -pbxs\" href=\"/itel/\">Itel</a></li><li><a class=\"_link -pbxs\" href=\"/jameson/\">Jameson</a></li><li><a class=\"_link -pbxs\" href=\"/loreal-paris/\">L'Oréal Paris</a></li><li><a class=\"_link -pbxs\" href=\"/lenovo/\">Lenovo</a></li><li><a class=\"_link -pbxs\" href=\"/logitech/\">Logitech</a></li></ul><ul class=\"col2 -df -d-co -lsn\"><li><a class=\"_link -pbxs\" href=\"/maybelline/\">Maybelline</a></li><li><a class=\"_link -pbxs\" href=\"/brand-mika/\">Mika</a></li><li><a class=\"_link -pbxs\" href=\"/nivea/\">NIVEA</a></li><li><a class=\"_link -pbxs\" href=\"/nunix/\">Nunix</a></li><li><a class=\"_link -pbxs\" href=\"/oppo/\">Oppo</a></li></ul><ul class=\"col2 -df -d-co -lsn\"><li><a class=\"_link -pbxs\" href=\"/ramtons/\">Ramtons</a></li><li><a class=\"_link -pbxs\" href=\"/roch/\">Roch</a></li><li><a class=\"_link -pbxs\" href=\"/samsung/\">Samsung</a></li><li><a class=\"_link -pbxs\" href=\"/sandisk/\">Sandisk</a></li><li><a class=\"_link -pbxs\" href=\"/skyworth/\">Skyworth</a></li></ul><ul class=\"col2 -df -d-co -lsn\"><li><a class=\"_link -pbxs\" href=\"/sony/\">Sony</a></li><li><a class=\"_link -pbxs\" href=\"/tcl/\">TCL</a></li><li><a class=\"_link -pbxs\" href=\"/tecno/\">Tecno</a></li><li><a class=\"_link -pbxs\" href=\"/transcend/\">Transcend</a></li><li><a class=\"_link -pbxs\" href=\"/tusker/\">Tusker</a></li></ul><ul class=\"col2 -df -d-co -lsn\"><li><a class=\"_link -pbxs\" href=\"/usn/\">USN</a></li><li><a class=\"_link -pbxs\" href=\"/vision-plus/\">Vision Plus</a></li><li><a class=\"_link -pbxs\" href=\"/vitron/\">Vitron</a></li><li><a class=\"_link -pbxs\" href=\"/von/\">VON</a></li><li><a class=\"_link -pbxs\" href=\"/xiaomi/\">XIAOMI</a></li></ul></div><div class=\"vb row -i-ctr -j-ctr _foot _gy5 -hr -mtl\"><div class=\"col3 -df -j-start\"></div><div class=\"col10 -df -j-ctr -fs0\"><a class=\"vent-link\" href=\"https://food.jumia.co.ke/drinks/k4lu/jumia-party-dks\" rel=\"nofollow noopener\" target=\"_blank\" title=\"Jumia Party\"><svg class=\"ic\" height=\"24\" viewbox=\"0 0 80 24\" width=\"80\"><use xlink:href=\"https://www.jumia.co.ke/assets_he/images/i-global.95441341.svg#venture-jumia-party\"></use></svg></a><a class=\"vent-link\" href=\"https://pay.jumia.co.ke/?utm_source=jumia&amp;utm_medium=mall&amp;utm_campaign=Venturebar\" rel=\"nofollow noopener\" target=\"_blank\" title=\"Jumia Pay\"><svg class=\"ic\" height=\"24\" viewbox=\"0 0 60 24\" width=\"60\"><use xlink:href=\"https://www.jumia.co.ke/assets_he/images/i-global.95441341.svg#venture-pay\"></use></svg></a></div><div class=\"col3 -df -j-end -wt -mla\"></div></div></footer><div id=\"pop\"><div aria-hidden=\"false\" aria-label=\"newsletter_popup_close-cta\" aria-modal=\"true\" class=\"popup _open _l\" data-pop=\"\" data-pop-id=\"newsletter\" role=\"dialog\"><section aria-labelledby=\"pop-ttl\" class=\"cw\"><button aria-label=\"newsletter_popup_close-cta\" class=\"cls\"><svg class=\"ic\" height=\"24\" viewbox=\"0 0 24 24\" width=\"24\"><use xlink:href=\"https://www.jumia.co.ke/assets_he/images/i-icons.a66628fd.svg#close\"></use></svg></button><h2 class=\"ttl -vh-sr\" id=\"pop-ttl\">Welcome to Jumia!</h2><div class=\"cont _nl\"><div class=\"-df\"><div class=\"-fsh0\" style=\"width:265px;background:url('https://ke.jumia.is/cms/2021/W15/CP/Banners/KE_Cross_0421_PU.jpg') top/cover no-repeat;\"></div><div class=\"-pvxl -phl -tac -fw\"><h2 class=\"-fs29 -phxl\">Welcome to Jumia!</h2><div class=\"-ptl -phs\"><p class=\"-fs16 -m -pbxs\">Subscribe to our newsletter </p>and be the first one to know about our amazing deals</div><form action=\"/newsletter/subscription/default/\" class=\"-ptm -tal\" data-eventaction=\"Subscribed\" data-eventcategory=\"Newsletter Popup\" data-track-onnlsuccess=\"true\" id=\"nl-pop-f\" method=\"post\"><div class=\"fi-w -mhs _ic\"><input aria-label=\"E-mail\" class=\"fi\" id=\"fi-nl-pop-email\" name=\"email\" placeholder=\"Enter E-mail Address\" required=\"\" type=\"email\" value=\"\"/><svg class=\"ic\" height=\"24\" viewbox=\"0 0 24 24\" width=\"24\"><use xlink:href=\"https://www.jumia.co.ke/assets_he/images/i-icons.a66628fd.svg#email\"></use></svg></div><div class=\"-df -ptxs -phxs\"><button class=\"-mhxs btn _prim _md -fw\" name=\"gender\" value=\"male\">Male</button><button class=\"-mhxs btn _prim _md -fw\" name=\"gender\" value=\"female\">Female</button></div><input name=\"csrfToken\" type=\"hidden\" value=\"34efbbb4eb40f54218055fd2c7359c50\"/></form></div></div></div></section></div></div></div><script>var dataLayer=[{\"countryCode\":\"KE\",\"language\":\"en\",\"platform\":\"desktop\",\"url\":\"/catalog/?q=43+inch+smart+tvs\",\"pageType\":\"catalog\",\"pageSubtype\":\"searchResults\",\"pageKey\":\"catalog_searchResults\",\"sponsored\":{\"apiKey\":\"2e7f86fff8576b23d14d35b46656ebf2e55b4becb7505fc0083240688c849bf9CPM\",\"userId\":\"5740637777303220119655b36e677888\",\"pageId\":\"43 inch smart tvs\",\"pageType\":\"search\"},\"pageTitle\":\" Shop & Buy Online | Jumia Kenya\",\"abTests\":\"CLP:A#Cart:S#SponProdCat:A#SponProdPdp:A\",\"joinedPageType\":\"catalog_searchResults\",\"skus\":[\"GE840EA2IZAKNNAFAMZ\",\"VI505EA01T4Z0NAFAMZ\",\"VI505EA0IZJALNAFAMZ\",\"VI505EA0QJMIZNAFAMZ\",\"VI505EA0SM39ENAFAMZ\",\"VI505EA02IT3GNAFAMZ\",\"VI505EA0NO97FNAFAMZ\",\"VI505EA0KLAH7NAFAMZ\",\"TC187EA22NSLTNAFAMZ\",\"AM617EA0ZSNGENAFAMZ\",\"WY292EA2RADPCNAFAMZ\",\"VI505EA0CSBZXNAFAMZ\",\"SK493EA192RAWNAFAMZ\",\"HI279EA0UU27NNAFAMZ\",\"VI799EA09NCP9NAFAMZ\",\"VI505EA1ZMZ25NAFAMZ\",\"VI505EA2F5Z49NAFAMZ\",\"HI200EA0WO95HNAFAMZ\",\"VI505EA1E5HHONAFAMZ\",\"HI279EA2IWEB0NAFAMZ\",\"RO689EA0TOEAXNAFAMZ\",\"GL679EA37SCNMNAFAMZ\",\"HI200EA2EPQ8DNAFAMZ\",\"CT303EA29EKTLNAFAMZ\",\"CT303EA2VXLR9NAFAMZ\",\"VI505EA0IWG9HNAFAMZ\",\"AM617EA0JLUT4NAFAMZ\",\"CT303EA2SD04LNAFAMZ\",\"CT303EA1NXO5HNAFAMZ\",\"SA948EA1R9CPVNAFAMZ\",\"HI200EA2NR4I1NAFAMZ\",\"VI505EA1OW67KNAFAMZ\",\"HI200EA2EH50HNAFAMZ\",\"WY292EA1JGR8TNAFAMZ\",\"GL585EA09X7IFNAFAMZ\",\"TC187EA3A7DOENAFAMZ\",\"VI799EA12TLCDNAFAMZ\",\"SK493EA15FJ7DNAFAMZ\",\"SK493EA3AVX0ONAFAMZ\",\"VI505EA0E2PULNAFAMZ\"],\"viewType\":\"grid\"}];(function(w,d,s,l,i,f){function go(){w[l]=w[l]||[];w[l].push({\"gtm.start\":new Date().getTime(),event:\"gtm.js\"});f=d.getElementsByTagName(s)[0],j=d.createElement(s),dl=l!=\"dataLayer\"?\"&l=\"+l:\"\";j.async=true;j.src=\"//www.googletagmanager.com/gtm.js?id=\"+i+dl;j.addEventListener('load',function(){dataLayer.push({event:'pageView'});(function(){setTimeout((function(){window.dataLayer.push({event:\"pageViewLvl2\"}),setTimeout((function(){window.dataLayer.push({event:\"pageViewLvl3\"})}),500)}),500)})()});f.parentNode.insertBefore(j,f);}w.addEventListener(\"load\",go,false);})(window,document,'script','dataLayer','GTM-KS6DC65');</script><script>window.__STORE__={\"view\":\"Catalog\",\"activeLanguage\":\"en\",\"countryCode\":\"KE\",\"languages\":{\"en\":{\"text\":\"English\",\"default\":true}},\"svgFallback\":false,\"tracking\":{\"gtm\":{\"key\":\"GTM-KS6DC65\",\"url\":\"/catalog/?q=43+inch+smart+tvs\",\"pageType\":\"catalog\",\"pageSubtype\":\"searchResults\",\"pageKey\":\"catalog_searchResults\",\"sponsored\":{\"apiKey\":\"2e7f86fff8576b23d14d35b46656ebf2e55b4becb7505fc0083240688c849bf9CPM\",\"userId\":\"5740637777303220119655b36e677888\",\"pageId\":\"43 inch smart tvs\",\"pageType\":\"search\"}}},\"csrfToken\":\"34efbbb4eb40f54218055fd2c7359c50\",\"capiId\":\"_1700476646_{eventType}\",\"user\":{\"id\":\"\"},\"sprites\":{\"icons\":\"https://www.jumia.co.ke/assets_he/images/i-icons.a66628fd.svg\",\"global\":\"https://www.jumia.co.ke/assets_he/images/i-global.95441341.svg\",\"shop\":\"https://www.jumia.co.ke/assets_he/images/i-jumia.svg\"},\"liveChat\":{\"loadingText\":\"Live Chat is loading...\",\"botImg\":\"https://www.jumia.co.ke/assets_he/images/bot.5beef7d8.svg\"},\"htmlErrors\":{\"valueMissing\":\"Required field\",\"typeMismatch\":\"Invalid Information\",\"patternMismatch\":\"Invalid Information\",\"rangeOverflow\":\"form_html-errors_range_overflow\",\"rangeUnderflow\":\"form_html-errors_range_underflow\",\"tooLong\":\"form_html-errors_too_long\",\"tooShort\":\"form_html-errors_too_short\"},\"lastSearch\":{\"skus\":[\"GE840EA2IZAKNNAFAMZ\",\"VI505EA01T4Z0NAFAMZ\",\"VI505EA0IZJALNAFAMZ\",\"VI505EA0QJMIZNAFAMZ\",\"VI505EA0SM39ENAFAMZ\",\"VI505EA02IT3GNAFAMZ\",\"VI505EA0NO97FNAFAMZ\",\"VI505EA0KLAH7NAFAMZ\",\"TC187EA22NSLTNAFAMZ\",\"AM617EA0ZSNGENAFAMZ\",\"WY292EA2RADPCNAFAMZ\",\"VI505EA0CSBZXNAFAMZ\",\"SK493EA192RAWNAFAMZ\",\"HI279EA0UU27NNAFAMZ\",\"VI799EA09NCP9NAFAMZ\"],\"url\":\"/catalog/?q=43+inch+smart+tvs\",\"query\":\"43 inch smart tvs\"},\"addToCart\":{\"common\":{\"buyNowQtySelection\":{\"showQtySelector\":true,\"cartQtyIncreaseCTA\":\"increase cart quantity\",\"cartQtyDecreaseCTA\":\"decrease cart quantity\"}},\"default\":{\"buyNowCTA\":\"Add To Cart\",\"buyNowQtySelection\":{\"showQtySelector\":true,\"cartQtyIncreaseCTA\":\"increase cart quantity\",\"cartQtyDecreaseCTA\":\"decrease cart quantity\"},\"isXhr\":true}},\"popups\":{\"addToCart\":{\"data\":{\"buyNowCTA\":\"Add To Cart\",\"buyNowQtySelection\":{\"showQtySelector\":true,\"cartQtyIncreaseCTA\":\"increase cart quantity\",\"cartQtyDecreaseCTA\":\"decrease cart quantity\"},\"unavailableText\":\"Currently unavailable\",\"viewUrl\":\"/cart/\",\"continueCTA\":\"Continue Shopping\",\"viewCTA\":\"View Cart and Checkout\",\"popupTitle\":\"Please select a variation\",\"closeCTA\":\"close popup\"},\"template\":\"AddToCart\"},\"filters\":{\"dynData\":{\"2\":{\"title\":\"Jumia Express\",\"markup\":\"<div class=\\\"markup\\\">JUMIA <span style=\\\"color:#ff9900\\\">Express</span> \\nFor all the products indicated as <b>'Free Delivery in Nairobi, Kiambu and Mombasa Only' </b>, benefit from:\\n<br/>\\n<br/>\\n- Free delivery on orders above <b> KES 1999 </b> in Nairobi, Kiambu and Mombasa Only\\n<br/>\\n- Next-Day delivery in Nairobi, Kiambu and Mombasa if you order before 2 PM.\\n<br/>\\n<br/>\\nFree delivery offer is not valid for bulky items.\\n<br/>\\nClick  <a href=\\\"https://www.jumia.co.ke/sp-jumia-express/\\\" style=\\\"font-weight:bold;\\\">here</a> to get more details </div>\"}}},\"newsletter\":{\"data\":{\"title\":\"Welcome to Jumia!\",\"closeCTA\":\"newsletter_popup_close-cta\"},\"trackingData\":{\"viewPopup\":{\"type\":\"Newsletter\"},\"closePopup\":{\"type\":\"Newsletter\"}},\"template\":\"Default\",\"shouldOpen\":true,\"size\":\"L\",\"hideTitle\":true}},\"products\":[{\"sku\":\"GE840EA2IZAKNNAFAMZ\",\"name\":\"43'' Inch Frameless Android Smart FHD LED TV - Black\",\"displayName\":\"Hikers 43'' Inch Frameless Android Smart FHD LED TV - Black\",\"brand\":\"Hikers\",\"sellerId\":133550,\"isShopExpress\":true,\"categories\":\"Electronics/Television & Video/Televisions/Smart TVs\",\"prices\":{\"rawPrice\":\"19999.00\",\"price\":\"KSh 19,999\",\"priceEuro\":\"120.71\",\"taxEuro\":\"0.00\",\"oldPrice\":\"KSh 29,999\",\"oldPriceEuro\":\"181.06\",\"discount\":\"33%\"},\"tags\":\"BDEAL|BLF|BLF_04|Boost|CP_1|CP_MT31|CP_UN273|JBF|JMALL|TBOOST|TDBOOSTING\",\"rating\":{\"average\":4.4,\"totalRatings\":34},\"image\":\"https://ke.jumia.is/unsafe/fit-in/300x300/filters:fill(white)/product/52/8121031/1.jpg?4934\",\"url\":\"/hikers-43-inch-frameless-android-smart-fhd-led-tv-black-130121825.html\",\"badges\":{\"main\":{\"name\":\"Official Store\",\"identifier\":\"JMALL\",\"url\":\"/all-products/?tag=JMALL\"},\"campaign\":{\"name\":\"Black Friday deal\",\"identifier\":\"BLF\",\"url\":\"/all-products/?tag=BLF\",\"txtColor\":\"#FFFFFF\",\"bgColor\":\"#000000\"}},\"isBuyable\":true,\"shopExpress\":{\"title\":\"Express Shipping\"},\"simples\":[{\"sku\":\"GE840EA2IZAKNNAFAMZ-174178827\",\"loginUrl\":\"/customer/account/login/?tkWl=GE840EA2IZAKNNAFAMZ-174178827&return=%2Fcatalog%2F%3Fq%3D43%2Binch%2Bsmart%2Btvs\",\"isBuyable\":true,\"name\":\"\",\"prices\":{\"rawPrice\":\"19999.00\",\"price\":\"KSh 19,999\",\"priceEuro\":\"120.71\",\"taxEuro\":\"0.00\",\"oldPrice\":\"KSh 29,999\",\"oldPriceEuro\":\"181.06\",\"discount\":\"33%\"}}],\"selectedVariation\":\"GE840EA2IZAKNNAFAMZ-174178827\"},{\"sku\":\"VI505EA01T4Z0NAFAMZ\",\"name\":\"4388-FS 43\\\"inch FHD Frameless Smart/Android TV InbuiltDecoder/+TVGuard+Bracket\",\"displayName\":\"Vitron 4388-FS 43\\\"inch FHD Frameless Smart/Android TV InbuiltDecoder/+TVGuard+Bracket\",\"brand\":\"Vitron\",\"sellerId\":17058,\"isShopExpress\":true,\"categories\":\"Electronics/Television & Video/Televisions/Smart TVs\",\"prices\":{\"rawPrice\":\"23799.00\",\"price\":\"KSh 23,799\",\"priceEuro\":\"143.64\",\"taxEuro\":\"0.00\",\"oldPrice\":\"KSh 30,000\",\"oldPriceEuro\":\"181.07\",\"discount\":\"21%\"},\"tags\":\"BDEAL|BLF|BLF_04|Boost|COL_178|COL_216|COL_223|COL_226|CP_MT104|CP_MT31|CP_UN100|CP_UN102|CP_UN2|CP_UN245|CP_UN246|CP_UN247|CP_UN255|CP_UN256|CP_UN258|CP_UN262|CP_UN263|CP_UN264|CP_UN265|CP_UN9|DOW_11|JA23_01|JBF|MLP2|TBOOST|TDBOOSTING|TW23_05|XMAS22|XMAS22_02\",\"rating\":{\"average\":4.4,\"totalRatings\":100},\"image\":\"https://ke.jumia.is/unsafe/fit-in/300x300/filters:fill(white)/product/03/039084/1.jpg?0234\",\"url\":\"/vitron-4388-fs-43inch-fhd-frameless-smartandroid-tv-inbuiltdecodertvguardbracket-48093030.html\",\"badges\":{\"campaign\":{\"name\":\"Black Friday deal\",\"identifier\":\"BLF\",\"url\":\"/all-products/?tag=BLF\",\"txtColor\":\"#FFFFFF\",\"bgColor\":\"#000000\"}},\"isBuyable\":true,\"shopExpress\":{\"title\":\"Express Shipping\"},\"simples\":[{\"sku\":\"VI505EA01T4Z0NAFAMZ-61487664\",\"loginUrl\":\"/customer/account/login/?tkWl=VI505EA01T4Z0NAFAMZ-61487664&return=%2Fcatalog%2F%3Fq%3D43%2Binch%2Bsmart%2Btvs\",\"isBuyable\":true,\"name\":\"\",\"prices\":{\"rawPrice\":\"23799.00\",\"price\":\"KSh 23,799\",\"priceEuro\":\"143.64\",\"taxEuro\":\"0.00\",\"oldPrice\":\"KSh 30,000\",\"oldPriceEuro\":\"181.07\",\"discount\":\"21%\"}}],\"selectedVariation\":\"VI505EA01T4Z0NAFAMZ-61487664\"},{\"sku\":\"VI505EA0IZJALNAFAMZ\",\"name\":\"4388FS,43\\\" Inch FRAMELESS Smart Android TV Netflix INBUILT DECODER+FREE BRACKET\",\"displayName\":\"Vitron 4388FS,43\\\" Inch FRAMELESS Smart Android TV Netflix INBUILT DECODER+FREE BRACKET\",\"brand\":\"Vitron\",\"sellerId\":16708,\"isShopExpress\":true,\"categories\":\"Electronics/Television & Video/Televisions/Smart TVs\",\"prices\":{\"rawPrice\":\"22995.00\",\"price\":\"KSh 22,995\",\"priceEuro\":\"138.79\",\"taxEuro\":\"0.00\",\"oldPrice\":\"KSh 30,000\",\"oldPriceEuro\":\"181.07\",\"discount\":\"23%\"},\"tags\":\"APWK|BDEAL|BLF|BLF_04|Boost|COL_216|COL_223|COL_226|COL_307|CP_2|CP_MT104|CP_MT15|CP_MT18|CP_MT19|CP_MT29|CP_MT31|CP_MT67|CP_UN100|CP_UN2|CP_UN235|CP_UN245|CP_UN246|CP_UN247|CP_UN255|CP_UN256|CP_UN258|CP_UN261|CP_UN262|CP_UN263|CP_UN264|CP_UN265|CP_UN3|CP_UN5|CP_UN9|DOW_10|DOW_66|JBF|MLP2|TBOOST|TOP|TW23_05|UND_50|XMAS22|XMAS22_02|XMAS22_06|XMAS22_07\",\"rating\":{\"average\":4.3,\"totalRatings\":385},\"image\":\"https://ke.jumia.is/unsafe/fit-in/300x300/filters:fill(white)/product/31/891053/1.jpg?6100\",\"url\":\"/vitron-4388fs43-inch-frameless-smart-android-tv-netflix-inbuilt-decoderfree-bracket-35019813.html\",\"badges\":{\"campaign\":{\"name\":\"Black Friday deal\",\"identifier\":\"BLF\",\"url\":\"/all-products/?tag=BLF\",\"txtColor\":\"#FFFFFF\",\"bgColor\":\"#000000\"}},\"isBuyable\":true,\"shopExpress\":{\"title\":\"Express Shipping\"},\"simples\":[{\"sku\":\"VI505EA0IZJALNAFAMZ-46901246\",\"loginUrl\":\"/customer/account/login/?tkWl=VI505EA0IZJALNAFAMZ-46901246&return=%2Fcatalog%2F%3Fq%3D43%2Binch%2Bsmart%2Btvs\",\"isBuyable\":true,\"name\":\"\",\"prices\":{\"rawPrice\":\"22995.00\",\"price\":\"KSh 22,995\",\"priceEuro\":\"138.79\",\"taxEuro\":\"0.00\",\"oldPrice\":\"KSh 30,000\",\"oldPriceEuro\":\"181.07\",\"discount\":\"23%\"}}],\"selectedVariation\":\"VI505EA0IZJALNAFAMZ-46901246\"},{\"sku\":\"VI505EA0QJMIZNAFAMZ\",\"name\":\"43\\\" Inch FHD Frameless Smart Android TV 8GBROM+FreeTVGuard+Extension\",\"displayName\":\"Vitron 43\\\" Inch FHD Frameless Smart Android TV 8GBROM+FreeTVGuard+Extension\",\"brand\":\"Vitron\",\"sellerId\":17058,\"isShopExpress\":true,\"categories\":\"Electronics/Television & Video/Televisions/Smart TVs\",\"prices\":{\"rawPrice\":\"23598.00\",\"price\":\"KSh 23,598\",\"priceEuro\":\"142.43\",\"taxEuro\":\"0.00\",\"oldPrice\":\"KSh 30,000\",\"oldPriceEuro\":\"181.07\",\"discount\":\"21%\"},\"tags\":\"BDEAL|BLF|BLF_04|Boost|CP_MT31|CP_UN100|CP_UN102|CP_UN265|JBF|TBOOST\",\"rating\":{\"average\":4.2,\"totalRatings\":261},\"image\":\"https://ke.jumia.is/unsafe/fit-in/300x300/filters:fill(white)/product/44/585675/1.jpg?6101\",\"url\":\"/vitron-43-inch-fhd-frameless-smart-android-tv-8gbromfreetvguardextension-57658544.html\",\"badges\":{\"campaign\":{\"name\":\"Black Friday deal\",\"identifier\":\"BLF\",\"url\":\"/all-products/?tag=BLF\",\"txtColor\":\"#FFFFFF\",\"bgColor\":\"#000000\"}},\"isBuyable\":true,\"shopExpress\":{\"title\":\"Express Shipping\"},\"simples\":[{\"sku\":\"VI505EA0QJMIZNAFAMZ-72931570\",\"loginUrl\":\"/customer/account/login/?tkWl=VI505EA0QJMIZNAFAMZ-72931570&return=%2Fcatalog%2F%3Fq%3D43%2Binch%2Bsmart%2Btvs\",\"isBuyable\":true,\"name\":\"\",\"prices\":{\"rawPrice\":\"23598.00\",\"price\":\"KSh 23,598\",\"priceEuro\":\"142.43\",\"taxEuro\":\"0.00\",\"oldPrice\":\"KSh 30,000\",\"oldPriceEuro\":\"181.07\",\"discount\":\"21%\"}}],\"selectedVariation\":\"VI505EA0QJMIZNAFAMZ-72931570\"},{\"sku\":\"VI505EA0SM39ENAFAMZ\",\"name\":\"43\\\" Inch FHD Frameless Smart Android TV INBUILT DECODER+FREE Bracket+Extension\",\"displayName\":\"Vitron 43\\\" Inch FHD Frameless Smart Android TV INBUILT DECODER+FREE Bracket+Extension\",\"brand\":\"Vitron\",\"sellerId\":17058,\"categories\":\"Electronics/Television & Video/Televisions/Smart TVs\",\"prices\":{\"rawPrice\":\"23499.00\",\"price\":\"KSh 23,499\",\"priceEuro\":\"141.83\",\"taxEuro\":\"0.00\",\"oldPrice\":\"KSh 30,000\",\"oldPriceEuro\":\"181.07\",\"discount\":\"22%\"},\"tags\":\"APWK|BDEAL|BLF|BLF_04|Boost|CP_MT31|CP_UN100|CP_UN102|CP_UN262|CP_UN263|CP_UN264|CP_UN265|DOW_10|JBF|TBOOST\",\"rating\":{\"average\":4,\"totalRatings\":103},\"image\":\"https://ke.jumia.is/unsafe/fit-in/300x300/filters:fill(white)/product/48/059906/1.jpg?2207\",\"url\":\"/43-inch-fhd-smart-android-tv-a-free-tvguard-wallbracket-vitron-mpg310296.html\",\"badges\":{\"campaign\":{\"name\":\"Black Friday deal\",\"identifier\":\"BLF\",\"url\":\"/all-products/?tag=BLF\",\"txtColor\":\"#FFFFFF\",\"bgColor\":\"#000000\"}},\"isBuyable\":true,\"simples\":[{\"sku\":\"VI505EA0SM39ENAFAMZ-76781111\",\"loginUrl\":\"/customer/account/login/?tkWl=VI505EA0SM39ENAFAMZ-76781111&return=%2Fcatalog%2F%3Fq%3D43%2Binch%2Bsmart%2Btvs\",\"isBuyable\":true,\"name\":\"\",\"prices\":{\"rawPrice\":\"23499.00\",\"price\":\"KSh 23,499\",\"priceEuro\":\"141.83\",\"taxEuro\":\"0.00\",\"oldPrice\":\"KSh 30,000\",\"oldPriceEuro\":\"181.07\",\"discount\":\"22%\"}}],\"selectedVariation\":\"VI505EA0SM39ENAFAMZ-76781111\"},{\"sku\":\"VI505EA02IT3GNAFAMZ\",\"name\":\"43\\\" Inch-FHD ANDROID TV,NETFLIX,DECODER+INBUILT WIFI+Power Guard+BRACKET\",\"displayName\":\"Vitron 43\\\" Inch-FHD ANDROID TV,NETFLIX,DECODER+INBUILT WIFI+Power Guard+BRACKET\",\"brand\":\"Vitron\",\"sellerId\":28297,\"categories\":\"Electronics/Television & Video/Televisions/Smart TVs\",\"prices\":{\"rawPrice\":\"23690.00\",\"price\":\"KSh 23,690\",\"priceEuro\":\"142.98\",\"taxEuro\":\"0.00\",\"oldPrice\":\"KSh 46,000\",\"oldPriceEuro\":\"277.64\",\"discount\":\"49%\"},\"tags\":\"BLF|BLF_04|BLF_11|Boost|CP_MT31|CP_UN100|TBOOST\",\"rating\":{\"average\":5,\"totalRatings\":3},\"image\":\"https://ke.jumia.is/unsafe/fit-in/300x300/filters:fill(white)/product/04/236748/1.jpg?5692\",\"url\":\"/vitron-43-inch-fhd-android-tvnetflixdecoderinbuilt-wifipower-guardbracket-84763240.html\",\"badges\":{\"campaign\":{\"name\":\"Black Friday deal\",\"identifier\":\"BLF\",\"url\":\"/all-products/?tag=BLF\",\"txtColor\":\"#FFFFFF\",\"bgColor\":\"#000000\"}},\"isBuyable\":true,\"simples\":[{\"sku\":\"VI505EA02IT3GNAFAMZ-106262080\",\"loginUrl\":\"/customer/account/login/?tkWl=VI505EA02IT3GNAFAMZ-106262080&return=%2Fcatalog%2F%3Fq%3D43%2Binch%2Bsmart%2Btvs\",\"isBuyable\":true,\"name\":\"\",\"prices\":{\"rawPrice\":\"23690.00\",\"price\":\"KSh 23,690\",\"priceEuro\":\"142.98\",\"taxEuro\":\"0.00\",\"oldPrice\":\"KSh 46,000\",\"oldPriceEuro\":\"277.64\",\"discount\":\"49%\"}}],\"selectedVariation\":\"VI505EA02IT3GNAFAMZ-106262080\"},{\"sku\":\"VI505EA0NO97FNAFAMZ\",\"name\":\"4388FS/43\\\"Inch Frameless Smart Android TVYoutubeNetflix/1GBAM/8GB ROM\",\"displayName\":\"Vitron 4388FS/43\\\"Inch Frameless Smart Android TVYoutubeNetflix/1GBAM/8GB ROM\",\"brand\":\"Vitron\",\"sellerId\":17058,\"isShopExpress\":true,\"categories\":\"Electronics/Television & Video/Televisions/Smart TVs\",\"prices\":{\"rawPrice\":\"22697.00\",\"price\":\"KSh 22,697\",\"priceEuro\":\"136.99\",\"taxEuro\":\"0.00\",\"oldPrice\":\"KSh 22,999\",\"oldPriceEuro\":\"138.81\",\"discount\":\"1%\"},\"tags\":\"BDEAL|BLF|BLF_04|Boost|COL_130|COL_155|COL_216|COL_223|COL_307|CP_10|CP_2|CP_MT104|CP_MT107|CP_MT16|CP_MT19|CP_MT24|CP_MT25|CP_MT31|CP_MT50|CP_MT56|CP_MT94|CP_UN100|CP_UN102|CP_UN2|CP_UN245|CP_UN246|CP_UN247|CP_UN255|CP_UN256|CP_UN258|CP_UN261|CP_UN262|CP_UN263|CP_UN264|CP_UN265|CP_UN5|CP_UN9|DOW_10|DOW_11|DOW_2|DOW_66|JA23_01|JBF|MLP2|TBOOST|TOP|TW23_05|UND_8|XMAS22|XMAS22_02\",\"rating\":{\"average\":4.3,\"totalRatings\":184},\"image\":\"https://ke.jumia.is/unsafe/fit-in/300x300/filters:fill(white)/product/39/762843/1.jpg?6101\",\"url\":\"/vitron-4388fs43inch-frameless-smart-android-tvyoutubenetflix1gbam8gb-rom-34826793.html\",\"badges\":{\"campaign\":{\"name\":\"Black Friday deal\",\"identifier\":\"BLF\",\"url\":\"/all-products/?tag=BLF\",\"txtColor\":\"#FFFFFF\",\"bgColor\":\"#000000\"}},\"isBuyable\":true,\"shopExpress\":{\"title\":\"Express Shipping\"},\"simples\":[{\"sku\":\"VI505EA0NO97FNAFAMZ-46678588\",\"loginUrl\":\"/customer/account/login/?tkWl=VI505EA0NO97FNAFAMZ-46678588&return=%2Fcatalog%2F%3Fq%3D43%2Binch%2Bsmart%2Btvs\",\"isBuyable\":true,\"name\":\"\",\"prices\":{\"rawPrice\":\"22697.00\",\"price\":\"KSh 22,697\",\"priceEuro\":\"136.99\",\"taxEuro\":\"0.00\",\"oldPrice\":\"KSh 22,999\",\"oldPriceEuro\":\"138.81\",\"discount\":\"1%\"}}],\"selectedVariation\":\"VI505EA0NO97FNAFAMZ-46678588\"},{\"sku\":\"VI505EA0KLAH7NAFAMZ\",\"name\":\"43\\\" Inch Frameless FHD Smart Android TV Inbuilt Decoder+FREE Bracket+Flash Disk\",\"displayName\":\"Vitron 43\\\" Inch Frameless FHD Smart Android TV Inbuilt Decoder+FREE Bracket+Flash Disk\",\"brand\":\"Vitron\",\"sellerId\":17058,\"isShopExpress\":true,\"categories\":\"Electronics/Television & Video/Televisions/Smart TVs\",\"prices\":{\"rawPrice\":\"23499.00\",\"price\":\"KSh 23,499\",\"priceEuro\":\"141.83\",\"taxEuro\":\"0.00\",\"oldPrice\":\"KSh 29,000\",\"oldPriceEuro\":\"175.03\",\"discount\":\"19%\"},\"tags\":\"APWK|BDEAL|BLF|BLF_04|Boost|COL_178|COL_216|COL_223|COL_307|CP_10|CP_MT104|CP_MT107|CP_MT31|CP_UN100|CP_UN2|CP_UN235|CP_UN245|CP_UN246|CP_UN247|CP_UN255|CP_UN256|CP_UN258|CP_UN262|CP_UN263|CP_UN264|CP_UN265|CP_UN5|CP_UN9|DOW_10|JA23_01|JBF|JBM|MLP2|TBOOST|TW23_05|TW_03|UND_50|XMAS22|XMAS22_02\",\"rating\":{\"average\":4.3,\"totalRatings\":185},\"image\":\"https://ke.jumia.is/unsafe/fit-in/300x300/filters:fill(white)/product/34/585675/1.jpg?2038\",\"url\":\"/vitron-43-inch-frameless-fhd-smart-android-tv-inbuilt-decoderfree-bracketflash-disk-57658543.html\",\"badges\":{\"campaign\":{\"name\":\"Black Friday deal\",\"identifier\":\"BLF\",\"url\":\"/all-products/?tag=BLF\",\"txtColor\":\"#FFFFFF\",\"bgColor\":\"#000000\"}},\"isBuyable\":true,\"shopExpress\":{\"title\":\"Express Shipping\"},\"simples\":[{\"sku\":\"VI505EA0KLAH7NAFAMZ-72931569\",\"loginUrl\":\"/customer/account/login/?tkWl=VI505EA0KLAH7NAFAMZ-72931569&return=%2Fcatalog%2F%3Fq%3D43%2Binch%2Bsmart%2Btvs\",\"isBuyable\":true,\"name\":\"\",\"prices\":{\"rawPrice\":\"23499.00\",\"price\":\"KSh 23,499\",\"priceEuro\":\"141.83\",\"taxEuro\":\"0.00\",\"oldPrice\":\"KSh 29,000\",\"oldPriceEuro\":\"175.03\",\"discount\":\"19%\"}}],\"selectedVariation\":\"VI505EA0KLAH7NAFAMZ-72931569\"},{\"sku\":\"TC187EA22NSLTNAFAMZ\",\"name\":\"43S5400A,43\\\" Inch Smart  ANDROID TV BT Icast  Appstore+FREE TV Guard+Bracket\",\"displayName\":\"TCL 43S5400A,43\\\" Inch Smart  ANDROID TV BT Icast  Appstore+FREE TV Guard+Bracket\",\"brand\":\"TCL\",\"sellerId\":5258,\"categories\":\"Electronics/Television & Video/Televisions/Smart TVs\",\"prices\":{\"rawPrice\":\"33890.00\",\"price\":\"KSh 33,890\",\"priceEuro\":\"204.55\",\"taxEuro\":\"0.00\",\"oldPrice\":\"KSh 42,999\",\"oldPriceEuro\":\"259.53\",\"discount\":\"21%\"},\"tags\":\"BLF|BLF_04|CP_MT31|TBOOST\",\"rating\":{\"average\":5,\"totalRatings\":3},\"image\":\"https://ke.jumia.is/unsafe/fit-in/300x300/filters:fill(white)/product/25/4017451/1.jpg?5412\",\"url\":\"/43s5400a43-inch-smart-android-tv-bt-icast-appstorefree-tv-guardbracket-tcl-mpg1440693.html\",\"badges\":{\"campaign\":{\"name\":\"Black Friday deal\",\"identifier\":\"BLF\",\"url\":\"/all-products/?tag=BLF\",\"txtColor\":\"#FFFFFF\",\"bgColor\":\"#000000\"}},\"isBuyable\":true,\"mpg\":{\"lowPriceFormatted\":\"KSh 33,890\",\"otherOffers\":4},\"simples\":[{\"sku\":\"TC187EA22NSLTNAFAMZ-203624825\",\"loginUrl\":\"/customer/account/login/?tkWl=TC187EA22NSLTNAFAMZ-203624825&return=%2Fcatalog%2F%3Fq%3D43%2Binch%2Bsmart%2Btvs\",\"isBuyable\":true,\"name\":\"\",\"prices\":{\"rawPrice\":\"33890.00\",\"price\":\"KSh 33,890\",\"priceEuro\":\"204.55\",\"taxEuro\":\"0.00\",\"oldPrice\":\"KSh 42,999\",\"oldPriceEuro\":\"259.53\",\"discount\":\"21%\"}}],\"selectedVariation\":\"TC187EA22NSLTNAFAMZ-203624825\"},{\"sku\":\"AM617EA0ZSNGENAFAMZ\",\"name\":\"43L12 43\\\" Inch TV Smart Android TV Bluetooth Enabled +FREE Bracket+Extension\",\"displayName\":\"Amtec 43L12 43\\\" Inch TV Smart Android TV Bluetooth Enabled +FREE Bracket+Extension\",\"brand\":\"Amtec\",\"sellerId\":17058,\"categories\":\"Electronics/Television & Video/Televisions/Smart TVs\",\"prices\":{\"rawPrice\":\"23899.00\",\"price\":\"KSh 23,899\",\"priceEuro\":\"144.25\",\"taxEuro\":\"0.00\",\"oldPrice\":\"KSh 30,000\",\"oldPriceEuro\":\"181.07\",\"discount\":\"20%\"},\"tags\":\"BLF_04|Boost|COL_216|TBOOST\",\"rating\":{\"average\":5,\"totalRatings\":1},\"image\":\"https://ke.jumia.is/unsafe/fit-in/300x300/filters:fill(white)/product/60/123326/1.jpg?9776\",\"url\":\"/amtec-43l12-43-inch-tv-smart-android-tv-bluetooth-enabled-free-bracketextension-62332106.html\",\"isBuyable\":true,\"simples\":[{\"sku\":\"AM617EA0ZSNGENAFAMZ-78291345\",\"loginUrl\":\"/customer/account/login/?tkWl=AM617EA0ZSNGENAFAMZ-78291345&return=%2Fcatalog%2F%3Fq%3D43%2Binch%2Bsmart%2Btvs\",\"isBuyable\":true,\"name\":\"\",\"prices\":{\"rawPrice\":\"23899.00\",\"price\":\"KSh 23,899\",\"priceEuro\":\"144.25\",\"taxEuro\":\"0.00\",\"oldPrice\":\"KSh 30,000\",\"oldPriceEuro\":\"181.07\",\"discount\":\"20%\"}}],\"selectedVariation\":\"AM617EA0ZSNGENAFAMZ-78291345\"},{\"sku\":\"WY292EA2RADPCNAFAMZ\",\"name\":\"43\\\" Inch FHD 8GBROM Smart Android 9.0 TV WIFI Netflix,Youtube,Playstore\",\"displayName\":\"Wyinix 43\\\" Inch FHD 8GBROM Smart Android 9.0 TV WIFI Netflix,Youtube,Playstore\",\"brand\":\"Wyinix\",\"sellerId\":91095,\"categories\":\"Electronics/Television & Video/Televisions/Smart TVs\",\"prices\":{\"rawPrice\":\"22195.00\",\"price\":\"KSh 22,195\",\"priceEuro\":\"133.96\",\"taxEuro\":\"18.48\",\"oldPrice\":\"KSh 34,000\",\"oldPriceEuro\":\"205.21\",\"discount\":\"35%\"},\"tags\":\"BLF|BLF_04|Boost|CP_UN100|JBF|TBOOST\",\"rating\":{\"average\":4.5,\"totalRatings\":2},\"image\":\"https://ke.jumia.is/unsafe/fit-in/300x300/filters:fill(white)/product/66/7663041/1.jpg?1707\",\"url\":\"/wyinix-43-inch-fhd-8gbrom-smart-android-9.0-tv-wifi-netflixyoutubeplaystore-140366766.html\",\"badges\":{\"campaign\":{\"name\":\"Black Friday deal\",\"identifier\":\"BLF\",\"url\":\"/all-products/?tag=BLF\",\"txtColor\":\"#FFFFFF\",\"bgColor\":\"#000000\"}},\"isBuyable\":true,\"simples\":[{\"sku\":\"WY292EA2RADPCNAFAMZ-185845546\",\"loginUrl\":\"/customer/account/login/?tkWl=WY292EA2RADPCNAFAMZ-185845546&return=%2Fcatalog%2F%3Fq%3D43%2Binch%2Bsmart%2Btvs\",\"isBuyable\":true,\"name\":\"\",\"prices\":{\"rawPrice\":\"22195.00\",\"price\":\"KSh 22,195\",\"priceEuro\":\"133.96\",\"taxEuro\":\"18.48\",\"oldPrice\":\"KSh 34,000\",\"oldPriceEuro\":\"205.21\",\"discount\":\"35%\"}}],\"selectedVariation\":\"WY292EA2RADPCNAFAMZ-185845546\"},{\"sku\":\"VI505EA0CSBZXNAFAMZ\",\"name\":\"43\\\" Inch Frameless  Smart Android TV Netflix Youtube Bluetooth Enable AppStore 3HDMI USB FREE GIFTS\",\"displayName\":\"Vitron 43\\\" Inch Frameless  Smart Android TV Netflix Youtube Bluetooth Enable AppStore 3HDMI USB FREE GIFTS\",\"brand\":\"Vitron\",\"sellerId\":82218,\"categories\":\"Electronics/Television & Video/Televisions/Smart TVs\",\"prices\":{\"rawPrice\":\"24499.00\",\"price\":\"KSh 24,499\",\"priceEuro\":\"147.87\",\"taxEuro\":\"0.00\",\"oldPrice\":\"KSh 28,999\",\"oldPriceEuro\":\"175.03\",\"discount\":\"16%\"},\"tags\":\"BLF|BLF_04|Boost|CP_MT31|CP_UN100|TBOOST\",\"rating\":{\"average\":3.6,\"totalRatings\":5},\"image\":\"https://ke.jumia.is/unsafe/fit-in/300x300/filters:fill(white)/product/21/477309/1.jpg?4985\",\"url\":\"/43-inch-frameless-smart-android-tv-netflix-youtube-bluetooth-enable-appstore-3hdmi-usb-free-gifts-vitron-mpg1522012.html\",\"badges\":{\"campaign\":{\"name\":\"Black Friday deal\",\"identifier\":\"BLF\",\"url\":\"/all-products/?tag=BLF\",\"txtColor\":\"#FFFFFF\",\"bgColor\":\"#000000\"}},\"isBuyable\":true,\"simples\":[{\"sku\":\"VI505EA0CSBZXNAFAMZ-114379349\",\"loginUrl\":\"/customer/account/login/?tkWl=VI505EA0CSBZXNAFAMZ-114379349&return=%2Fcatalog%2F%3Fq%3D43%2Binch%2Bsmart%2Btvs\",\"isBuyable\":true,\"name\":\"\",\"prices\":{\"rawPrice\":\"24499.00\",\"price\":\"KSh 24,499\",\"priceEuro\":\"147.87\",\"taxEuro\":\"0.00\",\"oldPrice\":\"KSh 28,999\",\"oldPriceEuro\":\"175.03\",\"discount\":\"16%\"}}],\"selectedVariation\":\"VI505EA0CSBZXNAFAMZ-114379349\"},{\"sku\":\"SK493EA192RAWNAFAMZ\",\"name\":\"43” Inch Smart Android FHD FRAMELESS TV WI-FI Netflix YouTube BLUETOOTH ENABLE GOOGLE TV LED\",\"displayName\":\"Skyworth 43” Inch Smart Android FHD FRAMELESS TV WI-FI Netflix YouTube BLUETOOTH ENABLE GOOGLE TV LED\",\"brand\":\"Skyworth\",\"sellerId\":82218,\"categories\":\"Electronics/Television & Video/Televisions/Smart TVs\",\"prices\":{\"rawPrice\":\"29999.00\",\"price\":\"KSh 29,999\",\"priceEuro\":\"181.06\",\"taxEuro\":\"0.00\",\"oldPrice\":\"KSh 39,000\",\"oldPriceEuro\":\"235.39\",\"discount\":\"23%\"},\"tags\":\"BLF|BLF_04|Boost|COL_178|COL_216|CP_MT31|CP_UN245|CP_UN246|CP_UN247|CP_UN255|CP_UN262|CP_UN263|CP_UN264|CP_UN265|CP_UN34|TBOOST\",\"rating\":{\"average\":4.2,\"totalRatings\":5},\"image\":\"https://ke.jumia.is/unsafe/fit-in/300x300/filters:fill(white)/product/75/711416/1.jpg?6609\",\"url\":\"/43-inch-smart-android-fhd-frameless-tv-wi-fi-netflix-youtube-bluetooth-enable-google-tv-led-skyworth-mpg1440674.html\",\"badges\":{\"campaign\":{\"name\":\"Black Friday deal\",\"identifier\":\"BLF\",\"url\":\"/all-products/?tag=BLF\",\"txtColor\":\"#FFFFFF\",\"bgColor\":\"#000000\"}},\"isBuyable\":true,\"simples\":[{\"sku\":\"SK493EA192RAWNAFAMZ-77248714\",\"loginUrl\":\"/customer/account/login/?tkWl=SK493EA192RAWNAFAMZ-77248714&return=%2Fcatalog%2F%3Fq%3D43%2Binch%2Bsmart%2Btvs\",\"isBuyable\":true,\"name\":\"\",\"prices\":{\"rawPrice\":\"29999.00\",\"price\":\"KSh 29,999\",\"priceEuro\":\"181.06\",\"taxEuro\":\"0.00\",\"oldPrice\":\"KSh 39,000\",\"oldPriceEuro\":\"235.39\",\"discount\":\"23%\"}}],\"selectedVariation\":\"SK493EA192RAWNAFAMZ-77248714\"},{\"sku\":\"HI279EA0UU27NNAFAMZ\",\"name\":\"43E3S 43 Inch Android Smart Full HD LED TV - Black\",\"displayName\":\"Hifinit 43E3S 43 Inch Android Smart Full HD LED TV - Black\",\"brand\":\"Hifinit\",\"sellerId\":32533,\"isShopExpress\":true,\"categories\":\"Electronics/Television & Video/Televisions/Smart TVs\",\"prices\":{\"rawPrice\":\"22399.00\",\"price\":\"KSh 22,399\",\"priceEuro\":\"135.19\",\"taxEuro\":\"0.00\",\"oldPrice\":\"KSh 40,400\",\"oldPriceEuro\":\"243.84\",\"discount\":\"45%\"},\"tags\":\"BDEAL|BLF|BLF_04|COL_226|COL_230|CP_1|CP_MT104|CP_MT31|CP_UN2|CP_UN245|CP_UN246|CP_UN247|CP_UN255|CP_UN256|CP_UN258|CP_UN262|CP_UN263|CP_UN264|CP_UN265|CP_UN269|CP_UN3|DOW_12|DOW_120|JA23_100|JBF|MLP2|TBOOST|TW23_05|XMAS22|XMAS22_02|XMAS22_06|XMAS22_07\",\"rating\":{\"average\":5,\"totalRatings\":6},\"image\":\"https://ke.jumia.is/unsafe/fit-in/300x300/filters:fill(white)/product/51/791027/1.jpg?7606\",\"url\":\"/hifinit-43e3s-43-inch-android-smart-full-hd-led-tv-black-72019715.html\",\"badges\":{\"campaign\":{\"name\":\"Black Friday deal\",\"identifier\":\"BLF\",\"url\":\"/all-products/?tag=BLF\",\"txtColor\":\"#FFFFFF\",\"bgColor\":\"#000000\"}},\"isBuyable\":true,\"shopExpress\":{\"title\":\"Express Shipping\"},\"simples\":[{\"sku\":\"HI279EA0UU27NNAFAMZ-89891398\",\"loginUrl\":\"/customer/account/login/?tkWl=HI279EA0UU27NNAFAMZ-89891398&return=%2Fcatalog%2F%3Fq%3D43%2Binch%2Bsmart%2Btvs\",\"isBuyable\":true,\"name\":\"\",\"prices\":{\"rawPrice\":\"22399.00\",\"price\":\"KSh 22,399\",\"priceEuro\":\"135.19\",\"taxEuro\":\"0.00\",\"oldPrice\":\"KSh 40,400\",\"oldPriceEuro\":\"243.84\",\"discount\":\"45%\"}}],\"selectedVariation\":\"HI279EA0UU27NNAFAMZ-89891398\"},{\"sku\":\"VI799EA09NCP9NAFAMZ\",\"name\":\"43\\\" Inch Frameless FHD Smart Android Bluetooth TV AppStore+FREEBRACKET+EXTENSON\",\"displayName\":\"Vision Plus 43\\\" Inch Frameless FHD Smart Android Bluetooth TV AppStore+FREEBRACKET+EXTENSON\",\"brand\":\"Vision Plus\",\"sellerId\":17058,\"categories\":\"Electronics/Television & Video/Televisions/Smart TVs\",\"prices\":{\"rawPrice\":\"28999.00\",\"price\":\"KSh 28,999\",\"priceEuro\":\"175.03\",\"taxEuro\":\"0.00\",\"oldPrice\":\"KSh 35,000\",\"oldPriceEuro\":\"211.25\",\"discount\":\"17%\"},\"tags\":\"BLF|Boost|COL_223|CP_MT11|CP_MT15|CP_MT16|CP_MT18|CP_MT19|CP_MT24|CP_MT29|CP_MT31|CP_MT35|CP_UN100|CP_UN2|CP_UN245|CP_UN246|CP_UN247|CP_UN255|CP_UN256|CP_UN258|CP_UN262|CP_UN263|CP_UN264|CP_UN265|DOW_11|JA23_01|JBF|MLP2|TBOOST|TW23_05|XMAS22|XMAS22_02\",\"rating\":{\"average\":4.3,\"totalRatings\":126},\"image\":\"https://ke.jumia.is/unsafe/fit-in/300x300/filters:fill(white)/product/16/206093/1.jpg?2207\",\"url\":\"/43-inch-frameless-fhd-smart-android-bluetooth-tv-appstorefreebracketextenson-vision-plus-mpg1521972.html\",\"badges\":{\"campaign\":{\"name\":\"Black Friday deal\",\"identifier\":\"BLF\",\"url\":\"/all-products/?tag=BLF\",\"txtColor\":\"#FFFFFF\",\"bgColor\":\"#000000\"}},\"isBuyable\":true,\"simples\":[{\"sku\":\"VI799EA09NCP9NAFAMZ-51471756\",\"loginUrl\":\"/customer/account/login/?tkWl=VI799EA09NCP9NAFAMZ-51471756&return=%2Fcatalog%2F%3Fq%3D43%2Binch%2Bsmart%2Btvs\",\"isBuyable\":true,\"name\":\"\",\"prices\":{\"rawPrice\":\"28999.00\",\"price\":\"KSh 28,999\",\"priceEuro\":\"175.03\",\"taxEuro\":\"0.00\",\"oldPrice\":\"KSh 35,000\",\"oldPriceEuro\":\"211.25\",\"discount\":\"17%\"}}],\"selectedVariation\":\"VI799EA09NCP9NAFAMZ-51471756\"},{\"sku\":\"VI505EA1ZMZ25NAFAMZ\",\"name\":\"43\\\" Inch,SMART Android FHD TV,DECODER,NETFLIX,YOUTUBE-4388FS+ GIFTS\",\"displayName\":\"Vitron 43\\\" Inch,SMART Android FHD TV,DECODER,NETFLIX,YOUTUBE-4388FS+ GIFTS\",\"brand\":\"Vitron\",\"sellerId\":14222,\"categories\":\"Electronics/Television & Video/Televisions/Smart TVs\",\"prices\":{\"rawPrice\":\"23595.00\",\"price\":\"KSh 23,595\",\"priceEuro\":\"142.41\",\"taxEuro\":\"0.00\",\"oldPrice\":\"KSh 46,000\",\"oldPriceEuro\":\"277.64\",\"discount\":\"49%\"},\"tags\":\"BDEAL|BLF|BLF_04|Boost|JBF|TBOOST\",\"rating\":{\"average\":5,\"totalRatings\":1},\"image\":\"https://ke.jumia.is/unsafe/fit-in/300x300/filters:fill(white)/product/20/3246051/1.jpg?5427\",\"url\":\"/vitron-43-inchsmart-android-fhd-tvdecodernetflixyoutube-4388fs-gifts-150642302.html\",\"badges\":{\"campaign\":{\"name\":\"Black Friday deal\",\"identifier\":\"BLF\",\"url\":\"/all-products/?tag=BLF\",\"txtColor\":\"#FFFFFF\",\"bgColor\":\"#000000\"}},\"isBuyable\":true,\"simples\":[{\"sku\":\"VI505EA1ZMZ25NAFAMZ-197035367\",\"loginUrl\":\"/customer/account/login/?tkWl=VI505EA1ZMZ25NAFAMZ-197035367&return=%2Fcatalog%2F%3Fq%3D43%2Binch%2Bsmart%2Btvs\",\"isBuyable\":true,\"name\":\"\",\"prices\":{\"rawPrice\":\"23595.00\",\"price\":\"KSh 23,595\",\"priceEuro\":\"142.41\",\"taxEuro\":\"0.00\",\"oldPrice\":\"KSh 46,000\",\"oldPriceEuro\":\"277.64\",\"discount\":\"49%\"}}],\"selectedVariation\":\"VI505EA1ZMZ25NAFAMZ-197035367\"},{\"sku\":\"VI505EA2F5Z49NAFAMZ\",\"name\":\"43\\\" Inch Smart  CLEAR  ANDROID TV  NETFLIX,YOUTUBE INBUILT DECORDER\",\"displayName\":\"Vitron 43\\\" Inch Smart  CLEAR  ANDROID TV  NETFLIX,YOUTUBE INBUILT DECORDER\",\"brand\":\"Vitron\",\"sellerId\":42996,\"categories\":\"Electronics/Television & Video/Televisions/Smart TVs\",\"prices\":{\"rawPrice\":\"24999.00\",\"price\":\"KSh 24,999\",\"priceEuro\":\"150.89\",\"taxEuro\":\"0.00\",\"oldPrice\":\"KSh 37,999\",\"oldPriceEuro\":\"229.35\",\"discount\":\"34%\"},\"tags\":\"BLF|BLF_04|TBOOST\",\"rating\":{\"average\":0,\"totalRatings\":0},\"image\":\"https://ke.jumia.is/unsafe/fit-in/300x300/filters:fill(white)/product/46/4053851/1.jpg?4841\",\"url\":\"/43-inch-smart-clear-android-tv-netflixyoutube-inbuilt-decorder-vitron-mpg1522003.html\",\"badges\":{\"campaign\":{\"name\":\"Black Friday deal\",\"identifier\":\"BLF\",\"url\":\"/all-products/?tag=BLF\",\"txtColor\":\"#FFFFFF\",\"bgColor\":\"#000000\"}},\"isBuyable\":true,\"simples\":[{\"sku\":\"VI505EA2F5Z49NAFAMZ-207875956\",\"loginUrl\":\"/customer/account/login/?tkWl=VI505EA2F5Z49NAFAMZ-207875956&return=%2Fcatalog%2F%3Fq%3D43%2Binch%2Bsmart%2Btvs\",\"isBuyable\":true,\"name\":\"\",\"prices\":{\"rawPrice\":\"24999.00\",\"price\":\"KSh 24,999\",\"priceEuro\":\"150.89\",\"taxEuro\":\"0.00\",\"oldPrice\":\"KSh 37,999\",\"oldPriceEuro\":\"229.35\",\"discount\":\"34%\"}}],\"selectedVariation\":\"VI505EA2F5Z49NAFAMZ-207875956\"},{\"sku\":\"HI200EA0WO95HNAFAMZ\",\"name\":\"43'' Inch FRAMELESS 4K ULTRA HD SMART TV, BLUETOOTH+TV GUARD+EXTENSION\",\"displayName\":\"Hisense 43'' Inch FRAMELESS 4K ULTRA HD SMART TV, BLUETOOTH+TV GUARD+EXTENSION\",\"brand\":\"Hisense\",\"sellerId\":14222,\"categories\":\"Electronics/Television & Video/Televisions/Smart TVs\",\"prices\":{\"rawPrice\":\"39995.00\",\"price\":\"KSh 39,995\",\"priceEuro\":\"241.40\",\"taxEuro\":\"0.00\",\"oldPrice\":\"KSh 60,000\",\"oldPriceEuro\":\"362.14\",\"discount\":\"33%\"},\"tags\":\"BLF|BLF_04|Boost|COL_249|TBOOST\",\"rating\":{\"average\":0,\"totalRatings\":0},\"image\":\"https://ke.jumia.is/unsafe/fit-in/300x300/filters:fill(white)/product/54/879317/1.jpg?7140\",\"url\":\"/43-inch-frameless-4k-ultra-hd-smart-tv-bluetoothtv-guardextension-hisense-mpg1521595.html\",\"badges\":{\"campaign\":{\"name\":\"Black Friday deal\",\"identifier\":\"BLF\",\"url\":\"/all-products/?tag=BLF\",\"txtColor\":\"#FFFFFF\",\"bgColor\":\"#000000\"}},\"isBuyable\":true,\"mpg\":{\"lowPriceFormatted\":\"KSh 39,995\",\"otherOffers\":2},\"simples\":[{\"sku\":\"HI200EA0WO95HNAFAMZ-89150031\",\"loginUrl\":\"/customer/account/login/?tkWl=HI200EA0WO95HNAFAMZ-89150031&return=%2Fcatalog%2F%3Fq%3D43%2Binch%2Bsmart%2Btvs\",\"isBuyable\":true,\"name\":\"\",\"prices\":{\"rawPrice\":\"39995.00\",\"price\":\"KSh 39,995\",\"priceEuro\":\"241.40\",\"taxEuro\":\"0.00\",\"oldPrice\":\"KSh 60,000\",\"oldPriceEuro\":\"362.14\",\"discount\":\"33%\"}}],\"selectedVariation\":\"HI200EA0WO95HNAFAMZ-89150031\"},{\"sku\":\"VI505EA1E5HHONAFAMZ\",\"name\":\"43\\\" Inch-FHD Smart Android TV With GooglePlay+Wall Bracket+TVGuard\",\"displayName\":\"Vitron 43\\\" Inch-FHD Smart Android TV With GooglePlay+Wall Bracket+TVGuard\",\"brand\":\"Vitron\",\"sellerId\":28297,\"categories\":\"Electronics/Television & Video/Televisions/Smart TVs\",\"prices\":{\"rawPrice\":\"23899.00\",\"price\":\"KSh 23,899\",\"priceEuro\":\"144.25\",\"taxEuro\":\"0.00\",\"oldPrice\":\"KSh 40,000\",\"oldPriceEuro\":\"241.43\",\"discount\":\"40%\"},\"tags\":\"BDEAL|BLF|BLF_04|TBOOST\",\"rating\":{\"average\":0,\"totalRatings\":0},\"image\":\"https://ke.jumia.is/unsafe/fit-in/300x300/filters:fill(white)/product/84/236748/1.jpg?8053\",\"url\":\"/43-inch-fhd-smart-android-tv-with-googleplaywall-brackettvguard-vitron-mpg604428.html\",\"badges\":{\"campaign\":{\"name\":\"Black Friday deal\",\"identifier\":\"BLF\",\"url\":\"/all-products/?tag=BLF\",\"txtColor\":\"#FFFFFF\",\"bgColor\":\"#000000\"}},\"isBuyable\":true,\"mpg\":{\"lowPriceFormatted\":\"KSh 23,899\",\"otherOffers\":2},\"simples\":[{\"sku\":\"VI505EA1E5HHONAFAMZ-106262088\",\"loginUrl\":\"/customer/account/login/?tkWl=VI505EA1E5HHONAFAMZ-106262088&return=%2Fcatalog%2F%3Fq%3D43%2Binch%2Bsmart%2Btvs\",\"isBuyable\":true,\"name\":\"\",\"prices\":{\"rawPrice\":\"23899.00\",\"price\":\"KSh 23,899\",\"priceEuro\":\"144.25\",\"taxEuro\":\"0.00\",\"oldPrice\":\"KSh 40,000\",\"oldPriceEuro\":\"241.43\",\"discount\":\"40%\"}}],\"selectedVariation\":\"VI505EA1E5HHONAFAMZ-106262088\"},{\"sku\":\"HI279EA2IWEB0NAFAMZ\",\"name\":\"43'' Inch Android Smart FHD NETFLIX YOUTUBE LED TV-Black\",\"displayName\":\"Hifinit 43'' Inch Android Smart FHD NETFLIX YOUTUBE LED TV-Black\",\"brand\":\"Hifinit\",\"sellerId\":131953,\"isShopExpress\":true,\"categories\":\"Electronics/Television & Video/Televisions/Smart TVs\",\"prices\":{\"rawPrice\":\"22199.00\",\"price\":\"KSh 22,199\",\"priceEuro\":\"133.99\",\"taxEuro\":\"0.00\",\"oldPrice\":\"KSh 39,999\",\"oldPriceEuro\":\"241.42\",\"discount\":\"45%\"},\"tags\":\"BDEAL|BLF|BLF_04|Boost|CP_1|CP_UN269|JA23_100|TBOOST\",\"rating\":{\"average\":0,\"totalRatings\":0},\"image\":\"https://ke.jumia.is/unsafe/fit-in/300x300/filters:fill(white)/product/52/6769721/1.jpg?0519\",\"url\":\"/hifinit-43-inch-android-smart-fhd-netflix-youtube-led-tv-black-127967625.html\",\"badges\":{\"campaign\":{\"name\":\"Black Friday deal\",\"identifier\":\"BLF\",\"url\":\"/all-products/?tag=BLF\",\"txtColor\":\"#FFFFFF\",\"bgColor\":\"#000000\"}},\"isBuyable\":true,\"shopExpress\":{\"title\":\"Express Shipping\"},\"simples\":[{\"sku\":\"HI279EA2IWEB0NAFAMZ-171811477\",\"loginUrl\":\"/customer/account/login/?tkWl=HI279EA2IWEB0NAFAMZ-171811477&return=%2Fcatalog%2F%3Fq%3D43%2Binch%2Bsmart%2Btvs\",\"isBuyable\":true,\"name\":\"\",\"prices\":{\"rawPrice\":\"22199.00\",\"price\":\"KSh 22,199\",\"priceEuro\":\"133.99\",\"taxEuro\":\"0.00\",\"oldPrice\":\"KSh 39,999\",\"oldPriceEuro\":\"241.42\",\"discount\":\"45%\"}}],\"selectedVariation\":\"HI279EA2IWEB0NAFAMZ-171811477\"},{\"sku\":\"RO689EA0TOEAXNAFAMZ\",\"name\":\"Frameless 43\\\" Inch TV SMART Android TV FHD-Netfix,Youtube\",\"displayName\":\"Royal Frameless 43\\\" Inch TV SMART Android TV FHD-Netfix,Youtube\",\"brand\":\"Royal\",\"sellerId\":91095,\"categories\":\"Electronics/Television & Video/Televisions/Smart TVs\",\"prices\":{\"rawPrice\":\"25999.00\",\"price\":\"KSh 25,999\",\"priceEuro\":\"156.92\",\"taxEuro\":\"0.00\",\"oldPrice\":\"KSh 45,000\",\"oldPriceEuro\":\"271.60\",\"discount\":\"42%\"},\"tags\":\"BDEAL|BLF|BLF_04|Boost|COL_178|TBOOST\",\"rating\":{\"average\":4.5,\"totalRatings\":8},\"image\":\"https://ke.jumia.is/unsafe/fit-in/300x300/filters:fill(white)/product/49/847145/1.jpg?0472\",\"url\":\"/frameless-43-inch-tv-smart-android-tv-fhd-netfixyoutube-royal-mpg1521693.html\",\"badges\":{\"campaign\":{\"name\":\"Black Friday deal\",\"identifier\":\"BLF\",\"url\":\"/all-products/?tag=BLF\",\"txtColor\":\"#FFFFFF\",\"bgColor\":\"#000000\"}},\"isBuyable\":true,\"mpg\":{\"lowPriceFormatted\":\"KSh 25,999\",\"otherOffers\":2},\"simples\":[{\"sku\":\"RO689EA0TOEAXNAFAMZ-68597536\",\"loginUrl\":\"/customer/account/login/?tkWl=RO689EA0TOEAXNAFAMZ-68597536&return=%2Fcatalog%2F%3Fq%3D43%2Binch%2Bsmart%2Btvs\",\"isBuyable\":true,\"name\":\"\",\"prices\":{\"rawPrice\":\"25999.00\",\"price\":\"KSh 25,999\",\"priceEuro\":\"156.92\",\"taxEuro\":\"0.00\",\"oldPrice\":\"KSh 45,000\",\"oldPriceEuro\":\"271.60\",\"discount\":\"42%\"}}],\"selectedVariation\":\"RO689EA0TOEAXNAFAMZ-68597536\"},{\"sku\":\"GL679EA37SCNMNAFAMZ\",\"name\":\"43\\\" Inch Full HD Smart Android TV WIFI Netflix, Youtube\",\"displayName\":\"Glaze 43\\\" Inch Full HD Smart Android TV WIFI Netflix, Youtube\",\"brand\":\"Glaze\",\"sellerId\":91095,\"categories\":\"Electronics/Television & Video/Televisions/Smart TVs\",\"prices\":{\"rawPrice\":\"22599.00\",\"price\":\"KSh 22,599\",\"priceEuro\":\"136.40\",\"taxEuro\":\"0.00\",\"oldPrice\":\"KSh 22,999\",\"oldPriceEuro\":\"138.81\",\"discount\":\"2%\"},\"tags\":\"BLF|BLF_04|Boost|CP_UN262|CP_UN263|CP_UN264|CP_UN265|TBOOST\",\"rating\":{\"average\":3.7,\"totalRatings\":3},\"image\":\"https://ke.jumia.is/unsafe/fit-in/300x300/filters:fill(white)/product/94/4786101/1.jpg?5376\",\"url\":\"/43-inch-full-hd-smart-android-tv-wifi-netflix-youtube-tv-glaze-mpg724185.html\",\"badges\":{\"campaign\":{\"name\":\"Black Friday deal\",\"identifier\":\"BLF\",\"url\":\"/all-products/?tag=BLF\",\"txtColor\":\"#FFFFFF\",\"bgColor\":\"#000000\"}},\"isBuyable\":true,\"mpg\":{\"lowPriceFormatted\":\"KSh 22,599\",\"otherOffers\":3},\"simples\":[{\"sku\":\"GL679EA37SCNMNAFAMZ-131957198\",\"loginUrl\":\"/customer/account/login/?tkWl=GL679EA37SCNMNAFAMZ-131957198&return=%2Fcatalog%2F%3Fq%3D43%2Binch%2Bsmart%2Btvs\",\"isBuyable\":true,\"name\":\"\",\"prices\":{\"rawPrice\":\"22599.00\",\"price\":\"KSh 22,599\",\"priceEuro\":\"136.40\",\"taxEuro\":\"0.00\",\"oldPrice\":\"KSh 22,999\",\"oldPriceEuro\":\"138.81\",\"discount\":\"2%\"}}],\"selectedVariation\":\"GL679EA37SCNMNAFAMZ-131957198\"},{\"sku\":\"HI200EA2EPQ8DNAFAMZ\",\"name\":\"43A6HKEN 43''A6 Series Inches Smart UHD 4K HDR Frameless LED TV (2023)\",\"displayName\":\"Hisense 43A6HKEN 43''A6 Series Inches Smart UHD 4K HDR Frameless LED TV (2023)\",\"brand\":\"Hisense\",\"sellerId\":122527,\"categories\":\"Electronics/Television & Video/Televisions/Smart TVs\",\"prices\":{\"rawPrice\":\"37000.00\",\"price\":\"KSh 37,000\",\"priceEuro\":\"223.32\",\"taxEuro\":\"0.00\",\"oldPrice\":\"KSh 69,000\",\"oldPriceEuro\":\"416.46\",\"discount\":\"46%\"},\"tags\":\"BDEAL|Boost|COL_249|CP_MT31\",\"rating\":{\"average\":2.5,\"totalRatings\":2},\"image\":\"https://ke.jumia.is/unsafe/fit-in/300x300/filters:fill(white)/product/45/6473731/1.jpg?3314\",\"url\":\"/43-inch-4k-uhd-hdr-frameless-smart-tv-2023-hisense-mpg1521498.html\",\"isBuyable\":true,\"mpg\":{\"lowPriceFormatted\":\"KSh 37,000\",\"otherOffers\":4},\"simples\":[{\"sku\":\"HI200EA2EPQ8DNAFAMZ-182381857\",\"loginUrl\":\"/customer/account/login/?tkWl=HI200EA2EPQ8DNAFAMZ-182381857&return=%2Fcatalog%2F%3Fq%3D43%2Binch%2Bsmart%2Btvs\",\"isBuyable\":true,\"name\":\"\",\"prices\":{\"rawPrice\":\"37000.00\",\"price\":\"KSh 37,000\",\"priceEuro\":\"223.32\",\"taxEuro\":\"0.00\",\"oldPrice\":\"KSh 69,000\",\"oldPriceEuro\":\"416.46\",\"discount\":\"46%\"}}],\"selectedVariation\":\"HI200EA2EPQ8DNAFAMZ-182381857\"},{\"sku\":\"CT303EA29EKTLNAFAMZ\",\"name\":\"43\\\" Inch Smart -Android 11,Frameless,Decoder,Netflix,Youtube+2 Free Gifts\",\"displayName\":\"CTC 43\\\" Inch Smart -Android 11,Frameless,Decoder,Netflix,Youtube+2 Free Gifts\",\"brand\":\"CTC\",\"sellerId\":130674,\"categories\":\"Electronics/Television & Video/Televisions/Smart TVs\",\"prices\":{\"rawPrice\":\"23399.00\",\"price\":\"KSh 23,399\",\"priceEuro\":\"141.23\",\"taxEuro\":\"0.00\",\"oldPrice\":\"KSh 46,000\",\"oldPriceEuro\":\"277.64\",\"discount\":\"49%\"},\"tags\":\"APWK|BLF|BLF_04|Boost|TBOOST\",\"rating\":{\"average\":0,\"totalRatings\":0},\"image\":\"https://ke.jumia.is/unsafe/fit-in/300x300/filters:fill(white)/product/36/7290651/1.jpg?5698\",\"url\":\"/ctc-43-inch-smart-android-11framelessdecodernetflixyoutube2-free-gifts-156092763.html\",\"badges\":{\"campaign\":{\"name\":\"Black Friday deal\",\"identifier\":\"BLF\",\"url\":\"/all-products/?tag=BLF\",\"txtColor\":\"#FFFFFF\",\"bgColor\":\"#000000\"}},\"isBuyable\":true,\"simples\":[{\"sku\":\"CT303EA29EKTLNAFAMZ-205135765\",\"loginUrl\":\"/customer/account/login/?tkWl=CT303EA29EKTLNAFAMZ-205135765&return=%2Fcatalog%2F%3Fq%3D43%2Binch%2Bsmart%2Btvs\",\"isBuyable\":true,\"name\":\"\",\"prices\":{\"rawPrice\":\"23399.00\",\"price\":\"KSh 23,399\",\"priceEuro\":\"141.23\",\"taxEuro\":\"0.00\",\"oldPrice\":\"KSh 46,000\",\"oldPriceEuro\":\"277.64\",\"discount\":\"49%\"}}],\"selectedVariation\":\"CT303EA29EKTLNAFAMZ-205135765\"},{\"sku\":\"CT303EA2VXLR9NAFAMZ\",\"name\":\"43\\\" Inches HD Smart Android TV,YOUTUBE,WIFI+FREE WALL BRACKET\",\"displayName\":\"CTC 43\\\" Inches HD Smart Android TV,YOUTUBE,WIFI+FREE WALL BRACKET\",\"brand\":\"CTC\",\"sellerId\":82218,\"categories\":\"Electronics/Television & Video/Televisions/Smart TVs\",\"prices\":{\"rawPrice\":\"23383.00\",\"price\":\"KSh 23,383\",\"priceEuro\":\"141.13\",\"taxEuro\":\"0.00\",\"oldPrice\":\"KSh 27,888\",\"oldPriceEuro\":\"168.32\",\"discount\":\"16%\"},\"tags\":\"APWK|BDEAL|BLF|BLF_04|TBOOST\",\"rating\":{\"average\":5,\"totalRatings\":2},\"image\":\"https://ke.jumia.is/unsafe/fit-in/300x300/filters:fill(white)/product/74/5682931/1.jpg?4044\",\"url\":\"/ctc-43-inches-hd-smart-android-tvyoutubewififree-wall-bracket-139286547.html\",\"badges\":{\"campaign\":{\"name\":\"Black Friday deal\",\"identifier\":\"BLF\",\"url\":\"/all-products/?tag=BLF\",\"txtColor\":\"#FFFFFF\",\"bgColor\":\"#000000\"}},\"isBuyable\":true,\"simples\":[{\"sku\":\"CT303EA2VXLR9NAFAMZ-184714399\",\"loginUrl\":\"/customer/account/login/?tkWl=CT303EA2VXLR9NAFAMZ-184714399&return=%2Fcatalog%2F%3Fq%3D43%2Binch%2Bsmart%2Btvs\",\"isBuyable\":true,\"name\":\"\",\"prices\":{\"rawPrice\":\"23383.00\",\"price\":\"KSh 23,383\",\"priceEuro\":\"141.13\",\"taxEuro\":\"0.00\",\"oldPrice\":\"KSh 27,888\",\"oldPriceEuro\":\"168.32\",\"discount\":\"16%\"}}],\"selectedVariation\":\"CT303EA2VXLR9NAFAMZ-184714399\"},{\"sku\":\"VI505EA0IWG9HNAFAMZ\",\"name\":\"Frameless,FULL HD Smart Android,43\\\" Inch TV+Netflix+Wall Mount\",\"displayName\":\"Vitron Frameless,FULL HD Smart Android,43\\\" Inch TV+Netflix+Wall Mount\",\"brand\":\"Vitron\",\"sellerId\":92775,\"categories\":\"Electronics/Television & Video/Televisions/Smart TVs\",\"prices\":{\"rawPrice\":\"23599.00\",\"price\":\"KSh 23,599\",\"priceEuro\":\"142.44\",\"taxEuro\":\"0.00\",\"oldPrice\":\"KSh 40,000\",\"oldPriceEuro\":\"241.43\",\"discount\":\"41%\"},\"tags\":\"BLF|COL_216|COL_223|CP_MT104|CP_MT31|CP_UN2|CP_UN245|CP_UN246|CP_UN247|CP_UN255|CP_UN256|CP_UN258|CP_UN262|CP_UN263|CP_UN264|CP_UN265|CP_UN3|CP_UN34|CP_UN9|MLP2|TBOOST|TW23_05|XMAS22|XMAS22_02|XMAS22_06|XMAS22_07\",\"rating\":{\"average\":4.3,\"totalRatings\":36},\"image\":\"https://ke.jumia.is/unsafe/fit-in/300x300/filters:fill(white)/product/31/747157/1.jpg?5700\",\"url\":\"/vitron-framelessfull-hd-smart-android43-inch-tvnetflixwall-mount-75174713.html\",\"badges\":{\"campaign\":{\"name\":\"Black Friday deal\",\"identifier\":\"BLF\",\"url\":\"/all-products/?tag=BLF\",\"txtColor\":\"#FFFFFF\",\"bgColor\":\"#000000\"}},\"isBuyable\":true,\"simples\":[{\"sku\":\"VI505EA0IWG9HNAFAMZ-93670032\",\"loginUrl\":\"/customer/account/login/?tkWl=VI505EA0IWG9HNAFAMZ-93670032&return=%2Fcatalog%2F%3Fq%3D43%2Binch%2Bsmart%2Btvs\",\"isBuyable\":true,\"name\":\"\",\"prices\":{\"rawPrice\":\"23599.00\",\"price\":\"KSh 23,599\",\"priceEuro\":\"142.44\",\"taxEuro\":\"0.00\",\"oldPrice\":\"KSh 40,000\",\"oldPriceEuro\":\"241.43\",\"discount\":\"41%\"}}],\"selectedVariation\":\"VI505EA0IWG9HNAFAMZ-93670032\"},{\"sku\":\"AM617EA0JLUT4NAFAMZ\",\"name\":\",43\\\" Inch FHD Smart Android FRAMELESS TV Netflix Youtube WIFI BLUETOOTH ENABLE\",\"displayName\":\"Amtec ,43\\\" Inch FHD Smart Android FRAMELESS TV Netflix Youtube WIFI BLUETOOTH ENABLE\",\"brand\":\"Amtec\",\"sellerId\":82218,\"categories\":\"Electronics/Television & Video/Televisions/Smart TVs\",\"prices\":{\"rawPrice\":\"24393.00\",\"price\":\"KSh 24,393\",\"priceEuro\":\"147.23\",\"taxEuro\":\"0.00\",\"oldPrice\":\"KSh 32,999\",\"oldPriceEuro\":\"199.17\",\"discount\":\"26%\"},\"tags\":\"BLF|BLF_04|TBOOST\",\"rating\":{\"average\":0,\"totalRatings\":0},\"image\":\"https://ke.jumia.is/unsafe/fit-in/300x300/filters:fill(white)/product/32/932408/1.jpg?2454\",\"url\":\"/amtec-43-inch-fhd-smart-android-frameless-tv-netflix-youtube-wifi-bluetooth-enable-80423923.html\",\"badges\":{\"campaign\":{\"name\":\"Black Friday deal\",\"identifier\":\"BLF\",\"url\":\"/all-products/?tag=BLF\",\"txtColor\":\"#FFFFFF\",\"bgColor\":\"#000000\"}},\"isBuyable\":true,\"simples\":[{\"sku\":\"AM617EA0JLUT4NAFAMZ-99931701\",\"loginUrl\":\"/customer/account/login/?tkWl=AM617EA0JLUT4NAFAMZ-99931701&return=%2Fcatalog%2F%3Fq%3D43%2Binch%2Bsmart%2Btvs\",\"isBuyable\":true,\"name\":\"\",\"prices\":{\"rawPrice\":\"24393.00\",\"price\":\"KSh 24,393\",\"priceEuro\":\"147.23\",\"taxEuro\":\"0.00\",\"oldPrice\":\"KSh 32,999\",\"oldPriceEuro\":\"199.17\",\"discount\":\"26%\"}}],\"selectedVariation\":\"AM617EA0JLUT4NAFAMZ-99931701\"},{\"sku\":\"CT303EA2SD04LNAFAMZ\",\"name\":\"43\\\" Inch Smart Android Frameless TV Netflix,Youtube Inbuilt Indecoder Wifi Ena\",\"displayName\":\"CTC 43\\\" Inch Smart Android Frameless TV Netflix,Youtube Inbuilt Indecoder Wifi Ena\",\"brand\":\"CTC\",\"sellerId\":82218,\"categories\":\"Electronics/Television & Video/Televisions/Smart TVs\",\"prices\":{\"rawPrice\":\"23499.00\",\"price\":\"KSh 23,499\",\"priceEuro\":\"141.83\",\"taxEuro\":\"0.00\",\"oldPrice\":\"KSh 28,777\",\"oldPriceEuro\":\"173.69\",\"discount\":\"18%\"},\"tags\":\"BDEAL|BLF|BLF_04|TBOOST\",\"rating\":{\"average\":0,\"totalRatings\":0},\"image\":\"https://ke.jumia.is/unsafe/fit-in/300x300/filters:fill(white)/product/68/5682931/1.jpg?5061\",\"url\":\"/ctc-43-inch-smart-android-frameless-tv-netflixyoutube-inbuilt-indecoder-wifi-ena-139286586.html\",\"badges\":{\"campaign\":{\"name\":\"Black Friday deal\",\"identifier\":\"BLF\",\"url\":\"/all-products/?tag=BLF\",\"txtColor\":\"#FFFFFF\",\"bgColor\":\"#000000\"}},\"isBuyable\":true,\"simples\":[{\"sku\":\"CT303EA2SD04LNAFAMZ-184714438\",\"loginUrl\":\"/customer/account/login/?tkWl=CT303EA2SD04LNAFAMZ-184714438&return=%2Fcatalog%2F%3Fq%3D43%2Binch%2Bsmart%2Btvs\",\"isBuyable\":true,\"name\":\"\",\"prices\":{\"rawPrice\":\"23499.00\",\"price\":\"KSh 23,499\",\"priceEuro\":\"141.83\",\"taxEuro\":\"0.00\",\"oldPrice\":\"KSh 28,777\",\"oldPriceEuro\":\"173.69\",\"discount\":\"18%\"}}],\"selectedVariation\":\"CT303EA2SD04LNAFAMZ-184714438\"},{\"sku\":\"CT303EA1NXO5HNAFAMZ\",\"name\":\"43\\\" Inch SMART ANDROID NETFLIX YOUTUBE USB FRAMELESS HDMI USB HD READY\",\"displayName\":\"CTC 43\\\" Inch SMART ANDROID NETFLIX YOUTUBE USB FRAMELESS HDMI USB HD READY\",\"brand\":\"CTC\",\"sellerId\":82218,\"categories\":\"Electronics/Television & Video/Televisions/Smart TVs\",\"prices\":{\"rawPrice\":\"23499.00\",\"price\":\"KSh 23,499\",\"priceEuro\":\"141.83\",\"taxEuro\":\"0.00\",\"oldPrice\":\"KSh 28,777\",\"oldPriceEuro\":\"173.69\",\"discount\":\"18%\"},\"tags\":\"BLF|BLF_04|TBOOST\",\"rating\":{\"average\":0,\"totalRatings\":0},\"image\":\"https://ke.jumia.is/unsafe/fit-in/300x300/filters:fill(white)/product/00/6682931/1.jpg?5060\",\"url\":\"/ctc-43-inch-smart-android-netflix-youtube-usb-frameless-hdmi-usb-hd-ready-139286600.html\",\"badges\":{\"campaign\":{\"name\":\"Black Friday deal\",\"identifier\":\"BLF\",\"url\":\"/all-products/?tag=BLF\",\"txtColor\":\"#FFFFFF\",\"bgColor\":\"#000000\"}},\"isBuyable\":true,\"simples\":[{\"sku\":\"CT303EA1NXO5HNAFAMZ-184714452\",\"loginUrl\":\"/customer/account/login/?tkWl=CT303EA1NXO5HNAFAMZ-184714452&return=%2Fcatalog%2F%3Fq%3D43%2Binch%2Bsmart%2Btvs\",\"isBuyable\":true,\"name\":\"\",\"prices\":{\"rawPrice\":\"23499.00\",\"price\":\"KSh 23,499\",\"priceEuro\":\"141.83\",\"taxEuro\":\"0.00\",\"oldPrice\":\"KSh 28,777\",\"oldPriceEuro\":\"173.69\",\"discount\":\"18%\"}}],\"selectedVariation\":\"CT303EA1NXO5HNAFAMZ-184714452\"},{\"sku\":\"SA948EA1R9CPVNAFAMZ\",\"name\":\"43 inch 4K Smart TV\",\"displayName\":\"Samsung 43 inch 4K Smart TV\",\"brand\":\"Samsung\",\"sellerId\":139791,\"categories\":\"Electronics/Television & Video/Televisions/Smart TVs\",\"prices\":{\"rawPrice\":\"54095.00\",\"price\":\"KSh 54,095\",\"priceEuro\":\"326.50\",\"taxEuro\":\"45.03\"},\"tags\":\"BLF|BLF_04|TBOOST\",\"rating\":{\"average\":0,\"totalRatings\":0},\"image\":\"https://ke.jumia.is/unsafe/fit-in/300x300/filters:fill(white)/product/06/2521951/1.jpg?2708\",\"url\":\"/43-inch-4k-smart-tv-samsung-mpg1521762.html\",\"badges\":{\"campaign\":{\"name\":\"Black Friday deal\",\"identifier\":\"BLF\",\"url\":\"/all-products/?tag=BLF\",\"txtColor\":\"#FFFFFF\",\"bgColor\":\"#000000\"}},\"isBuyable\":true,\"mpg\":{\"lowPriceFormatted\":\"KSh 54,095\",\"otherOffers\":5},\"simples\":[{\"sku\":\"SA948EA1R9CPVNAFAMZ-208827741\",\"loginUrl\":\"/customer/account/login/?tkWl=SA948EA1R9CPVNAFAMZ-208827741&return=%2Fcatalog%2F%3Fq%3D43%2Binch%2Bsmart%2Btvs\",\"isBuyable\":true,\"name\":\"43CU7000\",\"prices\":{\"rawPrice\":\"54095.00\",\"price\":\"KSh 54,095\",\"priceEuro\":\"326.50\",\"taxEuro\":\"45.03\"}}],\"selectedVariation\":\"SA948EA1R9CPVNAFAMZ-208827741\",\"variationSelection\":true},{\"sku\":\"HI200EA2NR4I1NAFAMZ\",\"name\":\"43A6HKEN 43''A6 Series Inches Smart UHD 4K HDR Frameless LED TV (2023)\",\"displayName\":\"Hisense 43A6HKEN 43''A6 Series Inches Smart UHD 4K HDR Frameless LED TV (2023)\",\"brand\":\"Hisense\",\"sellerId\":49081,\"categories\":\"Electronics/Television & Video/Televisions/Smart TVs\",\"prices\":{\"rawPrice\":\"36999.00\",\"price\":\"KSh 36,999\",\"priceEuro\":\"223.31\",\"taxEuro\":\"0.00\",\"oldPrice\":\"KSh 44,000\",\"oldPriceEuro\":\"265.57\",\"discount\":\"16%\"},\"tags\":\"BDEAL|BF2018|BLF|BLF_04|COL_249|CP_MT31|TBOOST\",\"rating\":{\"average\":4.5,\"totalRatings\":2},\"image\":\"https://ke.jumia.is/unsafe/fit-in/300x300/filters:fill(white)/product/60/8290651/1.jpg?5696\",\"url\":\"/hisense-43a6hken-43a6-series-inches-smart-uhd-4k-hdr-frameless-led-tv-2023-156092806.html\",\"badges\":{\"campaign\":{\"name\":\"Black Friday deal\",\"identifier\":\"BLF\",\"url\":\"/all-products/?tag=BLF\",\"txtColor\":\"#FFFFFF\",\"bgColor\":\"#000000\"}},\"isBuyable\":true,\"simples\":[{\"sku\":\"HI200EA2NR4I1NAFAMZ-205135860\",\"loginUrl\":\"/customer/account/login/?tkWl=HI200EA2NR4I1NAFAMZ-205135860&return=%2Fcatalog%2F%3Fq%3D43%2Binch%2Bsmart%2Btvs\",\"isBuyable\":true,\"name\":\"\",\"prices\":{\"rawPrice\":\"36999.00\",\"price\":\"KSh 36,999\",\"priceEuro\":\"223.31\",\"taxEuro\":\"0.00\",\"oldPrice\":\"KSh 44,000\",\"oldPriceEuro\":\"265.57\",\"discount\":\"16%\"}}],\"selectedVariation\":\"HI200EA2NR4I1NAFAMZ-205135860\"},{\"sku\":\"VI505EA1OW67KNAFAMZ\",\"name\":\"43\\\" INCHES FULL HD SMART ANDROID FRAMELESS TV-NETFLIX/YOUTUBE-USB/HDMI/VGA+GIFTS\",\"displayName\":\"Vitron 43\\\" INCHES FULL HD SMART ANDROID FRAMELESS TV-NETFLIX/YOUTUBE-USB/HDMI/VGA+GIFTS\",\"brand\":\"Vitron\",\"categories\":\"Electronics/Television & Video/Televisions/Smart TVs\",\"prices\":{\"rawPrice\":\"25499.00\",\"price\":\"KSh 25,499\",\"priceEuro\":\"153.90\",\"taxEuro\":\"0.00\",\"oldPrice\":\"KSh 40,000\",\"oldPriceEuro\":\"241.43\",\"discount\":\"36%\"},\"tags\":\"BLF|BLF_04|Boost|TBOOST\",\"rating\":{\"average\":5,\"totalRatings\":2},\"image\":\"https://ke.jumia.is/unsafe/fit-in/300x300/filters:fill(white)/product/02/2780001/1.jpg?6140\",\"url\":\"/43-inches-full-hd-smart-android-frameless-tv-netflixyoutube-usbhdmivgagifts-vitron-mpg1521991.html\",\"badges\":{\"campaign\":{\"name\":\"Black Friday deal\",\"identifier\":\"BLF\",\"url\":\"/all-products/?tag=BLF\",\"txtColor\":\"#FFFFFF\",\"bgColor\":\"#000000\"}},\"isBuyable\":false,\"simples\":[{\"sku\":\"VI505EA1OW67KNAFAMZ-129881018\",\"loginUrl\":\"/customer/account/login/?tkWl=VI505EA1OW67KNAFAMZ-129881018&return=%2Fcatalog%2F%3Fq%3D43%2Binch%2Bsmart%2Btvs\",\"isBuyable\":false,\"name\":\"\",\"prices\":{\"rawPrice\":\"25499.00\",\"price\":\"KSh 25,499\",\"priceEuro\":\"153.90\",\"taxEuro\":\"0.00\",\"oldPrice\":\"KSh 40,000\",\"oldPriceEuro\":\"241.43\",\"discount\":\"36%\"}}],\"selectedVariation\":\"VI505EA1OW67KNAFAMZ-129881018\"},{\"sku\":\"HI200EA2EH50HNAFAMZ\",\"name\":\"43\\\" Inch FULL HD Frameless Smart TV, Netflix, YouTube+FREE GIFTS\",\"displayName\":\"Hisense 43\\\" Inch FULL HD Frameless Smart TV, Netflix, YouTube+FREE GIFTS\",\"brand\":\"Hisense\",\"sellerId\":133010,\"categories\":\"Electronics/Television & Video/Televisions/Smart TVs\",\"prices\":{\"rawPrice\":\"34990.00\",\"price\":\"KSh 34,990\",\"priceEuro\":\"211.19\",\"taxEuro\":\"0.00\",\"oldPrice\":\"KSh 56,000\",\"oldPriceEuro\":\"338.00\",\"discount\":\"38%\"},\"tags\":\"BLF|BLF_04|TBOOST\",\"rating\":{\"average\":0,\"totalRatings\":0},\"image\":\"https://ke.jumia.is/unsafe/fit-in/300x300/filters:fill(white)/product/45/2466251/1.jpg?9850\",\"url\":\"/hisense-43-inch-full-hd-frameless-smart-tv-netflix-youtubefree-gifts-152664254.html\",\"badges\":{\"campaign\":{\"name\":\"Black Friday deal\",\"identifier\":\"BLF\",\"url\":\"/all-products/?tag=BLF\",\"txtColor\":\"#FFFFFF\",\"bgColor\":\"#000000\"}},\"isBuyable\":true,\"simples\":[{\"sku\":\"HI200EA2EH50HNAFAMZ-200930250\",\"loginUrl\":\"/customer/account/login/?tkWl=HI200EA2EH50HNAFAMZ-200930250&return=%2Fcatalog%2F%3Fq%3D43%2Binch%2Bsmart%2Btvs\",\"isBuyable\":true,\"name\":\"\",\"prices\":{\"rawPrice\":\"34990.00\",\"price\":\"KSh 34,990\",\"priceEuro\":\"211.19\",\"taxEuro\":\"0.00\",\"oldPrice\":\"KSh 56,000\",\"oldPriceEuro\":\"338.00\",\"discount\":\"38%\"}}],\"selectedVariation\":\"HI200EA2EH50HNAFAMZ-200930250\"},{\"sku\":\"WY292EA1JGR8TNAFAMZ\",\"name\":\"43\\\" INCHES Smart Android TV Netflix, Youtube,-FREE TO AIR CHANNELS\",\"displayName\":\"Wyinix 43\\\" INCHES Smart Android TV Netflix, Youtube,-FREE TO AIR CHANNELS\",\"brand\":\"Wyinix\",\"categories\":\"Electronics/Television & Video/Televisions/Smart TVs\",\"prices\":{\"rawPrice\":\"23800.00\",\"price\":\"KSh 23,800\",\"priceEuro\":\"143.65\",\"taxEuro\":\"0.00\",\"oldPrice\":\"KSh 35,000\",\"oldPriceEuro\":\"211.25\",\"discount\":\"32%\"},\"tags\":\"BLF|BLF_04|TBOOST\",\"rating\":{\"average\":0,\"totalRatings\":0},\"image\":\"https://ke.jumia.is/unsafe/fit-in/300x300/filters:fill(white)/product/93/160685/1.jpg?8791\",\"url\":\"/wyinix-43-inches-smart-android-tv-netflix-youtube-free-to-air-channels-58606139.html\",\"badges\":{\"campaign\":{\"name\":\"Black Friday deal\",\"identifier\":\"BLF\",\"url\":\"/all-products/?tag=BLF\",\"txtColor\":\"#FFFFFF\",\"bgColor\":\"#000000\"}},\"isBuyable\":false,\"simples\":[{\"sku\":\"WY292EA1JGR8TNAFAMZ-74025864\",\"loginUrl\":\"/customer/account/login/?tkWl=WY292EA1JGR8TNAFAMZ-74025864&return=%2Fcatalog%2F%3Fq%3D43%2Binch%2Bsmart%2Btvs\",\"isBuyable\":false,\"name\":\"\",\"prices\":{\"rawPrice\":\"23800.00\",\"price\":\"KSh 23,800\",\"priceEuro\":\"143.65\",\"taxEuro\":\"0.00\",\"oldPrice\":\"KSh 35,000\",\"oldPriceEuro\":\"211.25\",\"discount\":\"32%\"}}],\"selectedVariation\":\"WY292EA1JGR8TNAFAMZ-74025864\"},{\"sku\":\"GL585EA09X7IFNAFAMZ\",\"name\":\"43\\\"  INCHES SMART FRAMELESS TV-HDMI/USB-INBUILD WIFI+FREE WALL MOUNT &TV GUARD\",\"displayName\":\"Gld 43\\\"  INCHES SMART FRAMELESS TV-HDMI/USB-INBUILD WIFI+FREE WALL MOUNT &TV GUARD\",\"brand\":\"Gld\",\"categories\":\"Electronics/Television & Video/Televisions/Smart TVs\",\"prices\":{\"rawPrice\":\"25900.00\",\"price\":\"KSh 25,900\",\"priceEuro\":\"156.32\",\"taxEuro\":\"0.00\",\"oldPrice\":\"KSh 39,999\",\"oldPriceEuro\":\"241.42\",\"discount\":\"35%\"},\"tags\":\"APWK|BLF|BLF_04|CP_MT31|TBOOST\",\"rating\":{\"average\":5,\"totalRatings\":1},\"image\":\"https://ke.jumia.is/unsafe/fit-in/300x300/filters:fill(white)/product/16/665927/1.jpg?3334\",\"url\":\"/gld-43-inches-smart-frameless-tv-hdmiusb-inbuild-wififree-wall-mount-tv-guard-72956661.html\",\"badges\":{\"campaign\":{\"name\":\"Black Friday deal\",\"identifier\":\"BLF\",\"url\":\"/all-products/?tag=BLF\",\"txtColor\":\"#FFFFFF\",\"bgColor\":\"#000000\"}},\"isBuyable\":false,\"simples\":[{\"sku\":\"GL585EA09X7IFNAFAMZ-91068061\",\"loginUrl\":\"/customer/account/login/?tkWl=GL585EA09X7IFNAFAMZ-91068061&return=%2Fcatalog%2F%3Fq%3D43%2Binch%2Bsmart%2Btvs\",\"isBuyable\":false,\"name\":\"\",\"prices\":{\"rawPrice\":\"25900.00\",\"price\":\"KSh 25,900\",\"priceEuro\":\"156.32\",\"taxEuro\":\"0.00\",\"oldPrice\":\"KSh 39,999\",\"oldPriceEuro\":\"241.42\",\"discount\":\"35%\"}}],\"selectedVariation\":\"GL585EA09X7IFNAFAMZ-91068061\"},{\"sku\":\"TC187EA3A7DOENAFAMZ\",\"name\":\"43\\\" Inch Smart GOOGLE TELEVSION BLUETOOTH-43S5400A\",\"displayName\":\"TCL 43\\\" Inch Smart GOOGLE TELEVSION BLUETOOTH-43S5400A\",\"brand\":\"TCL\",\"sellerId\":28297,\"categories\":\"Electronics/Television & Video/Televisions/Smart TVs\",\"prices\":{\"rawPrice\":\"33699.00\",\"price\":\"KSh 33,699\",\"priceEuro\":\"203.40\",\"taxEuro\":\"28.05\",\"oldPrice\":\"KSh 60,000\",\"oldPriceEuro\":\"362.14\",\"discount\":\"44%\"},\"rating\":{\"average\":0,\"totalRatings\":0},\"image\":\"https://ke.jumia.is/unsafe/fit-in/300x300/filters:fill(white)/product/98/5390061/1.jpg?9931\",\"url\":\"/43-inch-smart-google-televsion-bluetooth-43s5400a-tcl-mpg1521922.html\",\"isBuyable\":true,\"mpg\":{\"lowPriceFormatted\":\"KSh 33,699\",\"otherOffers\":11},\"simples\":[{\"sku\":\"TC187EA3A7DOENAFAMZ-210027117\",\"loginUrl\":\"/customer/account/login/?tkWl=TC187EA3A7DOENAFAMZ-210027117&return=%2Fcatalog%2F%3Fq%3D43%2Binch%2Bsmart%2Btvs\",\"isBuyable\":true,\"name\":\"TCL43-BLACK\",\"prices\":{\"rawPrice\":\"33699.00\",\"price\":\"KSh 33,699\",\"priceEuro\":\"203.40\",\"taxEuro\":\"28.05\",\"oldPrice\":\"KSh 60,000\",\"oldPriceEuro\":\"362.14\",\"discount\":\"44%\"}}],\"selectedVariation\":\"TC187EA3A7DOENAFAMZ-210027117\",\"variationSelection\":true},{\"sku\":\"VI799EA12TLCDNAFAMZ\",\"name\":\"VP8843SF 43\\\" Inch Television Frameless FHD Smart Android TV+Free Wall Bracket\",\"displayName\":\"Vision Plus VP8843SF 43\\\" Inch Television Frameless FHD Smart Android TV+Free Wall Bracket\",\"brand\":\"Vision Plus\",\"sellerId\":17058,\"categories\":\"Electronics/Television & Video/Televisions/Smart TVs\",\"prices\":{\"rawPrice\":\"27999.00\",\"price\":\"KSh 27,999\",\"priceEuro\":\"168.99\",\"taxEuro\":\"0.00\",\"oldPrice\":\"KSh 35,000\",\"oldPriceEuro\":\"211.25\",\"discount\":\"20%\"},\"tags\":\"Boost|COL_223|CP_MT11|CP_MT19|CP_MT24|CP_MT29|CP_MT31|CP_MT35|CP_MT94|DOW_11\",\"rating\":{\"average\":4.2,\"totalRatings\":31},\"image\":\"https://ke.jumia.is/unsafe/fit-in/300x300/filters:fill(white)/product/65/206093/1.jpg?2207\",\"url\":\"/vp8843sf-43-inch-television-frameless-fhd-smart-android-tvfree-wall-bracket-vision-plus-mpg1521970.html\",\"isBuyable\":true,\"mpg\":{\"lowPriceFormatted\":\"KSh 27,999\",\"otherOffers\":2},\"simples\":[{\"sku\":\"VI799EA12TLCDNAFAMZ-51471751\",\"loginUrl\":\"/customer/account/login/?tkWl=VI799EA12TLCDNAFAMZ-51471751&return=%2Fcatalog%2F%3Fq%3D43%2Binch%2Bsmart%2Btvs\",\"isBuyable\":true,\"name\":\"\",\"prices\":{\"rawPrice\":\"27999.00\",\"price\":\"KSh 27,999\",\"priceEuro\":\"168.99\",\"taxEuro\":\"0.00\",\"oldPrice\":\"KSh 35,000\",\"oldPriceEuro\":\"211.25\",\"discount\":\"20%\"}}],\"selectedVariation\":\"VI799EA12TLCDNAFAMZ-51471751\"},{\"sku\":\"SK493EA15FJ7DNAFAMZ\",\"name\":\"43\\\" Inch Frameless Smart Android TV, Google Play Decoder+FREE BRACKET\",\"displayName\":\"Skyworth 43\\\" Inch Frameless Smart Android TV, Google Play Decoder+FREE BRACKET\",\"brand\":\"Skyworth\",\"sellerId\":17058,\"categories\":\"Electronics/Television & Video/Televisions/Smart TVs\",\"prices\":{\"rawPrice\":\"28999.00\",\"price\":\"KSh 28,999\",\"priceEuro\":\"175.03\",\"taxEuro\":\"0.00\",\"oldPrice\":\"KSh 35,000\",\"oldPriceEuro\":\"211.25\",\"discount\":\"17%\"},\"tags\":\"COL_216|COL_223\",\"rating\":{\"average\":5,\"totalRatings\":1},\"image\":\"https://ke.jumia.is/unsafe/fit-in/300x300/filters:fill(white)/product/69/588985/1.jpg?4228\",\"url\":\"/43-inch-frameless-smart-android-tv-google-play-decoderfree-bracket-skyworth-mpg1440672.html\",\"isBuyable\":true,\"mpg\":{\"lowPriceFormatted\":\"KSh 28,999\",\"otherOffers\":2},\"simples\":[{\"sku\":\"SK493EA15FJ7DNAFAMZ-74550241\",\"loginUrl\":\"/customer/account/login/?tkWl=SK493EA15FJ7DNAFAMZ-74550241&return=%2Fcatalog%2F%3Fq%3D43%2Binch%2Bsmart%2Btvs\",\"isBuyable\":true,\"name\":\"\",\"prices\":{\"rawPrice\":\"28999.00\",\"price\":\"KSh 28,999\",\"priceEuro\":\"175.03\",\"taxEuro\":\"0.00\",\"oldPrice\":\"KSh 35,000\",\"oldPriceEuro\":\"211.25\",\"discount\":\"17%\"}}],\"selectedVariation\":\"SK493EA15FJ7DNAFAMZ-74550241\"},{\"sku\":\"SK493EA3AVX0ONAFAMZ\",\"name\":\"43\\\" INCH  FHD ,BLUETOOTH ENABLED- Smart&Digital  Android TELEVISION\",\"displayName\":\"Skyworth 43\\\" INCH  FHD ,BLUETOOTH ENABLED- Smart&Digital  Android TELEVISION\",\"brand\":\"Skyworth\",\"sellerId\":130674,\"categories\":\"Electronics/Television & Video/Televisions/Smart TVs\",\"prices\":{\"rawPrice\":\"29999.00\",\"price\":\"KSh 29,999\",\"priceEuro\":\"181.06\",\"taxEuro\":\"24.97\",\"oldPrice\":\"KSh 58,000\",\"oldPriceEuro\":\"350.07\",\"discount\":\"48%\"},\"rating\":{\"average\":0,\"totalRatings\":0},\"image\":\"https://ke.jumia.is/unsafe/fit-in/300x300/filters:fill(white)/product/99/6838161/1.jpg?1685\",\"url\":\"/skyworth-43-inch-fhd-bluetooth-enabled-smartdigital-android-television-161838699.html\",\"isBuyable\":true,\"simples\":[{\"sku\":\"SK493EA3AVX0ONAFAMZ-212329041\",\"loginUrl\":\"/customer/account/login/?tkWl=SK493EA3AVX0ONAFAMZ-212329041&return=%2Fcatalog%2F%3Fq%3D43%2Binch%2Bsmart%2Btvs\",\"isBuyable\":true,\"name\":\"SKYWORTH\",\"prices\":{\"rawPrice\":\"29999.00\",\"price\":\"KSh 29,999\",\"priceEuro\":\"181.06\",\"taxEuro\":\"24.97\",\"oldPrice\":\"KSh 58,000\",\"oldPriceEuro\":\"350.07\",\"discount\":\"48%\"}}],\"selectedVariation\":\"SK493EA3AVX0ONAFAMZ-212329041\",\"variationSelection\":true},{\"sku\":\"VI505EA0E2PULNAFAMZ\",\"name\":\"43\\\" Inch,SMART Android 11 TV ,NETFLIX,YOUTUBE+FREE  BRACKET+GUARD\",\"displayName\":\"Vitron 43\\\" Inch,SMART Android 11 TV ,NETFLIX,YOUTUBE+FREE  BRACKET+GUARD\",\"brand\":\"Vitron\",\"sellerId\":14222,\"categories\":\"Electronics/Television & Video/Televisions/Smart TVs\",\"prices\":{\"rawPrice\":\"23599.00\",\"price\":\"KSh 23,599\",\"priceEuro\":\"142.44\",\"taxEuro\":\"0.00\",\"oldPrice\":\"KSh 40,000\",\"oldPriceEuro\":\"241.43\",\"discount\":\"41%\"},\"tags\":\"CP_UN262|CP_UN263|CP_UN264|CP_UN265\",\"rating\":{\"average\":1,\"totalRatings\":1},\"image\":\"https://ke.jumia.is/unsafe/fit-in/300x300/filters:fill(white)/product/23/641437/1.jpg?5462\",\"url\":\"/vitron-43-inchsmart-android-11-tv-netflixyoutubefree-bracketguard-73414632.html\",\"isBuyable\":true,\"simples\":[{\"sku\":\"VI505EA0E2PULNAFAMZ-91546329\",\"loginUrl\":\"/customer/account/login/?tkWl=VI505EA0E2PULNAFAMZ-91546329&return=%2Fcatalog%2F%3Fq%3D43%2Binch%2Bsmart%2Btvs\",\"isBuyable\":true,\"name\":\"\",\"prices\":{\"rawPrice\":\"23599.00\",\"price\":\"KSh 23,599\",\"priceEuro\":\"142.44\",\"taxEuro\":\"0.00\",\"oldPrice\":\"KSh 40,000\",\"oldPriceEuro\":\"241.43\",\"discount\":\"41%\"}}],\"selectedVariation\":\"VI505EA0E2PULNAFAMZ-91546329\"}],\"timeLabels\":{\"w\":\"w\",\"d\":\"d\",\"h\":\"h\",\"m\":\"m\",\"s\":\"s\"},\"sponsoredUrl\":\"/fragment/sp/products/catalog-page-types/search/?query=43+inch+smart+tvs&page=1&numberItems=12&viewType=grid\",\"googleAds\":{\"targeting\":{\"searchTerm\":[\"43 inch smart tvs\"]},\"catalog_top\":{\"adUnitPath\":\"21821395163/desktop_catalog_top\",\"size\":[[728,90],[970,90],[970,250],\"fluid\"]}}};</script><script crossorigin=\"\" src=\"https://www.jumia.co.ke/assets_he/js/common.6d2df574.js\" type=\"module\"></script><script crossorigin=\"\" src=\"https://www.jumia.co.ke/assets_he/js/pages/catalog/index.3b4716f8.js\" type=\"module\"></script><script nomodule=\"\" src=\"https://www.jumia.co.ke/assets_he/js/common.es5.e568721a.js\"></script><script nomodule=\"\" src=\"https://www.jumia.co.ke/assets_he/js/pages/catalog/index.es5.0d1eadc4.js\"></script></body></html>"
      ]
     },
     "execution_count": 12,
     "metadata": {},
     "output_type": "execute_result"
    }
   ],
   "source": [
    "myresult1"
   ]
  },
  {
   "cell_type": "code",
   "execution_count": 16,
   "id": "e9191fef-a092-4b76-a9d5-e7ac93fb4fb6",
   "metadata": {
    "tags": []
   },
   "outputs": [],
   "source": [
    "productnames1 = myresult1.find_all(class_=\"name\")"
   ]
  },
  {
   "cell_type": "code",
   "execution_count": 17,
   "id": "5415624d-b05b-4f60-ad8e-afa85b703f76",
   "metadata": {
    "tags": []
   },
   "outputs": [
    {
     "data": {
      "text/plain": [
       "[<h3 class=\"name\">Hikers 43'' Inch Frameless Android Smart FHD LED TV - Black</h3>,\n",
       " <h3 class=\"name\">Vitron 4388-FS 43\"inch FHD Frameless Smart/Android TV InbuiltDecoder/+TVGuard+Bracket</h3>,\n",
       " <h3 class=\"name\">Vitron 4388FS,43\" Inch FRAMELESS Smart Android TV Netflix INBUILT DECODER+FREE BRACKET</h3>,\n",
       " <h3 class=\"name\">Vitron 43\" Inch FHD Frameless Smart Android TV 8GBROM+FreeTVGuard+Extension</h3>,\n",
       " <h3 class=\"name\">Vitron 43\" Inch FHD Frameless Smart Android TV INBUILT DECODER+FREE Bracket+Extension</h3>,\n",
       " <h3 class=\"name\">Vitron 43\" Inch-FHD ANDROID TV,NETFLIX,DECODER+INBUILT WIFI+Power Guard+BRACKET</h3>,\n",
       " <h3 class=\"name\">Vitron 4388FS/43\"Inch Frameless Smart Android TVYoutubeNetflix/1GBAM/8GB ROM</h3>,\n",
       " <h3 class=\"name\">Vitron 43\" Inch Frameless FHD Smart Android TV Inbuilt Decoder+FREE Bracket+Flash Disk</h3>,\n",
       " <h3 class=\"name\">TCL 43S5400A,43\" Inch Smart  ANDROID TV BT Icast  Appstore+FREE TV Guard+Bracket</h3>,\n",
       " <h3 class=\"name\">Amtec 43L12 43\" Inch TV Smart Android TV Bluetooth Enabled +FREE Bracket+Extension</h3>,\n",
       " <h3 class=\"name\">Wyinix 43\" Inch FHD 8GBROM Smart Android 9.0 TV WIFI Netflix,Youtube,Playstore</h3>,\n",
       " <h3 class=\"name\">Vitron 43\" Inch Frameless  Smart Android TV Netflix Youtube Bluetooth Enable AppStore 3HDMI USB FREE GIFTS</h3>,\n",
       " <h3 class=\"name\">Skyworth 43” Inch Smart Android FHD FRAMELESS TV WI-FI Netflix YouTube BLUETOOTH ENABLE GOOGLE TV LED</h3>,\n",
       " <h3 class=\"name\">Hifinit 43E3S 43 Inch Android Smart Full HD LED TV - Black</h3>,\n",
       " <h3 class=\"name\">Vision Plus 43\" Inch Frameless FHD Smart Android Bluetooth TV AppStore+FREEBRACKET+EXTENSON</h3>,\n",
       " <h3 class=\"name\">Vitron 43\" Inch,SMART Android FHD TV,DECODER,NETFLIX,YOUTUBE-4388FS+ GIFTS</h3>,\n",
       " <h3 class=\"name\">Vitron 43\" Inch Smart  CLEAR  ANDROID TV  NETFLIX,YOUTUBE INBUILT DECORDER</h3>,\n",
       " <h3 class=\"name\">Hisense 43'' Inch FRAMELESS 4K ULTRA HD SMART TV, BLUETOOTH+TV GUARD+EXTENSION</h3>,\n",
       " <h3 class=\"name\">Vitron 43\" Inch-FHD Smart Android TV With GooglePlay+Wall Bracket+TVGuard</h3>,\n",
       " <h3 class=\"name\">Hifinit 43'' Inch Android Smart FHD NETFLIX YOUTUBE LED TV-Black</h3>,\n",
       " <h3 class=\"name\">Royal Frameless 43\" Inch TV SMART Android TV FHD-Netfix,Youtube</h3>,\n",
       " <h3 class=\"name\">Glaze 43\" Inch Full HD Smart Android TV WIFI Netflix, Youtube</h3>,\n",
       " <h3 class=\"name\">Hisense 43A6HKEN 43''A6 Series Inches Smart UHD 4K HDR Frameless LED TV (2023)</h3>,\n",
       " <h3 class=\"name\">CTC 43\" Inch Smart -Android 11,Frameless,Decoder,Netflix,Youtube+2 Free Gifts</h3>,\n",
       " <h3 class=\"name\">CTC 43\" Inches HD Smart Android TV,YOUTUBE,WIFI+FREE WALL BRACKET</h3>,\n",
       " <h3 class=\"name\">Vitron Frameless,FULL HD Smart Android,43\" Inch TV+Netflix+Wall Mount</h3>,\n",
       " <h3 class=\"name\">Amtec ,43\" Inch FHD Smart Android FRAMELESS TV Netflix Youtube WIFI BLUETOOTH ENABLE</h3>,\n",
       " <h3 class=\"name\">CTC 43\" Inch Smart Android Frameless TV Netflix,Youtube Inbuilt Indecoder Wifi Ena</h3>,\n",
       " <h3 class=\"name\">CTC 43\" Inch SMART ANDROID NETFLIX YOUTUBE USB FRAMELESS HDMI USB HD READY</h3>,\n",
       " <h3 class=\"name\">Samsung 43 inch 4K Smart TV</h3>,\n",
       " <h3 class=\"name\">Hisense 43A6HKEN 43''A6 Series Inches Smart UHD 4K HDR Frameless LED TV (2023)</h3>,\n",
       " <h3 class=\"name\">Vitron 43\" INCHES FULL HD SMART ANDROID FRAMELESS TV-NETFLIX/YOUTUBE-USB/HDMI/VGA+GIFTS</h3>,\n",
       " <h3 class=\"name\">Hisense 43\" Inch FULL HD Frameless Smart TV, Netflix, YouTube+FREE GIFTS</h3>,\n",
       " <h3 class=\"name\">Wyinix 43\" INCHES Smart Android TV Netflix, Youtube,-FREE TO AIR CHANNELS</h3>,\n",
       " <h3 class=\"name\">Gld 43\"  INCHES SMART FRAMELESS TV-HDMI/USB-INBUILD WIFI+FREE WALL MOUNT &amp;TV GUARD</h3>,\n",
       " <h3 class=\"name\">TCL 43\" Inch Smart GOOGLE TELEVSION BLUETOOTH-43S5400A</h3>,\n",
       " <h3 class=\"name\">Vision Plus VP8843SF 43\" Inch Television Frameless FHD Smart Android TV+Free Wall Bracket</h3>,\n",
       " <h3 class=\"name\">Skyworth 43\" Inch Frameless Smart Android TV, Google Play Decoder+FREE BRACKET</h3>,\n",
       " <h3 class=\"name\">Skyworth 43\" INCH  FHD ,BLUETOOTH ENABLED- Smart&amp;Digital  Android TELEVISION</h3>,\n",
       " <h3 class=\"name\">Vitron 43\" Inch,SMART Android 11 TV ,NETFLIX,YOUTUBE+FREE  BRACKET+GUARD</h3>]"
      ]
     },
     "execution_count": 17,
     "metadata": {},
     "output_type": "execute_result"
    }
   ],
   "source": [
    "productnames1"
   ]
  },
  {
   "cell_type": "code",
   "execution_count": 18,
   "id": "38012b27-593d-49ce-bd6f-c387d618a3fb",
   "metadata": {
    "tags": []
   },
   "outputs": [],
   "source": [
    "Tvnamelists = []\n",
    "\n",
    "for item in productnames1:\n",
    "        Tvnamelists.append(item.text)\n",
    "        \n"
   ]
  },
  {
   "cell_type": "code",
   "execution_count": 19,
   "id": "0c62f147-03ea-4c76-9e55-49d74e088748",
   "metadata": {
    "tags": []
   },
   "outputs": [
    {
     "data": {
      "text/plain": [
       "[\"Hikers 43'' Inch Frameless Android Smart FHD LED TV - Black\",\n",
       " 'Vitron 4388-FS 43\"inch FHD Frameless Smart/Android TV InbuiltDecoder/+TVGuard+Bracket',\n",
       " 'Vitron 4388FS,43\" Inch FRAMELESS Smart Android TV Netflix INBUILT DECODER+FREE BRACKET',\n",
       " 'Vitron 43\" Inch FHD Frameless Smart Android TV 8GBROM+FreeTVGuard+Extension',\n",
       " 'Vitron 43\" Inch FHD Frameless Smart Android TV INBUILT DECODER+FREE Bracket+Extension',\n",
       " 'Vitron 43\" Inch-FHD ANDROID TV,NETFLIX,DECODER+INBUILT WIFI+Power Guard+BRACKET',\n",
       " 'Vitron 4388FS/43\"Inch Frameless Smart Android TVYoutubeNetflix/1GBAM/8GB ROM',\n",
       " 'Vitron 43\" Inch Frameless FHD Smart Android TV Inbuilt Decoder+FREE Bracket+Flash Disk',\n",
       " 'TCL 43S5400A,43\" Inch Smart  ANDROID TV BT Icast  Appstore+FREE TV Guard+Bracket',\n",
       " 'Amtec 43L12 43\" Inch TV Smart Android TV Bluetooth Enabled +FREE Bracket+Extension',\n",
       " 'Wyinix 43\" Inch FHD 8GBROM Smart Android 9.0 TV WIFI Netflix,Youtube,Playstore',\n",
       " 'Vitron 43\" Inch Frameless  Smart Android TV Netflix Youtube Bluetooth Enable AppStore 3HDMI USB FREE GIFTS',\n",
       " 'Skyworth 43” Inch Smart Android FHD FRAMELESS TV WI-FI Netflix YouTube BLUETOOTH ENABLE GOOGLE TV LED',\n",
       " 'Hifinit 43E3S 43 Inch Android Smart Full HD LED TV - Black',\n",
       " 'Vision Plus 43\" Inch Frameless FHD Smart Android Bluetooth TV AppStore+FREEBRACKET+EXTENSON',\n",
       " 'Vitron 43\" Inch,SMART Android FHD TV,DECODER,NETFLIX,YOUTUBE-4388FS+ GIFTS',\n",
       " 'Vitron 43\" Inch Smart  CLEAR  ANDROID TV  NETFLIX,YOUTUBE INBUILT DECORDER',\n",
       " \"Hisense 43'' Inch FRAMELESS 4K ULTRA HD SMART TV, BLUETOOTH+TV GUARD+EXTENSION\",\n",
       " 'Vitron 43\" Inch-FHD Smart Android TV With GooglePlay+Wall Bracket+TVGuard',\n",
       " \"Hifinit 43'' Inch Android Smart FHD NETFLIX YOUTUBE LED TV-Black\",\n",
       " 'Royal Frameless 43\" Inch TV SMART Android TV FHD-Netfix,Youtube',\n",
       " 'Glaze 43\" Inch Full HD Smart Android TV WIFI Netflix, Youtube',\n",
       " \"Hisense 43A6HKEN 43''A6 Series Inches Smart UHD 4K HDR Frameless LED TV (2023)\",\n",
       " 'CTC 43\" Inch Smart -Android 11,Frameless,Decoder,Netflix,Youtube+2 Free Gifts',\n",
       " 'CTC 43\" Inches HD Smart Android TV,YOUTUBE,WIFI+FREE WALL BRACKET',\n",
       " 'Vitron Frameless,FULL HD Smart Android,43\" Inch TV+Netflix+Wall Mount',\n",
       " 'Amtec ,43\" Inch FHD Smart Android FRAMELESS TV Netflix Youtube WIFI BLUETOOTH ENABLE',\n",
       " 'CTC 43\" Inch Smart Android Frameless TV Netflix,Youtube Inbuilt Indecoder Wifi Ena',\n",
       " 'CTC 43\" Inch SMART ANDROID NETFLIX YOUTUBE USB FRAMELESS HDMI USB HD READY',\n",
       " 'Samsung 43 inch 4K Smart TV',\n",
       " \"Hisense 43A6HKEN 43''A6 Series Inches Smart UHD 4K HDR Frameless LED TV (2023)\",\n",
       " 'Vitron 43\" INCHES FULL HD SMART ANDROID FRAMELESS TV-NETFLIX/YOUTUBE-USB/HDMI/VGA+GIFTS',\n",
       " 'Hisense 43\" Inch FULL HD Frameless Smart TV, Netflix, YouTube+FREE GIFTS',\n",
       " 'Wyinix 43\" INCHES Smart Android TV Netflix, Youtube,-FREE TO AIR CHANNELS',\n",
       " 'Gld 43\"  INCHES SMART FRAMELESS TV-HDMI/USB-INBUILD WIFI+FREE WALL MOUNT &TV GUARD',\n",
       " 'TCL 43\" Inch Smart GOOGLE TELEVSION BLUETOOTH-43S5400A',\n",
       " 'Vision Plus VP8843SF 43\" Inch Television Frameless FHD Smart Android TV+Free Wall Bracket',\n",
       " 'Skyworth 43\" Inch Frameless Smart Android TV, Google Play Decoder+FREE BRACKET',\n",
       " 'Skyworth 43\" INCH  FHD ,BLUETOOTH ENABLED- Smart&Digital  Android TELEVISION',\n",
       " 'Vitron 43\" Inch,SMART Android 11 TV ,NETFLIX,YOUTUBE+FREE  BRACKET+GUARD']"
      ]
     },
     "execution_count": 19,
     "metadata": {},
     "output_type": "execute_result"
    }
   ],
   "source": [
    "Tvnamelists"
   ]
  },
  {
   "cell_type": "code",
   "execution_count": 40,
   "id": "f8f3580f-c963-4eea-b074-6efb69dac4b2",
   "metadata": {
    "tags": []
   },
   "outputs": [
    {
     "data": {
      "text/plain": [
       "['Hikers',\n",
       " 'Vitron',\n",
       " 'Vitron',\n",
       " 'Vitron',\n",
       " 'Vitron',\n",
       " 'Vitron',\n",
       " 'Vitron',\n",
       " 'Vitron',\n",
       " 'TCL',\n",
       " 'Amtec',\n",
       " 'Wyinix',\n",
       " 'Vitron',\n",
       " 'Skyworth',\n",
       " 'Hifinit',\n",
       " 'Vision',\n",
       " 'Vitron',\n",
       " 'Vitron',\n",
       " 'Hisense',\n",
       " 'Vitron',\n",
       " 'Hifinit',\n",
       " 'Royal',\n",
       " 'Glaze',\n",
       " 'Hisense',\n",
       " 'CTC',\n",
       " 'CTC',\n",
       " 'Vitron',\n",
       " 'Amtec',\n",
       " 'CTC',\n",
       " 'CTC',\n",
       " 'Samsung',\n",
       " 'Hisense',\n",
       " 'Vitron',\n",
       " 'Hisense',\n",
       " 'Wyinix',\n",
       " 'Gld',\n",
       " 'TCL',\n",
       " 'Vision',\n",
       " 'Skyworth',\n",
       " 'Skyworth',\n",
       " 'Vitron']"
      ]
     },
     "execution_count": 40,
     "metadata": {},
     "output_type": "execute_result"
    }
   ],
   "source": [
    "updatenamelist = []\n",
    "updatedesclist = []\n",
    "for name in Tvnamelists:\n",
    "    updatenamelist.append(name.split(\" \")[0])\n",
    "    updatedesclist.append(name.split(\" \")[1:])\n",
    "updatenamelist\n",
    "\n"
   ]
  },
  {
   "cell_type": "code",
   "execution_count": 23,
   "id": "18bb14c7-2532-442d-b291-192777a9e14a",
   "metadata": {
    "tags": []
   },
   "outputs": [],
   "source": [
    "import pandas as pd"
   ]
  },
  {
   "cell_type": "code",
   "execution_count": 24,
   "id": "0d210537-d53a-453e-a70e-d87578911521",
   "metadata": {
    "tags": []
   },
   "outputs": [],
   "source": [
    "mydataframe1 = pd.DataFrame({\"Product Name\" : updatenamelist })"
   ]
  },
  {
   "cell_type": "code",
   "execution_count": 25,
   "id": "5d3e43bd-be4f-4e87-92d6-276e4823ce28",
   "metadata": {
    "tags": []
   },
   "outputs": [
    {
     "data": {
      "text/html": [
       "<div>\n",
       "<style scoped>\n",
       "    .dataframe tbody tr th:only-of-type {\n",
       "        vertical-align: middle;\n",
       "    }\n",
       "\n",
       "    .dataframe tbody tr th {\n",
       "        vertical-align: top;\n",
       "    }\n",
       "\n",
       "    .dataframe thead th {\n",
       "        text-align: right;\n",
       "    }\n",
       "</style>\n",
       "<table border=\"1\" class=\"dataframe\">\n",
       "  <thead>\n",
       "    <tr style=\"text-align: right;\">\n",
       "      <th></th>\n",
       "      <th>Product Name</th>\n",
       "    </tr>\n",
       "  </thead>\n",
       "  <tbody>\n",
       "    <tr>\n",
       "      <th>0</th>\n",
       "      <td>Hikers</td>\n",
       "    </tr>\n",
       "    <tr>\n",
       "      <th>1</th>\n",
       "      <td>Vitron</td>\n",
       "    </tr>\n",
       "    <tr>\n",
       "      <th>2</th>\n",
       "      <td>Vitron</td>\n",
       "    </tr>\n",
       "    <tr>\n",
       "      <th>3</th>\n",
       "      <td>Vitron</td>\n",
       "    </tr>\n",
       "    <tr>\n",
       "      <th>4</th>\n",
       "      <td>Vitron</td>\n",
       "    </tr>\n",
       "    <tr>\n",
       "      <th>5</th>\n",
       "      <td>Vitron</td>\n",
       "    </tr>\n",
       "    <tr>\n",
       "      <th>6</th>\n",
       "      <td>Vitron</td>\n",
       "    </tr>\n",
       "    <tr>\n",
       "      <th>7</th>\n",
       "      <td>Vitron</td>\n",
       "    </tr>\n",
       "    <tr>\n",
       "      <th>8</th>\n",
       "      <td>TCL</td>\n",
       "    </tr>\n",
       "    <tr>\n",
       "      <th>9</th>\n",
       "      <td>Amtec</td>\n",
       "    </tr>\n",
       "    <tr>\n",
       "      <th>10</th>\n",
       "      <td>Wyinix</td>\n",
       "    </tr>\n",
       "    <tr>\n",
       "      <th>11</th>\n",
       "      <td>Vitron</td>\n",
       "    </tr>\n",
       "    <tr>\n",
       "      <th>12</th>\n",
       "      <td>Skyworth</td>\n",
       "    </tr>\n",
       "    <tr>\n",
       "      <th>13</th>\n",
       "      <td>Hifinit</td>\n",
       "    </tr>\n",
       "    <tr>\n",
       "      <th>14</th>\n",
       "      <td>Vision</td>\n",
       "    </tr>\n",
       "    <tr>\n",
       "      <th>15</th>\n",
       "      <td>Vitron</td>\n",
       "    </tr>\n",
       "    <tr>\n",
       "      <th>16</th>\n",
       "      <td>Vitron</td>\n",
       "    </tr>\n",
       "    <tr>\n",
       "      <th>17</th>\n",
       "      <td>Hisense</td>\n",
       "    </tr>\n",
       "    <tr>\n",
       "      <th>18</th>\n",
       "      <td>Vitron</td>\n",
       "    </tr>\n",
       "    <tr>\n",
       "      <th>19</th>\n",
       "      <td>Hifinit</td>\n",
       "    </tr>\n",
       "    <tr>\n",
       "      <th>20</th>\n",
       "      <td>Royal</td>\n",
       "    </tr>\n",
       "    <tr>\n",
       "      <th>21</th>\n",
       "      <td>Glaze</td>\n",
       "    </tr>\n",
       "    <tr>\n",
       "      <th>22</th>\n",
       "      <td>Hisense</td>\n",
       "    </tr>\n",
       "    <tr>\n",
       "      <th>23</th>\n",
       "      <td>CTC</td>\n",
       "    </tr>\n",
       "    <tr>\n",
       "      <th>24</th>\n",
       "      <td>CTC</td>\n",
       "    </tr>\n",
       "    <tr>\n",
       "      <th>25</th>\n",
       "      <td>Vitron</td>\n",
       "    </tr>\n",
       "    <tr>\n",
       "      <th>26</th>\n",
       "      <td>Amtec</td>\n",
       "    </tr>\n",
       "    <tr>\n",
       "      <th>27</th>\n",
       "      <td>CTC</td>\n",
       "    </tr>\n",
       "    <tr>\n",
       "      <th>28</th>\n",
       "      <td>CTC</td>\n",
       "    </tr>\n",
       "    <tr>\n",
       "      <th>29</th>\n",
       "      <td>Samsung</td>\n",
       "    </tr>\n",
       "    <tr>\n",
       "      <th>30</th>\n",
       "      <td>Hisense</td>\n",
       "    </tr>\n",
       "    <tr>\n",
       "      <th>31</th>\n",
       "      <td>Vitron</td>\n",
       "    </tr>\n",
       "    <tr>\n",
       "      <th>32</th>\n",
       "      <td>Hisense</td>\n",
       "    </tr>\n",
       "    <tr>\n",
       "      <th>33</th>\n",
       "      <td>Wyinix</td>\n",
       "    </tr>\n",
       "    <tr>\n",
       "      <th>34</th>\n",
       "      <td>Gld</td>\n",
       "    </tr>\n",
       "    <tr>\n",
       "      <th>35</th>\n",
       "      <td>TCL</td>\n",
       "    </tr>\n",
       "    <tr>\n",
       "      <th>36</th>\n",
       "      <td>Vision</td>\n",
       "    </tr>\n",
       "    <tr>\n",
       "      <th>37</th>\n",
       "      <td>Skyworth</td>\n",
       "    </tr>\n",
       "    <tr>\n",
       "      <th>38</th>\n",
       "      <td>Skyworth</td>\n",
       "    </tr>\n",
       "    <tr>\n",
       "      <th>39</th>\n",
       "      <td>Vitron</td>\n",
       "    </tr>\n",
       "  </tbody>\n",
       "</table>\n",
       "</div>"
      ],
      "text/plain": [
       "   Product Name\n",
       "0        Hikers\n",
       "1        Vitron\n",
       "2        Vitron\n",
       "3        Vitron\n",
       "4        Vitron\n",
       "5        Vitron\n",
       "6        Vitron\n",
       "7        Vitron\n",
       "8           TCL\n",
       "9         Amtec\n",
       "10       Wyinix\n",
       "11       Vitron\n",
       "12     Skyworth\n",
       "13      Hifinit\n",
       "14       Vision\n",
       "15       Vitron\n",
       "16       Vitron\n",
       "17      Hisense\n",
       "18       Vitron\n",
       "19      Hifinit\n",
       "20        Royal\n",
       "21        Glaze\n",
       "22      Hisense\n",
       "23          CTC\n",
       "24          CTC\n",
       "25       Vitron\n",
       "26        Amtec\n",
       "27          CTC\n",
       "28          CTC\n",
       "29      Samsung\n",
       "30      Hisense\n",
       "31       Vitron\n",
       "32      Hisense\n",
       "33       Wyinix\n",
       "34          Gld\n",
       "35          TCL\n",
       "36       Vision\n",
       "37     Skyworth\n",
       "38     Skyworth\n",
       "39       Vitron"
      ]
     },
     "execution_count": 25,
     "metadata": {},
     "output_type": "execute_result"
    }
   ],
   "source": [
    "mydataframe1"
   ]
  },
  {
   "cell_type": "code",
   "execution_count": 27,
   "id": "0a36904f-0526-4012-80aa-2517b72a2d20",
   "metadata": {
    "tags": []
   },
   "outputs": [],
   "source": [
    "productprice = myresult1.find_all(class_=\"prc\")"
   ]
  },
  {
   "cell_type": "code",
   "execution_count": 28,
   "id": "ee7d1404-5496-4f6b-a943-f22ac2923896",
   "metadata": {
    "tags": []
   },
   "outputs": [
    {
     "data": {
      "text/plain": [
       "[<div class=\"prc\">KSh 19,999</div>,\n",
       " <div class=\"prc\">KSh 23,799</div>,\n",
       " <div class=\"prc\">KSh 22,995</div>,\n",
       " <div class=\"prc\">KSh 23,598</div>,\n",
       " <div class=\"prc\">KSh 23,499</div>,\n",
       " <div class=\"prc\">KSh 23,690</div>,\n",
       " <div class=\"prc\">KSh 22,697</div>,\n",
       " <div class=\"prc\">KSh 23,499</div>,\n",
       " <div class=\"prc\">KSh 33,890</div>,\n",
       " <div class=\"prc\">KSh 23,899</div>,\n",
       " <div class=\"prc\">KSh 22,195</div>,\n",
       " <div class=\"prc\">KSh 24,499</div>,\n",
       " <div class=\"prc\">KSh 29,999</div>,\n",
       " <div class=\"prc\">KSh 22,399</div>,\n",
       " <div class=\"prc\">KSh 28,999</div>,\n",
       " <div class=\"prc\">KSh 23,595</div>,\n",
       " <div class=\"prc\">KSh 24,999</div>,\n",
       " <div class=\"prc\">KSh 39,995</div>,\n",
       " <div class=\"prc\">KSh 23,899</div>,\n",
       " <div class=\"prc\">KSh 22,199</div>,\n",
       " <div class=\"prc\">KSh 25,999</div>,\n",
       " <div class=\"prc\">KSh 22,599</div>,\n",
       " <div class=\"prc\">KSh 37,000</div>,\n",
       " <div class=\"prc\">KSh 23,399</div>,\n",
       " <div class=\"prc\">KSh 23,383</div>,\n",
       " <div class=\"prc\">KSh 23,599</div>,\n",
       " <div class=\"prc\">KSh 24,393</div>,\n",
       " <div class=\"prc\">KSh 23,499</div>,\n",
       " <div class=\"prc\">KSh 23,499</div>,\n",
       " <div class=\"prc\">KSh 54,095</div>,\n",
       " <div class=\"prc\">KSh 36,999</div>,\n",
       " <div class=\"prc\">KSh 25,499</div>,\n",
       " <div class=\"prc\">KSh 34,990</div>,\n",
       " <div class=\"prc\">KSh 23,800</div>,\n",
       " <div class=\"prc\">KSh 25,900</div>,\n",
       " <div class=\"prc\">KSh 33,699</div>,\n",
       " <div class=\"prc\">KSh 27,999</div>,\n",
       " <div class=\"prc\">KSh 28,999</div>,\n",
       " <div class=\"prc\">KSh 29,999</div>,\n",
       " <div class=\"prc\">KSh 23,599</div>]"
      ]
     },
     "execution_count": 28,
     "metadata": {},
     "output_type": "execute_result"
    }
   ],
   "source": [
    "productprice"
   ]
  },
  {
   "cell_type": "code",
   "execution_count": 29,
   "id": "db92dc95-db00-43d5-9e5f-119ecda57c80",
   "metadata": {
    "tags": []
   },
   "outputs": [],
   "source": [
    "Tvpricelists = []\n",
    "\n",
    "for item in productprice:\n",
    "    Tvpricelists.append(item.text)\n"
   ]
  },
  {
   "cell_type": "code",
   "execution_count": 30,
   "id": "cbaaec20-c147-429e-b656-c8babe8761d3",
   "metadata": {
    "tags": []
   },
   "outputs": [
    {
     "data": {
      "text/plain": [
       "['KSh 19,999',\n",
       " 'KSh 23,799',\n",
       " 'KSh 22,995',\n",
       " 'KSh 23,598',\n",
       " 'KSh 23,499',\n",
       " 'KSh 23,690',\n",
       " 'KSh 22,697',\n",
       " 'KSh 23,499',\n",
       " 'KSh 33,890',\n",
       " 'KSh 23,899',\n",
       " 'KSh 22,195',\n",
       " 'KSh 24,499',\n",
       " 'KSh 29,999',\n",
       " 'KSh 22,399',\n",
       " 'KSh 28,999',\n",
       " 'KSh 23,595',\n",
       " 'KSh 24,999',\n",
       " 'KSh 39,995',\n",
       " 'KSh 23,899',\n",
       " 'KSh 22,199',\n",
       " 'KSh 25,999',\n",
       " 'KSh 22,599',\n",
       " 'KSh 37,000',\n",
       " 'KSh 23,399',\n",
       " 'KSh 23,383',\n",
       " 'KSh 23,599',\n",
       " 'KSh 24,393',\n",
       " 'KSh 23,499',\n",
       " 'KSh 23,499',\n",
       " 'KSh 54,095',\n",
       " 'KSh 36,999',\n",
       " 'KSh 25,499',\n",
       " 'KSh 34,990',\n",
       " 'KSh 23,800',\n",
       " 'KSh 25,900',\n",
       " 'KSh 33,699',\n",
       " 'KSh 27,999',\n",
       " 'KSh 28,999',\n",
       " 'KSh 29,999',\n",
       " 'KSh 23,599']"
      ]
     },
     "execution_count": 30,
     "metadata": {},
     "output_type": "execute_result"
    }
   ],
   "source": [
    "Tvpricelists"
   ]
  },
  {
   "cell_type": "code",
   "execution_count": 41,
   "id": "6699a661-c934-410e-b130-9f77f10613e3",
   "metadata": {
    "tags": []
   },
   "outputs": [],
   "source": [
    "mydataframe2 = pd.DataFrame({\"Product Name\" : updatenamelist ,\"Product price\" : Tvpricelists , 'Description' : updatedesclist  })"
   ]
  },
  {
   "cell_type": "code",
   "execution_count": 42,
   "id": "595eefae-3cea-4b5a-b3d5-3c8ffc4eb75a",
   "metadata": {
    "tags": []
   },
   "outputs": [
    {
     "data": {
      "text/html": [
       "<div>\n",
       "<style scoped>\n",
       "    .dataframe tbody tr th:only-of-type {\n",
       "        vertical-align: middle;\n",
       "    }\n",
       "\n",
       "    .dataframe tbody tr th {\n",
       "        vertical-align: top;\n",
       "    }\n",
       "\n",
       "    .dataframe thead th {\n",
       "        text-align: right;\n",
       "    }\n",
       "</style>\n",
       "<table border=\"1\" class=\"dataframe\">\n",
       "  <thead>\n",
       "    <tr style=\"text-align: right;\">\n",
       "      <th></th>\n",
       "      <th>Product Name</th>\n",
       "      <th>Product price</th>\n",
       "      <th>Description</th>\n",
       "    </tr>\n",
       "  </thead>\n",
       "  <tbody>\n",
       "    <tr>\n",
       "      <th>0</th>\n",
       "      <td>Hikers</td>\n",
       "      <td>KSh 19,999</td>\n",
       "      <td>[43'', Inch, Frameless, Android, Smart, FHD, L...</td>\n",
       "    </tr>\n",
       "    <tr>\n",
       "      <th>1</th>\n",
       "      <td>Vitron</td>\n",
       "      <td>KSh 23,799</td>\n",
       "      <td>[4388-FS, 43\"inch, FHD, Frameless, Smart/Andro...</td>\n",
       "    </tr>\n",
       "    <tr>\n",
       "      <th>2</th>\n",
       "      <td>Vitron</td>\n",
       "      <td>KSh 22,995</td>\n",
       "      <td>[4388FS,43\", Inch, FRAMELESS, Smart, Android, ...</td>\n",
       "    </tr>\n",
       "    <tr>\n",
       "      <th>3</th>\n",
       "      <td>Vitron</td>\n",
       "      <td>KSh 23,598</td>\n",
       "      <td>[43\", Inch, FHD, Frameless, Smart, Android, TV...</td>\n",
       "    </tr>\n",
       "    <tr>\n",
       "      <th>4</th>\n",
       "      <td>Vitron</td>\n",
       "      <td>KSh 23,499</td>\n",
       "      <td>[43\", Inch, FHD, Frameless, Smart, Android, TV...</td>\n",
       "    </tr>\n",
       "    <tr>\n",
       "      <th>5</th>\n",
       "      <td>Vitron</td>\n",
       "      <td>KSh 23,690</td>\n",
       "      <td>[43\", Inch-FHD, ANDROID, TV,NETFLIX,DECODER+IN...</td>\n",
       "    </tr>\n",
       "    <tr>\n",
       "      <th>6</th>\n",
       "      <td>Vitron</td>\n",
       "      <td>KSh 22,697</td>\n",
       "      <td>[4388FS/43\"Inch, Frameless, Smart, Android, TV...</td>\n",
       "    </tr>\n",
       "    <tr>\n",
       "      <th>7</th>\n",
       "      <td>Vitron</td>\n",
       "      <td>KSh 23,499</td>\n",
       "      <td>[43\", Inch, Frameless, FHD, Smart, Android, TV...</td>\n",
       "    </tr>\n",
       "    <tr>\n",
       "      <th>8</th>\n",
       "      <td>TCL</td>\n",
       "      <td>KSh 33,890</td>\n",
       "      <td>[43S5400A,43\", Inch, Smart, , ANDROID, TV, BT,...</td>\n",
       "    </tr>\n",
       "    <tr>\n",
       "      <th>9</th>\n",
       "      <td>Amtec</td>\n",
       "      <td>KSh 23,899</td>\n",
       "      <td>[43L12, 43\", Inch, TV, Smart, Android, TV, Blu...</td>\n",
       "    </tr>\n",
       "    <tr>\n",
       "      <th>10</th>\n",
       "      <td>Wyinix</td>\n",
       "      <td>KSh 22,195</td>\n",
       "      <td>[43\", Inch, FHD, 8GBROM, Smart, Android, 9.0, ...</td>\n",
       "    </tr>\n",
       "    <tr>\n",
       "      <th>11</th>\n",
       "      <td>Vitron</td>\n",
       "      <td>KSh 24,499</td>\n",
       "      <td>[43\", Inch, Frameless, , Smart, Android, TV, N...</td>\n",
       "    </tr>\n",
       "    <tr>\n",
       "      <th>12</th>\n",
       "      <td>Skyworth</td>\n",
       "      <td>KSh 29,999</td>\n",
       "      <td>[43”, Inch, Smart, Android, FHD, FRAMELESS, TV...</td>\n",
       "    </tr>\n",
       "    <tr>\n",
       "      <th>13</th>\n",
       "      <td>Hifinit</td>\n",
       "      <td>KSh 22,399</td>\n",
       "      <td>[43E3S, 43, Inch, Android, Smart, Full, HD, LE...</td>\n",
       "    </tr>\n",
       "    <tr>\n",
       "      <th>14</th>\n",
       "      <td>Vision</td>\n",
       "      <td>KSh 28,999</td>\n",
       "      <td>[Plus, 43\", Inch, Frameless, FHD, Smart, Andro...</td>\n",
       "    </tr>\n",
       "    <tr>\n",
       "      <th>15</th>\n",
       "      <td>Vitron</td>\n",
       "      <td>KSh 23,595</td>\n",
       "      <td>[43\", Inch,SMART, Android, FHD, TV,DECODER,NET...</td>\n",
       "    </tr>\n",
       "    <tr>\n",
       "      <th>16</th>\n",
       "      <td>Vitron</td>\n",
       "      <td>KSh 24,999</td>\n",
       "      <td>[43\", Inch, Smart, , CLEAR, , ANDROID, TV, , N...</td>\n",
       "    </tr>\n",
       "    <tr>\n",
       "      <th>17</th>\n",
       "      <td>Hisense</td>\n",
       "      <td>KSh 39,995</td>\n",
       "      <td>[43'', Inch, FRAMELESS, 4K, ULTRA, HD, SMART, ...</td>\n",
       "    </tr>\n",
       "    <tr>\n",
       "      <th>18</th>\n",
       "      <td>Vitron</td>\n",
       "      <td>KSh 23,899</td>\n",
       "      <td>[43\", Inch-FHD, Smart, Android, TV, With, Goog...</td>\n",
       "    </tr>\n",
       "    <tr>\n",
       "      <th>19</th>\n",
       "      <td>Hifinit</td>\n",
       "      <td>KSh 22,199</td>\n",
       "      <td>[43'', Inch, Android, Smart, FHD, NETFLIX, YOU...</td>\n",
       "    </tr>\n",
       "    <tr>\n",
       "      <th>20</th>\n",
       "      <td>Royal</td>\n",
       "      <td>KSh 25,999</td>\n",
       "      <td>[Frameless, 43\", Inch, TV, SMART, Android, TV,...</td>\n",
       "    </tr>\n",
       "    <tr>\n",
       "      <th>21</th>\n",
       "      <td>Glaze</td>\n",
       "      <td>KSh 22,599</td>\n",
       "      <td>[43\", Inch, Full, HD, Smart, Android, TV, WIFI...</td>\n",
       "    </tr>\n",
       "    <tr>\n",
       "      <th>22</th>\n",
       "      <td>Hisense</td>\n",
       "      <td>KSh 37,000</td>\n",
       "      <td>[43A6HKEN, 43''A6, Series, Inches, Smart, UHD,...</td>\n",
       "    </tr>\n",
       "    <tr>\n",
       "      <th>23</th>\n",
       "      <td>CTC</td>\n",
       "      <td>KSh 23,399</td>\n",
       "      <td>[43\", Inch, Smart, -Android, 11,Frameless,Deco...</td>\n",
       "    </tr>\n",
       "    <tr>\n",
       "      <th>24</th>\n",
       "      <td>CTC</td>\n",
       "      <td>KSh 23,383</td>\n",
       "      <td>[43\", Inches, HD, Smart, Android, TV,YOUTUBE,W...</td>\n",
       "    </tr>\n",
       "    <tr>\n",
       "      <th>25</th>\n",
       "      <td>Vitron</td>\n",
       "      <td>KSh 23,599</td>\n",
       "      <td>[Frameless,FULL, HD, Smart, Android,43\", Inch,...</td>\n",
       "    </tr>\n",
       "    <tr>\n",
       "      <th>26</th>\n",
       "      <td>Amtec</td>\n",
       "      <td>KSh 24,393</td>\n",
       "      <td>[,43\", Inch, FHD, Smart, Android, FRAMELESS, T...</td>\n",
       "    </tr>\n",
       "    <tr>\n",
       "      <th>27</th>\n",
       "      <td>CTC</td>\n",
       "      <td>KSh 23,499</td>\n",
       "      <td>[43\", Inch, Smart, Android, Frameless, TV, Net...</td>\n",
       "    </tr>\n",
       "    <tr>\n",
       "      <th>28</th>\n",
       "      <td>CTC</td>\n",
       "      <td>KSh 23,499</td>\n",
       "      <td>[43\", Inch, SMART, ANDROID, NETFLIX, YOUTUBE, ...</td>\n",
       "    </tr>\n",
       "    <tr>\n",
       "      <th>29</th>\n",
       "      <td>Samsung</td>\n",
       "      <td>KSh 54,095</td>\n",
       "      <td>[43, inch, 4K, Smart, TV]</td>\n",
       "    </tr>\n",
       "    <tr>\n",
       "      <th>30</th>\n",
       "      <td>Hisense</td>\n",
       "      <td>KSh 36,999</td>\n",
       "      <td>[43A6HKEN, 43''A6, Series, Inches, Smart, UHD,...</td>\n",
       "    </tr>\n",
       "    <tr>\n",
       "      <th>31</th>\n",
       "      <td>Vitron</td>\n",
       "      <td>KSh 25,499</td>\n",
       "      <td>[43\", INCHES, FULL, HD, SMART, ANDROID, FRAMEL...</td>\n",
       "    </tr>\n",
       "    <tr>\n",
       "      <th>32</th>\n",
       "      <td>Hisense</td>\n",
       "      <td>KSh 34,990</td>\n",
       "      <td>[43\", Inch, FULL, HD, Frameless, Smart, TV,, N...</td>\n",
       "    </tr>\n",
       "    <tr>\n",
       "      <th>33</th>\n",
       "      <td>Wyinix</td>\n",
       "      <td>KSh 23,800</td>\n",
       "      <td>[43\", INCHES, Smart, Android, TV, Netflix,, Yo...</td>\n",
       "    </tr>\n",
       "    <tr>\n",
       "      <th>34</th>\n",
       "      <td>Gld</td>\n",
       "      <td>KSh 25,900</td>\n",
       "      <td>[43\", , INCHES, SMART, FRAMELESS, TV-HDMI/USB-...</td>\n",
       "    </tr>\n",
       "    <tr>\n",
       "      <th>35</th>\n",
       "      <td>TCL</td>\n",
       "      <td>KSh 33,699</td>\n",
       "      <td>[43\", Inch, Smart, GOOGLE, TELEVSION, BLUETOOT...</td>\n",
       "    </tr>\n",
       "    <tr>\n",
       "      <th>36</th>\n",
       "      <td>Vision</td>\n",
       "      <td>KSh 27,999</td>\n",
       "      <td>[Plus, VP8843SF, 43\", Inch, Television, Framel...</td>\n",
       "    </tr>\n",
       "    <tr>\n",
       "      <th>37</th>\n",
       "      <td>Skyworth</td>\n",
       "      <td>KSh 28,999</td>\n",
       "      <td>[43\", Inch, Frameless, Smart, Android, TV,, Go...</td>\n",
       "    </tr>\n",
       "    <tr>\n",
       "      <th>38</th>\n",
       "      <td>Skyworth</td>\n",
       "      <td>KSh 29,999</td>\n",
       "      <td>[43\", INCH, , FHD, ,BLUETOOTH, ENABLED-, Smart...</td>\n",
       "    </tr>\n",
       "    <tr>\n",
       "      <th>39</th>\n",
       "      <td>Vitron</td>\n",
       "      <td>KSh 23,599</td>\n",
       "      <td>[43\", Inch,SMART, Android, 11, TV, ,NETFLIX,YO...</td>\n",
       "    </tr>\n",
       "  </tbody>\n",
       "</table>\n",
       "</div>"
      ],
      "text/plain": [
       "   Product Name Product price  \\\n",
       "0        Hikers    KSh 19,999   \n",
       "1        Vitron    KSh 23,799   \n",
       "2        Vitron    KSh 22,995   \n",
       "3        Vitron    KSh 23,598   \n",
       "4        Vitron    KSh 23,499   \n",
       "5        Vitron    KSh 23,690   \n",
       "6        Vitron    KSh 22,697   \n",
       "7        Vitron    KSh 23,499   \n",
       "8           TCL    KSh 33,890   \n",
       "9         Amtec    KSh 23,899   \n",
       "10       Wyinix    KSh 22,195   \n",
       "11       Vitron    KSh 24,499   \n",
       "12     Skyworth    KSh 29,999   \n",
       "13      Hifinit    KSh 22,399   \n",
       "14       Vision    KSh 28,999   \n",
       "15       Vitron    KSh 23,595   \n",
       "16       Vitron    KSh 24,999   \n",
       "17      Hisense    KSh 39,995   \n",
       "18       Vitron    KSh 23,899   \n",
       "19      Hifinit    KSh 22,199   \n",
       "20        Royal    KSh 25,999   \n",
       "21        Glaze    KSh 22,599   \n",
       "22      Hisense    KSh 37,000   \n",
       "23          CTC    KSh 23,399   \n",
       "24          CTC    KSh 23,383   \n",
       "25       Vitron    KSh 23,599   \n",
       "26        Amtec    KSh 24,393   \n",
       "27          CTC    KSh 23,499   \n",
       "28          CTC    KSh 23,499   \n",
       "29      Samsung    KSh 54,095   \n",
       "30      Hisense    KSh 36,999   \n",
       "31       Vitron    KSh 25,499   \n",
       "32      Hisense    KSh 34,990   \n",
       "33       Wyinix    KSh 23,800   \n",
       "34          Gld    KSh 25,900   \n",
       "35          TCL    KSh 33,699   \n",
       "36       Vision    KSh 27,999   \n",
       "37     Skyworth    KSh 28,999   \n",
       "38     Skyworth    KSh 29,999   \n",
       "39       Vitron    KSh 23,599   \n",
       "\n",
       "                                          Description  \n",
       "0   [43'', Inch, Frameless, Android, Smart, FHD, L...  \n",
       "1   [4388-FS, 43\"inch, FHD, Frameless, Smart/Andro...  \n",
       "2   [4388FS,43\", Inch, FRAMELESS, Smart, Android, ...  \n",
       "3   [43\", Inch, FHD, Frameless, Smart, Android, TV...  \n",
       "4   [43\", Inch, FHD, Frameless, Smart, Android, TV...  \n",
       "5   [43\", Inch-FHD, ANDROID, TV,NETFLIX,DECODER+IN...  \n",
       "6   [4388FS/43\"Inch, Frameless, Smart, Android, TV...  \n",
       "7   [43\", Inch, Frameless, FHD, Smart, Android, TV...  \n",
       "8   [43S5400A,43\", Inch, Smart, , ANDROID, TV, BT,...  \n",
       "9   [43L12, 43\", Inch, TV, Smart, Android, TV, Blu...  \n",
       "10  [43\", Inch, FHD, 8GBROM, Smart, Android, 9.0, ...  \n",
       "11  [43\", Inch, Frameless, , Smart, Android, TV, N...  \n",
       "12  [43”, Inch, Smart, Android, FHD, FRAMELESS, TV...  \n",
       "13  [43E3S, 43, Inch, Android, Smart, Full, HD, LE...  \n",
       "14  [Plus, 43\", Inch, Frameless, FHD, Smart, Andro...  \n",
       "15  [43\", Inch,SMART, Android, FHD, TV,DECODER,NET...  \n",
       "16  [43\", Inch, Smart, , CLEAR, , ANDROID, TV, , N...  \n",
       "17  [43'', Inch, FRAMELESS, 4K, ULTRA, HD, SMART, ...  \n",
       "18  [43\", Inch-FHD, Smart, Android, TV, With, Goog...  \n",
       "19  [43'', Inch, Android, Smart, FHD, NETFLIX, YOU...  \n",
       "20  [Frameless, 43\", Inch, TV, SMART, Android, TV,...  \n",
       "21  [43\", Inch, Full, HD, Smart, Android, TV, WIFI...  \n",
       "22  [43A6HKEN, 43''A6, Series, Inches, Smart, UHD,...  \n",
       "23  [43\", Inch, Smart, -Android, 11,Frameless,Deco...  \n",
       "24  [43\", Inches, HD, Smart, Android, TV,YOUTUBE,W...  \n",
       "25  [Frameless,FULL, HD, Smart, Android,43\", Inch,...  \n",
       "26  [,43\", Inch, FHD, Smart, Android, FRAMELESS, T...  \n",
       "27  [43\", Inch, Smart, Android, Frameless, TV, Net...  \n",
       "28  [43\", Inch, SMART, ANDROID, NETFLIX, YOUTUBE, ...  \n",
       "29                          [43, inch, 4K, Smart, TV]  \n",
       "30  [43A6HKEN, 43''A6, Series, Inches, Smart, UHD,...  \n",
       "31  [43\", INCHES, FULL, HD, SMART, ANDROID, FRAMEL...  \n",
       "32  [43\", Inch, FULL, HD, Frameless, Smart, TV,, N...  \n",
       "33  [43\", INCHES, Smart, Android, TV, Netflix,, Yo...  \n",
       "34  [43\", , INCHES, SMART, FRAMELESS, TV-HDMI/USB-...  \n",
       "35  [43\", Inch, Smart, GOOGLE, TELEVSION, BLUETOOT...  \n",
       "36  [Plus, VP8843SF, 43\", Inch, Television, Framel...  \n",
       "37  [43\", Inch, Frameless, Smart, Android, TV,, Go...  \n",
       "38  [43\", INCH, , FHD, ,BLUETOOTH, ENABLED-, Smart...  \n",
       "39  [43\", Inch,SMART, Android, 11, TV, ,NETFLIX,YO...  "
      ]
     },
     "execution_count": 42,
     "metadata": {},
     "output_type": "execute_result"
    }
   ],
   "source": [
    "mydataframe2"
   ]
  },
  {
   "cell_type": "code",
   "execution_count": 150,
   "id": "cf0e6839-9178-4513-ac80-81ac909ff436",
   "metadata": {},
   "outputs": [],
   "source": [
    "mydata = mydataframe2[\"Product Name\"]\n",
    "productnames = list(mydata)\n",
    "\n",
    "mydata1 = mydataframe2[\"Product price\"]\n",
    "productprices = list(mydata1)"
   ]
  },
  {
   "cell_type": "code",
   "execution_count": 151,
   "id": "3d17df78-b8c7-466f-bd0d-62623b14d062",
   "metadata": {
    "tags": []
   },
   "outputs": [
    {
     "name": "stdout",
     "output_type": "stream",
     "text": [
      "the most expensive product is  ( Samsung KSh 54,095 )\n"
     ]
    }
   ],
   "source": [
    "\n",
    "comData = list(zip(productnames,productprices))\n",
    "\n",
    "Maxprice = max(productprices)\n",
    "\n",
    "for names,price in comData:\n",
    "    if price==Maxprice:\n",
    "        print(\"the most expensive product is \", \"(\", names,price,\")\")\n",
    " "
   ]
  },
  {
   "cell_type": "code",
   "execution_count": 152,
   "id": "4f05bf51-fcab-47b6-a0c9-addbae7ada4e",
   "metadata": {
    "tags": []
   },
   "outputs": [
    {
     "name": "stdout",
     "output_type": "stream",
     "text": [
      "Vitron KSh 23,799\n",
      "Vitron KSh 22,995\n",
      "Vitron KSh 23,598\n",
      "Vitron KSh 23,499\n",
      "Vitron KSh 23,690\n",
      "Vitron KSh 22,697\n",
      "Vitron KSh 23,499\n",
      "Vitron KSh 24,499\n",
      "Vitron KSh 23,595\n",
      "Vitron KSh 24,999\n",
      "Vitron KSh 23,899\n",
      "Vitron KSh 23,599\n",
      "Vitron KSh 25,499\n",
      "Vitron KSh 23,599\n"
     ]
    }
   ],
   "source": [
    "comData = list(zip(productnames,productprices))\n",
    "sortprice = productprices.sort(reverse = True)   \n",
    "   \n",
    " \n",
    "    \n",
    "    \n",
    "for names,price in comData:\n",
    "    if names == \"Vitron\":\n",
    "        print(names,price)\n"
   ]
  },
  {
   "cell_type": "code",
   "execution_count": 160,
   "id": "fe91636e-fa8b-499e-ad3e-a7deaa5aee9c",
   "metadata": {
    "tags": []
   },
   "outputs": [
    {
     "name": "stdout",
     "output_type": "stream",
     "text": [
      "[54095.0, 39995.0, 37000.0, 36999.0, 34990.0, 33890.0, 33699.0, 29999.0, 29999.0, 28999.0, 28999.0, 27999.0, 25999.0, 25900.0, 25499.0, 24999.0, 24499.0, 24393.0, 23899.0, 23899.0, 23800.0, 23799.0, 23690.0, 23599.0, 23599.0, 23598.0, 23595.0, 23499.0, 23499.0, 23499.0, 23499.0, 23399.0, 23383.0, 22995.0, 22697.0, 22599.0, 22399.0, 22199.0, 22195.0, 19999.0]\n"
     ]
    }
   ],
   "source": [
    "updatedprolist = []\n",
    "for names in productprices:\n",
    "    updated_name = names.split(\" \")[1].replace(\",\", \"\")\n",
    "    updatedprolist.append(float(updated_name))\n",
    "\n",
    "print(updatedprolist)\n",
    "\n",
    "\n",
    "avrage_price = sum(updatedprolist) / len(updatedprolist)\n",
    "print(avrage_price)\n"
   ]
  },
  {
   "cell_type": "code",
   "execution_count": 161,
   "id": "24959087-b351-489b-9b12-7b3e83d7483a",
   "metadata": {
    "tags": []
   },
   "outputs": [
    {
     "name": "stdout",
     "output_type": "stream",
     "text": [
      "26932.275\n"
     ]
    }
   ],
   "source": [
    "avrage_price = sum(updatedprolist) / len(updatedprolist)\n",
    "print(avrage_price)\n"
   ]
  },
  {
   "cell_type": "code",
   "execution_count": 162,
   "id": "677cbe39-1924-4982-b5da-c0e6753ff1f7",
   "metadata": {
    "tags": []
   },
   "outputs": [
    {
     "data": {
      "text/plain": [
       "{'Amtec',\n",
       " 'CTC',\n",
       " 'Glaze',\n",
       " 'Gld',\n",
       " 'Hifinit',\n",
       " 'Hikers',\n",
       " 'Hisense',\n",
       " 'Royal',\n",
       " 'Samsung',\n",
       " 'Skyworth',\n",
       " 'TCL',\n",
       " 'Vision',\n",
       " 'Vitron',\n",
       " 'Wyinix'}"
      ]
     },
     "execution_count": 162,
     "metadata": {},
     "output_type": "execute_result"
    }
   ],
   "source": [
    "set(mydata)"
   ]
  },
  {
   "cell_type": "code",
   "execution_count": 179,
   "id": "6303dd4f-fe49-4495-9cae-d9b335c5898f",
   "metadata": {
    "tags": []
   },
   "outputs": [
    {
     "name": "stdout",
     "output_type": "stream",
     "text": [
      "['KSh 23,899', 'KSh 24,393']\n",
      "['KSh 23,399', 'KSh 23,383', 'KSh 23,499', 'KSh 23,499']\n",
      "['KSh 22,599']\n",
      "['KSh 25,900']\n",
      "['KSh 22,399', 'KSh 22,199']\n",
      "['KSh 19,999']\n",
      "['KSh 25,999']\n",
      "['KSh 54,095']\n",
      "['KSh 29,999', 'KSh 28,999', 'KSh 29,999']\n",
      "['KSh 33,890', 'KSh 33,699']\n",
      "['KSh 28,999', 'KSh 27,999']\n",
      "['KSh 23,799', 'KSh 22,995', 'KSh 23,598', 'KSh 23,499', 'KSh 23,690', 'KSh 22,697', 'KSh 23,499', 'KSh 24,499', 'KSh 23,595', 'KSh 24,999', 'KSh 23,899', 'KSh 23,599', 'KSh 25,499', 'KSh 23,599']\n",
      "['KSh 22,195', 'KSh 23,800']\n"
     ]
    }
   ],
   "source": [
    "Amteclist =[]\n",
    "CTClist = []\n",
    "Glaze=[]\n",
    "Gld= []\n",
    "Hifinit=[]\n",
    "Hikers = []\n",
    "Royal = []\n",
    "Samsung = []\n",
    "Skyworth = []\n",
    "TCL = []\n",
    "Vision = []\n",
    "Vitron = []\n",
    "Wyinix = []\n",
    "\n",
    "\n",
    "for names,price in comData:\n",
    "    if names == \"Amtec\":\n",
    "        Amteclist.append(price)\n",
    "    elif names == \"CTC\":\n",
    "        CTClist.append(price)\n",
    "    elif names == \"Glaze\":\n",
    "        Glaze.append(price)\n",
    "    elif names == \"Gld\":\n",
    "        Gld.append(price)\n",
    "        \n",
    "    elif names == \"Hifinit\":\n",
    "        Hifinit.append(price)\n",
    "    elif names == \"Hikers\":\n",
    "        Hikers.append(price)\n",
    "    elif names == \"Royal\":\n",
    "        Royal.append(price)\n",
    "    \n",
    "    elif names == \"Samsung\":\n",
    "        Samsung.append(price)\n",
    "    elif names == \"Skyworth\":\n",
    "        Skyworth.append(price)\n",
    "    elif names == \"TCL\":\n",
    "        TCL.append(price)\n",
    "        \n",
    "    elif names == \"Vision\":\n",
    "        Vision.append(price)\n",
    "    elif names == \"Vitron\":\n",
    "        Vitron.append(price)\n",
    "    elif names == \"Wyinix\":\n",
    "        Wyinix.append(price)\n",
    "    \n",
    "\n",
    "print(Amteclist)\n",
    "print(CTClist)\n",
    "print(Glaze)\n",
    "print(Gld)\n",
    "print(Hifinit)\n",
    "print(Hikers)\n",
    "print(Royal)\n",
    "print(Samsung)\n",
    "print(Skyworth)\n",
    "print(TCL)\n",
    "print(Vision)\n",
    "print(Vitron)\n",
    "print(Wyinix)\n"
   ]
  },
  {
   "cell_type": "code",
   "execution_count": 187,
   "id": "cc858e1a-00dd-4785-9ce6-aa183d2184dc",
   "metadata": {
    "tags": []
   },
   "outputs": [
    {
     "name": "stdout",
     "output_type": "stream",
     "text": [
      "23819.0\n",
      "the maximum is  25499.0\n",
      "the maximum is  22697.0\n"
     ]
    }
   ],
   "source": [
    "updatedVitron = []\n",
    "for price in Vitron:\n",
    "    updated_price = price.split(\" \")[1].replace(\",\", \"\")\n",
    "    updatedVitron.append(float(updated_price))\n",
    "\n",
    "\n",
    "\n",
    "\n",
    "avrage_price = sum(updatedVitron) / len(updatedVitron)\n",
    "print(avrage_price)\n",
    "\n",
    "maxPriceVitron = max(updatedVitron)\n",
    "print(\"the maximum is \" ,maxPriceVitron)\n",
    "\n",
    "minPriceVitron = min(updatedVitron)\n",
    "print(\"the minimum is \",minPriceVitron)\n"
   ]
  },
  {
   "cell_type": "code",
   "execution_count": 203,
   "id": "1202f0a2-3d28-41bc-9fa6-a449bf630b8d",
   "metadata": {
    "tags": []
   },
   "outputs": [
    {
     "data": {
      "image/png": "[encoded data removed]",
      "text/plain": [
       "<Figure size 640x480 with 1 Axes>"
      ]
     },
     "metadata": {},
     "output_type": "display_data"
    }
   ],
   "source": [
    "import matplotlib.pyplot as plt\n",
    "import numpy as np\n",
    "\n",
    "# Sample data for product sales across months\n",
    "anlysis = ['Average', 'Maximum', 'Minimum']\n",
    "average = 23819.0\n",
    "maximum = 25499.0\n",
    "minimum = 22697.0\n",
    "\n",
    "# Create an array for the x-axis positions\n",
    "x = np.arange(len(anlysis))\n",
    "\n",
    "# Set the width of the bars\n",
    "bar_width = 0.25\n",
    "\n",
    "# Create a bar graph for each product\n",
    "plt.bar(x - bar_width, average, width=bar_width, label='Average', color='b')\n",
    "plt.bar(x, maximum, width=bar_width, label='Maximum', color='g')\n",
    "plt.bar(x + bar_width, minimum, width=bar_width, label='Minimum', color='r')\n",
    "\n",
    "# Add labels and title\n",
    "plt.xlabel('anlysis')\n",
    "plt.ylabel('Price')\n",
    "plt.title('Vitron Price Across Average, Minimum, and Maximum')\n",
    "\n",
    "# Set x-axis ticks and labels\n",
    "plt.xticks(x, anlysis)\n",
    "\n",
    "# Add a legend\n",
    "plt.legend()\n",
    "\n",
    "# Show the plot\n",
    "plt.show()\n"
   ]
  },
  {
   "cell_type": "code",
   "execution_count": null,
   "id": "01b5ed8a-7726-487d-b5be-287cfb0a1aee",
   "metadata": {},
   "outputs": [],
   "source": []
  }
 ],
 "metadata": {
  "kernelspec": {
   "display_name": "Python 3 (ipykernel)",
   "language": "python",
   "name": "python3"
  },
  "language_info": {
   "codemirror_mode": {
    "name": "ipython",
    "version": 3
   },
   "file_extension": ".py",
   "mimetype": "text/x-python",
   "name": "python",
   "nbconvert_exporter": "python",
   "pygments_lexer": "ipython3",
   "version": "3.11.5"
  }
 },
 "nbformat": 4,
 "nbformat_minor": 5
}
